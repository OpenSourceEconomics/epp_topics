{
 "cells": [
  {
   "cell_type": "markdown",
   "metadata": {},
   "source": [
    "# Writing simple (py)tasks\n",
    "\n",
    "## Learning Objectives\n",
    "\n",
    "After working through this topic, you should be able to:\n",
    "\n",
    "- write tasks for simple project workflows so that pytask recognizes them\n",
    "- run them using pytask for your own projects\n",
    "\n",
    "By \"simple project workflows\" we mean that the workflow graph is a chain, i.e., each\n",
    "task has one dependency and one product at most.\n",
    "\n",
    "\n",
    "## Materials\n",
    "\n",
    "Here is the\n",
    "[Screencast](https://electure.uni-bonn.de/paella7/ui/watch.html?id=e074e6d5-d8cb-4d79-8b9d-7755deb63aba)\n",
    "and these are the [slides](projects-writing_simple_pytasks.pdf).\n",
    "\n",
    "\n",
    "## Quiz"
   ]
  },
  {
   "cell_type": "code",
   "execution_count": null,
   "metadata": {
    "tags": [
     "remove-input"
    ]
   },
   "outputs": [],
   "source": [
    "from epp_topics.quiz_utilities import display_quiz\n",
    "\n",
    "content = {\n",
    "    \"Which functions are recognized as tasks by pytask?\": {\n",
    "        \"Functions whose name starts with `task_`\": True,\n",
    "        \"Functions whose name does not start with an underscore\": False,\n",
    "        \"Functions that are registered in the pytask.ini file\": False,\n",
    "        \"Functions that have the argument `produces`\": False,\n",
    "    },\n",
    "    \"What type do most arguments of tasks have?\": {\n",
    "        \"DataFrame because pytask is primariliy for data clening\": False,\n",
    "        \"pathlib.Path because tasks always read or write files\": True,\n",
    "        \"str because that is the best way to store paths\": False,\n",
    "    },\n",
    "    \"Why do tasks need default values for all arguments?\": {\n",
    "        \"Calling them from another module becomes more user friendly\": False,\n",
    "        \"They are needed to infer a dependency graph\": True,\n",
    "        \"It makes the code more readable\": False,\n",
    "        \"Python requires all functions arguments to have default values\": False,\n",
    "    },\n",
    "    \"What would you do if zero tasks are collected in your project?\": {\n",
    "        \"Check for typos in file names and make sure they start with `task_`\": True,\n",
    "        \"Check for typos in function names and make sure they start with `task_`\": True,\n",
    "        \"File a bug report, it must clearly be a bug in pytask\": False,\n",
    "        \"Run pytask again. It will probably work the second time\": False,\n",
    "    },\n",
    "}\n",
    "\n",
    "display_quiz(content)"
   ]
  }
 ],
 "metadata": {
  "language_info": {
   "codemirror_mode": {
    "name": "ipython",
    "version": 3
   },
   "file_extension": ".py",
   "mimetype": "text/x-python",
   "name": "python",
   "nbconvert_exporter": "python",
   "pygments_lexer": "ipython3"
  }
 },
 "nbformat": 4,
 "nbformat_minor": 2
}
