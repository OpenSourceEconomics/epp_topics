{
 "cells": [
  {
   "cell_type": "markdown",
   "metadata": {},
   "source": [
    "# Writing (py)tasks with multiple outputs\n",
    "\n",
    "## Learning Objectives\n",
    "\n",
    "After working through this topic, you should be able to:\n",
    "\n",
    "- write tasks for project workflows that involve multiple dependencies and products\n",
    "- run them pytask for your own project\n",
    "\n",
    "\n",
    "## Materials\n",
    "\n",
    "Here is the\n",
    "[Screencast](https://player.uni-bonn.educast.nrw/b4f1253a-baff-44ac-b41d-d46fdce25a21)\n",
    "and these are the [slides](projects-writing_pytasks_multiple_outputs.pdf).\n",
    "\n",
    "\n",
    "## Quiz"
   ]
  },
  {
   "cell_type": "code",
   "execution_count": null,
   "metadata": {
    "tags": [
     "remove-input"
    ]
   },
   "outputs": [],
   "source": [
    "from epp_topics.quiz_utilities import display_quiz\n",
    "\n",
    "content = {}\n",
    "\n",
    "display_quiz(content)"
   ]
  }
 ],
 "metadata": {
  "language_info": {
   "codemirror_mode": {
    "name": "ipython",
    "version": 3
   },
   "file_extension": ".py",
   "mimetype": "text/x-python",
   "name": "python",
   "nbconvert_exporter": "python",
   "pygments_lexer": "ipython3"
  }
 },
 "nbformat": 4,
 "nbformat_minor": 2
}
