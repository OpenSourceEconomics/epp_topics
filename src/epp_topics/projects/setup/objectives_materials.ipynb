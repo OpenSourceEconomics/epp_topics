{
 "cells": [
  {
   "cell_type": "markdown",
   "metadata": {},
   "source": [
    "# Setting up a project\n",
    "\n",
    "## Learning Objectives\n",
    "\n",
    "After working through this topic, you should be able to:\n",
    "\n",
    "- Explain what cookiecutter does when setting up a project from the template\n",
    "- Set up a project based on the econ project templates and customize it to your needs\n",
    "\n",
    "## Materials\n",
    "\n",
    "Here is the\n",
    "[Screencast](https://player.uni-bonn.educast.nrw/03e431d8-42ce-474a-9f52-2a7f08346f6f)\n",
    "and these are the [slides](projects-setup.pdf).\n",
    "\n",
    "Link to the [getting started section of the documentation](https://econ-project-templates.readthedocs.io/en/latest/getting_started/index.html)."
   ]
  }
 ],
 "metadata": {
  "language_info": {
   "codemirror_mode": {
    "name": "ipython",
    "version": 3
   },
   "file_extension": ".py",
   "mimetype": "text/x-python",
   "name": "python",
   "nbconvert_exporter": "python",
   "pygments_lexer": "ipython3"
  }
 },
 "nbformat": 4,
 "nbformat_minor": 2
}
