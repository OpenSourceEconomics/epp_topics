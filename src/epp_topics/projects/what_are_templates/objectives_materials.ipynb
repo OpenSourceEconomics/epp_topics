{
 "cells": [
  {
   "cell_type": "markdown",
   "metadata": {},
   "source": [
    "# What are the project templates?\n",
    "\n",
    "## Learning Objectives\n",
    "\n",
    "After working through this topic, you should be able to:\n",
    "\n",
    "- Explain the relationship of pytask, cookiecutter, and project templates\n",
    "- Describe what the project templates add on top of pytask\n",
    "\n",
    "## Materials\n",
    "\n",
    "Here is the\n",
    "[Screencast](https://player.uni-bonn.educast.nrw/2fdc5c8d-8c5f-4767-bb1e-018351ec78db)\n",
    "and these are the [slides](projects-what_are_templates.pdf).\n",
    "\n",
    "## Additional Materials\n",
    "\n",
    "Here is the [documentation](https://econ-project-templates.readthedocs.io/en/stable/)\n",
    "of the econ project templates.\n",
    "\n",
    "\n",
    "## Quiz"
   ]
  },
  {
   "cell_type": "code",
   "execution_count": null,
   "metadata": {
    "tags": [
     "remove-quiz"
    ]
   },
   "outputs": [],
   "source": [
    "from epp_topics.quiz_utilities import display_quiz\n",
    "\n",
    "content = {\n",
    "    \"What is the purpose of cookiecutter\": {\n",
    "        \"Execute python tasks and keep track of dependencies between them\": False,\n",
    "        \"Download and customize the project templates\": True,\n",
    "        \"Showcase an example project implementing best practices\": False,\n",
    "        \"Run your python code in parallel\": False,\n",
    "    },\n",
    "    \"What is the purpose of pytask\": {\n",
    "        \"Execute python tasks and keep track of dependencies between them\": True,\n",
    "        \"Download and customize the project templates\": False,\n",
    "        \"Showcase an example project implementing best practices\": False,\n",
    "        \"Run your python code in parallel\": True,\n",
    "    },\n",
    "    \"What are the project templates\": {\n",
    "        \"Execute python tasks and keep track of dependencies between them\": False,\n",
    "        \"Download and customize the project templates\": False,\n",
    "        \"Showcase an example project implementing best practices\": True,\n",
    "        \"Run your python code in parallel\": False,\n",
    "    },\n",
    "}\n",
    "\n",
    "display_quiz(content)"
   ]
  }
 ],
 "metadata": {
  "language_info": {
   "codemirror_mode": {
    "name": "ipython",
    "version": 3
   },
   "file_extension": ".py",
   "mimetype": "text/x-python",
   "name": "python",
   "nbconvert_exporter": "python",
   "pygments_lexer": "ipython3"
  }
 },
 "nbformat": 4,
 "nbformat_minor": 2
}
