{
 "cells": [
  {
   "cell_type": "markdown",
   "metadata": {},
   "source": [
    "# What are the project templates?\n",
    "\n",
    "## Learning Objectives\n",
    "\n",
    "After working through this topic, you should be able to:\n",
    "\n",
    "- Explain the relationship of pytask and the project templates\n",
    "- Describe what the project templates add on top of pytask\n",
    "\n",
    "## Materials\n",
    "\n",
    "Here is the\n",
    "[Screencast](https://electure.uni-bonn.de/paella7/ui/watch.html?id=f96c82ba-73de-4cd5-a2c9-c5a2e18b6c15)\n",
    "and these are the [slides](projects-what_are_templates.pdf).\n",
    "\n",
    "## Additional Materials\n",
    "\n",
    "Here is the [documentation](https://econ-project-templates.readthedocs.io/en/stable/)\n",
    "of the econ project templates.\n",
    "\n",
    "\n",
    "## Quiz"
   ]
  },
  {
   "cell_type": "code",
   "execution_count": null,
   "metadata": {
    "tags": [
     "remove-input"
    ]
   },
   "outputs": [],
   "source": [
    "from epp_topics.quiz_utilities import display_quiz\n",
    "\n",
    "content = {\n",
    "    \"What is the purpose of pytask?\": {\n",
    "        \"Execute python tasks and keep track of dependencies between them\": True,\n",
    "        \"Download and customize the project templates\": False,\n",
    "        \"Showcase an example project implementing best practices\": False,\n",
    "        \"Run your python code in parallel\": True,\n",
    "    },\n",
    "    \"What are the project templates?\": {\n",
    "        \"Execute python tasks and keep track of dependencies between them\": False,\n",
    "        \"Download and customize the project templates\": False,\n",
    "        \"Showcase an example project implementing best practices\": True,\n",
    "        \"Run your python code in parallel\": False,\n",
    "    },\n",
    "}\n",
    "\n",
    "display_quiz(content)"
   ]
  }
 ],
 "metadata": {
  "language_info": {
   "codemirror_mode": {
    "name": "ipython",
    "version": 3
   },
   "file_extension": ".py",
   "mimetype": "text/x-python",
   "name": "python",
   "nbconvert_exporter": "python",
   "pygments_lexer": "ipython3"
  }
 },
 "nbformat": 4,
 "nbformat_minor": 2
}
