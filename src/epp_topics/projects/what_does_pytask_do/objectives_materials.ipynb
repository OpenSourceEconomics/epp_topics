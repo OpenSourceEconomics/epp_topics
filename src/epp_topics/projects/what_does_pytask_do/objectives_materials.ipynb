{
 "cells": [
  {
   "cell_type": "markdown",
   "metadata": {},
   "source": [
    "# What does pytask do?\n",
    "\n",
    "## Learning Objectives\n",
    "\n",
    "After working through this topic, you should be able to:\n",
    "\n",
    "- Explain how pytask collects task files and task functions\n",
    "- Discuss how pytask can help you to save time in large projects\n",
    "- Discuss how pytask can improve the reproducibility of your research\n",
    "- Explain how pytask constructs a DAG of your research project's dependencies\n",
    "\n",
    "## Materials\n",
    "\n",
    "Here is the\n",
    "[Screencast](https://electure.uni-bonn.de/static/mh_default_org/engage-player/0673d58c-da2a-46d2-9aa9-54275bfec889/28786054-449e-4b9e-a248-ff3e4db794ab/ecd1d79c-b566-4f87-a998-aa94a4651d71.mp4)\n",
    "and these are the [slides](projects-what_does_pytask_do.pdf).\n",
    "\n",
    "\n",
    "## Quiz"
   ]
  },
  {
   "cell_type": "code",
   "execution_count": null,
   "metadata": {
    "tags": [
     "remove-input"
    ]
   },
   "outputs": [],
   "source": [
    "from epp_topics.quiz_utilities import display_quiz\n",
    "\n",
    "content = {\n",
    "    \"What needs to be done to run a piece of Python code with pytask?\": {\n",
    "        \"It needs te be inside a function whose name starts with 'task_'\": True,\n",
    "        \"It needs to be inside a file whose name starts with 'task_'\": True,\n",
    "        \"You need to register it with the pytask database\": False,\n",
    "        \"You need to specify the path to the `.py` file when you call pytask\": False,\n",
    "    },\n",
    "    \"How does pytask create the dependency graph of your project?\": {\n",
    "        \"You need to specify it manually\": False,\n",
    "        \"There is a graphical interface to draw the DAG\": False,\n",
    "        \"It inspects the function signatures and default arguments of your tasks\": True,\n",
    "        \"It requires a specific directory structure that implies the graph DAG\": False,\n",
    "    },\n",
    "}\n",
    "\n",
    "display_quiz(content)"
   ]
  }
 ],
 "metadata": {
  "language_info": {
   "codemirror_mode": {
    "name": "ipython",
    "version": 3
   },
   "file_extension": ".py",
   "mimetype": "text/x-python",
   "name": "python",
   "nbconvert_exporter": "python",
   "pygments_lexer": "ipython3"
  }
 },
 "nbformat": 4,
 "nbformat_minor": 2
}
