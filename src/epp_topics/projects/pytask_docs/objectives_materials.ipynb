{
 "cells": [
  {
   "cell_type": "markdown",
   "metadata": {},
   "source": [
    "# The pytask documentation\n",
    "\n",
    "## Learning Objectives\n",
    "\n",
    "After working through this topic, you should be able to:\n",
    "\n",
    "- Browse the pytask documentation to teach yourself advanced features of pytask\n",
    "- Have a vague understanding of some pytask features that might interest you\n",
    "\n",
    "## Materials\n",
    "\n",
    "Here is the\n",
    "[Screencast](https://electure.uni-bonn.de/static/mh_default_org/engage-player/c24aca68-9d9a-459c-9209-6142aa20fda3/13da7841-a0f2-429a-85b8-792228e7cc2c/effc6639-e6d8-4f22-8bf2-7b21298291ff.mp4)\n",
    "and these are the [slides](projects-pytask_docs.pdf).\n",
    "\n"
   ]
  }
 ],
 "metadata": {
  "language_info": {
   "codemirror_mode": {
    "name": "ipython",
    "version": 3
   },
   "file_extension": ".py",
   "mimetype": "text/x-python",
   "name": "python",
   "nbconvert_exporter": "python",
   "pygments_lexer": "ipython3"
  }
 },
 "nbformat": 4,
 "nbformat_minor": 2
}
