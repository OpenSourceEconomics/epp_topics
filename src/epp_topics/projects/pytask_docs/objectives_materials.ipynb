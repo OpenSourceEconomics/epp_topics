{
 "cells": [
  {
   "cell_type": "markdown",
   "metadata": {},
   "source": [
    "# The pytask documentation\n",
    "\n",
    "## Learning Objectives\n",
    "\n",
    "After working through this topic, you should be able to:\n",
    "\n",
    "- Browse the pytask documentation to teach yourself advanced features of pytask\n",
    "- Have a vague understanding of some pytask features that might interest you\n",
    "\n",
    "## Materials\n",
    "\n",
    "Video:\n",
    "\n",
    "<iframe\n",
    "  src=\"https://electure.uni-bonn.de/paella7/ui/watch.html?id=c24aca68-9d9a-459c-9209-6142aa20fda3\"\n",
    "  width=\"640\"\n",
    "  height=\"360\"\n",
    "  frameborder=\"0\"\n",
    "  allowfullscreen\n",
    "></iframe>\n",
    "\n",
    "Download the [slides](projects-pytask_docs.pdf).\n",
    "\n",
    "\n",
    "\n"
   ]
  }
 ],
 "metadata": {
  "language_info": {
   "codemirror_mode": {
    "name": "ipython",
    "version": 3
   },
   "file_extension": ".py",
   "mimetype": "text/x-python",
   "name": "python",
   "nbconvert_exporter": "python",
   "pygments_lexer": "ipython3"
  }
 },
 "nbformat": 4,
 "nbformat_minor": 2
}
