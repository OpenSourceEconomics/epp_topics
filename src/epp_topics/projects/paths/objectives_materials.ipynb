{
 "cells": [
  {
   "cell_type": "markdown",
   "metadata": {},
   "source": [
    "# Handling paths in projects\n",
    "\n",
    "## Learning Objectives\n",
    "\n",
    "After working through this topic, you should be able to:\n",
    "\n",
    "- Import all relevant paths from the config module\n",
    "- Explain how setting up paths in a central place encourages a good project structure\n",
    "\n",
    "## Materials\n",
    "\n",
    "Video:\n",
    "\n",
    "<iframe\n",
    "  src=\"https://electure.uni-bonn.de/paella7/ui/watch.html?id=17765283-4840-47fc-9877-050bff3968b5\"\n",
    "  width=\"640\"\n",
    "  height=\"360\"\n",
    "  frameborder=\"0\"\n",
    "  allowfullscreen\n",
    "></iframe>\n",
    "\n",
    "Download the [slides](projects-paths.pdf).\n",
    "\n",
    "\n",
    "## Quiz"
   ]
  },
  {
   "cell_type": "code",
   "execution_count": null,
   "metadata": {
    "tags": [
     "remove-input"
    ]
   },
   "outputs": [],
   "source": [
    "from epp_topics.quiz_utilities import display_quiz\n",
    "\n",
    "content = {\n",
    "    \"What are advantages of defining the project paths in the config file\": {\n",
    "        \"There is a central place where you can rename folders\": True,\n",
    "        \"You avoid duplicated definitions of the same paths\": True,\n",
    "        \"You can define paths as simple strings instead of using pathlib\": False,\n",
    "        \"You do not have to remember the file paths\": True,\n",
    "    },\n",
    "    \"How can you use the file paths defined in config.py in other files?\": {\n",
    "        \"You import them\": True,\n",
    "        \"You define them again\": False,\n",
    "        \"You use the get_paths function\": False,\n",
    "        \"You cannot use them in other files\": False,\n",
    "    },\n",
    "    \"How do the project templates make sure paths are defined relative to the root?\": {\n",
    "        \"By using `Path(__file__)`\": True,\n",
    "        \"By defining paths in the config file that is in the root directory\": False,\n",
    "        \"By using Pathlib\": False,\n",
    "        \"By asking users to copy-paste paths from the file explorer\": False,\n",
    "    },\n",
    "}\n",
    "\n",
    "display_quiz(content)"
   ]
  }
 ],
 "metadata": {
  "language_info": {
   "codemirror_mode": {
    "name": "ipython",
    "version": 3
   },
   "file_extension": ".py",
   "mimetype": "text/x-python",
   "name": "python",
   "nbconvert_exporter": "python",
   "pygments_lexer": "ipython3"
  }
 },
 "nbformat": 4,
 "nbformat_minor": 2
}
