{
 "cells": [
  {
   "cell_type": "markdown",
   "metadata": {},
   "source": [
    "# Directory structure in the templates\n",
    "\n",
    "## Learning Objectives\n",
    "\n",
    "After working through this topic, you should be able to:\n",
    "\n",
    "- Navigate through the files and folder in the example project\n",
    "- Discuss how the project structure implements a separation of inputs and outputs\n",
    "- List the different analysis steps in the project templates\n",
    "- Explain why it is important to separate long running tasks from fast ones that depend\n",
    "on them\n",
    "\n",
    "## Materials\n",
    "\n",
    "Here is the\n",
    "[Screencast](https://electure.uni-bonn.de/static/mh_default_org/engage-player/4ea8881e-aaa4-4e7e-be82-1d7c775ef365/d080348b-7430-4f57-84e0-af83f44da45c/2d9e4fa5-39e5-4722-af52-73a19b7bc570.mp4)\n",
    "and these are the [slides](projects-directory_structure.pdf).\n",
    "\n",
    "\n",
    "## Quiz"
   ]
  },
  {
   "cell_type": "code",
   "execution_count": null,
   "metadata": {
    "tags": [
     "remove-input"
    ]
   },
   "outputs": [],
   "source": [
    "from epp_topics.quiz_utilities import display_quiz\n",
    "\n",
    "content = {\n",
    "    \"Code that runs regressions should be in\": {\n",
    "        \"original_data\": False,\n",
    "        \"data_management\": False,\n",
    "        \"analysis\": True,\n",
    "        \"final\": False,\n",
    "    },\n",
    "    \"The code that visualizes a result of your estimates should be in\": {\n",
    "        \"The same file that runs the estimation\": False,\n",
    "        \"A separate file in the analysis folder\": False,\n",
    "        \"A separate file in the final folder\": True,\n",
    "        \"The data management folder\": False,\n",
    "    },\n",
    "}\n",
    "\n",
    "display_quiz(content)"
   ]
  }
 ],
 "metadata": {
  "language_info": {
   "codemirror_mode": {
    "name": "ipython",
    "version": 3
   },
   "file_extension": ".py",
   "mimetype": "text/x-python",
   "name": "python",
   "nbconvert_exporter": "python",
   "pygments_lexer": "ipython3"
  }
 },
 "nbformat": 4,
 "nbformat_minor": 2
}
