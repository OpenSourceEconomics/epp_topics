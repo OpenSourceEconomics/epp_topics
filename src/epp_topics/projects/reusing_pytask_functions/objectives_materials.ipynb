{
 "cells": [
  {
   "cell_type": "markdown",
   "metadata": {},
   "source": [
    "# Re-using pytask functions\n",
    "\n",
    "## Learning Objectives\n",
    "\n",
    "After working through this topic, you should be able to:\n",
    "\n",
    "- write tasks for project workflows that you can call with different default arguments\n",
    "- decide between looping over tasks with different arguments or looping over products in\n",
    "  a task\n",
    "\n",
    "\n",
    "## Materials\n",
    "\n",
    "Here is the\n",
    "[Screencast](https://player.uni-bonn.educast.nrw/cfca8006-44ff-465d-b866-7623ac0e44db)\n",
    "and these are the [slides](projects-reusing_pytask_functions.pdf).\n",
    "\n",
    "\n",
    "## Quiz"
   ]
  },
  {
   "cell_type": "code",
   "execution_count": null,
   "metadata": {
    "tags": [
     "remove-input"
    ]
   },
   "outputs": [],
   "source": [
    "from epp_topics.quiz_utilities import display_quiz\n",
    "\n",
    "content = {\n",
    "    \"For long running tasks you should loop over tasks, not products. Why?\": {\n",
    "        \"So pytask can run your tasks in parallel\": True,\n",
    "        \"If one task fails, only the failing task has to be executed again\": True,\n",
    "        \"It makes your code more readable\": False,\n",
    "        \"Pytask has a runtime limit for individual tasks.\": False,\n",
    "    },\n",
    "    \"How do you loop over tasks?\": {\n",
    "        \"You define the task function within a for loop using the task decorator\": True,\n",
    "        \"You use a for loop within the task function\": False,\n",
    "        \"You use the `pytask.loop` decorator\": False,\n",
    "        \"`produces` is a dictionary that you generate in a loop\": False,\n",
    "    },\n",
    "    \"What are potential drawbacks of looping over tasks instead of products?\": {\n",
    "        \"You get many more tasks and might lose the overview\": True,\n",
    "        \"Looping over tasks is slower\": False,\n",
    "        \"Both are bad, loops are always bad, Python should not have loops\": False,\n",
    "        \"Looping over tasks is less readable\": False,\n",
    "    },\n",
    "    \"What are potential advantages of looping over tasks instead of products?\": {\n",
    "        \"More granular caching of results can reduce runtime\": True,\n",
    "        \"More granular parallelization can reduce runtime\": True,\n",
    "        \"Looping over tasks in more readable\": False,\n",
    "        \"Looping over tasks in always preferable\": False,\n",
    "    },\n",
    "}\n",
    "\n",
    "display_quiz(content)"
   ]
  }
 ],
 "metadata": {
  "language_info": {
   "codemirror_mode": {
    "name": "ipython",
    "version": 3
   },
   "file_extension": ".py",
   "mimetype": "text/x-python",
   "name": "python",
   "nbconvert_exporter": "python",
   "pygments_lexer": "ipython3"
  }
 },
 "nbformat": 4,
 "nbformat_minor": 2
}
