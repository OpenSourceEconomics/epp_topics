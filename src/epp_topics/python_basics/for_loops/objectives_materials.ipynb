{
 "cells": [
  {
   "cell_type": "markdown",
   "metadata": {},
   "source": [
    "# For loops\n",
    "\n",
    "## Learning Objectives\n",
    "\n",
    "After working through this topic, you should be able to:\n",
    "\n",
    "- Explain what a for loop is and list examples where it can be useful\n",
    "- Write for loops that list over:\n",
    "    - Elements in lists and tuples \n",
    "    - Keys, values or keys and values in a dictionary\n",
    "- Write a for loop to apply a manipulation to all elements in a container\n",
    "- Use loops to sum up numbers in a list\n",
    "\n",
    "\n",
    "## Materials\n",
    "\n",
    "Here is the\n",
    "[Screencast](https://player.uni-bonn.educast.nrw/466ec124-c881-4ec7-b7ca-d518c0a05d4a)\n",
    "and these are the [slides](python_basics-for_loops.pdf).\n",
    "\n",
    "## Further Reading\n",
    "\n",
    "- [realpython tutorial](https://realpython.com/python-for-loop/) on for loops. Note that this contains many things you do not need to know!\n",
    "\n",
    "\n",
    "## Quiz"
   ]
  },
  {
   "cell_type": "code",
   "execution_count": null,
   "metadata": {
    "tags": [
     "remove-input"
    ]
   },
   "outputs": [],
   "source": [
    "from jupyterquiz import display_quiz\n",
    "\n",
    "content = [\n",
    "    {\n",
    "        \"question\": (\n",
    "            \"If you need to represent 'hello world', in Python you would use ...\"\n",
    "        ),\n",
    "        \"type\": \"multiple_choice\",\n",
    "        \"answers\": [\n",
    "            {\"answer\": \"A string\", \"correct\": True, \"feedback\": \"Correct.\"},\n",
    "            {\"answer\": \"A float\", \"correct\": False, \"feedback\": \"Incorrect.\"},\n",
    "            {\"answer\": \"An integer\", \"correct\": False, \"feedback\": \"Incorrect.\"},\n",
    "            {\"answer\": \"A Boolean\", \"correct\": False, \"feedback\": \"Incorrect.\"},\n",
    "        ],\n",
    "    },\n",
    "]\n",
    "\n",
    "display_quiz(content, colors=\"fdsp\")"
   ]
  }
 ],
 "metadata": {
  "language_info": {
   "codemirror_mode": {
    "name": "ipython",
    "version": 3
   },
   "file_extension": ".py",
   "mimetype": "text/x-python",
   "name": "python",
   "nbconvert_exporter": "python",
   "pygments_lexer": "ipython3"
  }
 },
 "nbformat": 4,
 "nbformat_minor": 2
}
