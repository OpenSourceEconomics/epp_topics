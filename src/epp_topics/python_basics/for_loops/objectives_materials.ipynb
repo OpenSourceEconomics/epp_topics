{
 "cells": [
  {
   "cell_type": "markdown",
   "metadata": {},
   "source": [
    "# For loops\n",
    "\n",
    "## Learning Objectives\n",
    "\n",
    "After working through this topic, you should be able to:\n",
    "\n",
    "- Explain what a for loop is and list examples where it can be useful\n",
    "- Write for loops that iterate over:\n",
    "    - Elements in lists and tuples \n",
    "    - Keys, values or keys and values in a dictionary\n",
    "- Write for loops applying a manipulation to all elements in a container\n",
    "- Use for loops to sum up numbers in a list\n",
    "\n",
    "\n",
    "## Materials\n",
    "\n",
    "Here is the\n",
    "[screencast](https://player.uni-bonn.educast.nrw/466ec124-c881-4ec7-b7ca-d518c0a05d4a)\n",
    "and these are the [slides](python_basics-for_loops.pdf).\n",
    "\n",
    "## Further Reading\n",
    "\n",
    "- [Real Python tutorial](https://realpython.com/python-for-loop/) on for loops. Note\n",
    "  that this contains many things you do not need to know!\n",
    "\n",
    "\n",
    "## Quiz"
   ]
  },
  {
   "cell_type": "code",
   "execution_count": null,
   "metadata": {
    "tags": [
     "remove-input"
    ]
   },
   "outputs": [],
   "source": [
    "from epp_topics.quiz_utilities import display_quiz\n",
    "\n",
    "content = {\n",
    "    \"What does pwd do\": {\n",
    "        \"Print the current working directory\": True,\n",
    "        \"Switch to your home directory\": False,\n",
    "        \"Create a new directory called pwd\": False,\n",
    "        \"Print all files in the present working directory\": False,\n",
    "    },\n",
    "    \"What can you do with the z command\": {\n",
    "        \"Save typing when switching to a directory\": True,\n",
    "        \"Create files more efficiently\": False,\n",
    "        \"Print the entire directory tree\": False,\n",
    "        \"Switch to a directory of which you only know the approximate name\": True,\n",
    "    },\n",
    "    \"What does `cd ..` do\": {\n",
    "        \"Move to a directory called `..`\": False,\n",
    "        \"Move to the parent directory\": True,\n",
    "        \"Move to the home directory\": False,\n",
    "    },\n",
    "}\n",
    "\n",
    "display_quiz(content)"
   ]
  }
 ],
 "metadata": {
  "language_info": {
   "codemirror_mode": {
    "name": "ipython",
    "version": 3
   },
   "file_extension": ".py",
   "mimetype": "text/x-python",
   "name": "python",
   "nbconvert_exporter": "python",
   "pygments_lexer": "ipython3"
  }
 },
 "nbformat": 4,
 "nbformat_minor": 2
}
