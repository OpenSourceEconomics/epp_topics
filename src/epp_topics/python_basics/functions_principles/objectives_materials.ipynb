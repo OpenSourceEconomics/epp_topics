{
 "cells": [
  {
   "cell_type": "markdown",
   "metadata": {},
   "source": [
    "# Principles for Good Functions\n",
    "\n",
    "## Learning Objectives\n",
    "\n",
    "After working through this topic, you should be able to:\n",
    "\n",
    "- List reasons why functions can help you to write better code\n",
    "\n",
    "## Materials\n",
    "\n",
    "Here is the\n",
    "[screencast](https://player.uni-bonn.educast.nrw/38bdf991-1780-470f-8b32-5ac39db29c36)\n",
    "and these are the [slides](python_basics-functions_principles.pdf).\n",
    "\n",
    "## Further Reading\n",
    "\n",
    "- \n",
    "\n",
    "\n",
    "## Quiz"
   ]
  },
  {
   "cell_type": "code",
   "execution_count": null,
   "metadata": {
    "tags": [
     "remove-input"
    ]
   },
   "outputs": [],
   "source": [
    "from epp_topics.quiz_utilities import display_quiz\n",
    "\n",
    "content = {\n",
    "    \"What does pwd do\": {\n",
    "        \"Print the current working directory\": True,\n",
    "        \"Switch to your home directory\": False,\n",
    "        \"Create a new directory called pwd\": False,\n",
    "        \"Print all files in the present working directory\": False,\n",
    "    },\n",
    "    \"What can you do with the z command\": {\n",
    "        \"Save typing when switching to a directory\": True,\n",
    "        \"Create files more efficiently\": False,\n",
    "        \"Print the entire directory tree\": False,\n",
    "        \"Switch to a directory of which you only know the approximate name\": True,\n",
    "    },\n",
    "    \"What does `cd ..` do\": {\n",
    "        \"Move to a directory called `..`\": False,\n",
    "        \"Move to the parent directory\": True,\n",
    "        \"Move to the home directory\": False,\n",
    "    },\n",
    "}\n",
    "\n",
    "display_quiz(content)"
   ]
  }
 ],
 "metadata": {
  "language_info": {
   "codemirror_mode": {
    "name": "ipython",
    "version": 3
   },
   "file_extension": ".py",
   "mimetype": "text/x-python",
   "name": "python",
   "nbconvert_exporter": "python",
   "pygments_lexer": "ipython3"
  }
 },
 "nbformat": 4,
 "nbformat_minor": 2
}
