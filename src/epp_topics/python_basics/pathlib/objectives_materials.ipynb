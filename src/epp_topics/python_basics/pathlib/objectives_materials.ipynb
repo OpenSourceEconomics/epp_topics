{
 "cells": [
  {
   "cell_type": "markdown",
   "metadata": {},
   "source": [
    "# File paths with pathlib\n",
    "\n",
    "## Learning Objectives\n",
    "\n",
    "After working through this topic, you should be able to:\n",
    "\n",
    "- - Use file paths in Python that work on all operating systems \n",
    "- Explain the difference between absolute and relative file paths \n",
    "- List all files in a directory \n",
    "- Save and load Python objects using `.pkl` files\n",
    "\n",
    "## Materials\n",
    "\n",
    "Here is the\n",
    "[screencast](https://player.uni-bonn.educast.nrw/59a7ed46-b07d-41e7-aac8-adea1f7c19d0   )\n",
    "and these are the [slides](python_basics-pathlib.pdf).\n",
    "\n",
    "## Further Reading\n",
    "\n",
    "- A [Real Python](https://realpython.com/python-pathlib/) tutorial on pathlib\n",
    "- The [pathlib documentation](https://docs.python.org/library/pathlib.html)\n",
    "\n",
    "\n",
    "## Quiz"
   ]
  },
  {
   "cell_type": "code",
   "execution_count": null,
   "metadata": {
    "tags": [
     "remove-input"
    ]
   },
   "outputs": [],
   "source": [
    "from jupyterquiz import display_quiz\n",
    "\n",
    "content = [\n",
    "    {\n",
    "        \"question\": (\n",
    "            \"If you need to represent 'hello world', in Python you would use ...\"\n",
    "        ),\n",
    "        \"type\": \"multiple_choice\",\n",
    "        \"answers\": [\n",
    "            {\"answer\": \"A string\", \"correct\": True, \"feedback\": \"Correct.\"},\n",
    "            {\"answer\": \"A float\", \"correct\": False, \"feedback\": \"Incorrect.\"},\n",
    "            {\"answer\": \"An integer\", \"correct\": False, \"feedback\": \"Incorrect.\"},\n",
    "            {\"answer\": \"A Boolean\", \"correct\": False, \"feedback\": \"Incorrect.\"},\n",
    "        ],\n",
    "    },\n",
    "]\n",
    "\n",
    "display_quiz(content, colors=\"fdsp\")"
   ]
  }
 ],
 "metadata": {
  "language_info": {
   "codemirror_mode": {
    "name": "ipython",
    "version": 3
   },
   "file_extension": ".py",
   "mimetype": "text/x-python",
   "name": "python",
   "nbconvert_exporter": "python",
   "pygments_lexer": "ipython3"
  }
 },
 "nbformat": 4,
 "nbformat_minor": 2
}
