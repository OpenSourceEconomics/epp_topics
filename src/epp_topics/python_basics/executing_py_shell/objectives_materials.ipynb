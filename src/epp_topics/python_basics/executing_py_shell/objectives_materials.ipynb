{
 "cells": [
  {
   "cell_type": "markdown",
   "metadata": {},
   "source": [
    "# Executing `.py` files from the shell\n",
    "\n",
    "## Learning Objectives\n",
    "\n",
    "After working through this topic, you should be able to:\n",
    "\n",
    "- Activate a conda environment in your shell\n",
    "- Execute python files from your shell\n",
    "\n",
    "## Materials\n",
    "\n",
    "We assume that you have already watched the screencasts on installation and have a \n",
    "fully working conda installation on your computer. \n",
    "\n",
    "We also assume that you have watched the screencasts on the shell and know how to \n",
    "navigate to directories in a shell. \n",
    "\n",
    "Here is the\n",
    "[screencast](https://player.uni-bonn.educast.nrw/fdb5d582-02db-4ccb-818a-d415de3bef61)\n",
    "and these are the [slides](python_basics-executing_py_shell.pdf)."
   ]
  }
 ],
 "metadata": {
  "language_info": {
   "codemirror_mode": {
    "name": "ipython",
    "version": 3
   },
   "file_extension": ".py",
   "mimetype": "text/x-python",
   "name": "python",
   "nbconvert_exporter": "python",
   "pygments_lexer": "ipython3"
  }
 },
 "nbformat": 4,
 "nbformat_minor": 2
}
