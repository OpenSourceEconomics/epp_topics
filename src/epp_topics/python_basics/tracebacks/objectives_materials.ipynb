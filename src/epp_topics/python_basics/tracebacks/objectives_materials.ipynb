{
 "cells": [
  {
   "cell_type": "markdown",
   "metadata": {},
   "source": [
    "# Tracebacks and Asking for Help\n",
    "\n",
    "## Learning Objectives\n",
    "\n",
    "After working through this topic, you should be able to:\n",
    "\n",
    "- Read Python tracebacks and focus on the important parts\n",
    "    - What type of error\n",
    "    - Where did it happen\n",
    "    - What exactly happened\n",
    "- Describe an error precisely in your own words\n",
    "- Ask your fellow students and instructors for help\n",
    "\n",
    "## Materials\n",
    "\n",
    "Here is the [Screencast](https://player.uni-bonn.educast.nrw/xxx) and these are the\n",
    "[slides](python_basics-tracebacks.pdf).\n",
    "\n",
    "## Further Reading\n",
    "\n",
    "- [excellent blogpost](https://matthewrocklin.com/minimal-bug-reports) by Matthew Rocklin\n",
    "that shows how to ideally ask for help\n",
    "- [realpython post](https://realpython.com/python-traceback/) on how to read tracebacks\n",
    "\n",
    "## Quiz"
   ]
  },
  {
   "cell_type": "code",
   "execution_count": null,
   "metadata": {
    "tags": [
     "remove-input"
    ]
   },
   "outputs": [],
   "source": [
    "from jupyterquiz import display_quiz\n",
    "\n",
    "content = [\n",
    "    {\n",
    "        \"question\": (\n",
    "            \"If you need to represent 'hello world', in Python you would use ...\"\n",
    "        ),\n",
    "        \"type\": \"multiple_choice\",\n",
    "        \"answers\": [\n",
    "            {\"answer\": \"A string\", \"correct\": True, \"feedback\": \"Correct.\"},\n",
    "            {\"answer\": \"A float\", \"correct\": False, \"feedback\": \"Incorrect.\"},\n",
    "            {\"answer\": \"An integer\", \"correct\": False, \"feedback\": \"Incorrect.\"},\n",
    "            {\"answer\": \"A boolean\", \"correct\": False, \"feedback\": \"Incorrect.\"},\n",
    "        ],\n",
    "    },\n",
    "]\n",
    "\n",
    "display_quiz(content, colors=\"fdsp\")"
   ]
  }
 ],
 "metadata": {
  "language_info": {
   "codemirror_mode": {
    "name": "ipython",
    "version": 3
   },
   "file_extension": ".py",
   "mimetype": "text/x-python",
   "name": "python",
   "nbconvert_exporter": "python",
   "pygments_lexer": "ipython3"
  }
 },
 "nbformat": 4,
 "nbformat_minor": 2
}
