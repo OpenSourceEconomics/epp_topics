{
 "cells": [
  {
   "cell_type": "markdown",
   "metadata": {},
   "source": [
    "# Assignment and Built-in Scalar Types\n",
    "\n",
    "## Learning Objectives\n",
    "\n",
    "After working through this topic, you should be able to:\n",
    "\n",
    "- List several built-in scalar types in Python\n",
    "- Assign and manipulate scalar variables in Python\n",
    "- Convert variables between different types\n",
    "- List a few common string manipulation methods\n",
    "\n",
    "## Materials\n",
    "\n",
    "Here is the [Screencast](https://player.uni-bonn.educast.nrw/xxx) and these are the\n",
    "[slides](python_basics-assignment_and_scalar_types.pdf).\n",
    "\n",
    "## Further Reading\n",
    "\n",
    "- [Documentation](https://docs.python.org/3/library/stdtypes.html) of Python built-in types\n",
    "\n",
    "\n",
    "## Quiz"
   ]
  },
  {
   "cell_type": "code",
   "execution_count": null,
   "metadata": {
    "tags": [
     "remove-input"
    ]
   },
   "outputs": [],
   "source": [
    "from jupyterquiz import display_quiz\n",
    "\n",
    "content = [\n",
    "    {\n",
    "        \"question\": (\n",
    "            \"If you need to represent a real number, in Python you would use ...\"\n",
    "        ),\n",
    "        \"type\": \"multiple_choice\",\n",
    "        \"answers\": [\n",
    "            {\"answer\": \"A float\", \"correct\": True, \"feedback\": \"Correct.\"},\n",
    "            {\"answer\": \"An integer\", \"correct\": False, \"feedback\": \"Incorrect.\"},\n",
    "            {\"answer\": \"A boolean\", \"correct\": False, \"feedback\": \"Incorrect.\"},\n",
    "        ],\n",
    "    },\n",
    "    {\n",
    "        \"question\": (\"Which of the following are properties about floats?\"),\n",
    "        \"type\": \"many_choice\",\n",
    "        \"answers\": [\n",
    "            {\n",
    "                \"answer\": \"They can represent arbitrarily large numbers\",\n",
    "                \"correct\": False,\n",
    "                \"feedback\": \"False.\",\n",
    "            },\n",
    "            {\n",
    "                \"answer\": \"They can be used for scientific calculations\",\n",
    "                \"correct\": True,\n",
    "                \"feedback\": \"Correct.\",\n",
    "            },\n",
    "            {\n",
    "                \"answer\": \"The can be added to integers\",\n",
    "                \"correct\": True,\n",
    "                \"feedback\": \"Correct\",\n",
    "            },\n",
    "            {\n",
    "                \"answer\": \"The can represent any real number in a given interval\",\n",
    "                \"correct\": False,\n",
    "                \"feedback\": \"Incorrect.\",\n",
    "            },\n",
    "        ],\n",
    "    },\n",
    "    {\n",
    "        \"question\": (\"Which values can a Boolean take?\"),\n",
    "        \"type\": \"many_choice\",\n",
    "        \"answers\": [\n",
    "            {\"answer\": \"true\", \"correct\": False, \"feedback\": \"False.\"},\n",
    "            {\"answer\": \"false\", \"correct\": False, \"feedback\": \"Incorrect.\"},\n",
    "            {\"answer\": \"True\", \"correct\": True, \"feedback\": \"Correct.\"},\n",
    "            {\"answer\": \"False\", \"correct\": True, \"feedback\": \"Correct\"},\n",
    "        ],\n",
    "    },\n",
    "]\n",
    "\n",
    "display_quiz(content, colors=\"fdsp\")"
   ]
  },
  {
   "cell_type": "code",
   "execution_count": null,
   "metadata": {},
   "outputs": [],
   "source": []
  }
 ],
 "metadata": {
  "language_info": {
   "codemirror_mode": {
    "name": "ipython",
    "version": 3
   },
   "file_extension": ".py",
   "mimetype": "text/x-python",
   "name": "python",
   "nbconvert_exporter": "python",
   "pygments_lexer": "ipython3"
  }
 },
 "nbformat": 4,
 "nbformat_minor": 2
}
