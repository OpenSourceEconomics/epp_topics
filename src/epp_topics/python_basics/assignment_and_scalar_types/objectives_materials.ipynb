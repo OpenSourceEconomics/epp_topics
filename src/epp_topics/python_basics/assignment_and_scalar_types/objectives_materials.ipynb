{
 "cells": [
  {
   "cell_type": "markdown",
   "metadata": {},
   "source": [
    "# Assignment and Built-in Scalar Types\n",
    "\n",
    "## Learning Objectives\n",
    "\n",
    "After working through this topic, you should be able to:\n",
    "\n",
    "- List several built-in scalar types in Python\n",
    "- Assign and manipulate scalar variables in Python\n",
    "- Convert variables between different types\n",
    "- List a few common string manipulation methods\n",
    "\n",
    "## Materials\n",
    "\n",
    "Here is the [Screencast](https://player.uni-bonn.educast.nrw/xxx) and these are the\n",
    "[slides](python_basics-assignment_and_scalar_types.pdf).\n",
    "\n",
    "## Further Reading\n",
    "\n",
    "- [Documentation](https://docs.python.org/3/library/stdtypes.html) of Python built-in types\n",
    "\n",
    "\n",
    "## Quiz"
   ]
  },
  {
   "cell_type": "code",
   "execution_count": null,
   "metadata": {
    "tags": [
     "remove-input"
    ]
   },
   "outputs": [],
   "source": [
    "from jupyterquiz import display_quiz\n",
    "\n",
    "content = [\n",
    "    {\n",
    "        \"question\": (\n",
    "            \"Choose all of the following that can be included in Jupyter notebooks?\"\n",
    "        ),\n",
    "        \"type\": \"many_choice\",\n",
    "        \"answers\": [\n",
    "            {\n",
    "                \"answer\": \"Text and graphics output from Python\",\n",
    "                \"correct\": True,\n",
    "                \"feedback\": \"Correct.\",\n",
    "            },\n",
    "            {\"answer\": \"Typeset mathematics\", \"correct\": True, \"feedback\": \"Correct.\"},\n",
    "            {\n",
    "                \"answer\": \"Python executable code\",\n",
    "                \"correct\": True,\n",
    "                \"feedback\": \"Correct.\",\n",
    "            },\n",
    "            {\"answer\": \"Formatted text\", \"correct\": True, \"feedback\": \"Correct.\"},\n",
    "            {\n",
    "                \"answer\": \"Live snakes via Python\",\n",
    "                \"correct\": False,\n",
    "                \"feedback\": \"I hope not.\",\n",
    "            },\n",
    "        ],\n",
    "    },\n",
    "    {\n",
    "        \"question\": (\n",
    "            \"Which of these are used to create formatted text in Jupyter notebooks?\"\n",
    "        ),\n",
    "        \"type\": \"multiple_choice\",\n",
    "        \"answers\": [\n",
    "            {\"answer\": \"Wiki markup\", \"correct\": False, \"feedback\": \"False.\"},\n",
    "            {\"answer\": \"SVG\", \"correct\": False, \"feedback\": \"F.\"},\n",
    "            {\"answer\": \"Markdown\", \"correct\": True, \"feedback\": \"Correct.\"},\n",
    "            {\"answer\": \"Rich Text\", \"correct\": False, \"feedback\": \"False.\"},\n",
    "        ],\n",
    "    },\n",
    "]\n",
    "\n",
    "display_quiz(content, colors=\"fdsp\")"
   ]
  }
 ],
 "metadata": {
  "language_info": {
   "codemirror_mode": {
    "name": "ipython",
    "version": 3
   },
   "file_extension": ".py",
   "mimetype": "text/x-python",
   "name": "python",
   "nbconvert_exporter": "python",
   "pygments_lexer": "ipython3"
  }
 },
 "nbformat": 4,
 "nbformat_minor": 2
}
