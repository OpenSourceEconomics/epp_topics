{
 "cells": [
  {
   "cell_type": "markdown",
   "metadata": {},
   "source": [
    "# Functions\n",
    "\n",
    "## Learning Objectives\n",
    "\n",
    "After working through this topic, you should be able to:\n",
    "\n",
    "- Define your own Python functions \n",
    "- Call python functions with positional and keyword arguments\n",
    "- Set default values for arguments\n",
    "- List reasons why functions can help you to write better code\n",
    "\n",
    "## Materials\n",
    "\n",
    "Here is the [Screencast](https://player.uni-bonn.educast.nrw/xxx) and these are the\n",
    "[slides](python_basics-functions.pdf).\n",
    "\n",
    "## Further Reading\n",
    "\n",
    "- \n",
    "\n",
    "\n",
    "## Quiz"
   ]
  },
  {
   "cell_type": "code",
   "execution_count": null,
   "metadata": {
    "tags": [
     "remove-input"
    ]
   },
   "outputs": [],
   "source": [
    "from jupyterquiz import display_quiz\n",
    "\n",
    "content = [\n",
    "    {\n",
    "        \"question\": (\n",
    "            \"If you need to represent 'hello world', in Python you would use ...\"\n",
    "        ),\n",
    "        \"type\": \"multiple_choice\",\n",
    "        \"answers\": [\n",
    "            {\"answer\": \"A string\", \"correct\": True, \"feedback\": \"Correct.\"},\n",
    "            {\"answer\": \"A float\", \"correct\": False, \"feedback\": \"Incorrect.\"},\n",
    "            {\"answer\": \"An integer\", \"correct\": False, \"feedback\": \"Incorrect.\"},\n",
    "            {\"answer\": \"A boolean\", \"correct\": False, \"feedback\": \"Incorrect.\"},\n",
    "        ],\n",
    "    },\n",
    "]\n",
    "\n",
    "display_quiz(content, colors=\"fdsp\")"
   ]
  }
 ],
 "metadata": {
  "language_info": {
   "codemirror_mode": {
    "name": "ipython",
    "version": 3
   },
   "file_extension": ".py",
   "mimetype": "text/x-python",
   "name": "python",
   "nbconvert_exporter": "python",
   "pygments_lexer": "ipython3"
  }
 },
 "nbformat": 4,
 "nbformat_minor": 2
}
