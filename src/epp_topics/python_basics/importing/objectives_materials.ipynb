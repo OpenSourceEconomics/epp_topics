{
 "cells": [
  {
   "cell_type": "markdown",
   "metadata": {},
   "source": [
    "# Importing, Namespaces, Modules\n",
    "\n",
    "## Learning Objectives\n",
    "\n",
    "After working through this topic, you should be able to:\n",
    "\n",
    "- Import functions, modules and classes from the standard library or from third party\n",
    "  packages\n",
    "- Explain how namespaces deal with the situation that `log` means different things for a\n",
    "  web developer and mathematician and find similar examples\n",
    "- Diagnose the most common errors when importing things:\n",
    "    - ModuleNotFoundError\n",
    "    - ImportError\n",
    "\n",
    "\n",
    "## Materials\n",
    "\n",
    "Here is the\n",
    "[screencast](https://player.uni-bonn.educast.nrw/3a0f5559-0156-4547-a048-3854aef85a6a)\n",
    "and these are the [slides](python_basics-importing.pdf).\n",
    "\n",
    "## Further Reading\n",
    "\n",
    "- [Documentation](https://docs.python.org/3/reference/import.html) in the Python\n",
    "  Standard Reference\n",
    "\n",
    "\n",
    "## Quiz"
   ]
  },
  {
   "cell_type": "code",
   "execution_count": null,
   "metadata": {
    "tags": [
     "remove-input"
    ]
   },
   "outputs": [],
   "source": [
    "content = [\n",
    "    {\n",
    "        \"question\": \"Repeating code snippets should be avoided because ...\",\n",
    "        \"type\": \"many_choice\",\n",
    "        \"answers\": [\n",
    "            {\"answer\": \"programme runtime generally rises.\", \"correct\": False},\n",
    "            {\n",
    "                \"answer\": (\n",
    "                    \"it is easy to forget about fixing bugs in all places, leading to \"\n",
    "                    \"extra work.\"\n",
    "                ),\n",
    "                \"correct\": True,\n",
    "            },\n",
    "            {\n",
    "                \"answer\": (\n",
    "                    \"when changing behaviour of the code, one often misses out on some \"\n",
    "                    \"places, leading potentially subtle bugs.\"\n",
    "                ),\n",
    "                \"correct\": True,\n",
    "            },\n",
    "            {\n",
    "                \"answer\": \"the extra amount of disk space used often is problematic.\",\n",
    "                \"correct\": False,\n",
    "            },\n",
    "        ],\n",
    "    },\n",
    "]\n",
    "\n",
    "from jupyterquiz import display_quiz\n",
    "\n",
    "display_quiz(content, colors=\"fdsp\")"
   ]
  }
 ],
 "metadata": {
  "language_info": {
   "codemirror_mode": {
    "name": "ipython",
    "version": 3
   },
   "file_extension": ".py",
   "mimetype": "text/x-python",
   "name": "python",
   "nbconvert_exporter": "python",
   "pygments_lexer": "ipython3"
  }
 },
 "nbformat": 4,
 "nbformat_minor": 2
}
