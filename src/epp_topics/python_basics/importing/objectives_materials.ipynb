{
 "cells": [
  {
   "cell_type": "markdown",
   "metadata": {},
   "source": [
    "# Importing, Namespaces, Modules\n",
    "\n",
    "## Learning Objectives\n",
    "\n",
    "After working through this topic, you should be able to:\n",
    "\n",
    "- Import functions, modules and classes from the standard library or from third party\n",
    "  packages\n",
    "- Explain how namespaces deal with the situation that `log` means different things for a\n",
    "  web developer and mathematician and find similar examples\n",
    "- Diagnose the most common errors when importing things:\n",
    "    - ModuleNotFoundError\n",
    "    - ImportError\n",
    "\n",
    "\n",
    "## Materials\n",
    "\n",
    "Here is the\n",
    "[screencast](https://player.uni-bonn.educast.nrw/3a0f5559-0156-4547-a048-3854aef85a6a)\n",
    "and these are the [slides](python_basics-importing.pdf).\n",
    "\n",
    "## Further Reading\n",
    "\n",
    "- [Documentation](https://docs.python.org/3/reference/import.html) in the Python\n",
    "  Standard Reference\n",
    "\n",
    "\n",
    "## Quiz"
   ]
  },
  {
   "cell_type": "code",
   "execution_count": null,
   "metadata": {
    "tags": [
     "remove-input"
    ]
   },
   "outputs": [],
   "source": [
    "from jupyterquiz import display_quiz\n",
    "\n",
    "content = [\n",
    "    {\n",
    "        \"question\": (\n",
    "            \"If you need to represent 'hello world', in Python you would use ...\"\n",
    "        ),\n",
    "        \"type\": \"multiple_choice\",\n",
    "        \"answers\": [\n",
    "            {\"answer\": \"A string\", \"correct\": True, \"feedback\": \"Correct.\"},\n",
    "            {\"answer\": \"A float\", \"correct\": False, \"feedback\": \"Incorrect.\"},\n",
    "            {\"answer\": \"An integer\", \"correct\": False, \"feedback\": \"Incorrect.\"},\n",
    "            {\"answer\": \"A Boolean\", \"correct\": False, \"feedback\": \"Incorrect.\"},\n",
    "        ],\n",
    "    },\n",
    "]\n",
    "\n",
    "display_quiz(content, colors=\"fdsp\")"
   ]
  }
 ],
 "metadata": {
  "language_info": {
   "codemirror_mode": {
    "name": "ipython",
    "version": 3
   },
   "file_extension": ".py",
   "mimetype": "text/x-python",
   "name": "python",
   "nbconvert_exporter": "python",
   "pygments_lexer": "ipython3"
  }
 },
 "nbformat": 4,
 "nbformat_minor": 2
}
