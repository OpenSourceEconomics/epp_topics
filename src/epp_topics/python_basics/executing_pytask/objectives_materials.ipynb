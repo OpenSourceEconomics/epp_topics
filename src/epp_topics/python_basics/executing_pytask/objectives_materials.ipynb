{
 "cells": [
  {
   "cell_type": "markdown",
   "metadata": {},
   "source": [
    "# Running Python code via pytask\n",
    "\n",
    "## Learning Objectives\n",
    "\n",
    "After working through this topic, you should be able to:\n",
    "\n",
    "- Execute a reproducible project using pytask\n",
    "- Activate the correct environment for using pytask\n",
    "\n",
    "## Materials\n",
    "\n",
    "Here is the \n",
    "[screencast](https://player.uni-bonn.educast.nrw/993ed1d4-7f3f-45ef-bf1b-664f794490c2) \n",
    "and these are the [slides](python_basics-executing_pytask.pdf).\n",
    "\n",
    "## Additional Materials\n",
    "\n",
    "- The pytask [command line interface](https://pytask-dev.readthedocs.io/en/stable/reference_guides/command_line_interface.html)\n"
   ]
  }
 ],
 "metadata": {
  "language_info": {
   "codemirror_mode": {
    "name": "ipython",
    "version": 3
   },
   "file_extension": ".py",
   "mimetype": "text/x-python",
   "name": "python",
   "nbconvert_exporter": "python",
   "pygments_lexer": "ipython3"
  }
 },
 "nbformat": 4,
 "nbformat_minor": 2
}
