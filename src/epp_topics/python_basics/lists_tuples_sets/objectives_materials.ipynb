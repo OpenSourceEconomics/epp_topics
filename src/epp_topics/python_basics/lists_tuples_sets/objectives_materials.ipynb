{
 "cells": [
  {
   "cell_type": "markdown",
   "metadata": {},
   "source": [
    "# Lists, Tuples and Sets\n",
    "\n",
    "## Learning Objectives\n",
    "\n",
    "After working through this topic, you should be able to:\n",
    "\n",
    "- Create lists, sets and tuples\n",
    "- Explain the difference between lists, sets and tuples\n",
    "- Access one or several entries of the standard containers\n",
    "- Determine the number of entries in lists, sets and tuples\n",
    "\n",
    "## Materials\n",
    "\n",
    "Here is the [Screencast](https://player.uni-bonn.educast.nrw/xxx) and these are the\n",
    "[slides](python_basics-lists_tuples_sets.pdf).\n",
    "\n",
    "## Further Reading\n",
    "\n",
    "- [realpython post](https://realpython.com/python-lists-tuples/) on lists and tuples\n",
    "- [datacamp tutorial](https://www.datacamp.com/tutorial/sets-in-python) on sets\n",
    "\n",
    "\n",
    "## Quiz"
   ]
  },
  {
   "cell_type": "code",
   "execution_count": null,
   "metadata": {
    "tags": [
     "remove-input"
    ]
   },
   "outputs": [],
   "source": [
    "from jupyterquiz import display_quiz\n",
    "\n",
    "content = [\n",
    "    {\n",
    "        \"question\": (\" ...\"),\n",
    "        \"type\": \"multiple_choice\",\n",
    "        \"answers\": [\n",
    "            {\"answer\": \"A string\", \"correct\": True, \"feedback\": \"Correct.\"},\n",
    "            {\"answer\": \"A float\", \"correct\": False, \"feedback\": \"Incorrect.\"},\n",
    "            {\"answer\": \"An integer\", \"correct\": False, \"feedback\": \"Incorrect.\"},\n",
    "            {\"answer\": \"A boolean\", \"correct\": False, \"feedback\": \"Incorrect.\"},\n",
    "        ],\n",
    "    },\n",
    "]\n",
    "\n",
    "display_quiz(content, colors=\"fdsp\")"
   ]
  },
  {
   "cell_type": "code",
   "execution_count": null,
   "metadata": {},
   "outputs": [],
   "source": []
  }
 ],
 "metadata": {
  "language_info": {
   "codemirror_mode": {
    "name": "ipython",
    "version": 3
   },
   "file_extension": ".py",
   "mimetype": "text/x-python",
   "name": "python",
   "nbconvert_exporter": "python",
   "pygments_lexer": "ipython3"
  }
 },
 "nbformat": 4,
 "nbformat_minor": 2
}
