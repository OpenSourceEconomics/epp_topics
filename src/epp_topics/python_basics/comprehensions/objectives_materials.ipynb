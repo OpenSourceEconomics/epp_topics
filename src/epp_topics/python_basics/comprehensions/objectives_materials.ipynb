{
 "cells": [
  {
   "cell_type": "markdown",
   "metadata": {},
   "source": [
    "# Comprehensions\n",
    "\n",
    "## Learning Objectives\n",
    "\n",
    "After working through this topic, you should be able to:\n",
    "\n",
    "- Write list comprehensions and dict comprehensions\n",
    "- Explain why comprehensions are not enough for numerical code even though they are faster than loops\n",
    "- Discuss when to use list comprehensions and for loops\n",
    "\n",
    "## Materials\n",
    "\n",
    "Here is the \n",
    "[screencast](https://player.uni-bonn.educast.nrw/3400650b-f018-4df8-8b15-cd1f43abe66c) \n",
    "and these are the [slides](python_basics-comprehensions.pdf)."
   ]
  },
  {
   "cell_type": "code",
   "execution_count": null,
   "metadata": {
    "tags": [
     "remove-input"
    ]
   },
   "outputs": [],
   "source": [
    "from epp_topics.quiz_utilities import display_quiz\n",
    "\n",
    "content = {\n",
    "    \"Which of the following statements are correct?\": {\n",
    "        \"Using comprehensions solves the problem that loops are slow in Python\": False,\n",
    "        \"Code becomes better if you replace all loops with comprehensions\": False,\n",
    "        \"Comprehensions are a way to write loops in a more compact way\": True,\n",
    "        \"Comprehensions can make your code more readable\": True,\n",
    "    },\n",
    "    \"What are reasons to choose a loop over comprehensions?\": {\n",
    "        \"The comprehension would not fit on one line\": True,\n",
    "        \"You need several if conditions in your loop\": True,\n",
    "        \"You do not care about speed\": False,\n",
    "        \"You find the loop more readable in your specific case\": True,\n",
    "    },\n",
    "    \"What are reasons to choose a comprehension over a loop?\": {\n",
    "        \"The comprehension is one line shorter than the loop\": False,\n",
    "        \"You are doing high performance computing and need the speed\": False,\n",
    "        \"You find the comprehension is more readable in your specific case\": True,\n",
    "        \"Loops are slow.\": False,\n",
    "    },\n",
    "}\n",
    "\n",
    "display_quiz(content)"
   ]
  }
 ],
 "metadata": {
  "language_info": {
   "codemirror_mode": {
    "name": "ipython",
    "version": 3
   },
   "file_extension": ".py",
   "mimetype": "text/x-python",
   "name": "python",
   "nbconvert_exporter": "python",
   "pygments_lexer": "ipython3"
  }
 },
 "nbformat": 4,
 "nbformat_minor": 2
}
