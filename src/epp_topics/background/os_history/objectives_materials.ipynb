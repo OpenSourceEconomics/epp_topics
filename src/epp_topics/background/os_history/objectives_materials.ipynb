{
 "cells": [
  {
   "cell_type": "markdown",
   "metadata": {},
   "source": [
    "# A Brief History of Operating System\n",
    "\n",
    "## Learning Objectives\n",
    "\n",
    "After working through this topic, you should be able to:\n",
    "\n",
    "- describe the basic history of Unix, Linux, Mac OS, and Windows\n",
    "- appreciate that this history leads to very different behaviour of the operating\n",
    "  systems\n",
    "\n",
    "## Materials\n",
    "\n",
    "Here is\n",
    "[Screencast](https://player.uni-bonn.educast.nrw/4f1de5ec-5395-4b67-8bf3-e8a93ef1e06c)\n",
    "an. These are the [slides](background-os_history.pdf).\n",
    "\n",
    "## Further Reading\n",
    "\n",
    "- Nice\n",
    "  [ars technica article](https://arstechnica.com/gadgets/2019/08/unix-at-50-it-starts-with-a-mainframe-a-gator-and-three-dedicated-researchers)\n",
    "  on the history of Unix.\n",
    "- Wikipedia has some great resources on all of this, you know your way around that part\n",
    "  of the internet. Just want to highlight the page on the\n",
    "  [Berkeley Software Distribution (BSD)](https://en.wikipedia.org/wiki/Berkeley_Software_Distribution).\n",
    "  That one is very good and it might not be the first thing you may be looking up.\n"
   ]
  },
  {
   "cell_type": "code",
   "execution_count": null,
   "metadata": {},
   "outputs": [],
   "source": []
  }
 ],
 "metadata": {
  "language_info": {
   "name": "python"
  }
 },
 "nbformat": 4,
 "nbformat_minor": 2
}
