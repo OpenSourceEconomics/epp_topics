{
 "cells": [
  {
   "cell_type": "markdown",
   "metadata": {},
   "source": [
    "# Graphs\n",
    "\n",
    "## Learning Objectives\n",
    "\n",
    "After working through this topic, you should be able to:\n",
    "\n",
    "- reproduce the definition of graphs\n",
    "- explain why graphs are useful for humans\n",
    "- explain why graphs are an important building block in computer science\n",
    "- describe the most important types of graphs\n",
    "\n",
    "## Materials\n",
    "\n",
    "Here is the\n",
    "[Screencast](https://player.uni-bonn.educast.nrw/380bae83-0d96-4584-a4c5-b8e6ab3f0a68).\n",
    "These are the [slides](background-graphs.pdf).\n",
    "\n",
    "[Mathematical introduction to graphs](https://arxiv.org/abs/2308.04512)\n",
    "\n",
    "### Applications\n",
    "\n",
    "- [DAGs and Git](https://medium.com/girl-writes-code/git-is-a-directed-acyclic-graph-and-what-the-heck-does-that-mean-b6c8dec65059)\n",
    "- Network analysis in Python: [NetworkX](https://networkx.org/)\n",
    "- [Visualize the DAG of a research project](https://pytask-dev.readthedocs.io/en/stable/tutorials/visualizing_the_dag.html#visualizing-the-dag)\n",
    "  that employs [pytask](https://pytask-dev.readthedocs.io/)\n",
    "- [Causality](http://bayes.cs.ucla.edu/BOOK-2K/) by Judea Pearl. Simpler introduction:\n",
    "  [The Book of Why](http://bayes.cs.ucla.edu/WHY/) by Judea Pearl and Dana Mackenzie.\n",
    "- [Behavioral Causal Inference](https://www.ranspiegler.sites.tau.ac.il/_files/ugd/4871e3_45622f3b5aad408cb58038531768cbf8.pdf)\n",
    "  by Ran Spiegler.\n",
    "\n",
    "## Quiz"
   ]
  },
  {
   "cell_type": "code",
   "execution_count": null,
   "metadata": {
    "vscode": {
     "languageId": "plaintext"
    }
   },
   "outputs": [],
   "source": []
  }
 ],
 "metadata": {
  "language_info": {
   "name": "python"
  }
 },
 "nbformat": 4,
 "nbformat_minor": 2
}
