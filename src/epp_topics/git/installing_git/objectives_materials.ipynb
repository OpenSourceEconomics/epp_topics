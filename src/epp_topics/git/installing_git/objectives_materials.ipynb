{
 "cells": [
  {
   "cell_type": "markdown",
   "metadata": {},
   "source": [
    "# Installing git and some useful shell commands\n",
    "\n",
    "\n",
    "## Notes\n",
    "\n",
    "- Git is typically already installed on linux and mac\n",
    "- Setting the username and email is not optional!\n",
    "- You can skip the command line intro if you have seen the shell screencasts\n",
    "- The videos recommends some outdated programs. Stick to what we recommended\n",
    "\n",
    "## Learning Objectives\n",
    "\n",
    "After working through this topic, you should be able to:\n",
    "\n",
    "- install git on your local machine\n",
    "- set the username and user email for git\n",
    "- list, create and delete files from the command line\n",
    "\n",
    "\n",
    "## Materials\n",
    "\n",
    "For this topic we are building on the excellent YouTube playlist by [NetNinja](https://www.youtube.com/@NetNinja)\n",
    "\n",
    "\n",
    "<iframe width=\"560\" height=\"315\" src=\"https://www.youtube.com/embed/MFtsLRphqDM?si=r5c16qdB7xG7aUho\" title=\"YouTube video player\" frameborder=\"0\" allow=\"accelerometer; autoplay; clipboard-write; encrypted-media; gyroscope; picture-in-picture; web-share\" allowfullscreen></iframe>\n",
    "\n",
    "\n",
    "## Quiz"
   ]
  },
  {
   "cell_type": "markdown",
   "metadata": {},
   "source": [
    "- Why do you have to configure your username and email address for git\n",
    "    - To sign up for the git newsletter\n",
    "    - To link your GitHub account to your local git installation (F)\n",
    "    - It makes transparent who made a change to the source code (T)\n",
    "    - Git will complain if you don't do it (T)\n"
   ]
  }
 ],
 "metadata": {
  "language_info": {
   "name": "python"
  }
 },
 "nbformat": 4,
 "nbformat_minor": 2
}
