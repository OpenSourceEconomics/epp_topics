{
 "cells": [
  {
   "cell_type": "markdown",
   "metadata": {},
   "source": [
    "# Installing git and some useful shell commands\n",
    "\n",
    "## Learning Objectives\n",
    "\n",
    "After working through this topic, you should be able to:\n",
    "\n",
    "- install git on your local machine\n",
    "- set the username and user email for git\n",
    "- list, create and delete files from the command line\n",
    "\n",
    "## Notes\n",
    "\n",
    "- Git is typically already installed on linux and mac\n",
    "- Setting the username and email is not optional!\n",
    "- You can skip the command line intro if you have seen the shell screencasts\n",
    "- The videos recommends some outdated programs. Stick to what we recommended\n",
    "\n",
    "## Additional configuration\n",
    "\n",
    "Sometimes git will open a code editor in which you can type a commit message or some \n",
    "other message. On most operating systems, the default editor for this is a command line\n",
    "editor like `vim` or `nano` that is hard to use. We recommend that you set it instead \n",
    "to vscode with the following command:\n",
    "\n",
    "```bash\n",
    "git config --global core.editor \"code\"\n",
    "```\n",
    "\n",
    "## Materials\n",
    "\n",
    "For this topic we are building on the excellent YouTube playlist by [NetNinja](https://www.youtube.com/@NetNinja)\n",
    "\n",
    "\n",
    "<iframe width=\"560\" height=\"315\" src=\"https://www.youtube.com/embed/MFtsLRphqDM?si=r5c16qdB7xG7aUho\" title=\"YouTube video player\" frameborder=\"0\" allow=\"accelerometer; autoplay; clipboard-write; encrypted-media; gyroscope; picture-in-picture; web-share\" allowfullscreen></iframe>\n",
    "\n",
    "\n",
    "## Quiz"
   ]
  },
  {
   "cell_type": "code",
   "execution_count": null,
   "metadata": {
    "tags": [
     "remove-input"
    ]
   },
   "outputs": [],
   "source": [
    "from jupyterquiz import display_quiz\n",
    "\n",
    "content = [\n",
    "    {\n",
    "        \"question\": \"Why do you have to configure your \\\n",
    "        username and email address for git?\",\n",
    "        \"type\": \"multiple_choice\",\n",
    "        \"answers\": [\n",
    "            {\n",
    "                \"answer\": \"To sign up for the git newsletter\",\n",
    "                \"correct\": False,\n",
    "                \"feedback\": \"Incorrect.\",\n",
    "            },\n",
    "            {\n",
    "                \"answer\": \"To link your GitHub account to \\\n",
    "                your local git installation\",\n",
    "                \"correct\": False,\n",
    "                \"feedback\": \"Incorrect.\",\n",
    "            },\n",
    "            {\n",
    "                \"answer\": \"It makes transparent who made \\\n",
    "                a change to the source code\",\n",
    "                \"correct\": True,\n",
    "                \"feedback\": \"Correct.\",\n",
    "            },\n",
    "            {\n",
    "                \"answer\": \"Git will complain if you \\\n",
    "                don't do it\",\n",
    "                \"correct\": True,\n",
    "                \"feedback\": \"Correct.\",\n",
    "            },\n",
    "        ],\n",
    "    },\n",
    "]\n",
    "\n",
    "display_quiz(content)"
   ]
  }
 ],
 "metadata": {
  "language_info": {
   "codemirror_mode": {
    "name": "ipython",
    "version": 3
   },
   "file_extension": ".py",
   "mimetype": "text/x-python",
   "name": "python",
   "nbconvert_exporter": "python",
   "pygments_lexer": "ipython3"
  }
 },
 "nbformat": 4,
 "nbformat_minor": 2
}
