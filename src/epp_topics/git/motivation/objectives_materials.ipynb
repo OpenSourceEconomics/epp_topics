{
 "cells": [
  {
   "cell_type": "markdown",
   "metadata": {},
   "source": [
    "# Motivation\n",
    "\n",
    "## Learning Objectives\n",
    "\n",
    "After working through this topic, you should be able to:\n",
    "\n",
    "- explain why code-heavy research requires a robust Version Control system\n",
    "- enumerate the most important operations for interacting with a Git repository\n",
    "\n",
    "## Materials\n",
    "\n",
    "Here is [Screencast](https://player.uni-bonn.educast.nrw/xxx). These are the\n",
    "[slides](git-motivation.pdf).\n",
    "\n",
    "## Further Reading\n",
    "\n",
    "XXX\n"
   ]
  },
  {
   "cell_type": "markdown",
   "metadata": {},
   "source": []
  }
 ],
 "metadata": {
  "language_info": {
   "name": "python"
  }
 },
 "nbformat": 4,
 "nbformat_minor": 2
}
