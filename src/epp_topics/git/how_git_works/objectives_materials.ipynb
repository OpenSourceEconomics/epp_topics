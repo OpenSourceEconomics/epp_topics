{
 "cells": [
  {
   "cell_type": "markdown",
   "metadata": {},
   "source": [
    "# How git works\n",
    "\n",
    "## Learning Objectives\n",
    "\n",
    "After working through this topic, you should be able to:\n",
    "\n",
    "- Explain what a git repository is\n",
    "- Explain what a git commit is\n",
    "- Understand that git commits are not created automatically\n",
    "- Explain the difference between modified files, staged files and committed files\n",
    "\n",
    "## Materials\n",
    "\n",
    "For this topic we are building on the excellent YouTube playlist by [NetNinja](https://www.youtube.com/@NetNinja)\n",
    "\n",
    "\n",
    "<iframe width=\"560\" height=\"315\" src=\"https://www.youtube.com/embed/iNP_KmOFqXs?si=fxTAj72bZXfCCqUr\" title=\"YouTube video player\" frameborder=\"0\" allow=\"accelerometer; autoplay; clipboard-write; encrypted-media; gyroscope; picture-in-picture; web-share\" allowfullscreen></iframe>\n",
    "\n",
    "## Quiz"
   ]
  },
  {
   "cell_type": "markdown",
   "metadata": {},
   "source": [
    "- What is a git repository\n",
    "    - A folder containing a `.git` directory (T)\n",
    "    - A folder that gets automatically synced to the cloud (F)\n",
    "    - A place where the configurations for git are stored (F)\n",
    "    - A folder containing all files that belong to your project (T)\n",
    "- What is a git commit\n",
    "    - A snapshot that git creates in fixed time intervals (F)\n",
    "    - A snapshot that you create after you have made some changes that belong together (T)\n",
    "    - Something you can come back to at a later stage (T)\n",
    "    - A new folder that contains a copy of the repo (F)"
   ]
  }
 ],
 "metadata": {
  "language_info": {
   "name": "python"
  }
 },
 "nbformat": 4,
 "nbformat_minor": 2
}
