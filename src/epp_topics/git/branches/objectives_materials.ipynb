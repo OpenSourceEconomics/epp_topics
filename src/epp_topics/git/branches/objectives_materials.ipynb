{
 "cells": [
  {
   "cell_type": "markdown",
   "metadata": {},
   "source": [
    "# Branches\n",
    "\n",
    "## Learning Objectives\n",
    "\n",
    "After working through this topic, you should be able to:\n",
    "\n",
    "- Describe how branches can help to try out changes without affecting the current stable version of your code\n",
    "- Use `git branch` or `git checkout -b` to create new branches\n",
    "- Use `git branch` to find out on which branch you are\n",
    "- Use `git checkout` to move between branches\n",
    "- Use `git branch -d` to delete branches\n",
    "\n",
    "\n",
    "## Materials\n",
    "\n",
    "For this topic we are building on the excellent YouTube playlist by [NetNinja](https://www.youtube.com/@NetNinja)\n",
    "\n",
    "\n",
    "<iframe width=\"560\" height=\"315\" src=\"https://www.youtube.com/embed/QV0kVNvkMxc?si=3bRoAq2uuz8HMlyG\" title=\"YouTube video player\" frameborder=\"0\" allow=\"accelerometer; autoplay; clipboard-write; encrypted-media; gyroscope; picture-in-picture; web-share\" allowfullscreen></iframe>\n",
    "\n",
    "\n",
    "## Quiz"
   ]
  },
  {
   "cell_type": "markdown",
   "metadata": {},
   "source": [
    "- What are branches used for?\n",
    "    - Try out changes to the code without breaking the current stable version (T)\n",
    "    - Split large changes into multiple commits (F)\n",
    "    - Work on multiple projects in the same repository (F)\n",
    "- How can you create a new branch?\n",
    "    - `git commit` (F)\n",
    "    - `git checkout -b` (T)\n",
    "    - `git status` (F)\n",
    "    - `git branch` (T)"
   ]
  }
 ],
 "metadata": {
  "language_info": {
   "name": "python"
  }
 },
 "nbformat": 4,
 "nbformat_minor": 2
}
