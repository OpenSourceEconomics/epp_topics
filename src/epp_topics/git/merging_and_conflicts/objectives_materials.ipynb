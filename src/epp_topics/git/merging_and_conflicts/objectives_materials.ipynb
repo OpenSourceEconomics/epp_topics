{
 "cells": [
  {
   "cell_type": "markdown",
   "metadata": {},
   "source": [
    "# Merging and resolving merge conflicts\n",
    "\n",
    "## Learning Objectives\n",
    "\n",
    "After working through this topic, you should be able to:\n",
    "\n",
    "- Merge feature branches into the `main` branch\n",
    "- Understand why merge conflicts can happen\n",
    "- Explain the difference between the fast-forward and the recursive merge strategy\n",
    "- Fix merge conflicts\n",
    "\n",
    "## Materials\n",
    "\n",
    "For this topic we are building on the excellent YouTube playlist by [NetNinja](https://www.youtube.com/@NetNinja)\n",
    "\n",
    "\n",
    "<iframe width=\"560\" height=\"315\" src=\"https://www.youtube.com/embed/XX-Kct0PfFc?si=P3QMzRn40K3mGLL9\" title=\"YouTube video player\" frameborder=\"0\" allow=\"accelerometer; autoplay; clipboard-write; encrypted-media; gyroscope; picture-in-picture; web-share\" allowfullscreen></iframe>\n",
    "\n",
    "\n",
    "## Quiz"
   ]
  },
  {
   "cell_type": "markdown",
   "metadata": {},
   "source": [
    "- Which steps are needed to fix a merge conflict\n",
    "    - modify the files manually (T)\n",
    "    - `git reset` (F)\n",
    "    - `git add` (T)\n",
    "    - `git commit` (T)\n",
    "    - `git resolve conflict` (F)\n"
   ]
  },
  {
   "cell_type": "markdown",
   "metadata": {},
   "source": [
    "## Cards\n",
    "\n",
    "- What are the correct commands to merge branch `a` into branch `b`\n",
    "    - `git checkout b`\n",
    "    - `git merge a` "
   ]
  }
 ],
 "metadata": {
  "language_info": {
   "name": "python"
  }
 },
 "nbformat": 4,
 "nbformat_minor": 2
}
