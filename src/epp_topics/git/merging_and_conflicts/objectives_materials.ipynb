{
 "cells": [
  {
   "cell_type": "markdown",
   "metadata": {},
   "source": [
    "# Merging and resolving merge conflicts\n",
    "\n",
    "## Learning Objectives\n",
    "\n",
    "After working through this topic, you should be able to:\n",
    "\n",
    "- Merge feature branches into the `main` branch\n",
    "- Understand why merge conflicts can happen\n",
    "- Explain the difference between the fast-forward and the recursive merge strategy\n",
    "- Fix merge conflicts\n",
    "\n",
    "## Materials\n",
    "\n",
    "For this topic we are building on the excellent YouTube playlist by [NetNinja](https://www.youtube.com/@NetNinja)\n",
    "\n",
    "\n",
    "<iframe width=\"560\" height=\"315\" src=\"https://www.youtube.com/embed/XX-Kct0PfFc?si=P3QMzRn40K3mGLL9\" title=\"YouTube video player\" frameborder=\"0\" allow=\"accelerometer; autoplay; clipboard-write; encrypted-media; gyroscope; picture-in-picture; web-share\" allowfullscreen></iframe>\n",
    "\n",
    "\n",
    "## Quiz"
   ]
  },
  {
   "cell_type": "code",
   "execution_count": null,
   "metadata": {
    "tags": [
     "remove-input"
    ]
   },
   "outputs": [],
   "source": [
    "from jupytercards import display_flashcards\n",
    "from jupyterquiz import display_quiz\n",
    "\n",
    "content = [\n",
    "    {\n",
    "        \"question\": \"Which steps are needed to fix a merge conflict?\",\n",
    "        \"type\": \"many_choice\",\n",
    "        \"answers\": [\n",
    "            {\n",
    "                \"answer\": \"modify the files manually\",\n",
    "                \"correct\": True,\n",
    "                \"feedback\": \"Correct.\",\n",
    "            },\n",
    "            {\n",
    "                \"answer\": \"`git reset`\",\n",
    "                \"correct\": False,\n",
    "                \"feedback\": \"Incorrect.\",\n",
    "            },\n",
    "            {\n",
    "                \"answer\": \"`git add`\",\n",
    "                \"correct\": True,\n",
    "                \"feedback\": \"Correct.\",\n",
    "            },\n",
    "            {\n",
    "                \"answer\": \"`git commit`\",\n",
    "                \"correct\": True,\n",
    "                \"feedback\": \"Correct.\",\n",
    "            },\n",
    "            {\n",
    "                \"answer\": \"`git resolve conflict`\",\n",
    "                \"correct\": False,\n",
    "                \"feedback\": \"Incorrect.\",\n",
    "            },\n",
    "        ],\n",
    "    },\n",
    "]\n",
    "\n",
    "\n",
    "display_quiz(content)"
   ]
  },
  {
   "cell_type": "markdown",
   "metadata": {},
   "source": [
    "## Cards"
   ]
  },
  {
   "cell_type": "code",
   "execution_count": null,
   "metadata": {
    "tags": [
     "remove-input"
    ]
   },
   "outputs": [],
   "source": [
    "content = [\n",
    "    {\n",
    "        \"name\": \"Intro\",\n",
    "        \"front\": \"What are the correct commands \\\n",
    "        to merge branch `a` into branch `b`?\",\n",
    "        \"back\": \"Let's go through them step by \\\n",
    "            step (click on next in the bottom right).\",\n",
    "    },\n",
    "    {\n",
    "        \"name\": \"git checkout b\",\n",
    "        \"front\": \"git checkout b\",\n",
    "        \"back\": \"This moves the HEAD from the \\\n",
    "            current branch to branch `b`.\",\n",
    "    },\n",
    "    {\n",
    "        \"name\": \"git merge a\",\n",
    "        \"front\": \"git merge a\",\n",
    "        \"back\": \"This merges branch `a` into \\\n",
    "            the current branch `b`.\",\n",
    "    },\n",
    "]\n",
    "\n",
    "display_flashcards(content)"
   ]
  }
 ],
 "metadata": {
  "language_info": {
   "codemirror_mode": {
    "name": "ipython",
    "version": 3
   },
   "file_extension": ".py",
   "mimetype": "text/x-python",
   "name": "python",
   "nbconvert_exporter": "python",
   "pygments_lexer": "ipython3"
  }
 },
 "nbformat": 4,
 "nbformat_minor": 2
}
