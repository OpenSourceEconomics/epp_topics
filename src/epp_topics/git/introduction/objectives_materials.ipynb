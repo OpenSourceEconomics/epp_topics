{
 "cells": [
  {
   "cell_type": "markdown",
   "metadata": {},
   "source": [
    "# Introduction and Overview\n",
    "\n",
    "## Learning Objectives\n",
    "\n",
    "After working through this topic, you should be able to:\n",
    "\n",
    "- explain why code-heavy research requires a robust Version Control system\n",
    "- explain why GitHub is more efficient than Dropbox for collaboration\n",
    "- understand the difference between git and GitHub on a high level\n",
    "- explain the benefits of learning git via the command line instead of a GUI\n",
    "\n",
    "## Materials\n",
    "\n",
    "Here is\n",
    "[Screencast](https://player.uni-bonn.educast.nrw/716eb212-f2ec-4ab5-9444-91947870ad72).\n",
    "These are the [slides](git-introduction.pdf).\n",
    "\n",
    "## Additional Materials\n",
    "\n",
    "- [Paper](https://www.zbw.eu/econis-archiv/bitstream/11159/268088/1/EBP07471872X_0.pdf)\n",
    "  documenting trends in number of authors per econ paper\n",
    "    \n",
    "\n",
    "## Quiz\n",
    "\n"
   ]
  },
  {
   "cell_type": "code",
   "execution_count": null,
   "metadata": {
    "tags": [
     "remove-input"
    ]
   },
   "outputs": [],
   "source": [
    "from jupyterquiz import display_quiz\n",
    "\n",
    "content = [\n",
    "    {\n",
    "        \"question\": \"Git is useful because\",\n",
    "        \"type\": \"many_choice\",\n",
    "        \"answers\": [\n",
    "            {\n",
    "                \"answer\": \"it automatically structures my projects\",\n",
    "                \"correct\": False,\n",
    "                \"feedback\": \"Incorrect.\",\n",
    "            },\n",
    "            {\n",
    "                \"answer\": \"it tracks changes in the source code\",\n",
    "                \"correct\": True,\n",
    "                \"feedback\": \"Correct.\",\n",
    "            },\n",
    "            {\n",
    "                \"answer\": \"it automatically backs up my files every \\\n",
    "                    few minutes in the cloud\",\n",
    "                \"correct\": False,\n",
    "                \"feedback\": \"Incorrect.\",\n",
    "            },\n",
    "            {\n",
    "                \"answer\": \"it helps to structure collaboration \\\n",
    "                    with others\",\n",
    "                \"correct\": True,\n",
    "                \"feedback\": \"Correct.\",\n",
    "            },\n",
    "        ],\n",
    "    },\n",
    "]\n",
    "\n",
    "\n",
    "display_quiz(content)"
   ]
  }
 ],
 "metadata": {
  "language_info": {
   "codemirror_mode": {
    "name": "ipython",
    "version": 3
   },
   "file_extension": ".py",
   "mimetype": "text/x-python",
   "name": "python",
   "nbconvert_exporter": "python",
   "pygments_lexer": "ipython3"
  }
 },
 "nbformat": 4,
 "nbformat_minor": 2
}
