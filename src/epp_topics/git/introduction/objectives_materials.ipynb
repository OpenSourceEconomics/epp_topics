{
 "cells": [
  {
   "cell_type": "markdown",
   "metadata": {},
   "source": [
    "# Introduction and Overview\n",
    "\n",
    "## Learning Objectives\n",
    "\n",
    "After working through this topic, you should be able to:\n",
    "\n",
    "- explain why code-heavy research requires a robust Version Control system\n",
    "- explain why GitHub is more efficient than Dropbox for collaboration\n",
    "- understand the difference between git and GitHub on a high level\n",
    "- explain the benefits of learning git via the command line instead of a GUI\n",
    "\n",
    "## Materials\n",
    "\n",
    "Here is [Screencast](https://player.uni-bonn.educast.nrw/xxx). These are the\n",
    "[slides](git-introduction.pdf).\n",
    "\n",
    "\n",
    "\n",
    "## Quiz\n",
    "\n"
   ]
  },
  {
   "cell_type": "markdown",
   "metadata": {},
   "source": [
    "- Git is useful because\n",
    "    - it automatically structures my projects (F)\n",
    "    - it tracks changes in the source code (T)\n",
    "    - it automatically backs up my files every few minutes in the cloud (F)\n",
    "    - it helps to structure collaboration with others (T)"
   ]
  }
 ],
 "metadata": {
  "language_info": {
   "name": "python"
  }
 },
 "nbformat": 4,
 "nbformat_minor": 2
}
