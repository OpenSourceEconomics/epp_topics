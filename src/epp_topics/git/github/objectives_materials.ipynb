{
 "cells": [
  {
   "cell_type": "markdown",
   "metadata": {},
   "source": [
    "# Introduction to GitHub\n",
    "\n",
    "## Learning Objectives\n",
    "\n",
    "After working through this topic, you should be able to:\n",
    "\n",
    "- Understand the difference between git and GitHub\n",
    "- Create a GitHub account\n",
    "- Connect a local git repository to a GitHub repository\n",
    "- Browse your repository at multiple points in time on the GitHub webpage\n",
    "- Create a new repository on GitHub and clone it to your local computer\n",
    "\n",
    "## Materials\n",
    "\n",
    "For this topic we are building on the excellent YouTube playlist by [NetNinja](https://www.youtube.com/@NetNinja)\n",
    "\n",
    "\n",
    "<iframe width=\"560\" height=\"315\" src=\"https://www.youtube.com/embed/fQLK8Ib_SKk?si=cJevCqSADxp3y_wD\" title=\"YouTube video player\" frameborder=\"0\" allow=\"accelerometer; autoplay; clipboard-write; encrypted-media; gyroscope; picture-in-picture; web-share\" allowfullscreen></iframe>\n",
    "\n",
    "\n",
    "## Quiz"
   ]
  },
  {
   "cell_type": "markdown",
   "metadata": {},
   "source": [
    "- What is GitHub\n",
    "    - A safe backup for your repository in the cloud (T)\n",
    "    - A webpage to share code with others (T)\n",
    "    - A way to collaborate efficiently with your coauthors (T)\n",
    "- How can you create synced repositories between your local computer and GitHub\n",
    "    - Use `git init`, create a GitHub repo, copy its url and use `git remote add` (T)\n",
    "    - create a GitHub repo and clone it to your computer (T)\n",
    "    - create a GitHub repo and download it as a zip file from the webpage (F)\n",
    "- You just finished editing a local file \"file.tex\" in a repository managed by git. What do you have to do to update the remote repository?\n",
    "    - git commit, git pull, git rm file.te (F)\n",
    "    - git stash, git stash, git stas (F)\n",
    "    - git add file.tex, git commit -m \"Add a paragraph on nonsense.\", git pus (T)\n",
    "    - google for a GUI that does it for m (F)\n",
    "- `git pull` ...\n",
    "    - downloads any changes made to a central repository since the last synchronisation (T)\n",
    "    - creates a new node in the DAG representing the revision history (F)\n",
    "    - stages a file for inclusion in the next commit (F)\n",
    "    - uploads the local commits made since the last synchronisation with the central repository (F)\n",
    "    - downloads a repository from a central location and checks out the default branch for the local working copy (F)\n",
    "- `git push` ...\n",
    "    - downloads any changes made to a central repository since the last synchronisation (F)\n",
    "    - creates a new node in the DAG representing the revision history (F)\n",
    "    - stages a file for inclusion in the next commit (F)\n",
    "    - uploads the local commits made since the last synchronisation with the central repository (T)\n",
    "    - downloads a repository from a central location and checks out the default branch for the local working copy (F)\n",
    "- `git clone` ...\n",
    "    - downloads any changes made to a central repository since the last synchronisation (F)\n",
    "    - creates a new node in the DAG representing the revision history (F)\n",
    "    - stages a file for inclusion in the next commit (F)\n",
    "    - uploads the local commits made since the last synchronisation with the central repository (F)\n",
    "    - downloads a repository from a central location and checks out the default branch for the local working copy (T)"
   ]
  }
 ],
 "metadata": {
  "language_info": {
   "name": "python"
  }
 },
 "nbformat": 4,
 "nbformat_minor": 2
}
