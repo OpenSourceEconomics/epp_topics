{
 "cells": [
  {
   "cell_type": "markdown",
   "metadata": {},
   "source": [
    "# Making commits\n",
    "\n",
    "## Learning Objectives\n",
    "\n",
    "After working through this topic, you should be able to:\n",
    "\n",
    "- use `git commit` to create snapshots of your repository\n",
    "- write descriptive commit messages for your commit\n",
    "- use git log to inspect your commit history\n",
    "\n",
    "\n",
    "## Materials\n",
    "\n",
    "For this topic we are building on the excellent YouTube playlist by [NetNinja](https://www.youtube.com/@NetNinja)\n",
    "\n",
    "\n",
    "<iframe width=\"560\" height=\"315\" src=\"https://www.youtube.com/embed/Fhgga2s_RmM?si=LS-by9A3E6zVfdbt\" title=\"YouTube video player\" frameborder=\"0\" allow=\"accelerometer; autoplay; clipboard-write; encrypted-media; gyroscope; picture-in-picture; web-share\" allowfullscreen></iframe>\n",
    "\n",
    "\n",
    "## Quiz"
   ]
  },
  {
   "cell_type": "markdown",
   "metadata": {},
   "source": [
    "- what does `git commit` do\n",
    "    - Add a commit to your history reflecting the changes of all staged files (T)\n",
    "    - Reset all unstaged files to the version of the previous commit (F)\n",
    "    - Create a snapshot to which you can come back later (T)\n",
    "    - Upload all staged files to GitHub (F)\n",
    "- `git commit ...`\n",
    "    - downloads any changes made to a central repository since the last synchronisation (F)\n",
    "    - creates a new node in the DAG representing the revision history (T)\n",
    "    - stages a file for inclusion in the next commit (F)\n",
    "    - uploads the local commits made since the last synchronisation with the central repository (F)\n",
    "    - downloads a repository from a central location and checks out the default branch for the local working copy (F)"
   ]
  }
 ],
 "metadata": {
  "language_info": {
   "name": "python"
  }
 },
 "nbformat": 4,
 "nbformat_minor": 2
}
