{
 "cells": [
  {
   "cell_type": "markdown",
   "metadata": {},
   "source": [
    "# Staging files\n",
    "\n",
    "## Notes\n",
    "\n",
    "- You can also use `git reset` to unstage all staged files\n",
    "\n",
    "## Learning Objectives\n",
    "\n",
    "After working through this topic, you should be able to:\n",
    "\n",
    "- use git status to find out which files are untracked, modified or unchanged\n",
    "- use git add to add files to the staging area\n",
    "- explain the benefits of having a staging area\n",
    "\n",
    "## Materials\n",
    "\n",
    "For this topic we are building on the excellent YouTube playlist by [NetNinja](https://www.youtube.com/@NetNinja)\n",
    "\n",
    "\n",
    "<iframe width=\"560\" height=\"315\" src=\"https://www.youtube.com/embed/KngvG8WzYLU?si=ebF1lolZuHj6AnLm\" title=\"YouTube video player\" frameborder=\"0\" allow=\"accelerometer; autoplay; clipboard-write; encrypted-media; gyroscope; picture-in-picture; web-share\" allowfullscreen></iframe>\n",
    "\n",
    "## Quiz"
   ]
  },
  {
   "cell_type": "markdown",
   "metadata": {},
   "source": [
    "- What does it mean that a file is staged\n",
    "    - It will be included in the next commit (T)\n",
    "    - The file is included in a snapshot to which you can always come back (F)\n",
    "    - You cannot make further changes to that file (F)\n",
    "    - The file is marked as unfinished and will not yet be committed (F)\n",
    "- How can you find out which files have been staged\n",
    "    - Use `git status` (T)\n",
    "    - Check the side-bar of any modern editor (T)\n",
    "    - Look into the `.git` folder (F)\n",
    "- `git add ...`\n",
    "      downloads any changes made to a central repository since the last synchronisation (F)\n",
    "      creates a new node in the DAG representing the revision history (F)\n",
    "      stages a file for inclusion in the next commit (T)\n",
    "      uploads the local commits made since the last synchronisation with the central repository (F)\n",
    "      downloads a repository from a central location and checks out the default branch for the local working copy (F)"
   ]
  }
 ],
 "metadata": {
  "language_info": {
   "name": "python"
  }
 },
 "nbformat": 4,
 "nbformat_minor": 2
}
