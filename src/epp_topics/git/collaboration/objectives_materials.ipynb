{
 "cells": [
  {
   "cell_type": "markdown",
   "metadata": {},
   "source": [
    "# Collaboration\n",
    "\n",
    "## Learning Objectives\n",
    "\n",
    "After working through this topic, you should be able to:\n",
    "\n",
    "- Use `git pull` to update your local repository\n",
    "- Use `git push` to upload your changes to the remote repository\n",
    "- Verify on the GitHub page that your changes have been uploaded\n",
    "- Open a Pull Request on Github\n",
    "\n",
    "## Materials\n",
    "\n",
    "For this topic we are building on the excellent YouTube playlist by [NetNinja](https://www.youtube.com/@NetNinja)\n",
    "\n",
    "\n",
    "<iframe width=\"560\" height=\"315\" src=\"https://www.youtube.com/embed/MnUd31TvBoU?si=gexlz2QSQl6Txe2Q\" title=\"YouTube video player\" frameborder=\"0\" allow=\"accelerometer; autoplay; clipboard-write; encrypted-media; gyroscope; picture-in-picture; web-share\" allowfullscreen></iframe>\n",
    "\n",
    "\n",
    "## Quiz"
   ]
  },
  {
   "cell_type": "markdown",
   "metadata": {},
   "source": [
    "- What can you do if you have already opened a pull request but still want to make changes\n",
    "    - Open a new pull request (F)\n",
    "    - Simply push more changes to the branch on which you worked (T)\n",
    "    - Close the old pull request and start over (F)\n",
    "- What is the purpose of code reviews\n",
    "    - Making fun of inexperienced contributors (F)\n",
    "    - Showing off your knowledge (F)\n",
    "    - Catch bugs and improve the code quality (T)\n",
    "    - Make sure everyone is informed about the latest version of the code (T)\n"
   ]
  },
  {
   "cell_type": "markdown",
   "metadata": {},
   "source": [
    "## Cards\n",
    "\n",
    "- What are the typical steps for creating a new feature branch\n",
    "    - `git checkout main`\n",
    "    - `git pull`\n",
    "    - `git checkout -b my_branch`"
   ]
  }
 ],
 "metadata": {
  "language_info": {
   "name": "python"
  }
 },
 "nbformat": 4,
 "nbformat_minor": 2
}
