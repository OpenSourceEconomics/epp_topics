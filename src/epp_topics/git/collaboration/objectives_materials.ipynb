{
 "cells": [
  {
   "cell_type": "markdown",
   "metadata": {},
   "source": [
    "# Collaboration\n",
    "\n",
    "## Learning Objectives\n",
    "\n",
    "After working through this topic, you should be able to:\n",
    "\n",
    "- Use `git pull` to update your local repository\n",
    "- Use `git push` to upload your changes to the remote repository\n",
    "- Verify on the GitHub page that your changes have been uploaded\n",
    "- Open a Pull Request on Github\n",
    "\n",
    "## Materials\n",
    "\n",
    "For this topic we are building on the excellent YouTube playlist by [NetNinja](https://www.youtube.com/@NetNinja)\n",
    "\n",
    "\n",
    "<iframe width=\"560\" height=\"315\" src=\"https://www.youtube.com/embed/MnUd31TvBoU?si=gexlz2QSQl6Txe2Q\" title=\"YouTube video player\" frameborder=\"0\" allow=\"accelerometer; autoplay; clipboard-write; encrypted-media; gyroscope; picture-in-picture; web-share\" allowfullscreen></iframe>\n",
    "\n",
    "\n",
    "## Quiz"
   ]
  },
  {
   "cell_type": "code",
   "execution_count": null,
   "metadata": {
    "tags": [
     "remove-input"
    ]
   },
   "outputs": [],
   "source": [
    "from jupytercards import display_flashcards\n",
    "from jupyterquiz import display_quiz\n",
    "\n",
    "content = [\n",
    "    {\n",
    "        \"question\": \"What can you do if you have already \\\n",
    "        opened a pull request but still want to make \\\n",
    "        changes?\",\n",
    "        \"type\": \"multiple_choice\",\n",
    "        \"answers\": [\n",
    "            {\n",
    "                \"answer\": \"Open a new pull request\",\n",
    "                \"correct\": False,\n",
    "                \"feedback\": \"Incorrect.\",\n",
    "            },\n",
    "            {\n",
    "                \"answer\": \"Simply push more changes to the \\\n",
    "                    branch on which you worked\",\n",
    "                \"correct\": True,\n",
    "                \"feedback\": \"Correct.\",\n",
    "            },\n",
    "            {\n",
    "                \"answer\": \"Close the old pull request and \\\n",
    "                start over\",\n",
    "                \"correct\": False,\n",
    "                \"feedback\": \"Incorrect.\",\n",
    "            },\n",
    "        ],\n",
    "    },\n",
    "    {\n",
    "        \"question\": \"What can you do if you have already \\\n",
    "        opened a pull request but still want to make \\\n",
    "        changes?\",\n",
    "        \"type\": \"multiple_choice\",\n",
    "        \"answers\": [\n",
    "            {\n",
    "                \"answer\": \"Open a new pull request\",\n",
    "                \"correct\": False,\n",
    "                \"feedback\": \"Incorrect.\",\n",
    "            },\n",
    "            {\n",
    "                \"answer\": \"Simply push more changes to the \\\n",
    "                    branch on which you worked\",\n",
    "                \"correct\": True,\n",
    "                \"feedback\": \"Correct.\",\n",
    "            },\n",
    "            {\n",
    "                \"answer\": \"Close the old pull request and \\\n",
    "                    start over\",\n",
    "                \"correct\": False,\n",
    "                \"feedback\": \"Incorrect.\",\n",
    "            },\n",
    "        ],\n",
    "    },\n",
    "]\n",
    "\n",
    "display_quiz(content)"
   ]
  },
  {
   "cell_type": "markdown",
   "metadata": {},
   "source": [
    "## Cards"
   ]
  },
  {
   "cell_type": "code",
   "execution_count": null,
   "metadata": {
    "tags": [
     "remove-input"
    ]
   },
   "outputs": [],
   "source": [
    "content = [\n",
    "    {\n",
    "        \"name\": \"Intro\",\n",
    "        \"front\": \"What are the typical steps for \\\n",
    "        creating a new feature branch?\",\n",
    "        \"back\": \"Let's go through them step by step \\\n",
    "        (click on next in the bottom right).\",\n",
    "    },\n",
    "    {\n",
    "        \"name\": \"git checkout main\",\n",
    "        \"front\": \"git checkout main\",\n",
    "        \"back\": \"This command switches to the main branch. \\\n",
    "        We need to switch to the main branch and update it \\\n",
    "        before creating a new branch, to make sure that \\\n",
    "        we start working from the latest version \\\n",
    "        of the code.\",\n",
    "    },\n",
    "    {\n",
    "        \"name\": \"git pull\",\n",
    "        \"front\": \"git pull\",\n",
    "        \"back\": \"This command pulls the latest changes \\\n",
    "        from the remote repository.\",\n",
    "    },\n",
    "    {\n",
    "        \"name\": \"git checkout -b feature_branch\",\n",
    "        \"front\": \"git checkout -b feature_branch\",\n",
    "        \"back\": \"This command creates a new branch called \\\n",
    "        feature_branch and switches to it.\",\n",
    "    },\n",
    "]\n",
    "\n",
    "display_flashcards(content)"
   ]
  },
  {
   "cell_type": "code",
   "execution_count": null,
   "metadata": {},
   "outputs": [],
   "source": []
  }
 ],
 "metadata": {
  "language_info": {
   "codemirror_mode": {
    "name": "ipython",
    "version": 3
   },
   "file_extension": ".py",
   "mimetype": "text/x-python",
   "name": "python",
   "nbconvert_exporter": "python",
   "pygments_lexer": "ipython3"
  }
 },
 "nbformat": 4,
 "nbformat_minor": 2
}
