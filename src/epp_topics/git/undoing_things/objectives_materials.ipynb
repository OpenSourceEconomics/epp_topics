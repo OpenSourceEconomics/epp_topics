{
 "cells": [
  {
   "cell_type": "markdown",
   "metadata": {},
   "source": [
    "# Undoing things\n",
    "\n",
    "## Notes\n",
    "\n",
    "While a primary goal of git is to have the ability to go back in time, it actually does\n",
    "not happen too often that you need to undo commits after you made them. Here is an\n",
    "orientation of how often certain things will happen:\n",
    "\n",
    "\n",
    "| Action                                                            | Frequency     |\n",
    "|-------------------------------------------------------------------|---------------|\n",
    "| Undo changes before you committed them (using git reset --hard)   | All the time  |\n",
    "| Browse earlier versions of files on github or via git checkout    | Very often    |\n",
    "| Use git revert to undo a specific commit                          | Once per year?|\n",
    "| Use git reset to undo the last few commits                        | Once per year?|\n",
    "\n",
    "There are two reasons for this:\n",
    "\n",
    "1. As you will see in the next video, we will often work with branches; If stuff does\n",
    "not work out we can simply abandon/delete a branch and there is no need to undo any\n",
    "commits on the main branch\n",
    "2. Modifying the commit history becomes harder when you collaborate with other via\n",
    "GitHub. Instead of removing commits you will rather add new commits that undo changes.\n",
    "\n",
    "## Learning Objectives\n",
    "\n",
    "After working through this topic, you should be able to:\n",
    "\n",
    "- use `git checkout` to go back to a previous commit without destroying anything\n",
    "- use `git revert` to undo a specific commit\n",
    "- use `git reset` to permanently go back in time\n",
    "\n",
    "## Materials\n",
    "\n",
    "For this topic we are building on the excellent YouTube playlist by [NetNinja](https://www.youtube.com/@NetNinja)\n",
    "\n",
    "\n",
    "<iframe width=\"560\" height=\"315\" src=\"https://www.youtube.com/embed/RIYrfkZjWmA?si=dQKvHJ27ykZiEqSz\" title=\"YouTube video player\" frameborder=\"0\" allow=\"accelerometer; autoplay; clipboard-write; encrypted-media; gyroscope; picture-in-picture; web-share\" allowfullscreen></iframe>\n",
    "\n",
    "\n",
    "## Quiz"
   ]
  },
  {
   "cell_type": "markdown",
   "metadata": {},
   "source": [
    "- What do you need to checkout a previous commit:\n",
    "    - The unique id (hash number) of the commit (T)\n",
    "    - The commit message (F)\n",
    "    - The timestamp of the commit (F)\n",
    "- Checking out a previous commit puts you in a detached head mode. How can you go back?\n",
    "    - Use `git checkout main` or `git checkout SOME_BRANCH` (T)\n",
    "    - Panick and type random git commands (F)\n",
    "- What does `git revert` do?\n",
    "    - Delete a commit from the commit history (F)\n",
    "    - Add a new commit to the commit history that undoes the changes of a previous commit (T)\n",
    "    - Undo all commits that come after the specified commit (F)\n",
    "- What does `git reset --hard` do?\n",
    "    - Delete all commits after the specified commit and reset the local files to the specified commit (T)\n",
    "    - Permanently delete things that were in your commit history (T)\n",
    "    - Let you safely browse an earlier version of your files (F)"
   ]
  }
 ],
 "metadata": {
  "language_info": {
   "name": "python"
  }
 },
 "nbformat": 4,
 "nbformat_minor": 2
}
