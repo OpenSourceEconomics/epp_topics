{
 "cells": [
  {
   "cell_type": "markdown",
   "metadata": {},
   "source": [
    "# Pre-commit hooks\n",
    "\n",
    "## Learning Objectives\n",
    "\n",
    "After working through this topic, you should be able to:\n",
    "\n",
    "- Explain what pre-commit hooks are and why they are useful\n",
    "- List a few examples of pre-commit hooks\n",
    "- Use the `-am` option with `git commit`\n",
    "- Enable pre-commit hooks in a git repository\n",
    "- Commit with enabled pre-commit hooks\n",
    "\n",
    "## Materials\n",
    "\n",
    "Here is\n",
    "[Screencast](https://electure.uni-bonn.de/static/mh_default_org/engage-player/0287bd06-3c72-4202-b0b7-406f19f27070/061a84aa-b0c3-4149-a596-45ed2ac7fab2/be0e0d55-5add-4aeb-a428-0f9543351d7e.mp4).\n",
    "These are the [slides](git-pre_commits.pdf).\n",
    "\n",
    "\n",
    "## Quiz\n",
    "\n"
   ]
  },
  {
   "cell_type": "code",
   "execution_count": null,
   "metadata": {
    "tags": [
     "remove-input"
    ]
   },
   "outputs": [],
   "source": [
    "from epp_topics.quiz_utilities import display_quiz\n",
    "\n",
    "content = {\n",
    "    \"What are examples of problems that can be solved with pre-commit hooks\": {\n",
    "        \"Fix inconsistent formatting\": True,\n",
    "        \"Alert you about deviations from best practices\": True,\n",
    "        \"Automatically improve all function names\": False,\n",
    "        \"Automatically fix all deviations from best practices\": False,\n",
    "    },\n",
    "    \"What does the 'black' pre-commit hook do\": {\n",
    "        \"Tell you where your code is not formatted correctly\": False,\n",
    "        \"Automaticllay format your code\": True,\n",
    "        \"Alert you about general deviations from best practices\": False,\n",
    "        \"Automatically stage all files before committing\": False,\n",
    "    },\n",
    "    \"What should you do if pre-commit hooks do not let you commit the first time\": {\n",
    "        \"Simply try again\": True,\n",
    "        \"Panic and type random git commands\": False,\n",
    "        \"Look for ways to disable pre-commit hooks\": False,\n",
    "        \"Try to fix your code\": False,\n",
    "    },\n",
    "    \"What should you do if pre-commit hooks do not let you commit the second time\": {\n",
    "        \"Simply try again\": False,\n",
    "        \"Panic and type random git commands\": False,\n",
    "        \"Carefully read the error messages and fix what it tells you to fix\": True,\n",
    "        \"Look for ways to disable pre-commit hooks\": False,\n",
    "    },\n",
    "}\n",
    "\n",
    "display_quiz(content)"
   ]
  }
 ],
 "metadata": {
  "language_info": {
   "codemirror_mode": {
    "name": "ipython",
    "version": 3
   },
   "file_extension": ".py",
   "mimetype": "text/x-python",
   "name": "python",
   "nbconvert_exporter": "python",
   "pygments_lexer": "ipython3"
  }
 },
 "nbformat": 4,
 "nbformat_minor": 2
}
