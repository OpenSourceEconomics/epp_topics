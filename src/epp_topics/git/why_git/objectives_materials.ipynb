{
 "cells": [
  {
   "cell_type": "markdown",
   "metadata": {},
   "source": [
    "# Why git?\n",
    "\n",
    "## Learning Objectives\n",
    "\n",
    "After working through this topic, you should be able to:\n",
    "\n",
    "- explain the benefits of git over manual version control via versioned folders\n",
    "- understand how the benefits of git for programmers carry over to research projects\n",
    "\n",
    "## Materials\n",
    "\n",
    "For this topic we are building on the excellent YouTube playlist by [NetNinja](https://www.youtube.com/@NetNinja)\n",
    "\n",
    "\n",
    "<iframe width=\"560\" height=\"315\" src=\"https://www.youtube.com/embed/3RjQznt-8kE?si=2D1aPwKARAabu39A\" title=\"YouTube video player\" frameborder=\"0\" allow=\"accelerometer; autoplay; clipboard-write; encrypted-media; gyroscope; picture-in-picture; web-share\" allowfullscreen></iframe>\n",
    "\n",
    "\n",
    "## Quiz"
   ]
  },
  {
   "cell_type": "code",
   "execution_count": null,
   "metadata": {
    "tags": [
     "remove-input"
    ]
   },
   "outputs": [],
   "source": [
    "from jupyterquiz import display_quiz\n",
    "\n",
    "content = [\n",
    "    {\n",
    "        \"question\": \"Git is a distributed version \\\n",
    "        control system. What does distributed mean?\",\n",
    "        \"type\": \"many_choice\",\n",
    "        \"answers\": [\n",
    "            {\n",
    "                \"answer\": \"Git uses multiple \\\n",
    "                processors to be faster\",\n",
    "                \"correct\": False,\n",
    "                \"feedback\": \"Incorrect.\",\n",
    "            },\n",
    "            {\n",
    "                \"answer\": \"Git repositories are \\\n",
    "                stored locally on each developer's computer\",\n",
    "                \"correct\": True,\n",
    "                \"feedback\": \"Correct.\",\n",
    "            },\n",
    "            {\n",
    "                \"answer\": \"Git automatically backs \\\n",
    "                up files in a cloud\",\n",
    "                \"correct\": True,\n",
    "                \"feedback\": \"Correct.\",\n",
    "            },\n",
    "        ],\n",
    "    },\n",
    "    {\n",
    "        \"question\": \"Git is a distributed version \\\n",
    "        control system. What does version control mean?\",\n",
    "        \"type\": \"many_choice\",\n",
    "        \"answers\": [\n",
    "            {\n",
    "                \"answer\": \"Git can be used to record \\\n",
    "                changes to our files over time\",\n",
    "                \"correct\": True,\n",
    "                \"feedback\": \"Correct.\",\n",
    "            },\n",
    "            {\n",
    "                \"answer\": \"Git lets you go back in time\",\n",
    "                \"correct\": True,\n",
    "                \"feedback\": \"Correct.\",\n",
    "            },\n",
    "            {\n",
    "                \"answer\": \"Git stores snapshots in \\\n",
    "                versioned folders\",\n",
    "                \"correct\": False,\n",
    "                \"feedback\": \"Incorrect.\",\n",
    "            },\n",
    "            {\n",
    "                \"answer\": \"With Git, your research \\\n",
    "                projects are automatically reproducible\",\n",
    "                \"correct\": False,\n",
    "                \"feedback\": \"Incorrect.\",\n",
    "            },\n",
    "        ],\n",
    "    },\n",
    "]\n",
    "\n",
    "\n",
    "display_quiz(content)"
   ]
  }
 ],
 "metadata": {
  "language_info": {
   "codemirror_mode": {
    "name": "ipython",
    "version": 3
   },
   "file_extension": ".py",
   "mimetype": "text/x-python",
   "name": "python",
   "nbconvert_exporter": "python",
   "pygments_lexer": "ipython3"
  }
 },
 "nbformat": 4,
 "nbformat_minor": 2
}
