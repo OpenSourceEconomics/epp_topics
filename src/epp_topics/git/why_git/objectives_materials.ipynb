{
 "cells": [
  {
   "cell_type": "markdown",
   "metadata": {},
   "source": [
    "# Why git?\n",
    "\n",
    "## Learning Objectives\n",
    "\n",
    "After working through this topic, you should be able to:\n",
    "\n",
    "- explain the benefits of git over manual version control via versioned folders\n",
    "- understand how the benefits of git for programmers carry over to research projects\n",
    "\n",
    "## Materials\n",
    "\n",
    "For this topic we are building on the excellent YouTube playlist by [NetNinja](https://www.youtube.com/@NetNinja)\n",
    "\n",
    "\n",
    "<iframe width=\"560\" height=\"315\" src=\"https://www.youtube.com/embed/3RjQznt-8kE?si=2D1aPwKARAabu39A\" title=\"YouTube video player\" frameborder=\"0\" allow=\"accelerometer; autoplay; clipboard-write; encrypted-media; gyroscope; picture-in-picture; web-share\" allowfullscreen></iframe>\n",
    "\n",
    "\n",
    "## Quiz"
   ]
  },
  {
   "cell_type": "markdown",
   "metadata": {},
   "source": [
    "- Git is a distributed version control system. What does distributed mean?\n",
    "    - git uses multiple processors to be faster (F)\n",
    "    - git repositories are stored locally on each developer's computer (T)\n",
    "    - git automatically backs up files in a cloud (T)\n",
    "- Git is a distributed version control system. What does version control mean?\n",
    "    - git can be used to record changes to our files over time (T)\n",
    "    - git lets you go back in time (T)\n",
    "    - git stores snapshots in versioned folders (F)\n",
    "    - with git your research projects are automatically reproducible (F)"
   ]
  },
  {
   "cell_type": "markdown",
   "metadata": {},
   "source": []
  }
 ],
 "metadata": {
  "language_info": {
   "name": "python"
  }
 },
 "nbformat": 4,
 "nbformat_minor": 2
}
