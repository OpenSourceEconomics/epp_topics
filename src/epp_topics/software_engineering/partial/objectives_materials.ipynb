{
 "cells": [
  {
   "cell_type": "markdown",
   "metadata": {},
   "source": [
    "# Partialling arguments to functions\n",
    "\n",
    "## Learning Objectives\n",
    "\n",
    "After working through this topic, you should be able to:\n",
    "- \n",
    "\n",
    "## Materials\n",
    "\n",
    "Here is\n",
    "[screencast](https://player.uni-bonn.educast.nrw/xxx).\n",
    "These are the [slides](software_engineering-partial.pdf).\n",
    "\n",
    "\n",
    "\n",
    "## Quiz"
   ]
  },
  {
   "cell_type": "code",
   "execution_count": null,
   "metadata": {
    "tags": [
     "remove-input"
    ]
   },
   "outputs": [],
   "source": [
    "from epp_topics.quiz_utilities import display_quiz\n",
    "\n",
    "content = {\n",
    "    \"What is a higher order function?\": {\n",
    "        \"A function that takes a function as an argument and returns a function\": True,\n",
    "        \"A function that uses polynomials larger than 2\": False,\n",
    "        \"A function that calls another function\": False,\n",
    "    },\n",
    "    \"What does partial do\": {\n",
    "        \"Take a function and return a function with fewer arguments\": True,\n",
    "        \"Take the partial defrivitive of a function\": False,\n",
    "        \"Inject data into a function\": True,\n",
    "        \"Take a function and return a function with more arguments\": False,\n",
    "    },\n",
    "}\n",
    "\n",
    "display_quiz(content)"
   ]
  }
 ],
 "metadata": {
  "language_info": {
   "codemirror_mode": {
    "name": "ipython",
    "version": 3
   },
   "file_extension": ".py",
   "mimetype": "text/x-python",
   "name": "python",
   "nbconvert_exporter": "python",
   "pygments_lexer": "ipython3"
  }
 },
 "nbformat": 4,
 "nbformat_minor": 2
}
