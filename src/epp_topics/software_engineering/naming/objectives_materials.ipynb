{
 "cells": [
  {
   "cell_type": "markdown",
   "metadata": {},
   "source": [
    "# Naming things\n",
    "\n",
    "## Learning Objectives\n",
    "\n",
    "After working through this topic, you should be able to:\n",
    "\n",
    "- Appreciate the importance of finding good names for variables and functions\n",
    "- Discuss the scope rules for variable and function names\n",
    "- Avoid abbreviated or mistyped function names and other common bad practices\n",
    "\n",
    "## Materials\n",
    "\n",
    "Here is\n",
    "[screencast](https://electure.uni-bonn.de/paella7/ui/watch.html?id=5ca1405f-a484-41ea-ac8f-6e96235ac3f1).\n",
    "These are the [slides](software_engineering-naming.pdf).\n",
    "\n",
    "## Additional Materials\n",
    "\n",
    "- [Blogpost on naming functions](https://dmitripavlutin.com/coding-like-shakespeare-practical-function-naming-conventions/) (not in Python)\n",
    "\n",
    "## Quiz"
   ]
  },
  {
   "cell_type": "code",
   "execution_count": null,
   "metadata": {
    "tags": [
     "remove-input"
    ]
   },
   "outputs": [],
   "source": [
    "content = {\n",
    "    \"People use the word `lambbda` to avoid the lambda keyword. Why is this bad?\": {\n",
    "        \"You need to remember how exactly you need to misspell lambda\": True,\n",
    "        \"It is hard to distinguish from lambda\": True,\n",
    "        \"It is not great but ok. You have to distinguish it somehow\": False,\n",
    "        \"You should use the unicode λ instead\": False,\n",
    "    },\n",
    "    \"A function that is used very often across your project should have ...\": {\n",
    "        \"A short name, it is well known anyways\": True,\n",
    "        \"A long name, so everyone understand what it does\": False,\n",
    "        \"A name that starts with a verb in imperative model\": True,\n",
    "        \"A CamelCase name\": False,\n",
    "    },\n",
    "    \"When is it ok to use very short variable like i and j\": {\n",
    "        \"If you are in hurry, you can always fix it later\": False,\n",
    "        \"If the variable is used in short scope and i and j are array indices\": True,\n",
    "        \"If otherwise your line becomes too long\": False,\n",
    "        \"If you put a long comment before each use of the variable\": False,\n",
    "    },\n",
    "    \"What is a good name for a list of countries you want to keep in a dataset\": {\n",
    "        \"cntry_list\": False,\n",
    "        \"c_list\": False,\n",
    "        \"relevant_countries\": True,\n",
    "        \"to_keep\": False,\n",
    "    },\n",
    "    \"A variable that is used throughout a function with about 50 lines of code\": {\n",
    "        (\n",
    "            \"Should have a descriptive name because definition and usage are far apart\"\n",
    "        ): True,\n",
    "        \"Should have a short name to save typing\": False,\n",
    "        \"Should indicate the type of the variable\": False,\n",
    "    },\n",
    "}\n",
    "\n",
    "from epp_topics.quiz_utilities import display_quiz\n",
    "\n",
    "display_quiz(content)"
   ]
  },
  {
   "cell_type": "code",
   "execution_count": null,
   "metadata": {},
   "outputs": [],
   "source": []
  }
 ],
 "metadata": {
  "language_info": {
   "codemirror_mode": {
    "name": "ipython",
    "version": 3
   },
   "file_extension": ".py",
   "mimetype": "text/x-python",
   "name": "python",
   "nbconvert_exporter": "python",
   "pygments_lexer": "ipython3"
  }
 },
 "nbformat": 4,
 "nbformat_minor": 2
}
