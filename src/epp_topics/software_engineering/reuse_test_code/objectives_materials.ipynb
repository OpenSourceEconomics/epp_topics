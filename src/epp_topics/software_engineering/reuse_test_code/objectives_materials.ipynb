{
 "cells": [
  {
   "cell_type": "markdown",
   "metadata": {},
   "source": [
    "# Reusing test code\n",
    "\n",
    "## Learning Objectives\n",
    "\n",
    "After working through this topic, you should be able to:\n",
    "\n",
    "- employ pytest's `parametrize` feature to use the same test function with different\n",
    "  input parameters\n",
    "- write granular tests with little extra effort and without code duplication\n",
    "- remember where to look if you need to parametrize expected results, too\n",
    "- explain what fixtures are and how read up on\n",
    "\n",
    "## Materials\n",
    "\n",
    "Here is the\n",
    "[Screencast](https://player.uni-bonn.educast.nrw/3ced782f-da6a-49fc-b2b7-7dcb81c131df)\n",
    "and these are the [slides](software_engineering-reuse_test_code.pdf).\n",
    "\n",
    "## Additional Materials\n",
    "\n",
    "- [pytest documentation of\n",
    "  parametrizations](https://docs.pytest.org/en/stable/how-to/parametrize.html#how-to-parametrize-fixtures-and-test-functions)\n",
    "- [pytest documentation of\n",
    "  fixtures](https://docs.pytest.org/en/stable/fixture.html#what-fixtures-are)\n",
    "## Quiz"
   ]
  },
  {
   "cell_type": "code",
   "execution_count": null,
   "metadata": {
    "tags": [
     "remove-input"
    ]
   },
   "outputs": [],
   "source": [
    "from epp_topics.quiz_utilities import display_quiz\n",
    "\n",
    "content = {\n",
    "    \"Which functions are recognized as tests by pytest?\": {\n",
    "        \"Functions whose name starts with `test_`\": True,\n",
    "        \"Functions whose name does not start with an underscore\": False,\n",
    "        \"Functions that are registered in the pytest.ini file\": False,\n",
    "        \"Functions that have the argument `test`\": False,\n",
    "    },\n",
    "    \"What would you do if zero tests are collected in your project?\": {\n",
    "        \"Check for typos in file names and make sure they start with `test_`\": True,\n",
    "        \"Check for typos in function names and make sure they start with `test_`\": True,\n",
    "        \"File a bug report, it must clearly be a bug in pytest\": False,\n",
    "        \"Run pytest again. It will probably work the second time\": False,\n",
    "    },\n",
    "}\n",
    "\n",
    "display_quiz(content)"
   ]
  }
 ],
 "metadata": {
  "language_info": {
   "codemirror_mode": {
    "name": "ipython",
    "version": 3
   },
   "file_extension": ".py",
   "mimetype": "text/x-python",
   "name": "python",
   "nbconvert_exporter": "python",
   "pygments_lexer": "ipython3"
  }
 },
 "nbformat": 4,
 "nbformat_minor": 2
}
