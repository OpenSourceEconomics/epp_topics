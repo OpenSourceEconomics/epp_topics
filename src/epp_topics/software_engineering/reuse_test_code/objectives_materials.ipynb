{
 "cells": [
  {
   "cell_type": "markdown",
   "metadata": {},
   "source": [
    "# Reusing test code\n",
    "\n",
    "## Learning Objectives\n",
    "\n",
    "After working through this topic, you should be able to:\n",
    "\n",
    "- employ pytest's `parametrize` feature to use the same test function with different\n",
    "  input parameters\n",
    "- write granular tests with little extra effort and without code duplication\n",
    "- remember where to look if you need to parametrize expected results, too\n",
    "- explain what fixtures are and how read up on\n",
    "\n",
    "## Materials\n",
    "\n",
    "Here is the\n",
    "[Screencast](https://electure.uni-bonn.de/paella7/ui/watch.html?id=3ced782f-da6a-49fc-b2b7-7dcb81c131df)\n",
    "and these are the [slides](software_engineering-reuse_test_code.pdf).\n",
    "\n",
    "## Additional Materials\n",
    "\n",
    "- [pytest documentation of\n",
    "  parametrizations](https://docs.pytest.org/en/stable/how-to/parametrize.html#how-to-parametrize-fixtures-and-test-functions)\n",
    "- [pytest documentation of\n",
    "  fixtures](https://docs.pytest.org/en/stable/fixture.html#what-fixtures-are)\n",
    "## Quiz"
   ]
  },
  {
   "cell_type": "code",
   "execution_count": null,
   "metadata": {
    "tags": [
     "remove-input"
    ]
   },
   "outputs": [],
   "source": [
    "from epp_topics.quiz_utilities import display_quiz\n",
    "\n",
    "content = {\n",
    "    \"What is the purpose of pytest parametrize?\": {\n",
    "        \"It is used to repeat the same test with different \\\n",
    "        implementations (inputs)\": True,\n",
    "        \"It is used to check if a function is working properly\": False,\n",
    "        \"It is used to produce different test outputs\": False,\n",
    "        \"It searches for the best parameters for testing\": False,\n",
    "    },\n",
    "    \"What is the advantage of using pytest parametrize?\": {\n",
    "        \"It allows to test different inputs with the same test\": True,\n",
    "        \"It allows to test different expected outputs with the same test\": True,\n",
    "        \"It makes for a more readable code\": True,\n",
    "        \"It automatically generates test cases\": False,\n",
    "    },\n",
    "}\n",
    "\n",
    "display_quiz(content)"
   ]
  }
 ],
 "metadata": {
  "language_info": {
   "codemirror_mode": {
    "name": "ipython",
    "version": 3
   },
   "file_extension": ".py",
   "mimetype": "text/x-python",
   "name": "python",
   "nbconvert_exporter": "python",
   "pygments_lexer": "ipython3"
  }
 },
 "nbformat": 4,
 "nbformat_minor": 2
}
