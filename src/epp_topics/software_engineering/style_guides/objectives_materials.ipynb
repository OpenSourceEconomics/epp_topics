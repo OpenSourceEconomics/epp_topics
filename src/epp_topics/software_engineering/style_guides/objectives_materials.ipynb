{
 "cells": [
  {
   "cell_type": "markdown",
   "metadata": {},
   "source": [
    "# Style guides\n",
    "\n",
    "## Learning Objectives\n",
    "\n",
    "After working through this topic, you should be able to:\n",
    "\n",
    "- Apply the basic naming conventions for python functions and variable names\n",
    "- Explain why well formatted code is not automatically good code\n",
    "- Discuss why consistent formatting is still important\n",
    "- Explain why formatting should be automated\n",
    "\n",
    "## Materials\n",
    "\n",
    "Here is\n",
    "[screencast](https://electure.uni-bonn.de/paella7/ui/watch.html?id=5a67decd-b198-4dad-907b-0ba68d8d58c4).\n",
    "These are the [slides](software_engineering-style_guides.pdf).\n",
    "\n",
    "## Additional Materials\n",
    "\n",
    "- [PEP 8](https://peps.python.org/pep-0008/)\n",
    "- [Black formatting rules](https://black.readthedocs.io/en/stable/the_black_code_style/current_style.html)\n",
    "- [Beyond PEP 8](https://www.youtube.com/watch?v=wf-BqAjZb8M)\n",
    "\n",
    "\n",
    "## Quiz"
   ]
  },
  {
   "cell_type": "code",
   "execution_count": null,
   "metadata": {
    "tags": [
     "remove-input"
    ]
   },
   "outputs": [],
   "source": [
    "content = {\n",
    "    \"Why is indentation mandatory in Python?\": {\n",
    "        \"Nobody knows but it was a horrible mistake\": False,\n",
    "        \"Research has shown that indentation improves readability\": True,\n",
    "        \"Most languages recommend indentation anyways so why not enforce it\": True,\n",
    "        \"It's not mandatory, you can use curly braces instead\": False,\n",
    "    },\n",
    "    \"What are benefits of formatting guidelines?\": {\n",
    "        \"It becomes easier to read code written by others\": True,\n",
    "        \"Properly formatted code is automatically good code\": False,\n",
    "        \"It becomes easier to read your own code after a while\": True,\n",
    "        \"Formatting with proper indentation helps to catch bugs\": True,\n",
    "    },\n",
    "    \"Why should formatting be automated?\": {\n",
    "        \"Formatting is not important, so we should not waste time on it\": False,\n",
    "        \"Automated formatting saves time and effort\": True,\n",
    "        \"Automated formatting is more consistent\": True,\n",
    "        \"With automatic formatters even bad programmers can write good code\": False,\n",
    "    },\n",
    "}\n",
    "\n",
    "from epp_topics.quiz_utilities import display_quiz\n",
    "\n",
    "display_quiz(content)"
   ]
  }
 ],
 "metadata": {
  "language_info": {
   "codemirror_mode": {
    "name": "ipython",
    "version": 3
   },
   "file_extension": ".py",
   "mimetype": "text/x-python",
   "name": "python",
   "nbconvert_exporter": "python",
   "pygments_lexer": "ipython3"
  }
 },
 "nbformat": 4,
 "nbformat_minor": 2
}
