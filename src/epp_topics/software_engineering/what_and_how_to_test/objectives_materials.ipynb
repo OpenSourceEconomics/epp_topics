{
 "cells": [
  {
   "cell_type": "markdown",
   "metadata": {},
   "source": [
    "# What to test? How to test it?\n",
    "\n",
    "## Learning Objectives\n",
    "\n",
    "After working through this topic, you should be able to:\n",
    "\n",
    "- explain which behaviors of functions you typically want to test\n",
    "- explain why it is important to check that tests pass for the reasons that match your mental model of the code\n",
    "- explain why it is important to write granular tests\n",
    "\n",
    "## Materials\n",
    "\n",
    "Here is the\n",
    "[Screencast](https://electure.uni-bonn.de/static/mh_default_org/engage-player/4cdf4044-d2e8-4953-9ef7-83ed3e702ffc/63620256-f6ae-41ef-b8f2-3965d2bf7f3c/23d3951f-7379-40c7-95c1-22eeaec68c79.mp4)\n",
    "and these are the [slides](software_engineering-what_and_how_to_test.pdf).\n",
    "\n",
    "\n",
    "## Quiz"
   ]
  },
  {
   "cell_type": "code",
   "execution_count": null,
   "metadata": {
    "tags": [
     "remove-input"
    ]
   },
   "outputs": [],
   "source": [
    "from epp_topics.quiz_utilities import display_quiz\n",
    "\n",
    "content = {\n",
    "    \"Which of the following behaviors of a function you should test?\": {\n",
    "        \"Interfaces\": True,\n",
    "        \"Implementation details\": False,\n",
    "        \"Special cases (for example corner solutions)\": True,\n",
    "        \"Critical exceptions (the ones that are likely to happen)\": True,\n",
    "    },\n",
    "    \"You want to test that all elements in list `a` are greater than 0. \\\n",
    "    Which of the following assertions would you use?\": {\n",
    "        \"assert all(a > 0)\": False,\n",
    "        \"assert all([x > 0 for x in a])\": True,\n",
    "        \"assert any([x > 0 for x in a])\": False,\n",
    "        \"assert any(a > 0)\": False,\n",
    "    },\n",
    "    \"What does it mean for a test to be granular?\": {\n",
    "        \"It tests a single specific behavior\": True,\n",
    "        \"It uses assertions for multiple behaviors of the function\": False,\n",
    "        'It handles multiple assertions with \"or\"-like logic': False,\n",
    "        'It handles multiple assertions with \"and\"-like logic': True,\n",
    "    },\n",
    "    \"What should you do if you encounter a bug in your code?\": {\n",
    "        \"Fix the bug and write a test that reproduces the bug with\\\n",
    "            a minimal implementation\": True,\n",
    "        \"Fix the bug and write a test that reproduces the bug in the \\\n",
    "            original implementation\": False,\n",
    "        \"Fix the bug and don't write a test\": False,\n",
    "        \"Get very frustrated and give up\": False,\n",
    "    },\n",
    "    \"What is a countercheck in the context of testing?\": {\n",
    "        \"A test that checks that the function returns the same value \\\n",
    "            as a different function\": False,\n",
    "        \"A test that checks the function's behavior for a specific \\\n",
    "            input and output\": False,\n",
    "        \"It means that when creating a test, you have to \\\n",
    "            make sure that it passes with the implementation that you \\\n",
    "            have in mind, but also that it fails with a wrong \\\n",
    "            implementation (because sometimes tests may pass for  \\\n",
    "            different reasons that what you had in mind)\": True,\n",
    "    },\n",
    "}\n",
    "\n",
    "display_quiz(content)"
   ]
  }
 ],
 "metadata": {
  "language_info": {
   "codemirror_mode": {
    "name": "ipython",
    "version": 3
   },
   "file_extension": ".py",
   "mimetype": "text/x-python",
   "name": "python",
   "nbconvert_exporter": "python",
   "pygments_lexer": "ipython3"
  }
 },
 "nbformat": 4,
 "nbformat_minor": 2
}
