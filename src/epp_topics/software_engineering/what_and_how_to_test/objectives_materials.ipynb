{
 "cells": [
  {
   "cell_type": "markdown",
   "metadata": {},
   "source": [
    "# What to test? How to test it?\n",
    "\n",
    "## Learning Objectives\n",
    "\n",
    "After working through this topic, you should be able to:\n",
    "\n",
    "- explain which behaviors of functions you typically want to test\n",
    "- explain why it is important to check that tests pass for the reasons that match your mental model of the code\n",
    "- explain why it is important to write granular tests\n",
    "\n",
    "## Materials\n",
    "\n",
    "Here is the\n",
    "[Screencast](https://player.uni-bonn.educast.nrw/4cdf4044-d2e8-4953-9ef7-83ed3e702ffc)\n",
    "and these are the [slides](software_engineering-what_and_how_to_test.pdf).\n",
    "\n",
    "\n",
    "## Quiz"
   ]
  },
  {
   "cell_type": "code",
   "execution_count": null,
   "metadata": {
    "tags": [
     "remove-input"
    ]
   },
   "outputs": [],
   "source": [
    "from epp_topics.quiz_utilities import display_quiz\n",
    "\n",
    "content = {}\n",
    "\n",
    "display_quiz(content)"
   ]
  }
 ],
 "metadata": {
  "language_info": {
   "codemirror_mode": {
    "name": "ipython",
    "version": 3
   },
   "file_extension": ".py",
   "mimetype": "text/x-python",
   "name": "python",
   "nbconvert_exporter": "python",
   "pygments_lexer": "ipython3"
  }
 },
 "nbformat": 4,
 "nbformat_minor": 2
}
