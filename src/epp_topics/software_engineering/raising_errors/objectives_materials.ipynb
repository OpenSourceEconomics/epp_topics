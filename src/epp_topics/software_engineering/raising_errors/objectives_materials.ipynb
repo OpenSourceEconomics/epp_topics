{
 "cells": [
  {
   "cell_type": "markdown",
   "metadata": {},
   "source": [
    "# How to raise errors?\n",
    "\n",
    "## Learning Objectives\n",
    "\n",
    "After working through this topic, you should be able to:\n",
    "\n",
    "- Use the `raise` keyword to raise errors\n",
    "- Decide when to use built-in vs. custom exceptions \n",
    "- Define custom exceptions\n",
    "- Explain the concept of `fail-functions`\n",
    "\n",
    "## Materials\n",
    "\n",
    "Here is the\n",
    "[screencast](https://electure.uni-bonn.de/static/mh_default_org/engage-player/57b9f591-e18c-47aa-a2cf-5f66bf22846c/c88743a7-a938-4ae5-b199-e53aae011265/2849fc54-f227-48c9-8d02-e0a1e9b91e33.mp4).\n",
    "These are the [slides](software_engineering-raising_errors.pdf).\n",
    "\n",
    "\n",
    "## Quiz"
   ]
  },
  {
   "cell_type": "code",
   "execution_count": null,
   "metadata": {
    "tags": [
     "remove-input"
    ]
   },
   "outputs": [],
   "source": [
    "content = {\n",
    "    \"How can you raise exceptions in Python?\": {\n",
    "        \"With the `raise` keyword\": True,\n",
    "        \"With the `throw` keyword\": False,\n",
    "        \"With the `except` keyword\": False,\n",
    "        \"With the `yield` keyword\": False,\n",
    "    },\n",
    "    \"What is the benefit of fail-functions?\": {\n",
    "        \"They tell you what is checked without cluttering the code\": True,\n",
    "        \"They let you re-use code for error handling\": True,\n",
    "        \"They are faster than raising exceptions\": False,\n",
    "        \"They force you to think about a good name for each check\": True,\n",
    "    },\n",
    "    \"What are benefits of custom exceptions\": {\n",
    "        \"They can be more explicit than the built-in exceptions\": True,\n",
    "        \"They are faster than built-in exceptions\": False,\n",
    "        \"They replace the need for good error messages\": False,\n",
    "        \"They show you are a good programme\": False,\n",
    "    },\n",
    "}\n",
    "\n",
    "from epp_topics.quiz_utilities import display_quiz\n",
    "\n",
    "display_quiz(content)"
   ]
  }
 ],
 "metadata": {
  "language_info": {
   "codemirror_mode": {
    "name": "ipython",
    "version": 3
   },
   "file_extension": ".py",
   "mimetype": "text/x-python",
   "name": "python",
   "nbconvert_exporter": "python",
   "pygments_lexer": "ipython3"
  }
 },
 "nbformat": 4,
 "nbformat_minor": 2
}
