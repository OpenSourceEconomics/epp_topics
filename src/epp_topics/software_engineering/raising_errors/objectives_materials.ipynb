{
 "cells": [
  {
   "cell_type": "markdown",
   "metadata": {},
   "source": [
    "# How to raise errors?\n",
    "\n",
    "## Learning Objectives\n",
    "\n",
    "After working through this topic, you should be able to:\n",
    "\n",
    "- Use the `raise` keyword to raise errors\n",
    "- Decide when to use built-in vs. custom exceptions \n",
    "- Define custom exceptions\n",
    "- Explain the concept of `fail-functions`\n",
    "\n",
    "## Materials\n",
    "\n",
    "Video:\n",
    "\n",
    "<iframe\n",
    "  src=\"https://electure.uni-bonn.de/paella7/ui/watch.html?id=57b9f591-e18c-47aa-a2cf-5f66bf22846c\"\n",
    "  width=\"640\"\n",
    "  height=\"360\"\n",
    "  frameborder=\"0\"\n",
    "  allowfullscreen\n",
    "></iframe>\n",
    "\n",
    "Download the [slides](software_engineering-raising_errors.pdf).\n",
    "\n",
    "\n",
    "\n",
    "\n",
    "## Quiz"
   ]
  },
  {
   "cell_type": "code",
   "execution_count": null,
   "metadata": {
    "tags": [
     "remove-input"
    ]
   },
   "outputs": [],
   "source": [
    "content = {\n",
    "    \"How can you raise exceptions in Python?\": {\n",
    "        \"With the `raise` keyword\": True,\n",
    "        \"With the `throw` keyword\": False,\n",
    "        \"With the `except` keyword\": False,\n",
    "        \"With the `yield` keyword\": False,\n",
    "    },\n",
    "    \"What is the benefit of fail-functions?\": {\n",
    "        \"They tell you what is checked without cluttering the code\": True,\n",
    "        \"They let you re-use code for error handling\": True,\n",
    "        \"They are faster than raising exceptions\": False,\n",
    "        \"They force you to think about a good name for each check\": True,\n",
    "    },\n",
    "    \"What are benefits of custom exceptions\": {\n",
    "        \"They can be more explicit than the built-in exceptions\": True,\n",
    "        \"They are faster than built-in exceptions\": False,\n",
    "        \"They replace the need for good error messages\": False,\n",
    "        \"They show you are a good programme\": False,\n",
    "    },\n",
    "}\n",
    "\n",
    "from epp_topics.quiz_utilities import display_quiz\n",
    "\n",
    "display_quiz(content)"
   ]
  }
 ],
 "metadata": {
  "language_info": {
   "codemirror_mode": {
    "name": "ipython",
    "version": 3
   },
   "file_extension": ".py",
   "mimetype": "text/x-python",
   "name": "python",
   "nbconvert_exporter": "python",
   "pygments_lexer": "ipython3"
  }
 },
 "nbformat": 4,
 "nbformat_minor": 2
}
