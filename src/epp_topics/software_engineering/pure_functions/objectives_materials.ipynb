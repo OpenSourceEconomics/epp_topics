{
 "cells": [
  {
   "cell_type": "markdown",
   "metadata": {},
   "source": [
    "# Pure functions\n",
    "\n",
    "## Learning Objectives\n",
    "\n",
    "After working through this topic, you should be able to:\n",
    "- Recognize pure functions\n",
    "- Explain the advantages of using pure functions\n",
    "\n",
    "## Materials\n",
    "\n",
    "Here is\n",
    "[screencast](https://player.uni-bonn.educast.nrw/dda8bd0e-2b52-419a-b7b8-ab456b09794a).\n",
    "These are the [slides](software_engineering-pure_functions.pdf).\n",
    "\n",
    "\n",
    "\n",
    "## Quiz"
   ]
  },
  {
   "cell_type": "code",
   "execution_count": null,
   "metadata": {
    "tags": [
     "remove-input"
    ]
   },
   "outputs": [],
   "source": [
    "content = [\n",
    "    {\n",
    "        \"question\": \"The characteristics of pure functions are:\",\n",
    "        \"type\": \"many_choice\",\n",
    "        \"answers\": [\n",
    "            {\n",
    "                \"answer\": \"They only take one argument\",\n",
    "                \"correct\": False,\n",
    "                \"feedback\": \"Pure functions can take multiple arguments.\",\n",
    "            },\n",
    "            {\n",
    "                \"answer\": \"The function does not depend on variables \\\n",
    "                    defined outside the function\",\n",
    "                \"correct\": True,\n",
    "                \"feedback\": \"Correct.\",\n",
    "            },\n",
    "            {\n",
    "                \"answer\": \"The function does not produce side effects\",\n",
    "                \"correct\": True,\n",
    "                \"feedback\": \"Correct.\",\n",
    "            },\n",
    "            {\n",
    "                \"answer\": \"\"\"The function has a clear docstring\"\"\",\n",
    "                \"correct\": False,\n",
    "                \"feedback\": \"Docstrings are essnetial for the readability \\\n",
    "                    of the code, but not a characteristics of pure functions.\",\n",
    "            },\n",
    "        ],\n",
    "    },\n",
    "    {\n",
    "        \"question\": \"The advantages of writing pure functions are:\",\n",
    "        \"type\": \"many_choice\",\n",
    "        \"answers\": [\n",
    "            {\n",
    "                \"answer\": \"They are testable\",\n",
    "                \"correct\": True,\n",
    "                \"feedback\": \"Correct. While testing, one can control \\\n",
    "                    everything that is relevant\",\n",
    "            },\n",
    "            {\n",
    "                \"answer\": \"They provide explicit interfaces\",\n",
    "                \"correct\": True,\n",
    "                \"feedback\": \"Correct. What is used in the function is passed \\\n",
    "                    in as argument\",\n",
    "            },\n",
    "            {\n",
    "                \"answer\": \"They are only relevant in functional programming\",\n",
    "                \"correct\": False,\n",
    "                \"feedback\": \"Incorrect.\",\n",
    "            },\n",
    "            {\n",
    "                \"answer\": \"They are parallelizable\",\n",
    "                \"correct\": True,\n",
    "                \"feedback\": \"Correct.\",\n",
    "            },\n",
    "        ],\n",
    "    },\n",
    "]\n",
    "\n",
    "from jupyterquiz import display_quiz\n",
    "\n",
    "display_quiz(content, colors=\"fdsp\")"
   ]
  }
 ],
 "metadata": {
  "language_info": {
   "codemirror_mode": {
    "name": "ipython",
    "version": 3
   },
   "file_extension": ".py",
   "mimetype": "text/x-python",
   "name": "python",
   "nbconvert_exporter": "python",
   "pygments_lexer": "ipython3"
  }
 },
 "nbformat": 4,
 "nbformat_minor": 2
}
