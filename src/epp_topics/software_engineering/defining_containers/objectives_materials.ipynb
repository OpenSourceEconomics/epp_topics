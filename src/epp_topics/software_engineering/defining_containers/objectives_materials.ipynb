{
 "cells": [
  {
   "cell_type": "markdown",
   "metadata": {},
   "source": [
    "# Defining custom containers\n",
    "\n",
    "## Learning Objectives\n",
    "\n",
    "After working through this topic, you should be able to:\n",
    "\n",
    "- Define NamedTuples\n",
    "- Define dataclasses\n",
    "- Explain why sometimes custom classes can be better than dictionaries for storing \n",
    "your some data. \n",
    "\n",
    "## Materials\n",
    "\n",
    "<iframe\n",
    "  src=\"https://electure.uni-bonn.de/paella7/ui/watch.html?id=9fc3c958-50e5-4765-b960-5cf17fe7c39a\"\n",
    "  width=\"640\"\n",
    "  height=\"360\"\n",
    "  frameborder=\"0\"\n",
    "  allowfullscreen\n",
    "></iframe>\n",
    "\n",
    "Download the [slides](software_engineering-defining_containers.pdf).\n",
    "\n",
    "[Video on the topic](https://www.youtube.com/watch?v=T-TwcmT6Rcw&t=906s) by Raymond\n",
    "Hettinger.\n",
    "\n",
    "## Quiz"
   ]
  },
  {
   "cell_type": "code",
   "execution_count": null,
   "metadata": {
    "tags": [
     "remove-input"
    ]
   },
   "outputs": [],
   "source": [
    "from epp_topics.quiz_utilities import display_quiz\n",
    "\n",
    "content = {\n",
    "    \"What are potential drawbacks of python dictionaries\": {\n",
    "        \"They are slow\": False,\n",
    "        \"Typos in keys can only be detected at runtime\": True,\n",
    "        \"It is hard to document/know which keys are there\": True,\n",
    "        \"They are not ordered\": False,\n",
    "    },\n",
    "    \"What are potential advantages of NamedTuples\": {\n",
    "        \"They are immutable\": True,\n",
    "        \"They are faster\": False,\n",
    "        \"It is easy to document what fields are there\": True,\n",
    "        \"They are easier to write\": False,\n",
    "    },\n",
    "    \"What are potential advantages of dataclasses\": {\n",
    "        \"They are immutable\": False,\n",
    "        \"They are faster\": False,\n",
    "        \"It is easy to document what fields are there\": True,\n",
    "        \"They have many powerful options\": True,\n",
    "    },\n",
    "    \"How do you usually access the attributes of NamedTuples and dataclasses\": {\n",
    "        \"With square brackets\": False,\n",
    "        \"With dot notation\": True,\n",
    "        \"With the getattr function\": False,\n",
    "        \"With the setattr function\": False,\n",
    "    },\n",
    "}\n",
    "\n",
    "display_quiz(content)"
   ]
  }
 ],
 "metadata": {
  "language_info": {
   "codemirror_mode": {
    "name": "ipython",
    "version": 3
   },
   "file_extension": ".py",
   "mimetype": "text/x-python",
   "name": "python",
   "nbconvert_exporter": "python",
   "pygments_lexer": "ipython3"
  }
 },
 "nbformat": 4,
 "nbformat_minor": 2
}
