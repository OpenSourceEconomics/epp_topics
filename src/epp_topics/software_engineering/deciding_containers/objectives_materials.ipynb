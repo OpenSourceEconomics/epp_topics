{
 "cells": [
  {
   "cell_type": "markdown",
   "metadata": {},
   "source": [
    "# When to use custom containers?\n",
    "\n",
    "## Learning Objectives\n",
    "\n",
    "After working through this topic, you should be able to:\n",
    "- Decide when to use dicts, datclasses and NamedTuples\n",
    "\n",
    "## Materials\n",
    "\n",
    "<iframe\n",
    "  src=\"https://electure.uni-bonn.de/paella7/ui/watch.html?id=76cf713a-84ac-41ba-8b46-20f2e280af19\"\n",
    "  width=\"640\"\n",
    "  height=\"360\"\n",
    "  frameborder=\"0\"\n",
    "  allowfullscreen\n",
    "></iframe>\n",
    "\n",
    "These are the [slides](software_engineering-deciding_containers.pdf).\n",
    "\n",
    "\n",
    "## Quiz"
   ]
  },
  {
   "cell_type": "code",
   "execution_count": null,
   "metadata": {
    "tags": [
     "remove-input"
    ]
   },
   "outputs": [],
   "source": [
    "from epp_topics.quiz_utilities import display_quiz\n",
    "\n",
    "content = {\n",
    "    \"What is the main factor in deciding between dicts, dataclasses and NamedTuple\": {\n",
    "        \"Fixed vs. free fields\": True,\n",
    "        \"Mutable vs. immutable\": False,\n",
    "        \"Ordered vs. unordered\": False,\n",
    "        \"Speed\": False,\n",
    "    },\n",
    "    \"Which data structures are a good choice if you have fixed fields\": {\n",
    "        \"dicts\": False,\n",
    "        \"dataclasses\": True,\n",
    "        \"NamedTuples\": True,\n",
    "        \"lists\": False,\n",
    "    },\n",
    "    \"Which data structures are immutable by default\": {\n",
    "        \"dicts\": False,\n",
    "        \"dataclasses\": False,\n",
    "        \"NamedTuples\": True,\n",
    "        \"lists\": False,\n",
    "    },\n",
    "}\n",
    "\n",
    "display_quiz(content)"
   ]
  }
 ],
 "metadata": {
  "language_info": {
   "codemirror_mode": {
    "name": "ipython",
    "version": 3
   },
   "file_extension": ".py",
   "mimetype": "text/x-python",
   "name": "python",
   "nbconvert_exporter": "python",
   "pygments_lexer": "ipython3"
  }
 },
 "nbformat": 4,
 "nbformat_minor": 2
}
