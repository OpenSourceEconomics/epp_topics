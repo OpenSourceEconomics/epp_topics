{
 "cells": [
  {
   "cell_type": "markdown",
   "metadata": {},
   "source": [
    "# Writing simple (py)tests\n",
    "\n",
    "## Learning Objectives\n",
    "\n",
    "After working through this topic, you should be able to:\n",
    "\n",
    "- write tests for your functions that pytest recognizes\n",
    "- write simple, yet meaningful tests for your functions\n",
    "- run them using pytest for your own projects\n",
    "\n",
    "By \"simple, yet meaningful tests\" we mean that the input you provide in the tests is\n",
    "valid and should not cause the function to raise errors. Furthermore, this means writing\n",
    "one test per set of input parameters and corresponding expected output (i.e., no reuse\n",
    "of test functions, no reuse of input parameters).\n",
    "\n",
    "## Materials\n",
    "\n",
    "Here is the\n",
    "[Screencast](https://electure.uni-bonn.de/static/mh_default_org/engage-player/1ad3f0e2-fc83-4d0a-b692-c615dbc7df9a/c8645e0e-2302-44a6-a1c1-f41282ef1c82/a9220233-32ed-4e1e-83f7-ee9847aa18fe.mp4)\n",
    "and these are the [slides](software_engineering-writing_simple_pytests.pdf).\n",
    "\n",
    "\n",
    "## Quiz"
   ]
  },
  {
   "cell_type": "code",
   "execution_count": null,
   "metadata": {
    "tags": [
     "remove-input"
    ]
   },
   "outputs": [],
   "source": [
    "from epp_topics.quiz_utilities import display_quiz\n",
    "\n",
    "content = {\n",
    "    \"Which functions are recognized as tests by pytest?\": {\n",
    "        \"Functions whose name starts with `test_`\": True,\n",
    "        \"Functions whose name does not start with an underscore\": False,\n",
    "        \"Functions that are registered in the pytest.ini file\": False,\n",
    "        \"Functions that have the argument `test`\": False,\n",
    "    },\n",
    "    \"What would you do if zero tests are collected in your project?\": {\n",
    "        \"Check for typos in file names and make sure they start with `test_`\": True,\n",
    "        \"Check for typos in function names and make sure they start with `test_`\": True,\n",
    "        \"File a bug report, it must clearly be a bug in pytest\": False,\n",
    "        \"Run pytest again. It will probably work the second time\": False,\n",
    "    },\n",
    "    \"A simple test is likely to contain:\": {\n",
    "        \"An assertion\": True,\n",
    "        \"Some expected results\": True,\n",
    "        \"An explanation of possible error messages that one could obtain\": False,\n",
    "        \"A call to the function we want to test\": False,\n",
    "    },\n",
    "    \"A good name for a test is:\": {\n",
    "        \"test_analyses\": False,\n",
    "        \"test_functionX\": False,\n",
    "        \"test_function_X_returns_dtype_Y\": True,\n",
    "        \"test_for_dtypes\": False,\n",
    "    },\n",
    "}\n",
    "\n",
    "display_quiz(content)"
   ]
  }
 ],
 "metadata": {
  "language_info": {
   "codemirror_mode": {
    "name": "ipython",
    "version": 3
   },
   "file_extension": ".py",
   "mimetype": "text/x-python",
   "name": "python",
   "nbconvert_exporter": "python",
   "pygments_lexer": "ipython3"
  }
 },
 "nbformat": 4,
 "nbformat_minor": 2
}
