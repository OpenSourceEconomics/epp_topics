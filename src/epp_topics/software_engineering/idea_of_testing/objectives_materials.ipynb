{
 "cells": [
  {
   "cell_type": "markdown",
   "metadata": {},
   "source": [
    "# The idea of unit testing\n",
    "\n",
    "## Learning Objectives\n",
    "\n",
    "After working through this topic, you should be able to:\n",
    "\n",
    "- \n",
    "\n",
    "## Materials\n",
    "\n",
    "Here is\n",
    "[screencast](https://player.uni-bonn.educast.nrw/e2411680-7656-4daa-bcda-84430ed83911).\n",
    "These are the [slides](software_engineering-idea_of_testing.pdf).\n",
    "\n",
    "\n",
    "\n",
    "## Quiz"
   ]
  },
  {
   "cell_type": "code",
   "execution_count": null,
   "metadata": {
    "tags": [
     "remove-input"
    ]
   },
   "outputs": [],
   "source": [
    "content = {}\n",
    "\n",
    "from epp_topics.quiz_utilities import display_quiz\n",
    "\n",
    "display_quiz(content)"
   ]
  }
 ],
 "metadata": {
  "language_info": {
   "codemirror_mode": {
    "name": "ipython",
    "version": 3
   },
   "file_extension": ".py",
   "mimetype": "text/x-python",
   "name": "python",
   "nbconvert_exporter": "python",
   "pygments_lexer": "ipython3"
  }
 },
 "nbformat": 4,
 "nbformat_minor": 2
}
