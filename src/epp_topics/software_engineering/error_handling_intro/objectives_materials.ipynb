{
 "cells": [
  {
   "cell_type": "markdown",
   "metadata": {},
   "source": [
    "# Introduction to error handling \n",
    "\n",
    "## Learning Objectives\n",
    "\n",
    "After working through this topic, you should be able to:\n",
    "\n",
    "- Explain why error handling is important\n",
    "\n",
    "## Materials\n",
    "\n",
    "Here is the\n",
    "[screencast](https://player.uni-bonn.educast.nrw/96b79d38-8313-4025-bfcb-66ccd649e507).\n",
    "These are the [slides](software_engineering-error_handling_intro.pdf).\n",
    "\n",
    "\n",
    "\n",
    "## Quiz"
   ]
  },
  {
   "cell_type": "code",
   "execution_count": null,
   "metadata": {
    "tags": [
     "remove-input"
    ]
   },
   "outputs": [],
   "source": [
    "content = {\n",
    "    \"What are benefits of good error handling\": {\n",
    "        \"You make fewer mistakes\": False,\n",
    "        \"You find mistakes earlier\": True,\n",
    "        \"You understand what went wrong immediately\": True,\n",
    "        \"Your code is more readable\": False,\n",
    "    },\n",
    "}\n",
    "\n",
    "from epp_topics.quiz_utilities import display_quiz\n",
    "\n",
    "display_quiz(content)"
   ]
  }
 ],
 "metadata": {
  "language_info": {
   "codemirror_mode": {
    "name": "ipython",
    "version": 3
   },
   "file_extension": ".py",
   "mimetype": "text/x-python",
   "name": "python",
   "nbconvert_exporter": "python",
   "pygments_lexer": "ipython3"
  }
 },
 "nbformat": 4,
 "nbformat_minor": 2
}
