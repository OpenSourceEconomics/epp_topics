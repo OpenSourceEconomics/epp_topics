{
 "cells": [
  {
   "cell_type": "markdown",
   "metadata": {},
   "source": [
    "# What does pytest do?\n",
    "\n",
    "## Learning Objectives\n",
    "\n",
    "After working through this topic, you should be able to:\n",
    "\n",
    "- Explain how pytest collects test files and test functions\n",
    "- Explain which functions pytest executes\n",
    "- Get started on debugging code that caused test failures\n",
    "\n",
    "## Materials\n",
    "\n",
    "Here is the\n",
    "[Screencast](https://player.uni-bonn.educast.nrw/4b9dccb3-13b7-4db3-9c63-c45a610e4fa4)\n",
    "and these are the [slides](software_engineering-what_does_pytest_do.pdf).\n",
    "\n",
    "\n",
    "## Quiz"
   ]
  },
  {
   "cell_type": "code",
   "execution_count": null,
   "metadata": {
    "tags": [
     "remove-input"
    ]
   },
   "outputs": [],
   "source": [
    "from epp_topics.quiz_utilities import display_quiz\n",
    "\n",
    "content = {\n",
    "    \"What needs to be done to run a piece of Python code with pytest?\": {\n",
    "        \"It needs te be inside a function whose name starts with 'test_'\": True,\n",
    "        \"It needs to be inside a file whose name starts with 'test_'\": True,\n",
    "        \"You need to register it with the pytest database\": False,\n",
    "        \"You need to specify the path to the `.py` file when you call pytest\": False,\n",
    "    },\n",
    "}\n",
    "\n",
    "display_quiz(content)"
   ]
  }
 ],
 "metadata": {
  "language_info": {
   "codemirror_mode": {
    "name": "ipython",
    "version": 3
   },
   "file_extension": ".py",
   "mimetype": "text/x-python",
   "name": "python",
   "nbconvert_exporter": "python",
   "pygments_lexer": "ipython3"
  }
 },
 "nbformat": 4,
 "nbformat_minor": 2
}
