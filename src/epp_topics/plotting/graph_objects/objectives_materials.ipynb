{
 "cells": [
  {
   "attachments": {},
   "cell_type": "markdown",
   "metadata": {},
   "source": [
    "# Customised plots with plotly graph objects\n",
    "\n",
    "## Learning Objectives\n",
    "\n",
    "After working through this topic, you should be able to:\n",
    "\n",
    "- Set up plotly graph objects\n",
    "- Understand how to use the go module to create customised plots\n",
    "\n",
    "## Materials\n",
    "\n",
    "Here is the\n",
    "[screencast](https://player.uni-bonn.educast.nrw/fb0a3430-f27b-402b-9188-39f07f06cff3).\n",
    "These are the [slides](plotting-graph_objects.pdf).\n",
    "\n",
    "## Links used in the screencast\n",
    "\n",
    "- The [plotly gallery](https://plotly.com/python/)\n",
    "- [Line charts](https://plotly.com/python/line-charts/)\n",
    "- [Facet plots](https://plotly.com/python/facet-plots/)\n",
    "\n",
    "\n",
    "## Quiz"
   ]
  },
  {
   "cell_type": "code",
   "execution_count": null,
   "metadata": {
    "tags": [
     "remove-input"
    ]
   },
   "outputs": [],
   "source": [
    "from jupyterquiz import display_quiz\n",
    "\n",
    "content = [\n",
    "    {\n",
    "        \"question\": (\"plotly.graph_objects is used for:\"),\n",
    "        \"type\": \"multiple_choice\",\n",
    "        \"answers\": [\n",
    "            {\n",
    "                \"answer\": \"Produce basic graphs with simpler syntax\",\n",
    "                \"correct\": False,\n",
    "                \"feedback\": \"Incorrect. For this purpose you can use plotly.express.\",\n",
    "            },\n",
    "            {\n",
    "                \"answer\": \"Produce more customized and fine-grained plots\",\n",
    "                \"correct\": True,\n",
    "                \"feedback\": \"Correct.\",\n",
    "            },\n",
    "        ],\n",
    "    },\n",
    "    {\n",
    "        \"question\": (\"To set up a plotly graph object, the code to use is:\"),\n",
    "        \"type\": \"multiple_choice\",\n",
    "        \"answers\": [\n",
    "            {\n",
    "                \"answer\": \"go.scatter(...)\",\n",
    "                \"correct\": True,\n",
    "                \"feedback\": \"Correct.\",\n",
    "            },\n",
    "            {\n",
    "                \"answer\": \"df.plot(...)\",\n",
    "                \"correct\": False,\n",
    "                \"feedback\": \"Incorrect. With this code you use \\\n",
    "                    plotly.express through pandas.DataFrame.\",\n",
    "            },\n",
    "            {\n",
    "                \"answer\": \"px.line(df, ...)\",\n",
    "                \"correct\": False,\n",
    "                \"feedback\": \"Incorrect. With this code you obtain a Figure object.\",\n",
    "            },\n",
    "            {\n",
    "                \"answer\": \"plt.plot(...)\",\n",
    "                \"correct\": False,\n",
    "                \"feedback\": \"Incorrect. With this code you are using a different\\\n",
    "                 library.\",\n",
    "            },\n",
    "        ],\n",
    "    },\n",
    "]\n",
    "display_quiz(content, colors=\"fdsp\")"
   ]
  }
 ],
 "metadata": {
  "language_info": {
   "codemirror_mode": {
    "name": "ipython",
    "version": 3
   },
   "file_extension": ".py",
   "mimetype": "text/x-python",
   "name": "python",
   "nbconvert_exporter": "python",
   "pygments_lexer": "ipython3"
  }
 },
 "nbformat": 4,
 "nbformat_minor": 2
}
