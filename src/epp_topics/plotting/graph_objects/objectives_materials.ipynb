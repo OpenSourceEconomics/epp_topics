{
 "cells": [
  {
   "attachments": {},
   "cell_type": "markdown",
   "metadata": {},
   "source": [
    "# Customised plots with plotly graph objects\n",
    "\n",
    "## Learning Objectives\n",
    "\n",
    "After working through this topic, you should be able to:\n",
    "\n",
    "- Set up plotly graph objects\n",
    "- Understand how to use the go module to create customised plots\n",
    "\n",
    "## Materials\n",
    "\n",
    "Here is\n",
    "[screencast](https://player.uni-bonn.educast.nrw/081c3398-b38a-4b7a-9f97-da2a4c34a140).\n",
    "These are the [slides](plotting-quick_plots_px.pdf).\n",
    "\n",
    "## Links used in the screencast\n",
    "\n",
    "- The [plotly gallery](https://plotly.com/python/)\n",
    "- [Line charts](https://plotly.com/python/line-charts/)\n",
    "- [Facet plots](https://plotly.com/python/facet-plots/)\n",
    "\n",
    "\n",
    "## Quiz"
   ]
  },
  {
   "cell_type": "code",
   "execution_count": null,
   "metadata": {
    "tags": [
     "remove-input"
    ]
   },
   "outputs": [],
   "source": [
    "from epp_topics.quiz_utilities import display_quiz\n",
    "\n",
    "content = {\n",
    "    \"Which of the following applies to plotly.express?\": {\n",
    "        \"It only supports static plots\": False,\n",
    "        \"Creating figures is faster than in plotly.graph_objects\": True,\n",
    "        \"It is a good choice for exploratory plots\": True,\n",
    "        \"It is useless for creating publication-ready plots\": False,\n",
    "    },\n",
    "}\n",
    "\n",
    "\n",
    "display_quiz(content)"
   ]
  }
 ],
 "metadata": {
  "language_info": {
   "codemirror_mode": {
    "name": "ipython",
    "version": 3
   },
   "file_extension": ".py",
   "mimetype": "text/x-python",
   "name": "python",
   "nbconvert_exporter": "python",
   "pygments_lexer": "ipython3"
  }
 },
 "nbformat": 4,
 "nbformat_minor": 2
}
