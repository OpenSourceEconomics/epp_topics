{
 "cells": [
  {
   "cell_type": "markdown",
   "id": "0",
   "metadata": {},
   "source": [
    "# Customised plots with plotly graph objects: Example Notebook"
   ]
  },
  {
   "cell_type": "code",
   "execution_count": null,
   "id": "1",
   "metadata": {},
   "outputs": [],
   "source": [
    "import pandas as pd\n",
    "\n",
    "# Set default template\n",
    "import plotly.io as pio\n",
    "\n",
    "pio.templates.default = \"plotly_dark\"\n",
    "\n",
    "# Use plot methods on DataFrame directly\n",
    "pd.options.plotting.backend = \"plotly\"\n",
    "# High-level approach\n",
    "import plotly.express as px\n",
    "\n",
    "# Low-level approach using graph objects\n",
    "import plotly.graph_objects as go"
   ]
  },
  {
   "cell_type": "markdown",
   "id": "2",
   "metadata": {},
   "source": [
    "## Get life expectancy by country, continent, and year"
   ]
  },
  {
   "cell_type": "code",
   "execution_count": null,
   "id": "3",
   "metadata": {},
   "outputs": [],
   "source": [
    "all_countries = (\n",
    "    px.data.gapminder()[[\"country\", \"continent\", \"year\", \"lifeExp\"]]\n",
    "    .rename(columns={\"lifeExp\": \"life_expectancy\"})\n",
    "    .query(\"continent in ['Europe', 'Americas']\")\n",
    ")\n",
    "all_countries"
   ]
  },
  {
   "cell_type": "markdown",
   "id": "4",
   "metadata": {},
   "source": [
    "## Starting point"
   ]
  },
  {
   "cell_type": "code",
   "execution_count": null,
   "id": "5",
   "metadata": {},
   "outputs": [],
   "source": [
    "fig = px.line(\n",
    "    all_countries,\n",
    "    x=\"year\",\n",
    "    y=\"life_expectancy\",\n",
    "    labels={\"life_expectancy\": \"Life expectancy\"},\n",
    "    color=\"country\",\n",
    "    facet_col=\"continent\",\n",
    ")\n",
    "fig.update_layout(showlegend=False)\n",
    "fig.for_each_annotation(lambda a: a.update(text=a.text.split(\"=\")[-1]))"
   ]
  },
  {
   "cell_type": "markdown",
   "id": "6",
   "metadata": {},
   "source": [
    "## Low-level approach using graph objects\n",
    "\n",
    "Using plotly.graph_objects, simple plots take longer but you can customize every aspect of the plot. "
   ]
  },
  {
   "cell_type": "code",
   "execution_count": null,
   "id": "7",
   "metadata": {},
   "outputs": [],
   "source": [
    "from plotly.subplots import make_subplots"
   ]
  },
  {
   "cell_type": "code",
   "execution_count": null,
   "id": "8",
   "metadata": {},
   "outputs": [],
   "source": [
    "country_names = all_countries[\"country\"].unique()\n",
    "traces = {\"Europe\": [], \"Americas\": []}\n",
    "for name in country_names:\n",
    "    if name not in [\"Canada\", \"Poland\"]:\n",
    "        data = all_countries.query(f\"country == '{name}'\")\n",
    "        traces[data[\"continent\"].iloc[0]].append(\n",
    "            go.Scatter(\n",
    "                x=data[\"year\"],\n",
    "                y=data[\"life_expectancy\"],\n",
    "                name=name,\n",
    "                mode=\"lines\",\n",
    "                line={\"color\": \"darkgray\"},\n",
    "            ),\n",
    "        )"
   ]
  },
  {
   "cell_type": "code",
   "execution_count": null,
   "id": "9",
   "metadata": {},
   "outputs": [],
   "source": [
    "fig = make_subplots(rows=1, cols=2, subplot_titles=list(traces.keys()))\n",
    "fig.update_layout(showlegend=False)\n",
    "fig.add_traces(traces[\"Europe\"], rows=1, cols=1)\n",
    "fig.add_traces(traces[\"Americas\"], rows=1, cols=2)\n",
    "fig.update_xaxes(matches=\"x\")\n",
    "fig.update_yaxes(matches=\"y\")"
   ]
  },
  {
   "cell_type": "code",
   "execution_count": null,
   "id": "10",
   "metadata": {},
   "outputs": [],
   "source": [
    "color = \"red\"\n",
    "\n",
    "for i, name in enumerate([\"Poland\", \"Canada\"]):\n",
    "    data = all_countries.query(f\"country == '{name}'\")\n",
    "    fig.add_trace(\n",
    "        go.Scatter(\n",
    "            x=data[\"year\"],\n",
    "            y=data[\"life_expectancy\"],\n",
    "            name=name,\n",
    "            mode=\"lines\",\n",
    "            line={\"color\": color, \"width\": 5},\n",
    "        ),\n",
    "        row=1,\n",
    "        col=1 + i,\n",
    "    )\n",
    "\n",
    "    fig.add_annotation(\n",
    "        x=1967,\n",
    "        y=77,\n",
    "        text=f\"<b>{name}<b>\",\n",
    "        font={\"size\": 14, \"color\": color},\n",
    "        showarrow=False,\n",
    "        row=1,\n",
    "        col=1 + i,\n",
    "    )\n",
    "fig.show()"
   ]
  },
  {
   "cell_type": "code",
   "execution_count": null,
   "id": "11",
   "metadata": {},
   "outputs": [],
   "source": []
  }
 ],
 "metadata": {
  "language_info": {
   "codemirror_mode": {
    "name": "ipython",
    "version": 3
   },
   "file_extension": ".py",
   "mimetype": "text/x-python",
   "name": "python",
   "nbconvert_exporter": "python",
   "pygments_lexer": "ipython3"
  }
 },
 "nbformat": 4,
 "nbformat_minor": 5
}
