{
 "cells": [
  {
   "attachments": {},
   "cell_type": "markdown",
   "metadata": {},
   "source": [
    "# Practical Approach\n",
    "\n",
    "## Learning Objectives\n",
    "\n",
    "After working through this topic, you should be able to:\n",
    "\n",
    "- explain why visualisation is important\n",
    "- employ a structured approach for creating visualisations\n",
    "- find help for getting started\n",
    "\n",
    "## Materials\n",
    "\n",
    "Here is\n",
    "[screencast](https://electure.uni-bonn.de/paella7/ui/watch.html?id=163c3249-4739-4dea-b232-38a9ee8b5491).\n",
    "These are the [slides](plotting-what_to_plot.pdf).\n",
    "\n",
    "## Additional Materials\n",
    "\n",
    "- Chapter 7 of [Calling Bullshit](https://www.callingbullshit.org/) (Carl Bergstrom &\n",
    "  Jevin West). Light read, important insights in particular how popular visualisations\n",
    "  often try to mislead in more or less subtle ways. Also has some general insights into\n",
    "  how to think about graphics. Some of the examples are [available\n",
    "  online](https://www.callingbullshit.org/tools.html)\n",
    "- [How Charts Lie](http://www.thefunctionalart.com/p/reviews.html) (Alberto Cairo).\n",
    "  Similar to Chapter 7 of Calling Bullshit, but the entire book is devoted to\n",
    "  visualisations.\n",
    "- [Better Data\n",
    "  Visualizations](https://policyviz.com/pv_books/better-data-visualizations-a-guide-for-scholars-researchers-and-wonks/)\n",
    "  (Jonathan Schwabish): Very extensive, with direct focus on science/economics. Some\n",
    "  material in the screencast based on that.\n",
    "- [The Functional Art](http://www.thefunctionalart.com/p/about-book.html) (Alberto\n",
    "  Cairo) and [Show Me the Numbers](http://www.perceptualedge.com/library.php) (Stephen\n",
    "  Few). Authoritative References if you want to become a data viz pro. Alberto Cairo has\n",
    "  an [interesting blog accompanying the book](http://www.thefunctionalart.com/). *Show\n",
    "  Me the Numbers* is more general than visualisation and also has lots of great material\n",
    "  on tables.\n",
    "\n",
    "## Quiz"
   ]
  },
  {
   "cell_type": "code",
   "execution_count": null,
   "metadata": {
    "tags": [
     "remove-input"
    ]
   },
   "outputs": [],
   "source": [
    "from jupyterquiz import display_quiz\n",
    "\n",
    "content = [\n",
    "    {\n",
    "        \"question\": (\n",
    "            \"One thing you should clearly have in mind \\\n",
    "                when thinking about plotting a graph is\"\n",
    "        ),\n",
    "        \"type\": \"many_choice\",\n",
    "        \"answers\": [\n",
    "            {\n",
    "                \"answer\": \"Which type of data you are handling\",\n",
    "                \"correct\": True,\n",
    "                \"feedback\": \"Correct. If you carefully performed \\\n",
    "                    data management, this should be included in \\\n",
    "                    the variables dtypes.\",\n",
    "            },\n",
    "            {\n",
    "                \"answer\": \"How to clearly show the data\",\n",
    "                \"correct\": True,\n",
    "                \"feedback\": \"Correct. This is one of the most \\\n",
    "                    important features of a graph.\",\n",
    "            },\n",
    "            {\n",
    "                \"answer\": \"Which types of graphs you like the most\",\n",
    "                \"correct\": False,\n",
    "                \"feedback\": \"Inorrect. The appropriate graph is \\\n",
    "                    independent from our personal taste. \\\n",
    "                    Additionally, fancy graphs are often less effective \\\n",
    "                    than standard ones.\",\n",
    "            },\n",
    "            {\n",
    "                \"answer\": \"Which colours you will use\",\n",
    "                \"correct\": False,\n",
    "                \"feedback\": \"Inorrect. Since many researchers look at \\\n",
    "                    graphs in scales of gray, you should start thinking \\\n",
    "                    about your graph in accordingly.\",\n",
    "            },\n",
    "        ],\n",
    "    },\n",
    "]\n",
    "\n",
    "display_quiz(content, colors=\"fdsp\")"
   ]
  }
 ],
 "metadata": {
  "language_info": {
   "codemirror_mode": {
    "name": "ipython",
    "version": 3
   },
   "file_extension": ".py",
   "mimetype": "text/x-python",
   "name": "python",
   "nbconvert_exporter": "python",
   "pygments_lexer": "ipython3"
  }
 },
 "nbformat": 4,
 "nbformat_minor": 2
}
