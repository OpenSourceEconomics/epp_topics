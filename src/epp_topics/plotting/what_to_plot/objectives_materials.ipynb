{
 "cells": [
  {
   "cell_type": "markdown",
   "metadata": {},
   "source": [
    "# Practical Approach\n",
    "\n",
    "## Learning Objectives\n",
    "\n",
    "After working through this topic, you should be able to:\n",
    "\n",
    "- explain why visualisation is important\n",
    "- employ a structured approach for creating visualisations\n",
    "- find help for getting started\n",
    "\n",
    "## Materials\n",
    "\n",
    "Here is [screencast](https://player.uni-bonn.educast.nrw/xxx). These are the\n",
    "[slides](plotting-what_to_plot.pdf).\n",
    "\n",
    "## Additional Materials\n",
    "\n",
    "- Chapter 7 of [Calling Bullshit](https://www.callingbullshit.org/), Carl Bergstrom &\n",
    "  Jevin West. Light read, important insights in particular how popular visualisations\n",
    "  often try to mislead in more or less subtle ways. Also has some general insights into\n",
    "  how to think about graphics. Some of the examples are [available\n",
    "  online](https://www.callingbullshit.org/tools.html)\n",
    "- [How Charts Lie](http://www.thefunctionalart.com/p/reviews.html), Alberto Cairo.\n",
    "  Similar to Chapter 7 of Calling Bullshit, but the entire book is devoted to\n",
    "  visualisations.\n",
    "- [Better Data\n",
    "  Visualizations](https://policyviz.com/pv_books/better-data-visualizations-a-guide-for-scholars-researchers-and-wonks/)\n",
    "  (Jonathan Schwabish): Very extensive, with direct focus on science/economics. Five\n",
    "  steps in the screencast taken from there.\n",
    "- [The Functional Art](http://www.thefunctionalart.com/p/about-book.html) (Alberto\n",
    "  Cairo) and [Show Me the Numbers](http://www.perceptualedge.com/library.php) (Stephen\n",
    "  Few). Authoritative References if you want to become a data viz pro. Alberto Cairo has\n",
    "  an [interesting blog accompanying the book](http://www.thefunctionalart.com/). *Show\n",
    "  Me the Numbers* is more general than visualisation and also has lots of great material\n",
    "  on tables.\n",
    "\n",
    "## Quiz"
   ]
  },
  {
   "cell_type": "code",
   "execution_count": null,
   "metadata": {
    "tags": [
     "remove-input"
    ]
   },
   "outputs": [],
   "source": [
    "#     \"Which of the following applies to plotly.express?\": {\n",
    "#         \"It only supports static plots\": False,\n",
    "#         \"Creating figures is faster than in plotly.graph_objects\": True,\n",
    "#         \"It is a good choice for exploratory plots\": True,\n",
    "#         \"It is ueseless for creating publication-ready plots\": False,\n",
    "#     },"
   ]
  }
 ],
 "metadata": {
  "language_info": {
   "codemirror_mode": {
    "name": "ipython",
    "version": 3
   },
   "file_extension": ".py",
   "mimetype": "text/x-python",
   "name": "python",
   "nbconvert_exporter": "python",
   "pygments_lexer": "ipython3"
  }
 },
 "nbformat": 4,
 "nbformat_minor": 2
}
