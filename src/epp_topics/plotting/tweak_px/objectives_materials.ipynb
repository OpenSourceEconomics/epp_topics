{
 "cells": [
  {
   "attachments": {},
   "cell_type": "markdown",
   "metadata": {},
   "source": [
    "# Customise plots created with plotly express\n",
    "\n",
    "## Learning Objectives\n",
    "\n",
    "After working through this topic, you should be able to:\n",
    "\n",
    "- Adjust a code snippet retrieved from the plotly express gallery to your needs.\n",
    "- Create publication-ready figures starting from a plotly express plot.\n",
    "\n",
    "## Materials\n",
    "\n",
    "Here is\n",
    "[screencast](https://player.uni-bonn.educast.nrw/081c3398-b38a-4b7a-9f97-da2a4c34a140).\n",
    "These are the [slides](plotting-quick_plots_px.pdf).\n",
    "\n",
    "## Links used in the screencast\n",
    "\n",
    "- The [plotly gallery](https://plotly.com/python/)\n",
    "- [Line charts](https://plotly.com/python/line-charts/)\n",
    "- [Facet plots](https://plotly.com/python/facet-plots/)\n",
    "\n",
    "\n",
    "## Quiz"
   ]
  },
  {
   "cell_type": "code",
   "execution_count": null,
   "metadata": {
    "tags": [
     "remove-input"
    ]
   },
   "outputs": [],
   "source": [
    "from epp_topics.quiz_utilities import display_quiz\n",
    "\n",
    "content = {\n",
    "    \"Once you have produced a plot with plotly.express using df.plot(),\\\n",
    "    can you modify the plot?\": {\n",
    "        \"Yes\": True,\n",
    "        \"No\": False,\n",
    "    },\n",
    "    \"Once you have produced a plot with plotly.express using fig = df.plot(),\\\n",
    "    which of the following lines of code will change the title of the \\\n",
    "    plot?\": {\n",
    "        \"fig.update_layout(title='New Title')\": True,\n",
    "        \"fig.update_layout(title_text='New Title')\": False,\n",
    "        \"fig.update_layout(title='New Title', title_text='New Title')\": False,\n",
    "        \"fig.update_layout(title='New Title', title_text='New Title', \\\n",
    "        titlefont=dict(size=20))\": False,\n",
    "    },\n",
    "    \"Which of the following lines of code, when added inside the parentheses \\\n",
    "    of px.plot will change the labels assigned to the variables called x and y \\\n",
    "    in the plot?\": {\n",
    "        \"labels=['New x label', 'New y label']\": True,\n",
    "        \"labels=['New x label']\": False,\n",
    "        'labels={\"New x label\": x, \"New y label\": y}': False,\n",
    "        \"labels={'x': 'New x label', 'y': 'New y label'}\": True,\n",
    "    },\n",
    "    \"What is a facet plot?\": {\n",
    "        \"A plot with multiple subplots that share the same axes, \\\n",
    "        but show different subsets of the data\": True,\n",
    "        \"A plot with multiple subplots that share the same axes, \\\n",
    "        but show the same data\": False,\n",
    "        \"A plot in which data is rearranged to show the relationship \\\n",
    "        between two variables\": False,\n",
    "    },\n",
    "    \"You want to show the plots of the distribution of beer_consumption \\\n",
    "    in each day of November in Bavaria and North Rhine-Westphalia next to \\\n",
    "    each other (one on the left and one on the right). Your dataset only \\\n",
    "    contains data for these two states, under \\\n",
    "    the variable name 'bundesland'. Which of the following lines of code \\\n",
    "    should you add to your px.plot.bar() command to achieve this=?\": {\n",
    "        \"facet_col='bundesland'\": True,\n",
    "        \"facet_col_wrap='bundesland'\": False,\n",
    "        \"facet_row='bundesland'\": False,\n",
    "        \"facet_row_wrap='bundesland'\": False,\n",
    "    },\n",
    "    \"Looking at the task in the previous quiz, imagine that your plot is \\\n",
    "    saved in a variable called fig. Which of the following lines of code \\\n",
    "    will change the top of the plots so it will not say 'bundesland = \\\n",
    "    Bavaria' and 'bundesland = North Rhine-Westphalia' but instead 'Bavaria' \\\n",
    "    and 'North Rhine-Westphalia'?\": {\n",
    "        \"fig.for_each_annotation(lambda a: a.update(text=a.text.split('=')[-1]))\": True,\n",
    "        \"fig.for_each_annotation(lambda a: a.update(text=a.text.split('=')[0]))\": False,\n",
    "        \"fig.change_labels({'bundesland': 'Bavaria', 'bundesland': \\\n",
    "        'North Rhine-Westphalia'})\": False,\n",
    "    },\n",
    "}\n",
    "\n",
    "\n",
    "display_quiz(content)"
   ]
  }
 ],
 "metadata": {
  "language_info": {
   "codemirror_mode": {
    "name": "ipython",
    "version": 3
   },
   "file_extension": ".py",
   "mimetype": "text/x-python",
   "name": "python",
   "nbconvert_exporter": "python",
   "pygments_lexer": "ipython3"
  }
 },
 "nbformat": 4,
 "nbformat_minor": 2
}
