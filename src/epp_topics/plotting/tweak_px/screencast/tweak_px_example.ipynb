{
 "cells": [
  {
   "cell_type": "markdown",
   "id": "0d8e9a9d",
   "metadata": {},
   "source": [
    "# Customise plots created with plotly express: Example Notebook"
   ]
  },
  {
   "cell_type": "code",
   "execution_count": null,
   "id": "ad849c54",
   "metadata": {},
   "outputs": [],
   "source": [
    "import pandas as pd\n",
    "\n",
    "# Set default template\n",
    "import plotly.io as pio\n",
    "\n",
    "pio.templates.default = \"plotly_dark\"\n",
    "\n",
    "# Use plot methods on DataFrame directly\n",
    "pd.options.plotting.backend = \"plotly\"\n",
    "# High-level approach\n",
    "import plotly.express as px"
   ]
  },
  {
   "cell_type": "markdown",
   "id": "76e4a57c",
   "metadata": {},
   "source": [
    "## Get life expectancy by country, continent, and year"
   ]
  },
  {
   "cell_type": "code",
   "execution_count": null,
   "id": "dd3baafd",
   "metadata": {},
   "outputs": [],
   "source": [
    "all_countries = (\n",
    "    px.data.gapminder()[[\"country\", \"continent\", \"year\", \"lifeExp\"]]\n",
    "    .rename(columns={\"lifeExp\": \"life_expectancy\"})\n",
    "    .query(\"continent in ['Europe', 'Americas']\")\n",
    ")\n",
    "all_countries"
   ]
  },
  {
   "cell_type": "markdown",
   "id": "15f131ff",
   "metadata": {},
   "source": [
    "## Starting point"
   ]
  },
  {
   "cell_type": "code",
   "execution_count": null,
   "id": "22565810",
   "metadata": {},
   "outputs": [],
   "source": [
    "px.line(\n",
    "    all_countries,\n",
    "    x=\"year\",\n",
    "    y=\"life_expectancy\",\n",
    "    color=\"country\",\n",
    ")"
   ]
  },
  {
   "cell_type": "markdown",
   "id": "448367a6",
   "metadata": {},
   "source": [
    "## Prettier axis label"
   ]
  },
  {
   "cell_type": "code",
   "execution_count": null,
   "id": "69b551b2",
   "metadata": {},
   "outputs": [],
   "source": []
  },
  {
   "cell_type": "markdown",
   "id": "2917d9d4",
   "metadata": {},
   "source": [
    "## Removing some Spaghettis with facet columns"
   ]
  },
  {
   "cell_type": "code",
   "execution_count": null,
   "id": "fb0f8b95",
   "metadata": {},
   "outputs": [],
   "source": []
  },
  {
   "cell_type": "markdown",
   "id": "d77b1988",
   "metadata": {},
   "source": [
    "## Changing overall appearance"
   ]
  },
  {
   "cell_type": "code",
   "execution_count": null,
   "id": "5b4ab76e",
   "metadata": {},
   "outputs": [],
   "source": []
  }
 ],
 "metadata": {
  "language_info": {
   "codemirror_mode": {
    "name": "ipython",
    "version": 3
   },
   "file_extension": ".py",
   "mimetype": "text/x-python",
   "name": "python",
   "nbconvert_exporter": "python",
   "pygments_lexer": "ipython3"
  }
 },
 "nbformat": 4,
 "nbformat_minor": 5
}
