{
 "cells": [
  {
   "attachments": {},
   "cell_type": "markdown",
   "metadata": {},
   "source": [
    "# Quick plots with plotly express\n",
    "\n",
    "## Learning Objectives\n",
    "\n",
    "After working through this topic, you should be able to:\n",
    "\n",
    "- Set up plotly as pandas' plotting backend\n",
    "- Navigate the plotly gallery and find a plot that is similar to what you need.\n",
    "- Use plotly express for quick plots helping them to reveal patterns in data.\n",
    "\n",
    "## Materials\n",
    "\n",
    "Here is\n",
    "[screencast](https://player.uni-bonn.educast.nrw/).\n",
    "These are the [slides](plotting-quick_plots.pdf).\n",
    "\n",
    "## Links used in the screencast\n",
    "\n",
    "- The [plotly gallery](https://plotly.com/python/)\n",
    "- [Line charts](https://plotly.com/python/line-charts/)\n",
    "\n",
    "\n",
    "## Quiz"
   ]
  },
  {
   "cell_type": "code",
   "execution_count": null,
   "metadata": {
    "tags": [
     "remove-input"
    ]
   },
   "outputs": [],
   "source": [
    "from epp_topics.quiz_utilities import display_quiz\n",
    "\n",
    "content = {\n",
    "    \"Which of the following applies to plotly.express?\": {\n",
    "        \"It only supports static plots\": False,\n",
    "        \"Creating figures is faster than in plotly.graph_objects\": True,\n",
    "        \"It is a good choice for exploratory plots\": True,\n",
    "        \"It is useless for creating publication-ready plots\": False,\n",
    "    },\n",
    "    \"What is the main use of plotly.express?\": {\n",
    "        \"Creating plots with a high degree of customization\": False,\n",
    "        \"Creating interactive plots\": False,\n",
    "        \"Creating static plots\": False,\n",
    "        \"Creating exploratory plots\": True,\n",
    "    },\n",
    "    \"Which of the following lines of code allows you to use \\\n",
    "        plotly.express through pandas.DataFrame?\": {\n",
    "        \"import plotly.express as px\": False,\n",
    "        \"import plotly.graph_objects as go\": False,\n",
    "        \"import plotly.express as pd\": False,\n",
    "        \"pd.options.plotting.backend = 'plotly'\": True,\n",
    "    },\n",
    "    'What would you run to get the \"spaghetti plot\" of \\\n",
    "        beer_consumption in each day in November (stored in variable day),\\\n",
    "        for various cities in Germany (stored in Stadt)?': {\n",
    "        \"df.plot(x = 'day', y='beer_consumption', color='Stadt')\": True,\n",
    "        \"df.plot(x = 'day', y='beer_consumption', facet_col='Stadt')\": False,\n",
    "        \"df.plot(x = 'day', y='beer_consumption', facet_row='Stadt')\": False,\n",
    "    },\n",
    "    \"You need to plot the distribution of beer_consumption \\\n",
    "    in each day in November (stored in variable day) for the \\\n",
    "    whole North Rhine-Westphalia (stored in variable Bundesland).\\\n",
    "    What would you run?\": {\n",
    "        \"df.plot.bar(x = 'day', y='beer_consumption', \\\n",
    "            color='Bundesland')\": True,\n",
    "        \"df.plot.bar(x = 'day', y='beer_consumption', \\\n",
    "            facet_col='Bundesland')\": False,\n",
    "        \"df.plot.bar(x = 'day', y='beer_consumption', \\\n",
    "            color='Bundesland', kind='hist')\": False,\n",
    "        \"df.plot(x = 'day', y='beer_consumption', color='Bundesland')\": False,\n",
    "    },\n",
    "    \"Can you produce good quality (publication-ready) \\\n",
    "    plots with plotly.express?\": {\n",
    "        \"Yes, you have to tweak the figure after creating it\": True,\n",
    "        \"No, it is impossible and you should always use \\\n",
    "            plotly.graph_objects instead\": False,\n",
    "    },\n",
    "}\n",
    "\n",
    "\n",
    "display_quiz(content)"
   ]
  }
 ],
 "metadata": {
  "language_info": {
   "codemirror_mode": {
    "name": "ipython",
    "version": 3
   },
   "file_extension": ".py",
   "mimetype": "text/x-python",
   "name": "python",
   "nbconvert_exporter": "python",
   "pygments_lexer": "ipython3"
  }
 },
 "nbformat": 4,
 "nbformat_minor": 2
}
