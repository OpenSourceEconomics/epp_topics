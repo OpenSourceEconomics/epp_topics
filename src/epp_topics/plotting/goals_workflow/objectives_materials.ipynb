{
 "cells": [
  {
   "cell_type": "markdown",
   "metadata": {},
   "source": [
    "# Goals and Workflow\n",
    "\n",
    "## Learning Objectives\n",
    "\n",
    "After working through this topic, you should be able to:\n",
    "\n",
    "- Define goals for why you are making a plot\n",
    "- Explain the difference between exploratory and publication quality plots\n",
    "- Decide on a plotting strategy for your goal\n",
    "\n",
    "## Materials\n",
    "\n",
    "Here is\n",
    "[screencast](https://electure.uni-bonn.de/paella7/ui/watch.html?id=cc047267-809c-4965-b44f-91a7abc4fc61).\n",
    "These are the [slides](plotting-goals_workflow.pdf).\n",
    "\n",
    "## Quiz"
   ]
  },
  {
   "cell_type": "code",
   "execution_count": null,
   "metadata": {
    "tags": [
     "remove-input"
    ]
   },
   "outputs": [],
   "source": [
    "from epp_topics.quiz_utilities import display_quiz\n",
    "\n",
    "content = {\n",
    "    \"What is important when you create an exploratory plot to understand data\": {\n",
    "        \"It should be pretty\": False,\n",
    "        \"Creating the plot should be fast\": True,\n",
    "        \"Clear labels\": True,\n",
    "        \"The plot should be interactive\": True,\n",
    "        \"Support for a wide variety of output formats\": False,\n",
    "    },\n",
    "    \"What is important when you create a plot for a paper\": {\n",
    "        \"It should be pretty\": True,\n",
    "        \"Creating the plot should be fast\": False,\n",
    "        \"Clear labels\": True,\n",
    "        \"The plot should be interactive\": False,\n",
    "        \"Support for a wide variety of output formats\": True,\n",
    "    },\n",
    "}\n",
    "\n",
    "display_quiz(content)"
   ]
  }
 ],
 "metadata": {
  "language_info": {
   "codemirror_mode": {
    "name": "ipython",
    "version": 3
   },
   "file_extension": ".py",
   "mimetype": "text/x-python",
   "name": "python",
   "nbconvert_exporter": "python",
   "pygments_lexer": "ipython3"
  }
 },
 "nbformat": 4,
 "nbformat_minor": 2
}
