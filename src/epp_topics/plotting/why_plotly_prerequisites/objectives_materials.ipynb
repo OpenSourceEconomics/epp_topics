{
 "cells": [
  {
   "cell_type": "markdown",
   "metadata": {},
   "source": [
    "# Why plotly? And some prerequisites.\n",
    "\n",
    "## Learning Objectives\n",
    "\n",
    "After working through this topic, you should be able to:\n",
    "\n",
    "- explain why we use plotly\n",
    "- describe why it is hard to have great interactive and static functionality in one\n",
    "  library\n",
    "- export static figures using [kaleido](https://github.com/plotly/Kaleido/) regardless\n",
    "  of the OS you are using\n",
    "\n",
    "## Materials\n",
    "\n",
    "Here is [screencast](https://player.uni-bonn.educast.nrw/xxx). These are the\n",
    "[slides](plotting-why_plotly_prerequisites.pdf).\n",
    "\n",
    "# Windows workaround\n",
    "\n",
    "Install an old version of kaleido via pip:\n",
    "\n",
    "```shell-session\n",
    "$ conda activate [your_env]\n",
    "$ pip install kaleido==0.1.0.post1\n",
    "```\n",
    "\n",
    "Some background:\n",
    "\n",
    "- [Comment](https://github.com/plotly/Kaleido/issues/150#issuecomment-1293508017) by former plotly employee: \n",
    "\n",
    "  *We do have this unfortunate situation where some (mostly Windows?) users have hanging\n",
    "  calls which no one has gotten to the bottom of just yet, though. I don't know that\n",
    "  anyone is actively working on that issue, given the complexity of building the\n",
    "  project, but it seems to impact only a small minority of users.*\n",
    "\n",
    "- Feel free to add your experience to [this issue](https://github.com/plotly/Kaleido/issues/134)\n",
    "\n"
   ]
  }
 ],
 "metadata": {
  "language_info": {
   "codemirror_mode": {
    "name": "ipython",
    "version": 3
   },
   "file_extension": ".py",
   "mimetype": "text/x-python",
   "name": "python",
   "nbconvert_exporter": "python",
   "pygments_lexer": "ipython3"
  }
 },
 "nbformat": 4,
 "nbformat_minor": 2
}
