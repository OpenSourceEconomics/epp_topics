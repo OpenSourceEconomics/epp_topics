{
 "cells": [
  {
   "cell_type": "markdown",
   "id": "690c94b0",
   "metadata": {},
   "source": [
    "# Plotting Example"
   ]
  },
  {
   "cell_type": "code",
   "execution_count": null,
   "id": "ad849c54",
   "metadata": {},
   "outputs": [],
   "source": [
    "import plotly.express as px"
   ]
  },
  {
   "cell_type": "markdown",
   "id": "76e4a57c",
   "metadata": {},
   "source": [
    "## Get example data"
   ]
  },
  {
   "cell_type": "code",
   "execution_count": null,
   "id": "7c4bd375",
   "metadata": {},
   "outputs": [],
   "source": [
    "all_countries = px.data.gapminder().query(\"continent in ['Europe', 'Americas']\")\n",
    "all_countries"
   ]
  },
  {
   "cell_type": "markdown",
   "id": "15f131ff",
   "metadata": {},
   "source": [
    "## Plot entire data"
   ]
  },
  {
   "cell_type": "code",
   "execution_count": null,
   "id": "22565810",
   "metadata": {},
   "outputs": [],
   "source": []
  },
  {
   "cell_type": "markdown",
   "id": "2917d9d4",
   "metadata": {},
   "source": [
    "## Creating subplots by facet columns"
   ]
  },
  {
   "cell_type": "code",
   "execution_count": null,
   "id": "fb0f8b95",
   "metadata": {},
   "outputs": [],
   "source": []
  },
  {
   "cell_type": "markdown",
   "id": "566fb141",
   "metadata": {},
   "source": [
    "## Restrict data to Canada and Poland"
   ]
  },
  {
   "cell_type": "code",
   "execution_count": null,
   "id": "3f571654",
   "metadata": {},
   "outputs": [],
   "source": [
    "canada_poland = all_countries.query(\"country in ['Canada', 'Poland']\")"
   ]
  },
  {
   "cell_type": "code",
   "execution_count": null,
   "id": "63d8a5a9",
   "metadata": {},
   "outputs": [],
   "source": []
  },
  {
   "cell_type": "markdown",
   "id": "d77b1988",
   "metadata": {},
   "source": [
    "## Changing overall appearance"
   ]
  },
  {
   "cell_type": "code",
   "execution_count": null,
   "id": "5b4ab76e",
   "metadata": {},
   "outputs": [],
   "source": []
  },
  {
   "cell_type": "markdown",
   "id": "fe7eb90b",
   "metadata": {},
   "source": [
    "## Low-level approach using graph objects\n",
    "\n",
    "Using plotly.graph_objects, simple plots take longer but you can customize every aspect of the plot. "
   ]
  },
  {
   "cell_type": "code",
   "execution_count": null,
   "id": "b77ba6c6",
   "metadata": {},
   "outputs": [],
   "source": [
    "import plotly.graph_objects as go"
   ]
  },
  {
   "cell_type": "code",
   "execution_count": null,
   "id": "7e853445",
   "metadata": {},
   "outputs": [],
   "source": [
    "# Just for convenience\n",
    "\n",
    "canada = canada_poland.query(\"country == 'Canada'\")\n",
    "poland = canada_poland.query(\"country == 'Poland'\")"
   ]
  },
  {
   "cell_type": "code",
   "execution_count": null,
   "id": "ca69e27e",
   "metadata": {},
   "outputs": [],
   "source": [
    "# Build up plot in pieces\n",
    "\n",
    "# Line for Canada\n",
    "trace_canada = go.Scatter(\n",
    "    x=canada[\"year\"],\n",
    "    y=canada[\"lifeExp\"],\n",
    "    name=\"Canada\",\n",
    "    mode=\"lines\",\n",
    "    line={\"color\": \"blue\"},\n",
    ")\n",
    "\n",
    "# Line for Poland\n",
    "trace_poland = go.Scatter(\n",
    "    x=poland[\"year\"],\n",
    "    y=poland[\"lifeExp\"],\n",
    "    name=\"Poland\",\n",
    "    mode=\"lines\",\n",
    "    line={\"color\": \"red\"},\n",
    ")\n",
    "\n",
    "\n",
    "# Shaded area between lines\n",
    "trace_between = go.Scatter(\n",
    "    x=poland[\"year\"],\n",
    "    y=poland[\"lifeExp\"],\n",
    "    mode=\"lines\",\n",
    "    fill=\"tonexty\",\n",
    "    fillcolor=\"purple\",\n",
    "    showlegend=False,\n",
    ")"
   ]
  },
  {
   "cell_type": "code",
   "execution_count": null,
   "id": "a86fb9e7",
   "metadata": {},
   "outputs": [],
   "source": [
    "fig = go.Figure()\n",
    "\n",
    "fig.add_trace(trace_canada)\n",
    "fig.add_trace(trace_between)\n",
    "fig.add_trace(trace_poland)\n",
    "\n",
    "fig.update_layout(template=\"plotly_dark\")"
   ]
  },
  {
   "cell_type": "code",
   "execution_count": null,
   "id": "e16a041e",
   "metadata": {},
   "outputs": [],
   "source": []
  }
 ],
 "metadata": {
  "language_info": {
   "codemirror_mode": {
    "name": "ipython",
    "version": 3
   },
   "file_extension": ".py",
   "mimetype": "text/x-python",
   "name": "python",
   "nbconvert_exporter": "python",
   "pygments_lexer": "ipython3"
  }
 },
 "nbformat": 4,
 "nbformat_minor": 5
}
