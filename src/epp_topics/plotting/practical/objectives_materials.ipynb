{
 "cells": [
  {
   "cell_type": "markdown",
   "metadata": {},
   "source": [
    "# Practical Approach\n",
    "\n",
    "## Learning Objectives\n",
    "\n",
    "After working through this topic, you should be able to:\n",
    "\n",
    "- Navigate the plotly gallery and find a plot that is similar to what you need \n",
    "- adjust a code snippet in minimal steps\n",
    "- use plotly express for quick plots helping them to reveal patterns in data.\n",
    "- customize plots with lower level plotly functions.\n",
    "\n",
    "## Materials\n",
    "\n",
    "Here is [screencast](https://player.uni-bonn.educast.nrw/xxx). These are the\n",
    "[slides](plotting-practical.pdf).\n",
    "\n",
    "## Additional Materials\n",
    "\n",
    "- The [plotly gallery](https://plotly.com/python/)\n",
    "\n",
    "\n",
    "\n",
    "## Quiz"
   ]
  },
  {
   "cell_type": "code",
   "execution_count": null,
   "metadata": {
    "tags": [
     "remove-input"
    ]
   },
   "outputs": [],
   "source": [
    "from epp_topics.quiz_utilities import display_quiz\n",
    "\n",
    "content = {\n",
    "    \"Which of the following applies to plotly.express?\": {\n",
    "        \"It only supports static plots\": False,\n",
    "        \"Creating figures is faster than in plotly.graph_objects\": True,\n",
    "        \"It is a good choice for exploratory plots\": True,\n",
    "        \"It is ueseless for creating publication-ready plots\": False,\n",
    "    },\n",
    "}\n",
    "\n",
    "\n",
    "display_quiz(content)"
   ]
  }
 ],
 "metadata": {
  "language_info": {
   "codemirror_mode": {
    "name": "ipython",
    "version": 3
   },
   "file_extension": ".py",
   "mimetype": "text/x-python",
   "name": "python",
   "nbconvert_exporter": "python",
   "pygments_lexer": "ipython3"
  }
 },
 "nbformat": 4,
 "nbformat_minor": 2
}
