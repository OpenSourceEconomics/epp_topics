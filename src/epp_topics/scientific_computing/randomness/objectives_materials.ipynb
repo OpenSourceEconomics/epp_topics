{
 "cells": [
  {
   "cell_type": "markdown",
   "metadata": {},
   "source": [
    "# Randomness\n",
    "\n",
    "## Learning Objectives\n",
    "\n",
    "After working through this topic, you should be able to:\n",
    "\n",
    "- Generate random number with numpy\n",
    "- Explain the role of a seed in random number generation\n",
    "- Follow best practices for generating random numbers\n",
    "\n",
    "## Materials\n",
    "\n",
    "Video:\n",
    "\n",
    "<iframe\n",
    "  src=\"https://electure.uni-bonn.de/paella7/ui/watch.html?id=1b7cb0f4-c0e2-4fa7-ac6c-62a4f5c72902\"\n",
    "  width=\"640\"\n",
    "  height=\"360\"\n",
    "  frameborder=\"0\"\n",
    "  allowfullscreen\n",
    "></iframe>\n",
    "\n",
    "Download the [slides](scientific_computing-randomness.pdf).\n",
    "\n",
    "\n",
    "\n",
    "\n",
    "\n",
    "- This [Blogpost](https://albertcthomas.github.io/good-practices-random-number-generators/) explains some of the reasons behind our best practices. \n",
    "\n",
    "\n",
    "## Quiz"
   ]
  },
  {
   "cell_type": "code",
   "execution_count": null,
   "metadata": {
    "tags": [
     "remove-input"
    ]
   },
   "outputs": [],
   "source": [
    "from epp_topics.quiz_utilities import display_quiz\n",
    "\n",
    "content = {\n",
    "    \"To set a good seed which of the following lines of code would zou use?\": {\n",
    "        \"np.random.seed\": False,\n",
    "        \"np.random.default_rng\": False,\n",
    "        \"np.random.default_rng(6943)\": True,\n",
    "    },\n",
    "    \"Why a seed is needed when dealing with random generated numbers?\": {\n",
    "        \"A seed is nice to have, but not essential\": False,\n",
    "        \"For the purpose of reproducible research\": True,\n",
    "        \"To help obtain nicer results\": False,\n",
    "        \"To make sure that two random extraction will \\\n",
    "            not yield the same outcome\": False,\n",
    "    },\n",
    "    \"Which of the following applies to seeds?\": {\n",
    "        \"You should never use similar seeds as they yield correlated numbers.\": False,\n",
    "        \"They are numbers between 0 and 2 ** 32\": True,\n",
    "        \"You should always check that your conclusions do not depend on the seed\": True,\n",
    "        \"It's ok to always use 123.\": False,\n",
    "    },\n",
    "}\n",
    "\n",
    "display_quiz(content)"
   ]
  }
 ],
 "metadata": {
  "language_info": {
   "codemirror_mode": {
    "name": "ipython",
    "version": 3
   },
   "file_extension": ".py",
   "mimetype": "text/x-python",
   "name": "python",
   "nbconvert_exporter": "python",
   "pygments_lexer": "ipython3"
  }
 },
 "nbformat": 4,
 "nbformat_minor": 2
}
