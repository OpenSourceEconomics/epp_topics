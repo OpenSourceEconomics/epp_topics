{
 "cells": [
  {
   "cell_type": "markdown",
   "metadata": {},
   "source": [
    "# Randomness\n",
    "\n",
    "## Learning Objectives\n",
    "\n",
    "After working through this topic, you should be able to:\n",
    "\n",
    "- Generate random number with numpy\n",
    "- Explain the role of a seed in random number generation\n",
    "- Follow best practices for generating random numbers\n",
    "\n",
    "## Materials\n",
    "\n",
    "Here is [screencast](https://player.uni-bonn.educast.nrw/xxx). These are the\n",
    "[slides](scientific_computing-randomness.pdf).\n",
    "\n",
    "## Additional Materials\n",
    "\n",
    "- This [Blogpost](https://albertcthomas.github.io/good-practices-random-number-generators/) explains some of the reasons behind our best practices. \n",
    "\n",
    "\n",
    "## Quiz"
   ]
  },
  {
   "cell_type": "code",
   "execution_count": null,
   "metadata": {
    "tags": [
     "remove-input"
    ]
   },
   "outputs": [],
   "source": [
    "from epp_topics.quiz_utilities import display_quiz\n",
    "\n",
    "content = {\n",
    "    \"Which of the following applies to seeds?\": {\n",
    "        \"You should never use similar seeds as they yield correlated numbers.\": False,\n",
    "        \"They are numbers between 0 and 2 ** 32\": True,\n",
    "        \"You should always check that your conclusions do not depend on the seed\": True,\n",
    "        \"It's ok to always use 123.\": False,\n",
    "    },\n",
    "}\n",
    "\n",
    "display_quiz(content)"
   ]
  }
 ],
 "metadata": {
  "language_info": {
   "codemirror_mode": {
    "name": "ipython",
    "version": 3
   },
   "file_extension": ".py",
   "mimetype": "text/x-python",
   "name": "python",
   "nbconvert_exporter": "python",
   "pygments_lexer": "ipython3"
  }
 },
 "nbformat": 4,
 "nbformat_minor": 2
}
