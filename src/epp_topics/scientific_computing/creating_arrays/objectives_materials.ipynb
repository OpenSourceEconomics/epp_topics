{
 "cells": [
  {
   "cell_type": "markdown",
   "metadata": {},
   "source": [
    "# Creating arrays\n",
    "\n",
    "## Learning Objectives\n",
    "\n",
    "After working through this topic, you should be able to:\n",
    "\n",
    "- Create numpy arrays from Python lists \n",
    "- Create numpy arrays using numpy's array creation functions\n",
    "- Reshape arrays \n",
    "- Repeat array elements\n",
    "\n",
    "## Materials\n",
    "\n",
    "Video:\n",
    "\n",
    "<iframe\n",
    "  src=\"https://electure.uni-bonn.de/paella7/ui/watch.html?id=dbf47130-a749-450f-a04d-dd64cb07d78d\"\n",
    "  width=\"640\"\n",
    "  height=\"360\"\n",
    "  frameborder=\"0\"\n",
    "  allowfullscreen\n",
    "></iframe>\n",
    "\n",
    "Download the [slides](scientific_computing-creating_arrays.pdf).\n",
    "\n",
    "\n",
    "\n",
    "\n",
    "\n",
    "- The numpy ([documentation](https://numpy.org/doc/stable/reference/routines.array-creation.html))\n",
    "\n",
    "## Quiz"
   ]
  },
  {
   "cell_type": "code",
   "execution_count": null,
   "metadata": {
    "tags": [
     "remove-input"
    ]
   },
   "outputs": [],
   "source": [
    "from epp_topics.quiz_utilities import display_quiz\n",
    "\n",
    "content = {\n",
    "    \"What does `np.ones` do?\": {\n",
    "        \"Create arrays of ones in different shapes\": True,\n",
    "        \"Create nested lists of ones\": False,\n",
    "        \"Create arrays of zeros in different shapes\": False,\n",
    "        \"Create an identity matrix\": False,\n",
    "    },\n",
    "    \"What does `np.arange` do?\": {\n",
    "        \"Create a matrix\": False,\n",
    "        \"Create a vector with elements starting at 0 and increasing by 1\": True,\n",
    "        \"Create a vector with elements starting at 1 and increasing by 1\": False,\n",
    "        \"Create arbitrary grids of floating point numbers\": False,\n",
    "    },\n",
    "    \"What does shape (5, 4) mean?\": {\n",
    "        \"There are 5 rows and 4 columns\": True,\n",
    "        \"There are 4 rows and 5 columns\": False,\n",
    "    },\n",
    "    \"Suppose you have a list of length 8 that needs to reshaped into a 3 dimensional \\\n",
    "          array. The code you would use is:\": {\n",
    "        \"reshaped_array = your_list.reshape(2,2,2)\": False,\n",
    "        \"reshaped_array = np.array(your_list).reshape(2,2,4)\": False,\n",
    "        \"reshaped_array = np.array(your_list).reshape(2,1,4)\": True,\n",
    "    },\n",
    "    \"Suppose you have an array with shape (3,3). Then your_array.repeat(3) \\\n",
    "        will return:\": {\n",
    "        \"A three dimensional array of shape (3,3,3)\": False,\n",
    "        \"A one dimensional array of shape (27,)\": True,\n",
    "        \"A two dimensional array of shape (9,9)\": False,\n",
    "        \"A two dimensional array of shape (9,3)\": False,\n",
    "    },\n",
    "}\n",
    "\n",
    "display_quiz(content)"
   ]
  },
  {
   "cell_type": "code",
   "execution_count": null,
   "metadata": {},
   "outputs": [],
   "source": [
    "import numpy as np\n",
    "\n",
    "a = [1, 2, 3, 4, 5, 6, 7, 8, 9]\n",
    "b = np.array(a).reshape(3, 3)\n",
    "print(b)\n",
    "b.shape\n",
    "\n",
    "c = b.repeat(3)\n",
    "c.shape"
   ]
  }
 ],
 "metadata": {
  "language_info": {
   "codemirror_mode": {
    "name": "ipython",
    "version": 3
   },
   "file_extension": ".py",
   "mimetype": "text/x-python",
   "name": "python",
   "nbconvert_exporter": "python",
   "pygments_lexer": "ipython3"
  }
 },
 "nbformat": 4,
 "nbformat_minor": 2
}
