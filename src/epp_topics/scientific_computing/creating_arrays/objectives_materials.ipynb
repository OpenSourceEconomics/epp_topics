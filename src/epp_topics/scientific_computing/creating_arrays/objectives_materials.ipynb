{
 "cells": [
  {
   "cell_type": "markdown",
   "metadata": {},
   "source": [
    "# Creating arrays\n",
    "\n",
    "## Learning Objectives\n",
    "\n",
    "After working through this topic, you should be able to:\n",
    "\n",
    "- Create numpy arrays from Python lists \n",
    "- Create numpy arrays using numpy's array creation functions\n",
    "- Reshape arrays \n",
    "- Repeat array elements\n",
    "\n",
    "## Materials\n",
    "\n",
    "Here is the\n",
    "[screencast](https://player.uni-bonn.educast.nrw/dbf47130-a749-450f-a04d-dd64cb07d78d).\n",
    "These are the [slides](scientific_computing-creating_arrays.pdf).\n",
    "\n",
    "## Additional Materials\n",
    "\n",
    "- The numpy ([documentation](https://numpy.org/doc/stable/reference/routines.array-creation.html))\n",
    "\n",
    "## Quiz"
   ]
  },
  {
   "cell_type": "code",
   "execution_count": null,
   "metadata": {
    "tags": [
     "remove-input"
    ]
   },
   "outputs": [],
   "source": [
    "from epp_topics.quiz_utilities import display_quiz\n",
    "\n",
    "content = {\n",
    "    \"What does `np.ones` do?\": {\n",
    "        \"Create arrays of ones in different shapes\": True,\n",
    "        \"Create nested lists of ones\": False,\n",
    "        \"Create arrays of zeros in different shapes\": False,\n",
    "        \"Create an identity matrix\": False,\n",
    "    },\n",
    "    \"What does `np.arange` do?\": {\n",
    "        \"Create a matrix\": False,\n",
    "        \"Create a vector with elements starting at 0 and increasing by 1\": True,\n",
    "        \"Create a vector with elements starting at 1 and increasing by 1\": False,\n",
    "        \"Create arbitrary grids of floating point numbers\": False,\n",
    "    },\n",
    "    \"What does shape (5, 4) mean?\": {\n",
    "        \"There are 5 rows and 4 columns\": True,\n",
    "        \"There are 4 rows and 5 columns\": False,\n",
    "    },\n",
    "}\n",
    "\n",
    "display_quiz(content)"
   ]
  }
 ],
 "metadata": {
  "language_info": {
   "codemirror_mode": {
    "name": "ipython",
    "version": 3
   },
   "file_extension": ".py",
   "mimetype": "text/x-python",
   "name": "python",
   "nbconvert_exporter": "python",
   "pygments_lexer": "ipython3"
  }
 },
 "nbformat": 4,
 "nbformat_minor": 2
}
