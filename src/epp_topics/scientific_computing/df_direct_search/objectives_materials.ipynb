{
 "cells": [
  {
   "cell_type": "markdown",
   "metadata": {},
   "source": [
    "# Derivative-Free Direct Search\n",
    "\n",
    "## Learning Objectives\n",
    "\n",
    "After working through this topic, you should be able to:\n",
    "\n",
    "\n",
    "- Explain the idea underlying the derivative-free direct search optimization algorithm\n",
    "- Discuss the advantages and disadvantages of using this algorithm\n",
    "\n",
    "\n",
    "## Materials\n",
    "\n",
    "Here are the [slide(s)](.pdf).\n",
    "\n",
    "<!-- \n",
    "## Additional Materials\n",
    " -->\n",
    "\n",
    "\n",
    "## Quiz"
   ]
  },
  {
   "cell_type": "code",
   "execution_count": null,
   "metadata": {
    "tags": [
     "remove-input"
    ]
   },
   "outputs": [],
   "source": [
    "content = {\n",
    "    \"What is the main idea behind derivative-based line search?\": {\n",
    "        \"Systematically exploring a predefined set of parameter values\": False,\n",
    "        \"Randomly selecting parameter values within specified bounds\": False,\n",
    "        \"Iteratively updating parameter values based on gradient descent\": False,\n",
    "        \"Using heuristics to find the optimal parameter combination\": False,\n",
    "        \"Employing trust regions to confine the search space for \\\n",
    "            parameter optimization\": False,\n",
    "        \"Directly evaluating the objective function at various \\\n",
    "            parameter values without relying on gradient information\": True,\n",
    "    },\n",
    "    'The derivative based line search algorithm could get \"stuck\" in \\\n",
    "        a region with a local minimum': {\n",
    "        \"True\": True,\n",
    "        \"False\": False,\n",
    "    },\n",
    "}\n",
    "\n",
    "from epp_topics.quiz_utilities import display_quiz\n",
    "\n",
    "display_quiz(content)"
   ]
  }
 ],
 "metadata": {
  "language_info": {
   "codemirror_mode": {
    "name": "ipython",
    "version": 3
   },
   "file_extension": ".py",
   "mimetype": "text/x-python",
   "name": "python",
   "nbconvert_exporter": "python",
   "pygments_lexer": "ipython3"
  }
 },
 "nbformat": 4,
 "nbformat_minor": 2
}
