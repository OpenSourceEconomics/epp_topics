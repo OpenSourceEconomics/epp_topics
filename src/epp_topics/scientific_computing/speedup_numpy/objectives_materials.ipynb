{
 "cells": [
  {
   "cell_type": "markdown",
   "metadata": {},
   "source": [
    "# Writing fast code with numpy\n",
    "\n",
    "## Learning Objectives\n",
    "\n",
    "After working through this topic, you should be able to:\n",
    "\n",
    "- Write fast code in numpy\n",
    "- Explain why numpy can be very fast if you write vectorized code\n",
    "- List things that should be avoided when writing numpy code\n",
    "\n",
    "## Materials\n",
    "\n",
    "<iframe width=\"560\" height=\"315\" src=\"https://www.youtube.com/embed/OFGH_EGKAt4?si=E66gIgSVrjAZ3-NG\" title=\"YouTube video player\" frameborder=\"0\" allow=\"accelerometer; autoplay; clipboard-write; encrypted-media; gyroscope; picture-in-picture; web-share\" allowfullscreen></iframe>\n",
    "\n",
    "These are the [slides](scientific_computing-speedup_numpy.pdf).\n",
    "\n",
    "\n",
    "## Quiz"
   ]
  },
  {
   "cell_type": "code",
   "execution_count": null,
   "metadata": {
    "tags": [
     "remove-input"
    ]
   },
   "outputs": [],
   "source": [
    "from epp_topics.quiz_utilities import display_quiz\n",
    "\n",
    "content = {\n",
    "    \"Why can numpy be fast\": {\n",
    "        \"Data is stored in a very efficient format in memory\": True,\n",
    "        \"Numpy functions are highly optimized for speed\": True,\n",
    "        \"It is written in C and anything written in C is always super fast\": False,\n",
    "        \"It is a compiler that compiles your Python code to machine code\": False,\n",
    "    },\n",
    "    \"Which of the following statements on vectorized code are true\": {\n",
    "        (\n",
    "            \"With vectorized code, Python overhead is incurred once per array, not \"\n",
    "            \"once per number\"\n",
    "        ): True,\n",
    "        \"Vectorized code is always faster than non-vectorized code\": False,\n",
    "        (\n",
    "            \"If you cant't vectorize everything, at least use array operations inside \"\n",
    "            \"your loop\"\n",
    "        ): False,\n",
    "        \"Vectorized code can never be as readable as loops\": False,\n",
    "    },\n",
    "}\n",
    "\n",
    "display_quiz(content)"
   ]
  }
 ],
 "metadata": {
  "language_info": {
   "codemirror_mode": {
    "name": "ipython",
    "version": 3
   },
   "file_extension": ".py",
   "mimetype": "text/x-python",
   "name": "python",
   "nbconvert_exporter": "python",
   "pygments_lexer": "ipython3"
  }
 },
 "nbformat": 4,
 "nbformat_minor": 2
}
