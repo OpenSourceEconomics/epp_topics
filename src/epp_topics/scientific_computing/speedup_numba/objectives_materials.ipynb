{
 "cells": [
  {
   "cell_type": "markdown",
   "metadata": {},
   "source": [
    "# Writing fast code with numba\n",
    "\n",
    "## Learning Objectives\n",
    "\n",
    "After working through this topic, you should be able to:\n",
    "\n",
    "- Write fast code using numba\n",
    "- Explain why it is important to use numba only for bottlenecks and not on the entire code\n",
    "- List things that should be avoided when writing numba code\n",
    "\n",
    "## Materials\n",
    "\n",
    "<iframe width=\"560\" height=\"315\" src=\"https://www.youtube.com/embed/YYxVVPs6eH4?si=UCTKb1hRW5gL5s6F\" title=\"YouTube video player\" frameborder=\"0\" allow=\"accelerometer; autoplay; clipboard-write; encrypted-media; gyroscope; picture-in-picture; web-share\" allowfullscreen></iframe>\n",
    "\n",
    "These are the [slides](scientific_computing-speedup_numba.pdf).\n",
    "\n",
    "\n",
    "## Quiz"
   ]
  },
  {
   "cell_type": "code",
   "execution_count": null,
   "metadata": {
    "tags": [
     "remove-input"
    ]
   },
   "outputs": [],
   "source": [
    "from epp_topics.quiz_utilities import display_quiz\n",
    "\n",
    "content = {\n",
    "    \"Why can numpy be fast\": {\n",
    "        \"Data is stored in a very efficient format in memory\": True,\n",
    "        \"It is written in C and anything written in C is always super fast\": False,\n",
    "        \"It is a compiler that compiles your Python code to machine code\": True,\n",
    "    },\n",
    "    \"What is the best strategy for using numba\": {\n",
    "        \"Identify bottlenecks and only use numba on those functions\": True,\n",
    "        \"Use `njit` on all functions`\": False,\n",
    "        \"Vectorize your code using numpy, then compile them for extra speed\": False,\n",
    "    },\n",
    "    \"Which of the following is True\": {\n",
    "        \"Loops are always slow but numba can make them a bit faster\": False,\n",
    "        \"A loop that is compiled with numba can be as fast as a loop in Julia\": True,\n",
    "        \"Numba works best if you write out everything as loop\": True,\n",
    "    },\n",
    "}\n",
    "\n",
    "display_quiz(content)"
   ]
  }
 ],
 "metadata": {
  "language_info": {
   "codemirror_mode": {
    "name": "ipython",
    "version": 3
   },
   "file_extension": ".py",
   "mimetype": "text/x-python",
   "name": "python",
   "nbconvert_exporter": "python",
   "pygments_lexer": "ipython3"
  }
 },
 "nbformat": 4,
 "nbformat_minor": 2
}
