{
 "cells": [
  {
   "cell_type": "markdown",
   "metadata": {},
   "source": [
    "# Measuring runtime\n",
    "\n",
    "## Learning Objectives\n",
    "\n",
    "After working through this topic, you should be able to:\n",
    "\n",
    "- Explain why it is important to use realistic inputs for measuring runtime\n",
    "- Use `%timeit` and `time.perf_counter` to measure the runtime of functions\n",
    "\n",
    "## Materials\n",
    "\n",
    "<iframe width=\"560\" height=\"315\" src=\"https://www.youtube.com/embed/kxwlwz95IXE?si=MP3JZtSqlmxG5m3T\" title=\"YouTube video player\" frameborder=\"0\" allow=\"accelerometer; autoplay; clipboard-write; encrypted-media; gyroscope; picture-in-picture; web-share\" allowfullscreen></iframe>\n",
    "\n",
    "Download the [slides](scientific_computing-speedup_measuring_time.pdf).\n",
    "\n",
    "## Quiz"
   ]
  },
  {
   "cell_type": "code",
   "execution_count": null,
   "metadata": {
    "tags": [
     "remove-input"
    ]
   },
   "outputs": [],
   "source": [
    "from epp_topics.quiz_utilities import display_quiz\n",
    "\n",
    "content = {\n",
    "    \"Why should you use `time.perf_counter` instead of `time.time`?\": {\n",
    "        \"It has a higher resolution\": True,\n",
    "        \"`time.time` is biased\": False,\n",
    "        \"It is more interpretable\": False,\n",
    "    },\n",
    "    \"Which of the following things does `timeit` do?\": {\n",
    "        \"Determine how often your code should be run to get an accurate time\": True,\n",
    "        \"Discard outliers\": True,\n",
    "        \"Make your function faster\": False,\n",
    "        \"Reduce noise from background tasks\": False,\n",
    "    },\n",
    "    \"Why should you use realistically sized inputs to measure runtime?\": {\n",
    "        \"Not all algorithms scale linearly\": True,\n",
    "        \"The resulting runtime is more interpretable\": True,\n",
    "        \"It is easier to implement\": False,\n",
    "        \"It is more accurate\": False,\n",
    "    },\n",
    "}\n",
    "\n",
    "display_quiz(content)"
   ]
  }
 ],
 "metadata": {
  "language_info": {
   "codemirror_mode": {
    "name": "ipython",
    "version": 3
   },
   "file_extension": ".py",
   "mimetype": "text/x-python",
   "name": "python",
   "nbconvert_exporter": "python",
   "pygments_lexer": "ipython3"
  }
 },
 "nbformat": 4,
 "nbformat_minor": 2
}
