{
 "cells": [
  {
   "cell_type": "markdown",
   "metadata": {},
   "source": [
    "# Calculations between arrays\n",
    "\n",
    "## Learning Objectives\n",
    "\n",
    "After working through this topic, you should be able to:\n",
    "\n",
    "- Explain the difference between elementwise and matrix multiplication\n",
    "- Do simple arithmetic with numpy arrays\n",
    "\n",
    "## Materials\n",
    "\n",
    "Here is [screencast](https://player.uni-bonn.educast.nrw/xxx). These are the\n",
    "[slides](scientific_computing-calculations_between_arrays.pdf).\n",
    "\n",
    "## Quiz"
   ]
  },
  {
   "cell_type": "code",
   "execution_count": null,
   "metadata": {
    "tags": [
     "remove-input"
    ]
   },
   "outputs": [],
   "source": [
    "from epp_topics.quiz_utilities import display_quiz\n",
    "\n",
    "content = {\n",
    "    \"How can you multiply the matrices a and b in numpy?\": {\n",
    "        \"a.dot(b)\": True,\n",
    "        \"a * b\": False,\n",
    "        \"a @ b\": True,\n",
    "        \"a ** b\": False,\n",
    "    },\n",
    "    \"How can you do an element-wise multiplication of the matrices a and b in numpy?\": {\n",
    "        \"a.dot(b)\": False,\n",
    "        \"a * b\": True,\n",
    "        \"a @ b\": False,\n",
    "        \"a ** b\": False,\n",
    "    },\n",
    "}\n",
    "\n",
    "display_quiz(content)"
   ]
  }
 ],
 "metadata": {
  "language_info": {
   "codemirror_mode": {
    "name": "ipython",
    "version": 3
   },
   "file_extension": ".py",
   "mimetype": "text/x-python",
   "name": "python",
   "nbconvert_exporter": "python",
   "pygments_lexer": "ipython3"
  }
 },
 "nbformat": 4,
 "nbformat_minor": 2
}
