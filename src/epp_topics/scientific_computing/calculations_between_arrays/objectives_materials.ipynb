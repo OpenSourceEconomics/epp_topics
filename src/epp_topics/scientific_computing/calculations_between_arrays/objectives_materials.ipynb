{
 "cells": [
  {
   "cell_type": "markdown",
   "metadata": {},
   "source": [
    "# Calculations between arrays\n",
    "\n",
    "## Learning Objectives\n",
    "\n",
    "After working through this topic, you should be able to:\n",
    "\n",
    "- Explain the difference between elementwise and matrix multiplication\n",
    "- Do simple arithmetic with numpy arrays\n",
    "\n",
    "## Materials\n",
    "\n",
    "Video:\n",
    "\n",
    "<iframe\n",
    "  src=\"https://electure.uni-bonn.de/paella7/ui/watch.html?id=5871a8cb-f403-4908-a18f-1cbf70ce4ce9\"\n",
    "  width=\"640\"\n",
    "  height=\"360\"\n",
    "  frameborder=\"0\"\n",
    "  allowfullscreen\n",
    "></iframe>\n",
    "\n",
    "Download the [slides](scientific_computing-calculations_between_arrays.pdf).\n",
    "\n",
    "\n",
    "\n",
    "## Quiz"
   ]
  },
  {
   "cell_type": "code",
   "execution_count": null,
   "metadata": {
    "tags": [
     "remove-input"
    ]
   },
   "outputs": [],
   "source": [
    "from epp_topics.quiz_utilities import display_quiz\n",
    "\n",
    "content = {\n",
    "    \"How can you multiply the matrices a and b in numpy?\": {\n",
    "        \"a.dot(b)\": True,\n",
    "        \"a * b\": False,\n",
    "        \"a @ b\": True,\n",
    "        \"a ** b\": False,\n",
    "    },\n",
    "    \"How can you do an element-wise multiplication of the matrices a and b in numpy?\": {\n",
    "        \"a.dot(b)\": False,\n",
    "        \"a * b\": True,\n",
    "        \"a @ b\": False,\n",
    "        \"a ** b\": False,\n",
    "    },\n",
    "}\n",
    "\n",
    "display_quiz(content)"
   ]
  }
 ],
 "metadata": {
  "language_info": {
   "codemirror_mode": {
    "name": "ipython",
    "version": 3
   },
   "file_extension": ".py",
   "mimetype": "text/x-python",
   "name": "python",
   "nbconvert_exporter": "python",
   "pygments_lexer": "ipython3"
  }
 },
 "nbformat": 4,
 "nbformat_minor": 2
}
