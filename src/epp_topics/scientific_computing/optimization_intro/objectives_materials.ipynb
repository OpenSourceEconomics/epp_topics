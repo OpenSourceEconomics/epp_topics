{
 "cells": [
  {
   "cell_type": "markdown",
   "metadata": {},
   "source": [
    "# Introduction to numerical optimization\n",
    "\n",
    "## Learning Objectives\n",
    "\n",
    "After working through this topic, you should be able to:\n",
    "\n",
    "- Explain the basic terminology of numerical optimization problems \n",
    "- List several applications of numerical optimization in economics\n",
    "- Explain what an optimization algorithm does \n",
    "\n",
    "## Materials\n",
    "\n",
    "<iframe width=\"560\" height=\"315\" src=\"https://www.youtube.com/embed/hOZueB4Cn1Y?si=ULkhiZapJkArR_R3\" title=\"YouTube video player\" frameborder=\"0\" allow=\"accelerometer; autoplay; clipboard-write; encrypted-media; gyroscope; picture-in-picture; web-share\" allowfullscreen></iframe>\n",
    "\n",
    "These are the [slides](scientific_computing-optimization_intro.pdf).\n",
    "\n",
    "## Quiz"
   ]
  },
  {
   "cell_type": "code",
   "execution_count": null,
   "metadata": {
    "tags": [
     "remove-input"
    ]
   },
   "outputs": [],
   "source": [
    "from epp_topics.quiz_utilities import display_quiz\n",
    "\n",
    "content = {\n",
    "    \"What is the criterion function or objective function in optimization?\": {\n",
    "        \"The function being minimized or maximized\": True,\n",
    "        \"Constraints that need to be fulfilled at the optimim\": False,\n",
    "        \"The parameters to optimize over\": False,\n",
    "        \"The numerical optimization algorithm\": False,\n",
    "    },\n",
    "    \"What are parameters in optimization?\": {\n",
    "        \"A vector of numbers to optimize over\": True,\n",
    "        \"Additional inputs to the criterion function\": False,\n",
    "        \"Optional arguments of the optimization algorithm\": False,\n",
    "    },\n",
    "    \"What are typical applications of numerical optimization in economics?\": {\n",
    "        \"Estimating nonlinear models with maximum likelihood\": True,\n",
    "        \"Estimating linear models with ordinary least squares\": False,\n",
    "        \"Fitting machine learning models\": True,\n",
    "        \"Solve discrete choice dynamic programming problems\": False,\n",
    "    },\n",
    "    \"Which of the following applies to optimization algorithms?\": {\n",
    "        \"They can run for a very long time\": True,\n",
    "        \"There as a single algorithm that is best for all problems\": False,\n",
    "        \"You have to become an expert in optimization to use them\": False,\n",
    "        \"You can completely ignore all details of the algorithm\": False,\n",
    "    },\n",
    "}\n",
    "\n",
    "display_quiz(content)"
   ]
  }
 ],
 "metadata": {
  "language_info": {
   "codemirror_mode": {
    "name": "ipython",
    "version": 3
   },
   "file_extension": ".py",
   "mimetype": "text/x-python",
   "name": "python",
   "nbconvert_exporter": "python",
   "pygments_lexer": "ipython3"
  }
 },
 "nbformat": 4,
 "nbformat_minor": 2
}
