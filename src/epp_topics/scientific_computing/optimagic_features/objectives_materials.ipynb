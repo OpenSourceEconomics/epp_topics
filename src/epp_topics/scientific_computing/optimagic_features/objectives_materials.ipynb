{
 "cells": [
  {
   "cell_type": "markdown",
   "metadata": {},
   "source": [
    "# Optimagic overview\n",
    "\n",
    "## Learning Objectives\n",
    "\n",
    "After working through this topic, you should be able to:\n",
    "\n",
    "- Explain how optimagic makes numerical optimization more user friendly for non-experts\n",
    "- List several diagnostic features of optimagic\n",
    "- Explain why representing parameters as flat vectors is not a good idea in complex\n",
    "applications\n",
    "\n",
    "## Materials\n",
    "\n",
    "The following is an optimagic presentation from the euro-scipy conference. You don't\n",
    "have to understand all details. Just try to get an overview of the main optimagic \n",
    "features.\n",
    "\n",
    "<iframe width=\"560\" height=\"315\" src=\"https://www.youtube.com/embed/5xYn0v1zEsY?si=ziL7u99JBXiT58yA\" title=\"YouTube video player\" frameborder=\"0\" allow=\"accelerometer; autoplay; clipboard-write; encrypted-media; gyroscope; picture-in-picture; web-share\" allowfullscreen></iframe>\n"
   ]
  },
  {
   "cell_type": "code",
   "execution_count": null,
   "metadata": {},
   "outputs": [],
   "source": [
    "from epp_topics.quiz_utilities import display_quiz\n",
    "\n",
    "content = {\n",
    "    \"What are features of optimagic\": {\n",
    "        \"It has diagostic tools to help you find the right optimizer\": True,\n",
    "        \"It is written in Fortran so it is really fast\": False,\n",
    "        \"It re-implements optimizers to make them more user-friendly\": False,\n",
    "        \"It wraps optimizers from other packages and makes them more user-friendly\": (\n",
    "            True\n",
    "        ),\n",
    "    },\n",
    "    \"Which data structures can you use for the parameters to optimize in optimagic?\": {\n",
    "        \"numpy arrays\": True,\n",
    "        \"pandas Series\": True,\n",
    "        \"pandas DataFrames\": True,\n",
    "        \"lists\": True,\n",
    "        \"dictionaries\": True,\n",
    "        \"NamedTuples\": True,\n",
    "        \"Nested combinations of all of the above\": True,\n",
    "    },\n",
    "    \"Which data structures can you use for the parameters in most other packages?\": {\n",
    "        \"1d numpy arrays\": True,\n",
    "        \"pandas Series\": False,\n",
    "        \"pandas DataFrames\": False,\n",
    "        \"lists\": False,\n",
    "        \"dictionaries\": False,\n",
    "        \"NamedTuples\": False,\n",
    "        \"Nested combinations of all of the above\": False,\n",
    "    },\n",
    "}\n",
    "\n",
    "display_quiz(content)"
   ]
  }
 ],
 "metadata": {
  "language_info": {
   "codemirror_mode": {
    "name": "ipython",
    "version": 3
   },
   "file_extension": ".py",
   "mimetype": "text/x-python",
   "name": "python",
   "nbconvert_exporter": "python",
   "pygments_lexer": "ipython3"
  }
 },
 "nbformat": 4,
 "nbformat_minor": 2
}
