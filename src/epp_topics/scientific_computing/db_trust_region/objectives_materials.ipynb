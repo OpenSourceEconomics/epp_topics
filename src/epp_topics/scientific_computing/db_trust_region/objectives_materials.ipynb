{
 "cells": [
  {
   "cell_type": "markdown",
   "metadata": {},
   "source": [
    "# Derivative-Based Trust Region\n",
    "\n",
    "## Learning Objectives\n",
    "\n",
    "After working through this topic, you should be able to:\n",
    "\n",
    "\n",
    "- Explain the idea underlying the derivative-based trust region optimization algorithm\n",
    "- Discuss the advantages and disadvantages of using this algorithm\n",
    "\n",
    "\n",
    "## Materials\n",
    "\n",
    "Here are the [slide(s)](.pdf).\n",
    "\n",
    "<!-- \n",
    "## Additional Materials\n",
    " -->\n",
    "\n",
    "\n",
    "## Quiz"
   ]
  },
  {
   "cell_type": "code",
   "execution_count": null,
   "metadata": {
    "tags": [
     "remove-input"
    ]
   },
   "outputs": [],
   "source": [
    "content = {\n",
    "    \"What is a trust region in the context of derivative-based \\\n",
    "        trust region algorithms?\": {\n",
    "        \"A predefined set of parameter values explored \\\n",
    "            systematically during optimization\": False,\n",
    "        \"A heuristic used to guide parameter updates based \\\n",
    "            on the magnitude of the gradients\": False,\n",
    "        \"A region around the current iterate where the model's \\\n",
    "            behavior is assumed to be locally well-approximated \\\n",
    "            by a quadratic function\": True,\n",
    "        \"A technique for parallel processing of \\\n",
    "            parameter updates to speed up optimization\": False,\n",
    "    },\n",
    "    \"What is the main idea behind derivative-based trust region algorithms?\": {\n",
    "        \"Systematically exploring a predefined set of parameter values\": False,\n",
    "        \"Randomly selecting parameter values within specified bounds\": False,\n",
    "        \"Iteratively updating parameter values based on gradient descent\": False,\n",
    "        \"Using heuristics to find the optimal parameter combination\": False,\n",
    "        \"Employing trust regions to restrict parameter updates within \\\n",
    "            a localized region where a quadratic approximation of the \\\n",
    "            objective function is valid\": True,\n",
    "    },\n",
    "    'The derivative-based trust region algorithms \\\n",
    "        could get \"stuck\" in a region with a local minimum': {\n",
    "        \"True\": True,\n",
    "        \"False\": False,\n",
    "    },\n",
    "}\n",
    "\n",
    "from epp_topics.quiz_utilities import display_quiz\n",
    "\n",
    "display_quiz(content)"
   ]
  }
 ],
 "metadata": {
  "language_info": {
   "codemirror_mode": {
    "name": "ipython",
    "version": 3
   },
   "file_extension": ".py",
   "mimetype": "text/x-python",
   "name": "python",
   "nbconvert_exporter": "python",
   "pygments_lexer": "ipython3"
  }
 },
 "nbformat": 4,
 "nbformat_minor": 2
}
