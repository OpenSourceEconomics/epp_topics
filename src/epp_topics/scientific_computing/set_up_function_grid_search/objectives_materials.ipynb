{
 "cells": [
  {
   "cell_type": "markdown",
   "metadata": {},
   "source": [
    "# Grid Search\n",
    "\n",
    "## Learning Objectives\n",
    "\n",
    "After working through this topic, you should be able to:\n",
    "\n",
    "\n",
    "- Explain the idea underlying the grid search optimization algorithm\n",
    "- Discuss the advantages and disadvantages of using this algorithm\n",
    "\n",
    "\n",
    "## Materials\n",
    "\n",
    "Here are the [slide(s)](.pdf).\n",
    "\n",
    "<!-- \n",
    "## Additional Materials\n",
    " -->\n",
    "\n",
    "\n",
    "## Quiz"
   ]
  },
  {
   "cell_type": "code",
   "execution_count": null,
   "metadata": {
    "tags": [
     "remove-input"
    ]
   },
   "outputs": [],
   "source": [
    "content = {\n",
    "    \"What is the main idea behind grid search?\": {\n",
    "        \"Systematically exploring a predefined set of parameter values\": True,\n",
    "        \"Randomly selecting parameter values within specified bounds\": False,\n",
    "        \"Iteratively updating parameter values based on gradient descent\": False,\n",
    "        \"Using heuristics to find the optimal parameter combination\": False,\n",
    "        \"Employing trust regions to confine the search space for \\\n",
    "            parameter optimization\": False,\n",
    "    },\n",
    "    \"How does one determine the number of grid points?\": {\n",
    "        \"By evaluating the function\": False,\n",
    "        \"By setting arbitrary values\": False,\n",
    "        \"Based on desired precision\": True,\n",
    "        \"By determining bounds on parameters\": False,\n",
    "    },\n",
    "    \"Why is grid search considered less feasible in more than one dimension?\": {\n",
    "        \"It does not allow for parallel processing, slowing \\\n",
    "            down the optimization process\": False,\n",
    "        \"Multi-dimensional grids result in a less precise parameter search\": False,\n",
    "        \"Grid search is inherently limited to one-dimensional problems\": False,\n",
    "        \"The presence of multiple dimensions exponentially increases the number of \\\n",
    "            parameter combinations to check, resulting in significant computational \\\n",
    "                intensity\": True,\n",
    "    },\n",
    "    'The grid search algorithm could get \"stuck\" in a region with a local minimum': {\n",
    "        \"True\": False,\n",
    "        \"False\": True,\n",
    "    },\n",
    "}\n",
    "\n",
    "from epp_topics.quiz_utilities import display_quiz\n",
    "\n",
    "display_quiz(content)"
   ]
  }
 ],
 "metadata": {
  "language_info": {
   "codemirror_mode": {
    "name": "ipython",
    "version": 3
   },
   "file_extension": ".py",
   "mimetype": "text/x-python",
   "name": "python",
   "nbconvert_exporter": "python",
   "pygments_lexer": "ipython3"
  }
 },
 "nbformat": 4,
 "nbformat_minor": 2
}
