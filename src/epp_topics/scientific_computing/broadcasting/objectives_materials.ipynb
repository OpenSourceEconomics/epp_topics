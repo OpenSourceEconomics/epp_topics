{
 "cells": [
  {
   "cell_type": "markdown",
   "metadata": {},
   "source": [
    "# Broadcasting\n",
    "\n",
    "## Learning Objectives\n",
    "\n",
    "After working through this topic, you should be able to:\n",
    "\n",
    "- Identify situations in which you can use numpy's broadcasting rules \n",
    "- Explain the basic idea of broadcasting\n",
    "- Employ broadcasting in very simple examples\n",
    "- Remember how to go about getting started once you'll need it.\n",
    "\n",
    "## Materials\n",
    "\n",
    "Here is the\n",
    "[screencast](https://player.uni-bonn.educast.nrw/6f94916c-eeae-4137-bf19-6e4af749d96b).\n",
    "These are the [slides](scientific_computing-broadcasting.pdf).\n",
    "\n",
    "## Additional Materials\n",
    "\n",
    "- The numpy [documentation](https://numpy.org/doc/stable/user/basics.broadcasting.html)\n",
    "\n",
    "\n",
    "## Quiz"
   ]
  },
  {
   "cell_type": "code",
   "execution_count": null,
   "metadata": {
    "tags": [
     "remove-input"
    ]
   },
   "outputs": [],
   "source": [
    "from epp_topics.quiz_utilities import display_quiz\n",
    "\n",
    "content = {\n",
    "    \"What are benefits of broadcasting?\": {\n",
    "        \"Your code becomes more concise\": True,\n",
    "        \"You save memory because you do not have to repeat an array\": True,\n",
    "        \"It is very fast\": True,\n",
    "        \"It is super simple\": False,\n",
    "    },\n",
    "}\n",
    "\n",
    "display_quiz(content)"
   ]
  }
 ],
 "metadata": {
  "language_info": {
   "codemirror_mode": {
    "name": "ipython",
    "version": 3
   },
   "file_extension": ".py",
   "mimetype": "text/x-python",
   "name": "python",
   "nbconvert_exporter": "python",
   "pygments_lexer": "ipython3"
  }
 },
 "nbformat": 4,
 "nbformat_minor": 2
}
