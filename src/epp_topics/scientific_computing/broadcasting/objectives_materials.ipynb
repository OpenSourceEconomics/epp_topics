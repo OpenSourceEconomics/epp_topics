{
 "cells": [
  {
   "cell_type": "markdown",
   "metadata": {},
   "source": [
    "# Broadcasting\n",
    "\n",
    "## Learning Objectives\n",
    "\n",
    "After working through this topic, you should be able to:\n",
    "\n",
    "- Identify situations in which you can use numpy's broadcasting rules \n",
    "- Explain the basic idea of broadcasting\n",
    "- Employ broadcasting in very simple examples\n",
    "- Remember how to go about getting started once you'll need it.\n",
    "\n",
    "## Materials\n",
    "\n",
    "Here is the\n",
    "[screencast](https://electure.uni-bonn.de/static/mh_default_org/engage-player/6f94916c-eeae-4137-bf19-6e4af749d96b/232c6c5d-d21a-4472-aab0-c817c056c641/076a0ab7-84d4-447c-8776-dac809920e9c.mp4).\n",
    "These are the [slides](scientific_computing-broadcasting.pdf).\n",
    "\n",
    "## Additional Materials\n",
    "\n",
    "- The numpy [documentation](https://numpy.org/doc/stable/user/basics.broadcasting.html)\n",
    "\n",
    "\n",
    "## Quiz"
   ]
  },
  {
   "cell_type": "code",
   "execution_count": null,
   "metadata": {
    "tags": [
     "remove-input"
    ]
   },
   "outputs": [],
   "source": [
    "from epp_topics.quiz_utilities import display_quiz\n",
    "\n",
    "content = {\n",
    "    \"Broadcasting:\": {\n",
    "        \"Is an explicit operation to perform on arrays\": False,\n",
    "        \"Consists in expanding some dimensions of an array\": True,\n",
    "        \"Enables to perform some operations that require arrays of the same dimensions \\\n",
    "            between arrays with different shapes\": True,\n",
    "        \"Enables operations between arrays of every shape\": False,\n",
    "    },\n",
    "    \"What are benefits of broadcasting?\": {\n",
    "        \"Your code becomes more concise\": True,\n",
    "        \"You save memory because you do not have to repeat an array\": True,\n",
    "        \"It is very fast\": True,\n",
    "        \"It is super simple\": False,\n",
    "    },\n",
    "    \"What are examples of broadcasting?\": {\n",
    "        \"Adding a scalar to an array\": True,\n",
    "        \"Adding two matrices with the same shape\": False,\n",
    "        \"Adding a vector of length 3 to a matrix with shape (5, 3)\": True,\n",
    "        \"Multiplying two matrices with the `@` operatior\": False,\n",
    "    },\n",
    "    \"When checking whether two arrays are compatible for broadcasting:\": {\n",
    "        \"You try to match the dimensions of the two arrays from \\\n",
    "            the last to the first\": True,\n",
    "        \"You try to match the dimensions of the two arrays from \\\n",
    "            the first to the last\": True,\n",
    "    },\n",
    "    \"A good idea if your are not confident about how to use broadcasting is to:\": {\n",
    "        \"Look at the documentation\": True,\n",
    "        \"Look back at the slides\": True,\n",
    "        \"Do some toy examples\": True,\n",
    "        \"Try different ways of implementing on your database\": False,\n",
    "    },\n",
    "    \"Suppose you have a two dimensional array of shape (n,k) which represents \\\n",
    "        the grades of n students in k courses. Suppose that courses offered \\\n",
    "        different number of credits. Suppose further that the number of credits \\\n",
    "        of each course is stored in an array of shape (k,). \\\n",
    "        How could you highlight which course contributed the most to the final GPA?\": {\n",
    "        \"Expand the array of the credits to match the dimension of the grades array \\\n",
    "            and perform an element wise multiplication\": False,\n",
    "        \"Perform an element-wise multiplication\": True,\n",
    "        \"Reshape both arrays and perform an element-wise multiplication\": False,\n",
    "        \"Perform a matrix multiplication\": False,\n",
    "    },\n",
    "}\n",
    "\n",
    "display_quiz(content)"
   ]
  }
 ],
 "metadata": {
  "language_info": {
   "codemirror_mode": {
    "name": "ipython",
    "version": 3
   },
   "file_extension": ".py",
   "mimetype": "text/x-python",
   "name": "python",
   "nbconvert_exporter": "python",
   "pygments_lexer": "ipython3"
  }
 },
 "nbformat": 4,
 "nbformat_minor": 2
}
