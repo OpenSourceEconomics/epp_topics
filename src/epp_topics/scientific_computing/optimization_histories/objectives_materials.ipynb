{
 "cells": [
  {
   "cell_type": "markdown",
   "metadata": {},
   "source": [
    "# Visualizing optimizer histories\n",
    "\n",
    "## Learning Objectives\n",
    "\n",
    "After working through this topic, you should be able to:\n",
    "\n",
    "- Use estimagic's criterion_plot to visualize the history of an optimization\n",
    "- Explain why it is important to look at optimizer histories\n",
    "\n",
    "## Materials\n",
    "\n",
    "<iframe width=\"560\" height=\"315\" src=\"https://www.youtube.com/embed/wQWWW8rlxmY?si=wdNqimepD_soDZNJ\" title=\"YouTube video player\" frameborder=\"0\" allow=\"accelerometer; autoplay; clipboard-write; encrypted-media; gyroscope; picture-in-picture; web-share\" allowfullscreen></iframe>\n",
    "\n",
    "These are the [slides](scientific_computing-optimization_histories.pdf).\n",
    "\n",
    "## Quiz"
   ]
  },
  {
   "cell_type": "code",
   "execution_count": null,
   "metadata": {
    "tags": [
     "remove-input"
    ]
   },
   "outputs": [],
   "source": [
    "from epp_topics.quiz_utilities import display_quiz\n",
    "\n",
    "content = {\n",
    "    \"What are valid inputs to `em.criterion_plot`?\": {\n",
    "        \"An OptimizeResult\": True,\n",
    "        \"A path to an estimagic log file\": True,\n",
    "        \"A dictionary of the above\": True,\n",
    "    },\n",
    "    \"What can you learn when looking at the criterion plot of two optimizers\": {\n",
    "        \"Which optimizer was faster\": True,\n",
    "        \"Which optimizer found the better solution\": True,\n",
    "        \"Whether any of the two optimizers found the global optimum\": False,\n",
    "        \"Whether you picked the perfect optimizer for your problem\": False,\n",
    "    },\n",
    "    \"Why are there typically no guarantees that you will get a (global) optimum?\": {\n",
    "        \"Assumptions of convergence proofs might not hold in practice\": True,\n",
    "        \"Optimizers in Python are implemented very badly\": False,\n",
    "        \"Convergence proofs of local optimizers say nothing about global optima\": True,\n",
    "    },\n",
    "}\n",
    "\n",
    "display_quiz(content)"
   ]
  }
 ],
 "metadata": {
  "language_info": {
   "codemirror_mode": {
    "name": "ipython",
    "version": 3
   },
   "file_extension": ".py",
   "mimetype": "text/x-python",
   "name": "python",
   "nbconvert_exporter": "python",
   "pygments_lexer": "ipython3"
  }
 },
 "nbformat": 4,
 "nbformat_minor": 2
}
