{
 "cells": [
  {
   "cell_type": "markdown",
   "metadata": {},
   "source": [
    "# Using estimagic's minimize and maximize\n",
    "\n",
    "## Learning Objectives\n",
    "\n",
    "After working through this topic, you should be able to:\n",
    "\n",
    "- Use estimagic's minimize and maximize function\n",
    "- Specify bounds for parameters \n",
    "- Choose a suitable format and data structure for the parameters you want to optimize\n",
    "\n",
    "## Materials\n",
    "\n",
    "Here is the\n",
    "[screencast](https://player.uni-bonn.educast.nrw/xxx).\n",
    "These are the [slides](scientific_computing-optimization_mechanics.pdf).\n",
    "\n",
    "## Quiz"
   ]
  },
  {
   "cell_type": "code",
   "execution_count": null,
   "metadata": {
    "tags": [
     "remove-input"
    ]
   },
   "outputs": [],
   "source": [
    "from epp_topics.quiz_utilities import display_quiz\n",
    "\n",
    "content = {\n",
    "    \"How do you maximize a function using estimagic\": {\n",
    "        \"Flip the sign of the function and minimize it\": False,\n",
    "        \"Simply use `maximize` instead of `minimize`\": True,\n",
    "    },\n",
    "    \"What is the default optimizer in estimagic\": {\n",
    "        \"scipy_lbfgsb\": False,\n",
    "        \"scipy_neldermead\": False,\n",
    "        \"scipy_slsqp\": False,\n",
    "        \"There is no default optimizer\": True,\n",
    "    },\n",
    "}\n",
    "\n",
    "display_quiz(content)"
   ]
  }
 ],
 "metadata": {
  "language_info": {
   "codemirror_mode": {
    "name": "ipython",
    "version": 3
   },
   "file_extension": ".py",
   "mimetype": "text/x-python",
   "name": "python",
   "nbconvert_exporter": "python",
   "pygments_lexer": "ipython3"
  }
 },
 "nbformat": 4,
 "nbformat_minor": 2
}
