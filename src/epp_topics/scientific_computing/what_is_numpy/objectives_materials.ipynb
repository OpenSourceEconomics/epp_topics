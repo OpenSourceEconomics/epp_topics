{
 "cells": [
  {
   "cell_type": "markdown",
   "metadata": {},
   "source": [
    "# What is numpy?\n",
    "\n",
    "## Learning Objectives\n",
    "\n",
    "After working through this topic, you should be able to:\n",
    "\n",
    "- Explain what an array is \n",
    "- Use mental models to think about 1, 2, 3 and higher dimensional arrays\n",
    "- Explain why arrays are essential for writing fast numerical code\n",
    "\n",
    "## Materials\n",
    "\n",
    "Here is [screencast](https://player.uni-bonn.educast.nrw/xxx). These are the\n",
    "[slides](scientific_computing-what_is_numpy.pdf).\n",
    "\n",
    "\n",
    "## Quiz"
   ]
  },
  {
   "cell_type": "code",
   "execution_count": null,
   "metadata": {
    "tags": [
     "remove-input"
    ]
   },
   "outputs": [],
   "source": [
    "from epp_topics.quiz_utilities import display_quiz\n",
    "\n",
    "content = {\n",
    "    \"What are good ways to think about a 2d array\": {\n",
    "        \"A matrix\": True,\n",
    "        \"Something like a 'list' of row vectors\": True,\n",
    "        \"A vector\": False,\n",
    "        \"A special case of a n-dimensional tensor\": False,\n",
    "    },\n",
    "    \"What is numpy?\": {\n",
    "        \"A library that implements n-dimensional arrays\": True,\n",
    "        \"A library that lets you write fast loops in Python\": False,\n",
    "        \"A library that implements fast mathematical functions\": True,\n",
    "        \"A library for data management.\": False,\n",
    "    },\n",
    "}\n",
    "\n",
    "display_quiz(content)"
   ]
  }
 ],
 "metadata": {
  "language_info": {
   "codemirror_mode": {
    "name": "ipython",
    "version": 3
   },
   "file_extension": ".py",
   "mimetype": "text/x-python",
   "name": "python",
   "nbconvert_exporter": "python",
   "pygments_lexer": "ipython3"
  }
 },
 "nbformat": 4,
 "nbformat_minor": 2
}
