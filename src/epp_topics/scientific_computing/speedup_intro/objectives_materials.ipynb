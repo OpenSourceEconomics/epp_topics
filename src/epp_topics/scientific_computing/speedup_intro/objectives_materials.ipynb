{
 "cells": [
  {
   "cell_type": "markdown",
   "metadata": {},
   "source": [
    "# Introduction to making code fast\n",
    "\n",
    "## Learning Objectives\n",
    "\n",
    "After working through this topic, you should be able to:\n",
    "\n",
    "- Appreciate that execution speed can vary within one language\n",
    "- List examples that show that Python can be really fast\n",
    "- Explain why it is important to focus on bottlenecks \n",
    "- Use a rigorous process to make your code faster\n",
    "\n",
    "## Materials\n",
    "\n",
    "Here is the\n",
    "[screencast](https://player.uni-bonn.educast.nrw/xxx).\n",
    "These are the [slides](scientific_computing-speedup_intro.pdf).\n",
    "\n",
    "## Quiz"
   ]
  },
  {
   "cell_type": "code",
   "execution_count": null,
   "metadata": {
    "tags": [
     "remove-input"
    ]
   },
   "outputs": [],
   "source": [
    "from epp_topics.quiz_utilities import display_quiz\n",
    "\n",
    "content = {\n",
    "    \"Which of the following is correct?\": {\n",
    "        \"Python is always slower than Julia, C or Fortran.\": False,\n",
    "        \"Python can be slow but it can also be made fast\": True,\n",
    "        \"If your program is too slow, you should rewrite it in a fast language\": False,\n",
    "        \"To get fast code you need to optimize every single line\": False,\n",
    "    },\n",
    "    \"How can you find bottlenecks in your code?\": {\n",
    "        \"Use a profiler\": True,\n",
    "        \"Iteratively comment out code and measure the runtime of the rest\": False,\n",
    "        \"Use a debugger\": False,\n",
    "        \"Mathematical analysis of your algorithm\": False,\n",
    "    },\n",
    "    \"What is the root of all evil?\": {\n",
    "        \"Premature optimization\": True,\n",
    "        \"Python\": False,\n",
    "    },\n",
    "    \"Why should you focus on making your code faster on one core first?\": {\n",
    "        \"Speed can vary within a language and it is possible to get 100x speedup\": True,\n",
    "        \"It is hard to parallelize efficiently\": True,\n",
    "        \"Using large machines is inconvenient and can slow down development\": True,\n",
    "        \"You are too lazy to learn how to parallelize\": False,\n",
    "    },\n",
    "}\n",
    "\n",
    "display_quiz(content)"
   ]
  }
 ],
 "metadata": {
  "language_info": {
   "codemirror_mode": {
    "name": "ipython",
    "version": 3
   },
   "file_extension": ".py",
   "mimetype": "text/x-python",
   "name": "python",
   "nbconvert_exporter": "python",
   "pygments_lexer": "ipython3"
  }
 },
 "nbformat": 4,
 "nbformat_minor": 2
}
