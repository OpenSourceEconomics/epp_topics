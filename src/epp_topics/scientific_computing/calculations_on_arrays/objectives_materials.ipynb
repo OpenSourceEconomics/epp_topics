{
 "cells": [
  {
   "cell_type": "markdown",
   "metadata": {},
   "source": [
    "# Calculations on arrays\n",
    "\n",
    "## Learning Objectives\n",
    "\n",
    "After working through this topic, you should be able to:\n",
    "\n",
    "- Apply mathematical functions to arrays\n",
    "- Apply reductions to arrays\n",
    "- Explain the benefits of writing vectorized code in numpy\n",
    "\n",
    "## Materials\n",
    "\n",
    "Video:\n",
    "\n",
    "<iframe\n",
    "  src=\"https://electure.uni-bonn.de/paella7/ui/watch.html?id=fcc9a140-1adc-403f-807d-1f69ff6abceb\"\n",
    "  width=\"640\"\n",
    "  height=\"360\"\n",
    "  frameborder=\"0\"\n",
    "  allowfullscreen\n",
    "></iframe>\n",
    "\n",
    "Download the [slides](scientific_computing-calculations_on_arrays.pdf).\n",
    "\n",
    "\n",
    "\n",
    "\n",
    "## Quiz"
   ]
  },
  {
   "cell_type": "code",
   "execution_count": null,
   "metadata": {
    "tags": [
     "remove-input"
    ]
   },
   "outputs": [],
   "source": [
    "from epp_topics.quiz_utilities import display_quiz\n",
    "\n",
    "content = {\n",
    "    \"How are most numpy functions applied to arrays?\": {\n",
    "        \"element-wise\": True,\n",
    "        \"row-wise\": False,\n",
    "        \"column-wise\": False,\n",
    "    },\n",
    "    \"What is a reduction\": {\n",
    "        \"A function that takes in multiple numbers and returns a single number\": True,\n",
    "        \"A fast element-wise function in numpy\": False,\n",
    "        \"A function that takes in multiple numbers and returns an array\": False,\n",
    "        \"A contraction mapping\": False,\n",
    "    },\n",
    "    \"What does it mean when a function is vectorized?\": {\n",
    "        \"The function can be applied to an entire array at once\": True,\n",
    "        \"The function takes 1d numpy arrays (vectors) as inputs\": False,\n",
    "        \"The function is much faster than an equivalent for loop\": True,\n",
    "        \"The function is much faster than an equivalent list comprehension\": True,\n",
    "    },\n",
    "    \"Suppose you have a 2 dimensional array of shape (n,k). \\\n",
    "        Each raw represents a student and each column represents the grades \\\n",
    "        of the students in k subjects. To obtain the gpa of each student:\": {\n",
    "        \"GPA is not so important, the important is what the students learned\": True,\n",
    "        \"your_array.mean()\": False,\n",
    "        \"your_array.mean(axis = 0)\": False,\n",
    "        \"your_array.mean(axis = 1)\": True,\n",
    "    },\n",
    "}\n",
    "\n",
    "display_quiz(content)"
   ]
  }
 ],
 "metadata": {
  "language_info": {
   "codemirror_mode": {
    "name": "ipython",
    "version": 3
   },
   "file_extension": ".py",
   "mimetype": "text/x-python",
   "name": "python",
   "nbconvert_exporter": "python",
   "pygments_lexer": "ipython3"
  }
 },
 "nbformat": 4,
 "nbformat_minor": 2
}
