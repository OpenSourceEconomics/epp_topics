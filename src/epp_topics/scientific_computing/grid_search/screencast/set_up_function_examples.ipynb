{
 "cells": [
  {
   "cell_type": "markdown",
   "metadata": {},
   "source": [
    "# Grid Search: Example Notebook"
   ]
  },
  {
   "cell_type": "code",
   "execution_count": null,
   "metadata": {},
   "outputs": [],
   "source": [
    "import pandas as pd\n",
    "import numpy as np\n",
    "from simple_optimisers import plot_function, "
   ]
  },
  {
   "cell_type": "code",
   "execution_count": null,
   "metadata": {},
   "outputs": [],
   "source": [
    "WEIGHTS = [\n",
    "    9.003014962148157,\n",
    "    -3.383000146393776,\n",
    "    -0.6037887934635748,\n",
    "    1.6984454347036886,\n",
    "    -0.9447426232680957,\n",
    "    0.2669069434366247,\n",
    "    -0.04446368897497234,\n",
    "    0.00460781796708519,\n",
    "    -0.0003000790127508276,\n",
    "    1.1934114174145725e-05,\n",
    "    -2.6471293419570505e-07,\n",
    "    2.5090819960943964e-09,\n",
    "]"
   ]
  },
  {
   "cell_type": "markdown",
   "metadata": {},
   "source": []
  },
  {
   "cell_type": "markdown",
   "metadata": {},
   "source": []
  }
 ],
 "metadata": {
  "language_info": {
   "codemirror_mode": {
    "name": "ipython",
    "version": 3
   },
   "file_extension": ".py",
   "mimetype": "text/x-python",
   "name": "python",
   "nbconvert_exporter": "python",
   "pygments_lexer": "ipython3"
  }
 },
 "nbformat": 4,
 "nbformat_minor": 2
}
