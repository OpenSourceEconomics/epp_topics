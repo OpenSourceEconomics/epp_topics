{
 "cells": [
  {
   "cell_type": "markdown",
   "metadata": {},
   "source": [
    "# Array indexing\n",
    "\n",
    "## Learning Objectives\n",
    "\n",
    "After working through this topic, you should be able to:\n",
    "\n",
    "- Select individual elements of arrays\n",
    "- Select slices of arrays\n",
    "- Select rows or columns of 2 dimensional arrays \n",
    "- Use boolean indexing\n",
    "\n",
    "## Materials\n",
    "\n",
    "Video:\n",
    "\n",
    "<iframe\n",
    "  src=\"https://electure.uni-bonn.de/paella7/ui/watch.html?id=700201ff-14ca-46e0-83df-01ee5457ac26\"\n",
    "  width=\"640\"\n",
    "  height=\"360\"\n",
    "  frameborder=\"0\"\n",
    "  allowfullscreen\n",
    "></iframe>\n",
    "\n",
    "Download the [slides](scientific_computing-indexing.pdf).\n",
    "\n",
    "\n",
    "\n",
    "\n",
    "\n",
    "- Numpy [documentation](https://numpy.org/doc/stable/user/basics.indexing.html) on indexing\n",
    "\n",
    "\n",
    "## Quiz"
   ]
  },
  {
   "cell_type": "code",
   "execution_count": null,
   "metadata": {
    "tags": [
     "remove-input"
    ]
   },
   "outputs": [],
   "source": [
    "from epp_topics.quiz_utilities import display_quiz\n",
    "\n",
    "content = {\n",
    "    \"The purpose of indexing is:\": {\n",
    "        \"Select subsets of an array\": True,\n",
    "        \"Create numpy arrays from lists\": False,\n",
    "        \"Reshape numpy arrays\": False,\n",
    "        \"Create copies of arrays\": False,\n",
    "    },\n",
    "    \"What are differences between numpy arrays and lists?\": {\n",
    "        \"Arrays support boolean indexing\": True,\n",
    "        \"In arrays, the index `-1` selects the last element\": False,\n",
    "        \"List indexing is more flexible but array indexing is faster\": False,\n",
    "        \"Array indexing generalizes to higher dimensions\": True,\n",
    "    },\n",
    "    \"If you have a two dimensional array, then your_array(4) returns\": {\n",
    "        \"An error message unless your array has at least 4 rows\": True,\n",
    "        \"The forth column\": False,\n",
    "        \"The forth element of the first row\": False,\n",
    "        \"The forth row\": True,\n",
    "    },\n",
    "    \"For reshaping an array, in addition to the the .reshape attribute, you can:\": {\n",
    "        \"There no other reasonable ways of reshaping an array\": True,\n",
    "        \"You can slice the array\": False,\n",
    "        \"You can use boolean indexing\": False,\n",
    "    },\n",
    "}\n",
    "\n",
    "display_quiz(content)"
   ]
  }
 ],
 "metadata": {
  "language_info": {
   "codemirror_mode": {
    "name": "ipython",
    "version": 3
   },
   "file_extension": ".py",
   "mimetype": "text/x-python",
   "name": "python",
   "nbconvert_exporter": "python",
   "pygments_lexer": "ipython3"
  }
 },
 "nbformat": 4,
 "nbformat_minor": 2
}
