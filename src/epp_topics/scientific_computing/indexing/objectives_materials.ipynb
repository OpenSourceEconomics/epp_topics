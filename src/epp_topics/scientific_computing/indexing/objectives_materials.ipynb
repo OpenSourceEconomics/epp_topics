{
 "cells": [
  {
   "cell_type": "markdown",
   "metadata": {},
   "source": [
    "# Array indexing\n",
    "\n",
    "## Learning Objectives\n",
    "\n",
    "After working through this topic, you should be able to:\n",
    "\n",
    "- Select individual elements of arrays\n",
    "- Select slices of arrays\n",
    "- Select rows or columns of 2 dimensional arrays \n",
    "- Use boolean indexing\n",
    "\n",
    "## Materials\n",
    "\n",
    "Here is the\n",
    "[screencast](https://player.uni-bonn.educast.nrw/700201ff-14ca-46e0-83df-01ee5457ac26).\n",
    "These are the [slides](scientific_computing-indexing.pdf).\n",
    "\n",
    "## Additional Materials\n",
    "\n",
    "- Numpy [documentation](https://numpy.org/doc/stable/user/basics.indexing.html) on indexing\n",
    "\n",
    "\n",
    "## Quiz"
   ]
  },
  {
   "cell_type": "code",
   "execution_count": null,
   "metadata": {
    "tags": [
     "remove-input"
    ]
   },
   "outputs": [],
   "source": [
    "from epp_topics.quiz_utilities import display_quiz\n",
    "\n",
    "content = {\n",
    "    \"The purpose of indexing is:\": {\n",
    "        \"Select subsets of an array\": True,\n",
    "        \"Create numpy arrays from lists\": False,\n",
    "        \"Reshape numpy arrays\": False,\n",
    "        \"Create copies of arrays\": False,\n",
    "    },\n",
    "    \"What are differences between numpy arrays and lists?\": {\n",
    "        \"Arrays support boolean indexing\": True,\n",
    "        \"In arrays, the index `-1` selects the last element\": False,\n",
    "        \"List indexing is more flexible but array indexing is faster\": False,\n",
    "        \"Array indexing generalizes to higher dimensions\": True,\n",
    "    },\n",
    "}\n",
    "\n",
    "display_quiz(content)"
   ]
  }
 ],
 "metadata": {
  "language_info": {
   "codemirror_mode": {
    "name": "ipython",
    "version": 3
   },
   "file_extension": ".py",
   "mimetype": "text/x-python",
   "name": "python",
   "nbconvert_exporter": "python",
   "pygments_lexer": "ipython3"
  }
 },
 "nbformat": 4,
 "nbformat_minor": 2
}
