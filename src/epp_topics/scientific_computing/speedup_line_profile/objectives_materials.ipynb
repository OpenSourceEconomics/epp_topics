{
 "cells": [
  {
   "cell_type": "markdown",
   "metadata": {},
   "source": [
    "# Line profiling\n",
    "\n",
    "## Learning Objectives\n",
    "\n",
    "After working through this topic, you should be able to:\n",
    "\n",
    "- \n",
    "\n",
    "## Materials\n",
    "\n",
    "Here is the\n",
    "[screencast](https://player.uni-bonn.educast.nrw/xxx).\n",
    "These are the [slides](scientific_computing-speedup_line_profile.pdf).\n",
    "\n",
    "## Additional Materials\n",
    "\n",
    "- \n",
    "\n",
    "\n",
    "## Quiz"
   ]
  },
  {
   "cell_type": "code",
   "execution_count": null,
   "metadata": {
    "tags": [
     "remove-input"
    ]
   },
   "outputs": [],
   "source": [
    "from epp_topics.quiz_utilities import display_quiz\n",
    "\n",
    "content = {\n",
    "    \"What does a line-profiler do?\": {\n",
    "        \"Precisely measure the runtime of your function\": False,\n",
    "        \"Show yoy the line-by-line runtime of your function\": True,\n",
    "        \"Disaggregate the runtime of your code by individual functions\": False,\n",
    "    },\n",
    "    \"In which part of the process should you use a line-profiler?\": {\n",
    "        \"When you have replaced all loops and it still runs too slow\": False,\n",
    "        \"After you found a slow function with snakeviz but before you make changes\": (\n",
    "            True\n",
    "        ),\n",
    "    },\n",
    "    \"In which applications is a profiler like snakeviz most useful?\": {\n",
    "        \"You have a large codebase and want to know where most time is spent\": False,\n",
    "        (\n",
    "            \"You know that most time is spent in one function and want to know in \"\n",
    "            \"which line\"\n",
    "        ): True,\n",
    "    },\n",
    "}\n",
    "\n",
    "display_quiz(content)"
   ]
  }
 ],
 "metadata": {
  "language_info": {
   "codemirror_mode": {
    "name": "ipython",
    "version": 3
   },
   "file_extension": ".py",
   "mimetype": "text/x-python",
   "name": "python",
   "nbconvert_exporter": "python",
   "pygments_lexer": "ipython3"
  }
 },
 "nbformat": 4,
 "nbformat_minor": 2
}
