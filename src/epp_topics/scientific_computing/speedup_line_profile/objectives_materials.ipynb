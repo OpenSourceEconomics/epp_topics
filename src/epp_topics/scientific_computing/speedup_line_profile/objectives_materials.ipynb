{
 "cells": [
  {
   "cell_type": "markdown",
   "metadata": {},
   "source": [
    "# Line profiling\n",
    "\n",
    "## Learning Objectives\n",
    "\n",
    "After working through this topic, you should be able to:\n",
    "\n",
    "- Use a line-profile to detect how much time is spent in each line of your code\n",
    "\n",
    "## Materials\n",
    "\n",
    "<iframe width=\"560\" height=\"315\" src=\"https://www.youtube.com/embed/m9m1_MREGJs?si=Gz9_dGQ5F3gA1PfZ\" title=\"YouTube video player\" frameborder=\"0\" allow=\"accelerometer; autoplay; clipboard-write; encrypted-media; gyroscope; picture-in-picture; web-share\" allowfullscreen></iframe>\n",
    "\n",
    "Download the [slides](scientific_computing-speedup_line_profile.pdf).\n",
    "\n",
    "\n",
    "## Quiz"
   ]
  },
  {
   "cell_type": "code",
   "execution_count": null,
   "metadata": {
    "tags": [
     "remove-input"
    ]
   },
   "outputs": [],
   "source": [
    "from epp_topics.quiz_utilities import display_quiz\n",
    "\n",
    "content = {\n",
    "    \"What does a line-profiler do?\": {\n",
    "        \"Precisely measure the runtime of your function\": False,\n",
    "        \"Show yoy the line-by-line runtime of your function\": True,\n",
    "        \"Disaggregate the runtime of your code by individual functions\": False,\n",
    "    },\n",
    "    \"In which part of the process should you use a line-profiler?\": {\n",
    "        \"When you have replaced all loops and it still runs too slow\": False,\n",
    "        \"After you found a slow function with snakeviz but before you make changes\": (\n",
    "            True\n",
    "        ),\n",
    "    },\n",
    "    \"In which applications is a profiler like snakeviz most useful?\": {\n",
    "        \"You have a large codebase and want to know where most time is spent\": True,\n",
    "        (\n",
    "            \"You know that most time is spent in one function and want to know in \"\n",
    "            \"which line\"\n",
    "        ): False,\n",
    "    },\n",
    "}\n",
    "\n",
    "display_quiz(content)"
   ]
  }
 ],
 "metadata": {
  "language_info": {
   "codemirror_mode": {
    "name": "ipython",
    "version": 3
   },
   "file_extension": ".py",
   "mimetype": "text/x-python",
   "name": "python",
   "nbconvert_exporter": "python",
   "pygments_lexer": "ipython3"
  }
 },
 "nbformat": 4,
 "nbformat_minor": 2
}
