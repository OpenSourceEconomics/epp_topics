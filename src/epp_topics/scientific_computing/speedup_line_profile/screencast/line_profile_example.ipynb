{
 "cells": [
  {
   "cell_type": "code",
   "execution_count": null,
   "metadata": {},
   "outputs": [],
   "source": [
    "import numpy as np\n",
    "\n",
    "%load_ext line_profiler"
   ]
  },
  {
   "cell_type": "code",
   "execution_count": null,
   "metadata": {},
   "outputs": [],
   "source": [
    "k = 5\n",
    "n = 10_000\n",
    "\n",
    "rng = np.random.default_rng(93726483)\n",
    "factors = rng.uniform(0.1, 3, size=(n, k))\n",
    "weights = np.array([0.2, 0.1, 0.3, 0.2, 0.2])\n",
    "a = 1.2\n",
    "\n",
    "\n",
    "def array_cobb_douglas(factors, weights, a):\n",
    "    out = np.empty(len(factors))\n",
    "    for i in range(len(factors)):\n",
    "        out[i] = _cobb_douglas(factors[i], weights, a)\n",
    "    return out\n",
    "\n",
    "\n",
    "def _cobb_douglas(factors, weights, a):\n",
    "    return a * np.prod(factors**weights)"
   ]
  },
  {
   "cell_type": "code",
   "execution_count": null,
   "metadata": {},
   "outputs": [],
   "source": [
    "%lprun -f _cobb_douglas array_cobb_douglas(factors, weights, a)"
   ]
  },
  {
   "cell_type": "code",
   "execution_count": null,
   "metadata": {},
   "outputs": [],
   "source": []
  }
 ],
 "metadata": {
  "language_info": {
   "codemirror_mode": {
    "name": "ipython",
    "version": 3
   },
   "file_extension": ".py",
   "mimetype": "text/x-python",
   "name": "python",
   "nbconvert_exporter": "python",
   "pygments_lexer": "ipython3"
  }
 },
 "nbformat": 4,
 "nbformat_minor": 4
}
