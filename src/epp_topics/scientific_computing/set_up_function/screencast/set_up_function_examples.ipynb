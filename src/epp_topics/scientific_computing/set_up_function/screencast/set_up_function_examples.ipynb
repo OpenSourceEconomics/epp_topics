{
 "cells": [
  {
   "cell_type": "markdown",
   "metadata": {},
   "source": [
    "# Set up Functions for Numerical Optimization: Example Notebook"
   ]
  },
  {
   "cell_type": "code",
   "execution_count": null,
   "metadata": {},
   "outputs": [],
   "source": [
    "import numpy as np\n",
    "import pandas as pd\n",
    "from simple_optimisers import plot_function"
   ]
  },
  {
   "cell_type": "markdown",
   "metadata": {},
   "source": [
    "## Calculate the Criterion, Gradient, and Hessian"
   ]
  },
  {
   "cell_type": "code",
   "execution_count": null,
   "metadata": {},
   "outputs": [],
   "source": [
    "def _unpack_x(x):\n",
    "    if hasattr(x, \"__len__\"):\n",
    "        assert len(x) == 1\n",
    "\n",
    "    if isinstance(x, pd.DataFrame):\n",
    "        res = x[\"value\"].to_numpy()[0]\n",
    "    elif isinstance(x, pd.Series):\n",
    "        res = x.to_numpy()[0]\n",
    "    elif isinstance(x, np.ndarray | list | tuple):\n",
    "        res = x[0]\n",
    "    else:\n",
    "        res = float(x)\n",
    "    return res\n",
    "\n",
    "\n",
    "def example_criterion(x, weights):\n",
    "    x = _unpack_x(x)\n",
    "    exponents = np.arange(len(weights))\n",
    "    return weights @ x**exponents\n",
    "\n",
    "\n",
    "def example_gradient(x, weights):\n",
    "    x = _unpack_x(x)\n",
    "    exponents = np.arange(len(weights))\n",
    "    return (weights * exponents) @ x ** (exponents - 1).clip(0)\n",
    "\n",
    "\n",
    "def example_hessian(x, weights):\n",
    "    x = _unpack_x(x)\n",
    "    exponents = np.arange(len(weights))\n",
    "    return (weights * exponents * (exponents - 1)) @ x ** (exponents - 2).clip(0)"
   ]
  },
  {
   "cell_type": "markdown",
   "metadata": {},
   "source": [
    "## Plot the Criterion Function"
   ]
  },
  {
   "cell_type": "code",
   "execution_count": null,
   "metadata": {},
   "outputs": [],
   "source": [
    "weights = [\n",
    "    9.003014962148157,\n",
    "    -3.383000146393776,\n",
    "    -0.6037887934635748,\n",
    "    1.6984454347036886,\n",
    "    -0.9447426232680957,\n",
    "    0.2669069434366247,\n",
    "    -0.04446368897497234,\n",
    "    0.00460781796708519,\n",
    "    -0.0003000790127508276,\n",
    "    1.1934114174145725e-05,\n",
    "    -2.6471293419570505e-07,\n",
    "    2.5090819960943964e-09,\n",
    "]\n",
    "\n",
    "start_x = np.array([2])"
   ]
  },
  {
   "cell_type": "markdown",
   "metadata": {},
   "source": [
    "- The function has a local minimum at 9.594 and a global minimum at 17.37\n",
    "- It is twice continuously differentiable\n",
    "- It is not convex\n",
    "- In some areas it can be reasonably well approximated by a quadratic function, it others it cannot"
   ]
  },
  {
   "cell_type": "code",
   "execution_count": null,
   "metadata": {},
   "outputs": [],
   "source": [
    "plot_function(example_criterion, weights)"
   ]
  }
 ],
 "metadata": {
  "language_info": {
   "codemirror_mode": {
    "name": "ipython",
    "version": 3
   },
   "file_extension": ".py",
   "mimetype": "text/x-python",
   "name": "python",
   "nbconvert_exporter": "python",
   "pygments_lexer": "ipython3"
  }
 },
 "nbformat": 4,
 "nbformat_minor": 2
}
