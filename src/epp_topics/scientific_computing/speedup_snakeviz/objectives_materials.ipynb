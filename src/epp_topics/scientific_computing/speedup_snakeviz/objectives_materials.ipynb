{
 "cells": [
  {
   "cell_type": "markdown",
   "metadata": {},
   "source": [
    "# Profiling code with snakeviz\n",
    "\n",
    "## Learning Objectives\n",
    "\n",
    "After working through this topic, you should be able to:\n",
    "\n",
    "- Explain what a profiler does\n",
    "- Use `snakeviz` to profile your python function\n",
    "\n",
    "## Materials\n",
    "\n",
    "<iframe\n",
    "  src=\"https://electure.uni-bonn.de/paella7/ui/watch.html?id=84c8f4e7-59cf-443f-a089-a4cd068ae046\"\n",
    "  width=\"640\"\n",
    "  height=\"360\"\n",
    "  frameborder=\"0\"\n",
    "  allowfullscreen\n",
    "></iframe>\n",
    "\n",
    "Download the [slides](scientific_computing-speedup_snakeviz.pdf).\n",
    "\n",
    "\n",
    "## Quiz"
   ]
  },
  {
   "cell_type": "code",
   "execution_count": null,
   "metadata": {
    "tags": [
     "remove-input"
    ]
   },
   "outputs": [],
   "source": [
    "from epp_topics.quiz_utilities import display_quiz\n",
    "\n",
    "content = {\n",
    "    \"What does a profiler like snakeviz do?\": {\n",
    "        \"Precisely measure the runtime of your function\": False,\n",
    "        \"Show you the line-by-line runtime of your function\": False,\n",
    "        \"Disaggregate the runtime of your code by individual functions\": True,\n",
    "    },\n",
    "    \"In which applications is a profiler like snakeviz most useful?\": {\n",
    "        \"You have a large codebase and want to know where most time is spent\": True,\n",
    "        (\n",
    "            \"You know that most time is spent in one function and want to know in \"\n",
    "            \"which line\"\n",
    "        ): False,\n",
    "    },\n",
    "    \"In which part of the process should you use snakeviz?\": {\n",
    "        \"Before you make any changes to speed up your code\": True,\n",
    "        \"When you have replaced all loops and it still runs too slow\": False,\n",
    "    },\n",
    "}\n",
    "\n",
    "display_quiz(content)"
   ]
  }
 ],
 "metadata": {
  "language_info": {
   "codemirror_mode": {
    "name": "ipython",
    "version": 3
   },
   "file_extension": ".py",
   "mimetype": "text/x-python",
   "name": "python",
   "nbconvert_exporter": "python",
   "pygments_lexer": "ipython3"
  }
 },
 "nbformat": 4,
 "nbformat_minor": 2
}
