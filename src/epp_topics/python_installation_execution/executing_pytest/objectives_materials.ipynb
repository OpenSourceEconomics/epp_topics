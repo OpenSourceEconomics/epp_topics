{
 "cells": [
  {
   "cell_type": "markdown",
   "metadata": {},
   "source": [
    "# Running Python code via pytest\n",
    "\n",
    "## Learning Objectives\n",
    "\n",
    "After working through this topic, you should be able to:\n",
    "\n",
    "- Execute all tests in a project using pytest\n",
    "- Activate the correct environment for using pytest\n",
    "\n",
    "## Materials\n",
    "\n",
    "<iframe\n",
    "  src=\"https://electure.uni-bonn.de/paella7/ui/watch.html?id=31bef7c1-79cf-4281-98a8-3187d0ea9bdc\"\n",
    "  width=\"640\"\n",
    "  height=\"360\"\n",
    "  frameborder=\"0\"\n",
    "  allowfullscreen\n",
    "></iframe>\n",
    "\n",
    "Download the [slides](python_installation_execution-executing_pytest.pdf).\n",
    "\n",
    "\n",
    "See the pytest [command line\n",
    "interface](https://docs.pytest.org/en/stable/how-to/usage.html)\n"
   ]
  },
  {
   "cell_type": "code",
   "execution_count": null,
   "metadata": {
    "tags": [
     "remove-input"
    ]
   },
   "outputs": [],
   "source": [
    "from epp_topics.quiz_utilities import display_quiz\n",
    "\n",
    "content = {\n",
    "    \"In contrast to other ways of executing Python code\": {\n",
    "        \"Pytest runs multiple .py files at once\": False,\n",
    "        \"Pytest runs functions instead of entire `.py` files\": True,\n",
    "        \"Pytest works for notebooks and `.py` files\": False,\n",
    "        \"Pytests automatically install all dependencies for you\": False,\n",
    "    },\n",
    "    # \"Which of the following is true?\": {\n",
    "    #     \"Pytest only works if you define functions\": True,\n",
    "    #     \"If you use pytest, you don't need git\": False,\n",
    "    #     \"Pytest requires a very specific directory structure\": False,\n",
    "    # },\n",
    "}\n",
    "\n",
    "display_quiz(content)"
   ]
  }
 ],
 "metadata": {
  "language_info": {
   "codemirror_mode": {
    "name": "ipython",
    "version": 3
   },
   "file_extension": ".py",
   "mimetype": "text/x-python",
   "name": "python",
   "nbconvert_exporter": "python",
   "pygments_lexer": "ipython3"
  }
 },
 "nbformat": 4,
 "nbformat_minor": 2
}
