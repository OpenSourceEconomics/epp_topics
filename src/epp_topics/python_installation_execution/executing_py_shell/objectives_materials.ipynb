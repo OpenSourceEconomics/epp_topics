{
 "cells": [
  {
   "cell_type": "markdown",
   "metadata": {},
   "source": [
    "# Executing `.py` files from the shell\n",
    "\n",
    "## Learning Objectives\n",
    "\n",
    "After working through this topic, you should be able to:\n",
    "\n",
    "- Activate a conda environment in your shell\n",
    "- Execute python files from your shell\n",
    "\n",
    "## Materials\n",
    "\n",
    "We assume that you have already watched the screencasts on installation and have a \n",
    "fully working conda installation on your computer. \n",
    "\n",
    "We also assume that you have watched the screencasts on the shell and know how to \n",
    "navigate to directories in a shell. \n",
    "\n",
    "Here is the\n",
    "[screencast](https://electure.uni-bonn.de/static/mh_default_org/engage-player/fdb5d582-02db-4ccb-818a-d415de3bef61/7d268b7a-8dc1-4db2-94d0-7755876969eb/288d688d-84a4-4b70-9a31-31ea4ba16d38.mp4)\n",
    "and these are the [slides](python_installation_execution-executing_py_shell.pdf).\n",
    "\n",
    "\n",
    "```{note} \n",
    "VS Code uses a different mechanism to activate environments. So in case you are using\n",
    "a terminal integrated in VS Code, `conda activate epp` will have no effect.\n",
    "Instead:\n",
    "\n",
    "1. Open a Python file in the project\n",
    "1. Press `Ctrl+Shift+P` to open the command palette, type \"Python: Select Interpreter\",\n",
    "   and select the `epp` environment\n",
    "1. Make sure the correct interpreter is selected (see screenshot below)\n",
    "1. Open a new shell\n",
    "\n",
    "![](./interpreter_annotated.png)\n",
    "\n",
    "```\n",
    "\n",
    "\n",
    "\n",
    "## Quiz"
   ]
  },
  {
   "cell_type": "code",
   "execution_count": null,
   "metadata": {
    "tags": [
     "remove-input"
    ]
   },
   "outputs": [],
   "source": [
    "from jupyterquiz import display_quiz\n",
    "\n",
    "content = [\n",
    "    {\n",
    "        \"question\": (\n",
    "            \"Your project's folder contains the following files: exercise_1.py, \\\n",
    "            a folder called data, and a folder called results. Your shell is currently \\\n",
    "            in the data folder. Which of the following commands would you use to run \\\n",
    "            the exercise_1.py script?\"\n",
    "        ),\n",
    "        \"type\": \"many_choice\",\n",
    "        \"answers\": [\n",
    "            {\n",
    "                \"answer\": \"'python exercise_1.py'\",\n",
    "                \"correct\": False,\n",
    "                \"feedback\": \"This would work if you were in the folder containing \\\n",
    "                exercise_1.py.\",\n",
    "            },\n",
    "            {\n",
    "                \"answer\": \"'python ../exercise_1.py'\",\n",
    "                \"correct\": True,\n",
    "                \"feedback\": \"This works because ../ moves you up one folder, \\\n",
    "                    and then you can run the script from there.\",\n",
    "            },\n",
    "            {\n",
    "                \"answer\": \"'python ~/exercise_1.py'\",\n",
    "                \"correct\": False,\n",
    "                \"feedback\": \"This would work if you were in your home folder (on a \\\n",
    "                    Mac system).\",\n",
    "            },\n",
    "            {\n",
    "                \"answer\": \"'cd ..' and then 'python exercise_1.py'\",\n",
    "                \"correct\": True,\n",
    "                \"feedback\": \"This works because cd .. moves you up one folder, \\\n",
    "                    and then you can run the script from there.\",\n",
    "            },\n",
    "        ],\n",
    "    },\n",
    "]\n",
    "display_quiz(content, colors=\"fdsp\")"
   ]
  }
 ],
 "metadata": {
  "language_info": {
   "codemirror_mode": {
    "name": "ipython",
    "version": 3
   },
   "file_extension": ".py",
   "mimetype": "text/x-python",
   "name": "python",
   "nbconvert_exporter": "python",
   "pygments_lexer": "ipython3"
  }
 },
 "nbformat": 4,
 "nbformat_minor": 2
}
