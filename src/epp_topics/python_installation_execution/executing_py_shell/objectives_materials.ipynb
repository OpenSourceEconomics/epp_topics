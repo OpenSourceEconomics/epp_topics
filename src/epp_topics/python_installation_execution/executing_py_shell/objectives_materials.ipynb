{
 "cells": [
  {
   "cell_type": "markdown",
   "metadata": {},
   "source": [
    "# Executing `.py` files from the shell\n",
    "\n",
    "## Learning Objectives\n",
    "\n",
    "After working through this topic, you should be able to:\n",
    "\n",
    "- Activate a conda environment in your shell\n",
    "- Execute python files from your shell\n",
    "\n",
    "## Materials\n",
    "\n",
    "We assume that you have already watched the screencasts on installation and have a \n",
    "fully working conda installation on your computer. \n",
    "\n",
    "We also assume that you have watched the screencasts on the shell and know how to \n",
    "navigate to directories in a shell. \n",
    "\n",
    "Here is the\n",
    "[screencast](https://player.uni-bonn.educast.nrw/fdb5d582-02db-4ccb-818a-d415de3bef61)\n",
    "and these are the [slides](python_installation_execution-executing_py_shell.pdf).\n",
    "\n",
    "## Quiz"
   ]
  },
  {
   "cell_type": "code",
   "execution_count": null,
   "metadata": {},
   "outputs": [],
   "source": [
    "from jupyterquiz import display_quiz\n",
    "\n",
    "content = [\n",
    "    {\n",
    "        \"question\": (\n",
    "            \"Your project's folder contains the following files: exercise_1.py, \\\n",
    "            a folder called data, and a folder called results. Your shell is currently \\\n",
    "            in the data folder. Which of the following commands would you use to run \\\n",
    "            the exercise_1.py script?\"\n",
    "        ),\n",
    "        \"type\": \"many_choice\",\n",
    "        \"answers\": [\n",
    "            {\n",
    "                \"answer\": \"'python exercise_1.py'\",\n",
    "                \"correct\": False,\n",
    "                \"feedback\": \"This would work if you were in the folder containing \\\n",
    "                exercise_1.py.\",\n",
    "            },\n",
    "            {\n",
    "                \"answer\": \"'python ../exercise_1.py'\",\n",
    "                \"correct\": True,\n",
    "                \"feedback\": \"This works because ../ moves you up one folder, \\\n",
    "                    and then you can run the script from there.\",\n",
    "            },\n",
    "            {\n",
    "                \"answer\": \"'python ~/exercise_1.py'\",\n",
    "                \"correct\": False,\n",
    "                \"feedback\": \"This would work if you were in your home folder (on a \\\n",
    "                    Mac system).\",\n",
    "            },\n",
    "            {\n",
    "                \"answer\": \"'cd ..' and then 'python exercise_1.py'\",\n",
    "                \"correct\": True,\n",
    "                \"feedback\": \"This works because cd .. moves you up one folder, \\\n",
    "                    and then you can run the script from there.\",\n",
    "            },\n",
    "        ],\n",
    "    },\n",
    "]\n",
    "display_quiz(content, colors=\"fdsp\")"
   ]
  }
 ],
 "metadata": {
  "language_info": {
   "codemirror_mode": {
    "name": "ipython",
    "version": 3
   },
   "file_extension": ".py",
   "mimetype": "text/x-python",
   "name": "python",
   "nbconvert_exporter": "python",
   "pygments_lexer": "ipython3"
  }
 },
 "nbformat": 4,
 "nbformat_minor": 2
}
