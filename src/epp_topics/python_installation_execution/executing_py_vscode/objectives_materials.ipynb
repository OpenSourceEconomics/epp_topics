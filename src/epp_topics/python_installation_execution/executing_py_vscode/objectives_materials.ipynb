{
 "cells": [
  {
   "cell_type": "markdown",
   "metadata": {},
   "source": [
    "# Executing `.py` files in VS Code\n",
    "\n",
    "## Learning Objectives\n",
    "\n",
    "After working through this topic, you should be able to:\n",
    "\n",
    "- Select different python interpreters in VS Code\n",
    "- Run python files in VS Code\n",
    "\n",
    "## Materials\n",
    "\n",
    "Here is the\n",
    "[screencast](https://electure.uni-bonn.de/static/mh_default_org/engage-player/527c21d3-ef88-4e70-a62d-a2261436203f/55f1791b-8b94-4b0e-a191-32579e2efe34/3eaca8fb-6538-49f3-839d-b84a5dc20eb0.mp4)\n",
    "and these are the [slides](python_installation_execution-executing_py_vscode.pdf).\n"
   ]
  }
 ],
 "metadata": {
  "language_info": {
   "codemirror_mode": {
    "name": "ipython",
    "version": 3
   },
   "file_extension": ".py",
   "mimetype": "text/x-python",
   "name": "python",
   "nbconvert_exporter": "python",
   "pygments_lexer": "ipython3"
  }
 },
 "nbformat": 4,
 "nbformat_minor": 2
}
