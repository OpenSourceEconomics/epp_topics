{
 "cells": [
  {
   "cell_type": "markdown",
   "metadata": {},
   "source": [
    "# Running Python code via pytask\n",
    "\n",
    "## Learning Objectives\n",
    "\n",
    "After working through this topic, you should be able to:\n",
    "\n",
    "- Execute a reproducible project using pytask\n",
    "- Activate the correct environment for using pytask\n",
    "\n",
    "## Materials\n",
    "\n",
    "Here is the \n",
    "[screencast](https://electure.uni-bonn.de/static/mh_default_org/engage-player/993ed1d4-7f3f-45ef-bf1b-664f794490c2/5d47f8be-c49a-4503-959f-390f3c50c13d/c0f6acb0-428d-4594-a0c3-6e18722fe3eb.mp4) \n",
    "and these are the [slides](python_installation_execution-executing_pytask.pdf).\n",
    "\n",
    "## Additional Materials\n",
    "\n",
    "- The pytask [command line interface](https://pytask-dev.readthedocs.io/en/stable/reference_guides/command_line_interface.html)\n"
   ]
  },
  {
   "cell_type": "code",
   "execution_count": null,
   "metadata": {
    "tags": [
     "remove-input"
    ]
   },
   "outputs": [],
   "source": [
    "from epp_topics.quiz_utilities import display_quiz\n",
    "\n",
    "content = {\n",
    "    \"In contrast to other ways of executing Python code\": {\n",
    "        \"Pytask runs multiple .py files at once\": False,\n",
    "        \"Pytask runs functions instead of entire `.py` files\": True,\n",
    "        \"Pytask works for notebooks and `.py` files\": False,\n",
    "        \"Pytasks automatically install all dependencies for you\": False,\n",
    "    },\n",
    "    \"Which of the following is true?\": {\n",
    "        \"Pytask saves runtime by executing only tasks that need to be executed\": True,\n",
    "        \"Pytask only works if you define functions\": True,\n",
    "        \"If you use pytask, you don't need git\": False,\n",
    "        \"Pytask requires a very specific directory structure\": False,\n",
    "    },\n",
    "}\n",
    "\n",
    "display_quiz(content)"
   ]
  }
 ],
 "metadata": {
  "language_info": {
   "codemirror_mode": {
    "name": "ipython",
    "version": 3
   },
   "file_extension": ".py",
   "mimetype": "text/x-python",
   "name": "python",
   "nbconvert_exporter": "python",
   "pygments_lexer": "ipython3"
  }
 },
 "nbformat": 4,
 "nbformat_minor": 2
}
