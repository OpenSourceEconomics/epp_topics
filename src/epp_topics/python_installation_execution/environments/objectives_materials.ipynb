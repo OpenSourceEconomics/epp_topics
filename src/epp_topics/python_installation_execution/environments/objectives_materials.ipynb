{
 "cells": [
  {
   "cell_type": "markdown",
   "metadata": {},
   "source": [
    "# Environment files and environments\n",
    "\n",
    "## Learning Objectives\n",
    "\n",
    "After working through this topic, you should be able to:\n",
    "\n",
    "- Write your own environment files\n",
    "- Add new packages to conda environments\n",
    "- Explain the difference between environment files and environments\n",
    "\n",
    "## Materials\n",
    "\n",
    "Here is the \n",
    "[screencast](https://player.uni-bonn.educast.nrw/ec67bd09-c5a4-49ae-a0f5-43625f49dd5c) \n",
    "and these are the [slides](python_installation_execution-environments.pdf).\n",
    "\n"
   ]
  },
  {
   "cell_type": "code",
   "execution_count": null,
   "metadata": {
    "tags": [
     "remove-input"
    ]
   },
   "outputs": [],
   "source": [
    "from epp_topics.quiz_utilities import display_quiz\n",
    "\n",
    "content = {\n",
    "    \"What is an `environment.yml` file?\": {\n",
    "        \"A recipe of packages to download\": True,\n",
    "        \"A set of Python packages installed on your computer\": False,\n",
    "        \"Something you share with your team members via git\": True,\n",
    "        \"Something very complicated that you should avoid\": False,\n",
    "    },\n",
    "    \"What is a conda/mamba environment\": {\n",
    "        \"A collection of Python packages installed on your computer\": True,\n",
    "        \"A recipe of packages to download\": False,\n",
    "        \"Something you share with your team members via git\": False,\n",
    "    },\n",
    "    \"What is a good way of adding packages to environments?\": {\n",
    "        \"pip install them, then export a new environment.yml\": False,\n",
    "        \"Add them to the environment.yml file, then update the environment\": True,\n",
    "        \"Just pip install them, my coauthors will figure out they need them too\": False,\n",
    "    },\n",
    "}\n",
    "\n",
    "display_quiz(content)"
   ]
  }
 ],
 "metadata": {
  "language_info": {
   "codemirror_mode": {
    "name": "ipython",
    "version": 3
   },
   "file_extension": ".py",
   "mimetype": "text/x-python",
   "name": "python",
   "nbconvert_exporter": "python",
   "pygments_lexer": "ipython3"
  }
 },
 "nbformat": 4,
 "nbformat_minor": 2
}
