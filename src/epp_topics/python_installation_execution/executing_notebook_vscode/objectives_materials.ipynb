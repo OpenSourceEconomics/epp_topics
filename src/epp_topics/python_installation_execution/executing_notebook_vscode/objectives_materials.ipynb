{
 "cells": [
  {
   "cell_type": "markdown",
   "metadata": {},
   "source": [
    "# Executing jupyter notebooks in VS Code\n",
    "\n",
    "## Learning Objectives\n",
    "\n",
    "After working through this topic, you should be able to:\n",
    "\n",
    "- Select different jupyter kernels in VS Code\n",
    "- Run jupyter notebooks in VS Code\n",
    "\n",
    "## Materials\n",
    "\n",
    "Here is the\n",
    "[screencast](https://electure.uni-bonn.de/paella7/ui/watch.html?id=3988cf3c-9382-481f-98ac-fe14b91fb8f1)\n",
    "and these are the [slides](python_installation_execution-executing_notebook_vscode.pdf)."
   ]
  }
 ],
 "metadata": {
  "language_info": {
   "codemirror_mode": {
    "name": "ipython",
    "version": 3
   },
   "file_extension": ".py",
   "mimetype": "text/x-python",
   "name": "python",
   "nbconvert_exporter": "python",
   "pygments_lexer": "ipython3"
  }
 },
 "nbformat": 4,
 "nbformat_minor": 2
}
