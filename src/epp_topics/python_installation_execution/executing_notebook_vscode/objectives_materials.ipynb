{
 "cells": [
  {
   "cell_type": "markdown",
   "metadata": {},
   "source": [
    "# Executing jupyter notebooks in VS Code\n",
    "\n",
    "## Learning Objectives\n",
    "\n",
    "After working through this topic, you should be able to:\n",
    "\n",
    "- Select different jupyter kernels in VS Code\n",
    "- Run jupyter notebooks in VS Code\n",
    "\n",
    "## Materials\n",
    "\n",
    "Here is the\n",
    "[screencast](https://electure.uni-bonn.de/static/mh_default_org/engage-player/3988cf3c-9382-481f-98ac-fe14b91fb8f1/7826b1cb-4d65-4630-9e57-e8092a18fb14/eef4c6f0-0011-4673-a1c4-ce651152b87a.mp4)\n",
    "and these are the [slides](python_installation_execution-executing_notebook_vscode.pdf)."
   ]
  }
 ],
 "metadata": {
  "language_info": {
   "codemirror_mode": {
    "name": "ipython",
    "version": 3
   },
   "file_extension": ".py",
   "mimetype": "text/x-python",
   "name": "python",
   "nbconvert_exporter": "python",
   "pygments_lexer": "ipython3"
  }
 },
 "nbformat": 4,
 "nbformat_minor": 2
}
