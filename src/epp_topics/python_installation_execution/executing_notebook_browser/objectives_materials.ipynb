{
 "cells": [
  {
   "cell_type": "markdown",
   "metadata": {},
   "source": [
    "# Executing notebooks in a browser\n",
    "\n",
    "## Learning Objectives\n",
    "\n",
    "After working through this topic, you should be able to:\n",
    "\n",
    "- Activate a conda environment in your shell\n",
    "- Start jupyter notebooks in your browser from the shell\n",
    "\n",
    "## Materials\n",
    "\n",
    "Here is the [screencast](https://electure.uni-bonn.de/static/mh_default_org/engage-player/4881691a-00c3-4a83-9fc9-deffac2dcf72/4756f2b7-8b58-4bf3-98e3-a6e70f5e1906/ddd5ea89-4f40-457a-a4e8-14d46627c4a0.mp4) and these are the\n",
    "[slides](python_installation_execution-executing_notebook_browser.pdf).\n"
   ]
  }
 ],
 "metadata": {
  "language_info": {
   "codemirror_mode": {
    "name": "ipython",
    "version": 3
   },
   "file_extension": ".py",
   "mimetype": "text/x-python",
   "name": "python",
   "nbconvert_exporter": "python",
   "pygments_lexer": "ipython3"
  }
 },
 "nbformat": 4,
 "nbformat_minor": 2
}
