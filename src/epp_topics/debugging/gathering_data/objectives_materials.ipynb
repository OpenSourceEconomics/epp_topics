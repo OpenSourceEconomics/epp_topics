{
 "cells": [
  {
   "cell_type": "markdown",
   "metadata": {},
   "source": [
    "# Gathering data efficiently\n",
    "\n",
    "## Learning Objectives\n",
    "\n",
    "After working through this topic, you should be able to:\n",
    "\n",
    "- Explain the importance of gathering data while debugging\n",
    "- Appreciate how debuggers can make data gathering much more efficient than print statements.\n",
    "\n",
    "## Materials\n",
    "\n",
    "Here is the [screencast](https://player.uni-bonn.educast.nrw/xxx). These are the\n",
    "[slides](debugging-gathering_data.pdf).\n",
    "\n",
    "\n",
    "## Quiz"
   ]
  },
  {
   "cell_type": "code",
   "execution_count": null,
   "metadata": {
    "tags": [
     "remove-input"
    ]
   },
   "outputs": [],
   "source": [
    "from epp_topics.quiz_utilities import display_quiz\n",
    "\n",
    "content = {\n",
    "    \"How can gathering data help in debugging?\": {\n",
    "        \"It replaces reading error messages\": False,\n",
    "        \"It can help you to confirm hypotheses\": True,\n",
    "        \"It can help you to locate a problem\": True,\n",
    "        \"It automates the debugging process\": False,\n",
    "    },\n",
    "    \"What are problems of print statements for debugging\": {\n",
    "        \"It takes a lot of effort to make the output informative\": True,\n",
    "        \"They don't help to gather data\": False,\n",
    "        \"Not all Python objects can be printed\": False,\n",
    "        \"You either get too much output or risk missing the important bit\": True,\n",
    "    },\n",
    "    \"What are advantages of a debugger\": {\n",
    "        \"It makes debugging more interactive than print statements\": True,\n",
    "        \"You only see what you want to see\": True,\n",
    "        \"It automates the debugging process\": False,\n",
    "        \"It is easier to learn than print statements.\": False,\n",
    "    },\n",
    "}\n",
    "\n",
    "\n",
    "display_quiz(content)"
   ]
  }
 ],
 "metadata": {
  "language_info": {
   "codemirror_mode": {
    "name": "ipython",
    "version": 3
   },
   "file_extension": ".py",
   "mimetype": "text/x-python",
   "name": "python",
   "nbconvert_exporter": "python",
   "pygments_lexer": "ipython3"
  }
 },
 "nbformat": 4,
 "nbformat_minor": 2
}
