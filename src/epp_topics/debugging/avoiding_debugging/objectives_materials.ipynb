{
 "cells": [
  {
   "cell_type": "markdown",
   "metadata": {},
   "source": [
    "# Avoiding debugging\n",
    "\n",
    "## Learning Objectives\n",
    "\n",
    "After working through this topic, you should be able to:\n",
    "\n",
    "- Explain how unit tests can help to avoid debugging\n",
    "- Explain how error handling can avoid debugging\n",
    "- Explain how readility can avoid debugging\n",
    "- List the limitations of each of these approaches\n",
    "\n",
    "## Materials\n",
    "\n",
    "Here is the [screencast](https://player.uni-bonn.educast.nrw/xxx). These are the\n",
    "[slides](debugging-avoiding_debugging.pdf).\n",
    "\n",
    "\n",
    "## Quiz"
   ]
  },
  {
   "cell_type": "code",
   "execution_count": null,
   "metadata": {
    "tags": [
     "remove-input"
    ]
   },
   "outputs": [],
   "source": [
    "from epp_topics.quiz_utilities import display_quiz\n",
    "\n",
    "content = {\n",
    "    \"How can unit testing avoid debugging?\": {\n",
    "        \"A tested function is likely correct. It can be skipped while debugging\": True,\n",
    "        \"Tests will discover if the function is called with invalid inputs\": False,\n",
    "        \"If you write test there can never be a bug in your code\": False,\n",
    "    },\n",
    "    \"How can error handling avoid debugging\": {\n",
    "        \"Error handling makes sure that the results of functions are correct\": False,\n",
    "        \"Error handling alerts you about invalid inputs to a function\": True,\n",
    "        \"When doing proper error handling there can never be a bug in your code\": False,\n",
    "    },\n",
    "}\n",
    "\n",
    "\n",
    "display_quiz(content)"
   ]
  }
 ],
 "metadata": {
  "language_info": {
   "codemirror_mode": {
    "name": "ipython",
    "version": 3
   },
   "file_extension": ".py",
   "mimetype": "text/x-python",
   "name": "python",
   "nbconvert_exporter": "python",
   "pygments_lexer": "ipython3"
  }
 },
 "nbformat": 4,
 "nbformat_minor": 2
}
