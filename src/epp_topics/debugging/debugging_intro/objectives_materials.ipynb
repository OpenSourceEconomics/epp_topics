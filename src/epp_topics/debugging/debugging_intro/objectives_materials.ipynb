{
 "cells": [
  {
   "cell_type": "markdown",
   "metadata": {},
   "source": [
    "# Introduction to debugging\n",
    "\n",
    "## Learning Objectives\n",
    "\n",
    "After working through this topic, you should be able to:\n",
    "\n",
    "- Explain the two modes of debugging: Inspeculation and data gathering\n",
    "- Explain why debugging is an important skill\n",
    "\n",
    "## Materials\n",
    "\n",
    "Here is the\n",
    "[screencast](https://player.uni-bonn.educast.nrw/2b103f2c-cff8-40fe-8e29-d6044d94f279).\n",
    "These are the [slides](debugging-debugging_intro.pdf).\n",
    "\n",
    "\n",
    "## Quiz"
   ]
  },
  {
   "cell_type": "code",
   "execution_count": null,
   "metadata": {
    "tags": [
     "remove-input"
    ]
   },
   "outputs": [],
   "source": [
    "from epp_topics.quiz_utilities import display_quiz\n",
    "\n",
    "INTRO = \"Inspeculation is a hybrid of inspection, simulation and speculation. \"\n",
    "\n",
    "content = {\n",
    "    \"Why is debugging an important skill?\": {\n",
    "        \"Research shows that developers spend a lot of time debugging\": True,\n",
    "        \"It is possible to become more efficient at debugging\": True,\n",
    "        \"So you can relax and not worry about adding bugs while writing code\": False,\n",
    "        \"Debugging is not an important skill\": False,\n",
    "    },\n",
    "    INTRO\n",
    "    + \"What does inspection mean in this context?\": {\n",
    "        \"Inspecting the content of variables using a variable explorer\": False,\n",
    "        \"Inspecting the code\": True,\n",
    "    },\n",
    "    INTRO\n",
    "    + \"What does simulation mean in this context?\": {\n",
    "        \"Running the code\": False,\n",
    "        \"Simulating the execution of the code in your head\": True,\n",
    "    },\n",
    "    INTRO\n",
    "    + \"What does speculation mean in this context?\": {\n",
    "        \"Speculating about what could generate the result you are seeing\": True,\n",
    "        \"Speculating about who is to blame for the bug\": False,\n",
    "    },\n",
    "}\n",
    "\n",
    "\n",
    "display_quiz(content)"
   ]
  }
 ],
 "metadata": {
  "language_info": {
   "codemirror_mode": {
    "name": "ipython",
    "version": 3
   },
   "file_extension": ".py",
   "mimetype": "text/x-python",
   "name": "python",
   "nbconvert_exporter": "python",
   "pygments_lexer": "ipython3"
  }
 },
 "nbformat": 4,
 "nbformat_minor": 2
}
