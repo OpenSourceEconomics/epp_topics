{
 "cells": [
  {
   "cell_type": "markdown",
   "metadata": {},
   "source": [
    "# Using the Pdb+ debugger\n",
    "\n",
    "## Learning Objectives\n",
    "\n",
    "After working through this topic, you should be able to:\n",
    "\n",
    "- Explain what a breakpoint is and how it helps with debugging\n",
    "- Set simple and conditional breakpoints in your code\n",
    "- Use the basic `pdbp` commands to navigate around while debugging\n",
    "\n",
    "## Materials\n",
    "\n",
    "Here is the\n",
    "[screencast](https://player.uni-bonn.educast.nrw/639ba83f-daed-458c-9fbf-32dbd68612fc).\n",
    "These are the [slides](debugging-pdbp.pdf).\n",
    "\n",
    "## Additional Materials\n",
    "\n",
    "- [Pdb+ GitHub page](https://github.com/mdmintz/pdbp)\n",
    "\n",
    "\n",
    "## Quiz"
   ]
  },
  {
   "cell_type": "code",
   "execution_count": null,
   "metadata": {
    "tags": [
     "remove-input"
    ]
   },
   "outputs": [],
   "source": [
    "from epp_topics.quiz_utilities import display_quiz\n",
    "\n",
    "content = {\n",
    "    \"What does a breakpoint do?\": {\n",
    "        \"Stop the execution of the program and show you a debug prompt\": True,\n",
    "        \"Print the values of all currently defined variables\": False,\n",
    "        \"Skip the rest of the Python script you are executing\": False,\n",
    "        \"Ignore all errors in the Python script you are executing\": False,\n",
    "    },\n",
    "    \"Why should you write `import pdbp; breakpoint()` instead of just \"\n",
    "    \"`breakpoint()`?\": {\n",
    "        \"This will make sure we use Pdb+, which is a better debugger than the default \"\n",
    "        \"Pdb\": True,\n",
    "        \"This is the only valid way of setting breakpoints in Python\": False,\n",
    "    },\n",
    "    \"What are examples where conditional breakpoints are helpful\": {\n",
    "        \"Your problem only occurs after a certain number of iterations in a loop\": True,\n",
    "        \"Your problem only occurs for certain values of a variable\": True,\n",
    "        \"Your problem only occurs when a certain function is called\": False,\n",
    "        \"Your problem seems to occur randomly\": False,\n",
    "    },\n",
    "    \"What does the `n` command do in Pdb+ ?\": {\n",
    "        \"It executes the next line of code\": True,\n",
    "        \"It executes the next line of code and steps into functions\": False,\n",
    "        \"It executes the next line of code and skips all loops\": False,\n",
    "        \"It executes the next line of code and skips all function calls\": False,\n",
    "    },\n",
    "    \"What does the `s` command do in Pdb+ ?\": {\n",
    "        \"It executes the next step and steps into function calls it encounters\": True,\n",
    "        \"It executes the next line of code\": False,\n",
    "        \"It runs the program until the next breakpoint\": False,\n",
    "    },\n",
    "    \"What are advantages of using a terminal debugger like Pdb+ ?\": {\n",
    "        \"Integrates well with pytest\": True,\n",
    "        \"Integrates well with pytask\": True,\n",
    "        \"You can set breakpoints by clicking\": False,\n",
    "        \"It is very fast once you know the commands\": True,\n",
    "    },\n",
    "}\n",
    "\n",
    "\n",
    "display_quiz(content)"
   ]
  }
 ],
 "metadata": {
  "language_info": {
   "codemirror_mode": {
    "name": "ipython",
    "version": 3
   },
   "file_extension": ".py",
   "mimetype": "text/x-python",
   "name": "python",
   "nbconvert_exporter": "python",
   "pygments_lexer": "ipython3"
  }
 },
 "nbformat": 4,
 "nbformat_minor": 2
}
