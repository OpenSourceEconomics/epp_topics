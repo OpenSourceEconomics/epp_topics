{
 "cells": [
  {
   "cell_type": "markdown",
   "metadata": {},
   "source": [
    "# Strategies for debugging\n",
    "\n",
    "## Learning Objectives\n",
    "\n",
    "After working through this topic, you should be able to:\n",
    "\n",
    "- List Agans' seven rules for debugging\n",
    "- Explain the importance of using the scientific method for debugging\n",
    "- Create a test case that makes your code fail and simplify it iteratively\n",
    "\n",
    "## Materials\n",
    "\n",
    "Here is the\n",
    "[screencast](https://player.uni-bonn.educast.nrw/52fc338e-89f2-4456-8132-805001881842).\n",
    "These are the [slides](debugging-debugging_strategies.pdf).\n",
    "\n",
    "\n",
    "\n",
    "## Quiz"
   ]
  },
  {
   "cell_type": "code",
   "execution_count": null,
   "metadata": {
    "tags": [
     "remove-input"
    ]
   },
   "outputs": [],
   "source": [
    "from epp_topics.quiz_utilities import display_quiz\n",
    "\n",
    "content = {\n",
    "    \"What is meant by 'get it right the fist time'?\": {\n",
    "        \"Only bad programmers need to do debugging\": False,\n",
    "        \"Investing time into avoiding bugs can be better than fixing them\": True,\n",
    "        \"It is possible to write bug free code\": False,\n",
    "        \"Debugging is a waste of time\": False,\n",
    "    },\n",
    "    \"What is meant by 'is it plugged in'?\": {\n",
    "        \"Often problems are caused by simple things. Rule them out first\": True,\n",
    "        \"Many people forget to plug-in their laptops\": False,\n",
    "        \"Many bugs are caused by hardware issues\": False,\n",
    "    },\n",
    "    \"Which of the following statements are true in the context of debugging\": {\n",
    "        \"The most efficient way to debug is making many changes at once\": False,\n",
    "        \"Only make a change if you have a good theory about what is wrong\": True,\n",
    "        \"Never commit a broken version of the code\": False,\n",
    "        \"The first thing you do when debugging is to make a commit\": True,\n",
    "        \"While debugging you can work on new features so you don't waste time\": False,\n",
    "    },\n",
    "}\n",
    "\n",
    "\n",
    "display_quiz(content)"
   ]
  }
 ],
 "metadata": {
  "language_info": {
   "codemirror_mode": {
    "name": "ipython",
    "version": 3
   },
   "file_extension": ".py",
   "mimetype": "text/x-python",
   "name": "python",
   "nbconvert_exporter": "python",
   "pygments_lexer": "ipython3"
  }
 },
 "nbformat": 4,
 "nbformat_minor": 2
}
