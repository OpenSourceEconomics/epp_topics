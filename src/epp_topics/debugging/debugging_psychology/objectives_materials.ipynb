{
 "cells": [
  {
   "cell_type": "markdown",
   "metadata": {},
   "source": [
    "# (Armchair) Psychology of debugging\n",
    "\n",
    "## Learning Objectives\n",
    "\n",
    "After working through this topic, you should be able to:\n",
    "\n",
    "- Explain common psychological pitfalls that make debugging inefficent\n",
    "- Know how to react when you discover yourself in one of them\n",
    "\n",
    "## Materials\n",
    "\n",
    "Here is the\n",
    "[screencast](https://player.uni-bonn.educast.nrw/233d7968-5590-4ca2-adbf-58209d1f0ff2).\n",
    "These are the [slides](debugging-debugging_psychology.pdf).\n",
    "\n",
    "\n",
    "## Quiz"
   ]
  },
  {
   "cell_type": "code",
   "execution_count": null,
   "metadata": {
    "tags": [
     "remove-input"
    ]
   },
   "outputs": [],
   "source": [
    "from epp_topics.quiz_utilities import display_quiz\n",
    "\n",
    "content = {\n",
    "    \"How can thorough reading help while debugging\": {\n",
    "        \"Many tracebacks ar very informative and can help you to locate problems\": True,\n",
    "        \"Reading your entire code-base from start to end will locate any bug\": False,\n",
    "        \"Reading a few lines that likely contain a bug is a good way to find it\": True,\n",
    "    },\n",
    "    \"Why is just running code again not a good debugging strategy\": {\n",
    "        \"Computers are deterministic machines\": True,\n",
    "        \"If it runs the second time, there still is a problem you need to locate\": True,\n",
    "        \"Just running a second time is a good debugging strategy\": False,\n",
    "        \"It is a waste of time\": True,\n",
    "    },\n",
    "    \"Why should you avoid telling yourself that your code should work\": {\n",
    "        \"If you are debugging, it didn't\": True,\n",
    "        \"It creates the wrong mindset\": True,\n",
    "        \"It is a valid strategy to do that\": False,\n",
    "    },\n",
    "    \"Why should you be careful when trying out things while debugging\": {\n",
    "        \"The more things you try at once, the harder is to see what worked\": True,\n",
    "        \"You should try out as many things as possible\": False,\n",
    "        \"It is unlikely that random changes fix your code\": True,\n",
    "        \"You can make things worse than before\": True,\n",
    "    },\n",
    "    \"Why should you start with the assumption that the bug is not in libraries\": {\n",
    "        \"Libraries are well perfect\": False,\n",
    "        \"Most of the time the bug is in your code\": True,\n",
    "    },\n",
    "}\n",
    "\n",
    "\n",
    "display_quiz(content)"
   ]
  }
 ],
 "metadata": {
  "language_info": {
   "codemirror_mode": {
    "name": "ipython",
    "version": 3
   },
   "file_extension": ".py",
   "mimetype": "text/x-python",
   "name": "python",
   "nbconvert_exporter": "python",
   "pygments_lexer": "ipython3"
  }
 },
 "nbformat": 4,
 "nbformat_minor": 2
}
