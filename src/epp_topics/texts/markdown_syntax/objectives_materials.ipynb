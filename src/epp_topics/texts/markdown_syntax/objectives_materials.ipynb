{
 "cells": [
  {
   "cell_type": "markdown",
   "metadata": {},
   "source": [
    "# Markdown syntax\n",
    "\n",
    "## Learning Objectives\n",
    "\n",
    "After working through this topic, you should be able to write markdown documents with\n",
    "\n",
    "- Different levels of headings\n",
    "- Bold and italic text\n",
    "- Lists and enumerations\n",
    "- Links and quotes\n",
    "- Well formatted python code snippets!\n",
    "\n",
    "\n",
    "## Materials\n",
    "\n",
    "Here is the\n",
    "[Screencast](https://player.uni-bonn.educast.nrw/e6d3639c-d2bf-41ff-89c2-bae63c8c9b6b)\n",
    "and these are the [slides](texts-markdown_syntax.pdf).\n",
    "\n",
    "\n",
    "\n",
    "## Quiz"
   ]
  },
  {
   "cell_type": "code",
   "execution_count": null,
   "metadata": {
    "tags": [
     "remove-input"
    ]
   },
   "outputs": [],
   "source": [
    "from epp_topics.quiz_utilities import display_quiz\n",
    "\n",
    "content = {\n",
    "    \"What are hashtags (`#`) used for in Markdown?\": {\n",
    "        \"To indicate different levels of headings\": True,\n",
    "        \"To write comments\": False,\n",
    "        \"To write code snippets\": False,\n",
    "        \"To write inline latex formulae.\": False,\n",
    "    },\n",
    "    \"How do you embed a link in Markdown?\": {\n",
    "        \"By using the syntax `[link text](url)`\": True,\n",
    "        \"By using the syntax `[url](link text)`\": False,\n",
    "        r\"By using the syntax `\\embed_link{url}`\": False,\n",
    "    },\n",
    "}\n",
    "display_quiz(content)"
   ]
  }
 ],
 "metadata": {
  "language_info": {
   "codemirror_mode": {
    "name": "ipython",
    "version": 3
   },
   "file_extension": ".py",
   "mimetype": "text/x-python",
   "name": "python",
   "nbconvert_exporter": "python",
   "pygments_lexer": "ipython3"
  }
 },
 "nbformat": 4,
 "nbformat_minor": 2
}
