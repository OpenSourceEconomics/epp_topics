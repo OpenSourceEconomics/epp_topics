{
 "cells": [
  {
   "cell_type": "markdown",
   "metadata": {},
   "source": [
    "# Markdown applications\n",
    "\n",
    "## Learning Objectives\n",
    "\n",
    "After working through this topic, you should be able to:\n",
    "\n",
    "- List several built-in scalar types in Python\n",
    "- Assign and manipulate scalar variables in Python\n",
    "- Convert variables between different types\n",
    "\n",
    "## Materials\n",
    "\n",
    "Here is the\n",
    "[Screencast](https://player.uni-bonn.educast.nrw/60f33176-1de9-4791-9307-efb5dd023d51)\n",
    "and these are the [slides](texts-markdown_applications.pdf).\n",
    "\n",
    "## Further Reading\n",
    "\n",
    "\n",
    "\n",
    "## Quiz"
   ]
  },
  {
   "cell_type": "code",
   "execution_count": null,
   "metadata": {
    "tags": [
     "remove-input"
    ]
   },
   "outputs": [],
   "source": [
    "from jupyterquiz import display_quiz\n",
    "\n",
    "content = [\n",
    "    {\n",
    "        \"question\": (\n",
    "            \"If you need to represent a real number, in Python you would use ...\"\n",
    "        ),\n",
    "        \"type\": \"multiple_choice\",\n",
    "        \"answers\": [\n",
    "            {\"answer\": \"A float\", \"correct\": True, \"feedback\": \"Correct.\"},\n",
    "            {\"answer\": \"An integer\", \"correct\": False, \"feedback\": \"Incorrect.\"},\n",
    "            {\"answer\": \"A boolean\", \"correct\": False, \"feedback\": \"Incorrect.\"},\n",
    "        ],\n",
    "    },\n",
    "]\n",
    "display_quiz(content, colors=\"fdsp\")"
   ]
  },
  {
   "cell_type": "code",
   "execution_count": null,
   "metadata": {},
   "outputs": [],
   "source": []
  }
 ],
 "metadata": {
  "language_info": {
   "codemirror_mode": {
    "name": "ipython",
    "version": 3
   },
   "file_extension": ".py",
   "mimetype": "text/x-python",
   "name": "python",
   "nbconvert_exporter": "python",
   "pygments_lexer": "ipython3"
  }
 },
 "nbformat": 4,
 "nbformat_minor": 2
}
