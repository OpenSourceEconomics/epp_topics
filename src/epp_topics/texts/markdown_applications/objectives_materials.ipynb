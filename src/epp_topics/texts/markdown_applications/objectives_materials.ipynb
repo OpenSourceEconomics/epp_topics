{
 "cells": [
  {
   "cell_type": "markdown",
   "metadata": {},
   "source": [
    "# Markdown applications\n",
    "\n",
    "## Learning Objectives\n",
    "\n",
    "After working through this topic, you should be able to:\n",
    "\n",
    "- describe that Markdown is a simple markup language.\n",
    "- explain the importance of looking at previews for improving your Markdown skills.\n",
    "\n",
    "## Materials\n",
    "\n",
    "Here is the\n",
    "[Screencast](https://electure.uni-bonn.de/static/mh_default_org/engage-player/60f33176-1de9-4791-9307-efb5dd023d51/3ba28888-04bf-46a1-afee-d7d30d68c2ff/362624de-0b76-4a07-b3fb-c607f32efe0f.mp4)\n",
    "and these are the [slides](texts-markdown_applications.pdf).\n"
   ]
  }
 ],
 "metadata": {
  "language_info": {
   "codemirror_mode": {
    "name": "ipython",
    "version": 3
   },
   "file_extension": ".py",
   "mimetype": "text/x-python",
   "name": "python",
   "nbconvert_exporter": "python",
   "pygments_lexer": "ipython3"
  }
 },
 "nbformat": 4,
 "nbformat_minor": 2
}
