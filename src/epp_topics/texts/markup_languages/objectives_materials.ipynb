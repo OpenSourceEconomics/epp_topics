{
 "cells": [
  {
   "cell_type": "markdown",
   "metadata": {},
   "source": [
    "# Markup languages\n",
    "\n",
    "## Learning Objectives\n",
    "\n",
    "After working through this topic, you should be able to:\n",
    "\n",
    "- Explain what a markup language is\n",
    "- List three different examples of markup languages\n",
    "\n",
    "## Materials\n",
    "\n",
    "Here is the\n",
    "[Screencast](https://player.uni-bonn.educast.nrw/88a4d039-e6fc-4dcf-9bd7-6e2a19422a56)\n",
    "and these are the [slides](texts-markup_languages.pdf).\n",
    "\n",
    "## Further Reading\n",
    "\n",
    "- [Documentation](https://docs.python.org/3/library/stdtypes.html) of Python built-in types\n",
    "\n",
    "\n",
    "## Quiz"
   ]
  },
  {
   "cell_type": "code",
   "execution_count": null,
   "metadata": {
    "tags": [
     "remove-input"
    ]
   },
   "outputs": [],
   "source": [
    "from epp_topics.quiz_utilities import display_quiz\n",
    "\n",
    "content = {\n",
    "    \"What is the purpose of markup languages\": {\n",
    "        \"Write pretty documents in plain text files\": True,\n",
    "        \"Free alternative to better tools like Word\": False,\n",
    "        \"Feel nerdy while writing papers\": False,\n",
    "    },\n",
    "    \"What are benefits of using markup languages\": {\n",
    "        \"More beginner friendly that Word\": False,\n",
    "        \"Better for version control\": True,\n",
    "        \"Better for fully automated research pipelienes\": True,\n",
    "        \"Can use powerful editors like vscode\": True,\n",
    "    },\n",
    "}\n",
    "display_quiz(content)"
   ]
  }
 ],
 "metadata": {
  "language_info": {
   "codemirror_mode": {
    "name": "ipython",
    "version": 3
   },
   "file_extension": ".py",
   "mimetype": "text/x-python",
   "name": "python",
   "nbconvert_exporter": "python",
   "pygments_lexer": "ipython3"
  }
 },
 "nbformat": 4,
 "nbformat_minor": 2
}
