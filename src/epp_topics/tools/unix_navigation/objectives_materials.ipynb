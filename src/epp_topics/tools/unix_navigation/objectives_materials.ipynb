{
 "cells": [
  {
   "cell_type": "markdown",
   "metadata": {},
   "source": [
    "# Navigation in the unix shell\n",
    "\n",
    "## Learning Objectives\n",
    "\n",
    "After working through this topic, you should be able to:\n",
    "\n",
    "- Explain what the present working directory (pwd) is\n",
    "- Use the pwd command to display your working directory\n",
    "- Use cd to navigate to different directories\n",
    "- Use ls to list directories\n",
    "- Use the z command to navigate more efficiently between files\n",
    "\n",
    "## Materials\n",
    "\n",
    "Here is the\n",
    "[screencast](https://player.uni-bonn.educast.nrw/be8ea549-3cad-4b28-a2f8-b676e891f4b0)\n",
    "and these are the [slides](tools-unix_navigation.pdf).\n",
    "\n",
    "## Quiz"
   ]
  },
  {
   "cell_type": "code",
   "execution_count": null,
   "metadata": {
    "tags": [
     "remove-input"
    ]
   },
   "outputs": [],
   "source": [
    "from epp_topics.quiz_utilities import display_quiz\n",
    "\n",
    "content = {\n",
    "    \"What does pwd do\": {\n",
    "        \"Print the current working directory\": True,\n",
    "        \"Switch to your home directory\": False,\n",
    "        \"Create a new directory called pwd\": False,\n",
    "        \"Print all files in the present working directory\": False,\n",
    "    },\n",
    "    \"What can you do with the z command\": {\n",
    "        \"Save typing when switching to a directory\": True,\n",
    "        \"Create files more efficiently\": False,\n",
    "        \"Print the entire directory tree\": False,\n",
    "        \"Switch to a directory of which you only know the approximate name\": True,\n",
    "    },\n",
    "    \"What does `cd ..` do\": {\n",
    "        \"Move to a directory called `..`\": False,\n",
    "        \"Move to the parent directory\": True,\n",
    "        \"Move to the home directory\": False,\n",
    "    },\n",
    "}\n",
    "\n",
    "display_quiz(content)"
   ]
  },
  {
   "cell_type": "markdown",
   "metadata": {},
   "source": []
  }
 ],
 "metadata": {
  "language_info": {
   "codemirror_mode": {
    "name": "ipython",
    "version": 3
   },
   "file_extension": ".py",
   "mimetype": "text/x-python",
   "name": "python",
   "nbconvert_exporter": "python",
   "pygments_lexer": "ipython3"
  }
 },
 "nbformat": 4,
 "nbformat_minor": 2
}
