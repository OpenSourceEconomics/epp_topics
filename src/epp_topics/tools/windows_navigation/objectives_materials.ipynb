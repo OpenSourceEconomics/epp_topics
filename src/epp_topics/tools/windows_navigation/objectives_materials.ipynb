{
 "cells": [
  {
   "cell_type": "markdown",
   "metadata": {},
   "source": [
    "# Navigation in the windows shell\n",
    "\n",
    "## Learning Objectives\n",
    "\n",
    "After working through this topic, you should be able to:\n",
    "\n",
    "- Explain what the present working directory (pwd) is\n",
    "- Use the pwd command to display your working directory\n",
    "- Use cd to navigate to different directories\n",
    "- Use ls to list directories\n",
    "\n",
    "## Materials\n",
    "\n",
    "Here is the\n",
    "[Screencast](https://player.uni-bonn.educast.nrw/7e54afaf-0b9e-4ef0-9c1c-85b2bee9746c)\n",
    "and these are the [slides](tools-windows_navigation.pdf).\n"
   ]
  }
 ],
 "metadata": {
  "language_info": {
   "codemirror_mode": {
    "name": "ipython",
    "version": 3
   },
   "file_extension": ".py",
   "mimetype": "text/x-python",
   "name": "python",
   "nbconvert_exporter": "python",
   "pygments_lexer": "ipython3"
  }
 },
 "nbformat": 4,
 "nbformat_minor": 2
}
