{
 "cells": [
  {
   "cell_type": "markdown",
   "metadata": {},
   "source": [
    "# Navigation in the windows shell\n",
    "\n",
    "## Learning Objectives\n",
    "\n",
    "After working through this topic, you should be able to:\n",
    "\n",
    "- Explain what the present working directory (pwd) is\n",
    "- Use the pwd command to display your working directory\n",
    "- Use cd to navigate to different directories\n",
    "- Use ls to list directories\n",
    "\n",
    "## Materials\n",
    "\n",
    "Here is the\n",
    "[Screencast](https://player.uni-bonn.educast.nrw/83313f43-a097-4006-b89e-22d6e680e333)\n",
    "and these are the [slides](tools-windows_navigation.pdf).\n",
    "\n",
    "## Quiz\n"
   ]
  },
  {
   "cell_type": "code",
   "execution_count": null,
   "metadata": {
    "tags": [
     "remove-input"
    ]
   },
   "outputs": [],
   "source": [
    "from epp_topics.quiz_utilities import display_quiz\n",
    "\n",
    "content = {\n",
    "    \"What does pwd do\": {\n",
    "        \"Print the current working directory\": True,\n",
    "        \"Switch to your home directory\": False,\n",
    "        \"Create a new directory called pwd\": False,\n",
    "        \"Print all files in the present working directory\": False,\n",
    "    },\n",
    "    \"What does `cd ..` do\": {\n",
    "        \"Move to a directory called `..`\": False,\n",
    "        \"Move to the parent directory\": True,\n",
    "        \"Move to the home directory\": False,\n",
    "    },\n",
    "}\n",
    "\n",
    "display_quiz(content)"
   ]
  }
 ],
 "metadata": {
  "language_info": {
   "codemirror_mode": {
    "name": "ipython",
    "version": 3
   },
   "file_extension": ".py",
   "mimetype": "text/x-python",
   "name": "python",
   "nbconvert_exporter": "python",
   "pygments_lexer": "ipython3"
  }
 },
 "nbformat": 4,
 "nbformat_minor": 2
}
