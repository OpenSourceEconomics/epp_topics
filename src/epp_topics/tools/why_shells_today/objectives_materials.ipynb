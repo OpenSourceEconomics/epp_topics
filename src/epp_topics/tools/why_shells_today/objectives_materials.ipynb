{
 "cells": [
  {
   "cell_type": "markdown",
   "metadata": {},
   "source": [
    "# Why use shells today?\n",
    "\n",
    "## Learning Objectives\n",
    "\n",
    "After working through this topic, you should be able to:\n",
    "\n",
    "- Decide for which tasks a shell is the right tool and for which you should use GUIs\n",
    "\n",
    "## Materials\n",
    "\n",
    "Here is the\n",
    "[Screencast](https://player.uni-bonn.educast.nrw/7e54afaf-0b9e-4ef0-9c1c-85b2bee9746c)\n",
    "and these are the [slides](tools-why_shells_today.pdf).\n",
    "\n",
    "\n",
    "## Quiz"
   ]
  },
  {
   "cell_type": "markdown",
   "metadata": {
    "tags": [
     "remove-input"
    ]
   },
   "source": [
    "- The shell is\n",
    "    - a way to talk to the computer (F)\n",
    "    - a GUI (F)\n",
    "    - the most low-level interface to the hardware there is (F)\n",
    "    - a programme to run other programmes (T)"
   ]
  }
 ],
 "metadata": {
  "language_info": {
   "codemirror_mode": {
    "name": "ipython",
    "version": 3
   },
   "file_extension": ".py",
   "mimetype": "text/x-python",
   "name": "python",
   "nbconvert_exporter": "python",
   "pygments_lexer": "ipython3"
  }
 },
 "nbformat": 4,
 "nbformat_minor": 2
}
