{
 "cells": [
  {
   "cell_type": "markdown",
   "metadata": {},
   "source": [
    "# Why use shells today?\n",
    "\n",
    "## Learning Objectives\n",
    "\n",
    "After working through this topic, you should be able to:\n",
    "\n",
    "- Decide for which tasks a shell is the right tool and for which you should use GUIs\n",
    "\n",
    "## Materials\n",
    "\n",
    "Here is the\n",
    "[Screencast](https://player.uni-bonn.educast.nrw/095531fd-50ad-49ac-b430-cf7ec842337d)\n",
    "and these are the [slides](tools-why_shells_today.pdf).\n",
    "\n",
    "\n",
    "## Quiz"
   ]
  },
  {
   "cell_type": "code",
   "execution_count": null,
   "metadata": {
    "tags": [
     "remove-input"
    ]
   },
   "outputs": [],
   "source": [
    "from jupyterquiz import display_quiz\n",
    "\n",
    "content = [\n",
    "    {\n",
    "        \"question\": (\"The shell is ...\"),\n",
    "        \"type\": \"multiple_choice\",\n",
    "        \"answers\": [\n",
    "            {\"answer\": \"a GUI\", \"correct\": False, \"feedback\": \"Incorrect.\"},\n",
    "            {\n",
    "                \"answer\": \"the most low-level interface to the hardware there is\",\n",
    "                \"correct\": False,\n",
    "                \"feedback\": \"Incorrect\",\n",
    "            },\n",
    "            {\n",
    "                \"answer\": \"a programme to run other programmes\",\n",
    "                \"correct\": True,\n",
    "                \"feedback\": \"Correct\",\n",
    "            },\n",
    "            {\n",
    "                \"answer\": \"a relic of the past without practical use today\",\n",
    "                \"correct\": False,\n",
    "                \"feedback\": \"Incorrect\",\n",
    "            },\n",
    "        ],\n",
    "    },\n",
    "]\n",
    "\n",
    "display_quiz(content, colors=\"fdsp\")"
   ]
  }
 ],
 "metadata": {
  "language_info": {
   "codemirror_mode": {
    "name": "ipython",
    "version": 3
   },
   "file_extension": ".py",
   "mimetype": "text/x-python",
   "name": "python",
   "nbconvert_exporter": "python",
   "pygments_lexer": "ipython3"
  }
 },
 "nbformat": 4,
 "nbformat_minor": 2
}
