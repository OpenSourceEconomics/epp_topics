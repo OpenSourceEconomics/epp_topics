{
 "cells": [
  {
   "cell_type": "markdown",
   "metadata": {},
   "source": [
    "# Introduction to Machine Learning\n",
    "\n",
    "## Learning Objectives\n",
    "\n",
    "We assume you have some background in econometrics. After working through this topic,\n",
    "you should be able to:\n",
    "\n",
    "- describe the main differences between econometrics and machine learning\n",
    "- list the machine learning terminology corresponding to the econometrics terminology\n",
    "- describe some core concepts of machine learning\n",
    "  - the importance of holdout samples\n",
    "  - hyperparameters\n",
    "\n",
    "## Materials\n",
    "\n",
    "Video:\n",
    "\n",
    "<iframe\n",
    "  src=\"https://electure.uni-bonn.de/paella7/ui/watch.html?id=3f9270be-df04-4747-8329-e5e62c38d292\"\n",
    "  width=\"640\"\n",
    "  height=\"360\"\n",
    "  frameborder=\"0\"\n",
    "  allowfullscreen\n",
    "></iframe>\n",
    "\n",
    "Download the [slides](metrics_ml-ml_intro_diffs_metrics.pdf).\n",
    "\n",
    "Very good intro to ML from the perspective of econometrics: [Machine Learning: An\n",
    "Applied Econometric Approach](https://doi.org/10.1257/jep.31.2.87), Sendhil Mullainathan\n",
    "& Jann Spiess, JEP 2017 (differences of ML / econometrics, overview of ML methods, what\n",
    "we can(not) learn with ML, list of potential applications in econ).\n",
    "\n",
    "<!-- ## Quiz -->"
   ]
  },
  {
   "cell_type": "code",
   "execution_count": null,
   "metadata": {
    "tags": [
     "remove-input"
    ]
   },
   "outputs": [],
   "source": [
    "# content = [\n",
    "#     {\n",
    "#         \"question\": \"Pandas ...\",\n",
    "#         \"code\": \"import pandas as pd\",\n",
    "#         \"type\": \"many_choice\",\n",
    "#         \"answers\": [\n",
    "#             {\n",
    "#                 \"answer\": (\n",
    "#                     \"aaaaaaaaaaaaaaaaaaaaaaaaaaaaaaaaaaaaaaaaaaaaaaaaaaaaaaaaaaaaaaaaa \"\n",
    "#                     \"bbbbbbbbbbbbbbbbbbbbbbbbbbbbbbbbbbbbbbbbbbbbbbbbbbb\",\n",
    "#                 ),\n",
    "#                 \"correct\": True,\n",
    "#                 \"feedback\": \"\",\n",
    "#             },\n",
    "#             {\n",
    "#                 \"answer\": (\n",
    "#                     \"aaaaaaaaaaaaaaaaaaaaaaaaaaaaaaaaaaaaaaaaaaaaaaaaaaaaaaaaaaaaaaaaa \"\n",
    "#                     \"ccccc\",\n",
    "#                 ),\n",
    "#                 \"correct\": False,\n",
    "#                 \"feedback\": \"\",\n",
    "#             },\n",
    "#             {\n",
    "#                 \"answer\": (\n",
    "#                     \"aaaaaaaaaaaaaaaaaaaaaaaaaaaaaaaaaaaaaaaaaaaaaaaaaaaaaaaaaaaaaaaaa \"\n",
    "#                     \"ddddd\",\n",
    "#                 ),\n",
    "#                 \"correct\": True,\n",
    "#                 \"feedback\": \"\",\n",
    "#             },\n",
    "#             {\n",
    "#                 \"answer\": (\n",
    "#                     \"aaaaaaaaaaaaaaaaaaaaaaaaaaaaaaaaaaaaaaaaaaaaaaaaaaaaaaaaaaaaaaaaa \"\n",
    "#                     \"eeeeee\",\n",
    "#                 ),\n",
    "#                 \"correct\": False,\n",
    "#                 \"feedback\": \"\",\n",
    "#             },\n",
    "#         ],\n",
    "#     },\n",
    "# ]\n",
    "\n",
    "# from jupyterquiz import display_quiz\n",
    "\n",
    "# display_quiz(content, colors=\"fdsp\")"
   ]
  }
 ],
 "metadata": {
  "language_info": {
   "codemirror_mode": {
    "name": "ipython",
    "version": 3
   },
   "file_extension": ".py",
   "mimetype": "text/x-python",
   "name": "python",
   "nbconvert_exporter": "python",
   "pygments_lexer": "ipython3"
  }
 },
 "nbformat": 4,
 "nbformat_minor": 2
}
