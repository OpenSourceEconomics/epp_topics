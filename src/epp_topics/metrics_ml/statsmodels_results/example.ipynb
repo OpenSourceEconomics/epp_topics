{
 "cells": [
  {
   "cell_type": "code",
   "execution_count": null,
   "metadata": {},
   "outputs": [],
   "source": [
    "import pandas as pd\n",
    "import plotly.io as pio\n",
    "import statsmodels.formula.api as smf\n",
    "\n",
    "pd.options.mode.copy_on_write = True\n",
    "pd.options.future.infer_string = True\n",
    "pd.options.plotting.backend = \"plotly\"\n",
    "# Set the desired theme\n",
    "# pio.templates.default = \"plotly_dark+presentation\" # noqa: ERA001\n",
    "pio.templates.default = \"plotly_white+presentation\""
   ]
  },
  {
   "cell_type": "code",
   "execution_count": null,
   "metadata": {},
   "outputs": [],
   "source": [
    "df = pd.read_feather(\n",
    "    \"../piaac_education_and_computer_usage_by_country_5.arrow\",\n",
    ")[\n",
    "    [\n",
    "        \"fraction_with_tertiary_education\",\n",
    "        \"fraction_using_computer_at_work\",\n",
    "    ]\n",
    "].round(\n",
    "    3,\n",
    ")"
   ]
  },
  {
   "cell_type": "code",
   "execution_count": null,
   "metadata": {},
   "outputs": [],
   "source": [
    "print(df.to_markdown())"
   ]
  },
  {
   "cell_type": "code",
   "execution_count": null,
   "metadata": {},
   "outputs": [],
   "source": [
    "fig = df.reset_index().plot.scatter(\n",
    "    x=\"fraction_with_tertiary_education\",\n",
    "    y=\"fraction_using_computer_at_work\",\n",
    "    text=\"country\",\n",
    ")\n",
    "fig.update_traces(textposition=\"top center\")\n",
    "fig.update_xaxes(range=(0.15, 0.4))\n",
    "fig.write_image(\"screencast/public/scatter.svg\")\n",
    "fig.show()"
   ]
  },
  {
   "cell_type": "code",
   "execution_count": null,
   "metadata": {},
   "outputs": [],
   "source": [
    "model = smf.ols(\n",
    "    formula=\"fraction_using_computer_at_work ~ fraction_with_tertiary_education\",\n",
    "    data=df,\n",
    ")\n",
    "model"
   ]
  },
  {
   "cell_type": "code",
   "execution_count": null,
   "metadata": {},
   "outputs": [],
   "source": [
    "all_results = model.fit(cov_type=\"nonrobust\")\n",
    "all_results"
   ]
  },
  {
   "cell_type": "code",
   "execution_count": null,
   "metadata": {},
   "outputs": [],
   "source": [
    "print(all_results.summary().as_html())"
   ]
  },
  {
   "cell_type": "code",
   "execution_count": null,
   "metadata": {},
   "outputs": [],
   "source": [
    "all_results.summary()"
   ]
  },
  {
   "cell_type": "code",
   "execution_count": null,
   "metadata": {},
   "outputs": [],
   "source": [
    "df[\"predicted\"] = all_results.predict(df)\n",
    "df"
   ]
  },
  {
   "cell_type": "code",
   "execution_count": null,
   "metadata": {},
   "outputs": [],
   "source": [
    "print(df.round(3).to_markdown())"
   ]
  },
  {
   "cell_type": "code",
   "execution_count": null,
   "metadata": {},
   "outputs": [],
   "source": [
    "line_fig = df.plot(x=\"fraction_with_tertiary_education\", y=\"predicted\")\n",
    "line_fig.show()"
   ]
  },
  {
   "cell_type": "code",
   "execution_count": null,
   "metadata": {},
   "outputs": [],
   "source": [
    "line_fig.write_image(\"screencast/public/line.svg\")"
   ]
  },
  {
   "cell_type": "code",
   "execution_count": null,
   "metadata": {},
   "outputs": [],
   "source": [
    "fig = df.reset_index().plot.scatter(\n",
    "    x=\"fraction_with_tertiary_education\",\n",
    "    y=\"fraction_using_computer_at_work\",\n",
    "    text=\"country\",\n",
    ")\n",
    "# Add the regression line\n",
    "fig.add_traces(line_fig.data)\n",
    "# Nicer formatting\n",
    "fig.update_traces(textposition=\"bottom center\")\n",
    "fig.update_xaxes(range=(0.15, 0.4))\n",
    "fig.show()"
   ]
  },
  {
   "cell_type": "code",
   "execution_count": null,
   "metadata": {},
   "outputs": [],
   "source": [
    "fig.write_image(\"screencast/public/scatter-line.svg\")"
   ]
  },
  {
   "cell_type": "code",
   "execution_count": null,
   "metadata": {},
   "outputs": [],
   "source": []
  }
 ],
 "metadata": {
  "language_info": {
   "codemirror_mode": {
    "name": "ipython",
    "version": 3
   },
   "file_extension": ".py",
   "mimetype": "text/x-python",
   "name": "python",
   "nbconvert_exporter": "python",
   "pygments_lexer": "ipython3"
  }
 },
 "nbformat": 4,
 "nbformat_minor": 2
}
