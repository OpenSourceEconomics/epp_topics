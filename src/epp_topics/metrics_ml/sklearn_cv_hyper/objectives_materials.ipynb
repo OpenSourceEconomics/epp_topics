{
 "cells": [
  {
   "cell_type": "markdown",
   "metadata": {},
   "source": [
    "# Cross-validation and hyperparamters in scikit-learn\n",
    "\n",
    "## Learning Objectives\n",
    "\n",
    "After working through this topic, you should be able to:\n",
    "\n",
    "- ...\n",
    "- ...\n",
    "\n",
    "## Materials\n",
    "\n",
    "Video:\n",
    "\n",
    "<iframe\n",
    "  src=\"https://electure.uni-bonn.de/paella7/ui/watch.html?id=xxx\"\n",
    "  width=\"640\"\n",
    "  height=\"360\"\n",
    "  frameborder=\"0\"\n",
    "  allowfullscreen\n",
    "></iframe>\n",
    "\n",
    "Download the [slides](metrics_ml-sklearn_cv_hyper.pdf).\n",
    "\n",
    "<!-- ## Quiz -->\n"
   ]
  },
  {
   "cell_type": "code",
   "execution_count": null,
   "metadata": {
    "tags": [
     "remove-input"
    ]
   },
   "outputs": [],
   "source": [
    "# content = [\n",
    "#     {\n",
    "#         \"question\": \"Pandas ...\",\n",
    "#         \"code\": \"import pandas as pd\",\n",
    "#         \"type\": \"many_choice\",\n",
    "#         \"answers\": [\n",
    "#             {\n",
    "#                 \"answer\": (\n",
    "#                     \"aaaaaaaaaaaaaaaaaaaaaaaaaaaaaaaaaaaaaaaaaaaaaaaaaaaaaaaaaaaaaaaaa \"\n",
    "#                     \"bbbbbbbbbbbbbbbbbbbbbbbbbbbbbbbbbbbbbbbbbbbbbbbbbbb\",\n",
    "#                 ),\n",
    "#                 \"correct\": True,\n",
    "#                 \"feedback\": \"\",\n",
    "#             },\n",
    "#             {\n",
    "#                 \"answer\": (\n",
    "#                     \"aaaaaaaaaaaaaaaaaaaaaaaaaaaaaaaaaaaaaaaaaaaaaaaaaaaaaaaaaaaaaaaaa \"\n",
    "#                     \"ccccc\",\n",
    "#                 ),\n",
    "#                 \"correct\": False,\n",
    "#                 \"feedback\": \"\",\n",
    "#             },\n",
    "#             {\n",
    "#                 \"answer\": (\n",
    "#                     \"aaaaaaaaaaaaaaaaaaaaaaaaaaaaaaaaaaaaaaaaaaaaaaaaaaaaaaaaaaaaaaaaa \"\n",
    "#                     \"ddddd\",\n",
    "#                 ),\n",
    "#                 \"correct\": True,\n",
    "#                 \"feedback\": \"\",\n",
    "#             },\n",
    "#             {\n",
    "#                 \"answer\": (\n",
    "#                     \"aaaaaaaaaaaaaaaaaaaaaaaaaaaaaaaaaaaaaaaaaaaaaaaaaaaaaaaaaaaaaaaaa \"\n",
    "#                     \"eeeeee\",\n",
    "#                 ),\n",
    "#                 \"correct\": False,\n",
    "#                 \"feedback\": \"\",\n",
    "#             },\n",
    "#         ],\n",
    "#     },\n",
    "# ]\n",
    "\n",
    "# from jupyterquiz import display_quiz\n",
    "\n",
    "# display_quiz(content, colors=\"fdsp\")"
   ]
  }
 ],
 "metadata": {
  "language_info": {
   "codemirror_mode": {
    "name": "ipython",
    "version": 3
   },
   "file_extension": ".py",
   "mimetype": "text/x-python",
   "name": "python",
   "nbconvert_exporter": "python",
   "pygments_lexer": "ipython3"
  }
 },
 "nbformat": 4,
 "nbformat_minor": 2
}
