{
 "cells": [
  {
   "cell_type": "markdown",
   "metadata": {},
   "source": [
    "# Introduction to scikit-learn\n",
    "\n",
    "## Learning Objectives\n",
    "\n",
    "After working through this topic, you should be able to:\n",
    "\n",
    "- list the basic steps for running machine algorithms using scikit-learn:\n",
    "  1. Arrange data into a features matrix / target vector, split into training / test sets\n",
    "  2. Choose a class of models by importing the appropriate estimator\n",
    "  3. Set hyperparameters by instantiating this class\n",
    "  4. Fit the model to your data by calling the `fit()` method on the model instance\n",
    "  5. Apply the model to new data using the `predict()` method\n",
    "  6. Evaluate the quality of predictions\n",
    "- run machine learning algorithms using scikit-learn\n",
    "- explain the intuition behind the different scores used to evaluate the quality of predictions:\n",
    "  - accuracy\n",
    "  - precision\n",
    "  - recall\n",
    "  - F1 score\n",
    "\n",
    "## Materials\n",
    "\n",
    "Video:\n",
    "\n",
    "<iframe\n",
    "  src=\"https://electure.uni-bonn.de/paella7/ui/watch.html?id=b9a77c8e-75f4-4f67-82b4-5a41280c55f4\"\n",
    "  width=\"640\"\n",
    "  height=\"360\"\n",
    "  frameborder=\"0\"\n",
    "  allowfullscreen\n",
    "></iframe>\n",
    "\n",
    "Download the [slides](metrics_ml-sklearn_intro.pdf).\n",
    "\n",
    "<!-- ## Quiz -->\n"
   ]
  },
  {
   "cell_type": "code",
   "execution_count": null,
   "metadata": {
    "tags": [
     "remove-input"
    ]
   },
   "outputs": [],
   "source": [
    "# content = [\n",
    "#     {\n",
    "#         \"question\": \"Pandas ...\",\n",
    "#         \"code\": \"import pandas as pd\",\n",
    "#         \"type\": \"many_choice\",\n",
    "#         \"answers\": [\n",
    "#             {\n",
    "#                 \"answer\": (\n",
    "#                     \"aaaaaaaaaaaaaaaaaaaaaaaaaaaaaaaaaaaaaaaaaaaaaaaaaaaaaaaaaaaaaaaaa \"\n",
    "#                     \"bbbbbbbbbbbbbbbbbbbbbbbbbbbbbbbbbbbbbbbbbbbbbbbbbbb\",\n",
    "#                 ),\n",
    "#                 \"correct\": True,\n",
    "#                 \"feedback\": \"\",\n",
    "#             },\n",
    "#             {\n",
    "#                 \"answer\": (\n",
    "#                     \"aaaaaaaaaaaaaaaaaaaaaaaaaaaaaaaaaaaaaaaaaaaaaaaaaaaaaaaaaaaaaaaaa \"\n",
    "#                     \"ccccc\",\n",
    "#                 ),\n",
    "#                 \"correct\": False,\n",
    "#                 \"feedback\": \"\",\n",
    "#             },\n",
    "#             {\n",
    "#                 \"answer\": (\n",
    "#                     \"aaaaaaaaaaaaaaaaaaaaaaaaaaaaaaaaaaaaaaaaaaaaaaaaaaaaaaaaaaaaaaaaa \"\n",
    "#                     \"ddddd\",\n",
    "#                 ),\n",
    "#                 \"correct\": True,\n",
    "#                 \"feedback\": \"\",\n",
    "#             },\n",
    "#             {\n",
    "#                 \"answer\": (\n",
    "#                     \"aaaaaaaaaaaaaaaaaaaaaaaaaaaaaaaaaaaaaaaaaaaaaaaaaaaaaaaaaaaaaaaaa \"\n",
    "#                     \"eeeeee\",\n",
    "#                 ),\n",
    "#                 \"correct\": False,\n",
    "#                 \"feedback\": \"\",\n",
    "#             },\n",
    "#         ],\n",
    "#     },\n",
    "# ]\n",
    "\n",
    "# from jupyterquiz import display_quiz\n",
    "\n",
    "# display_quiz(content, colors=\"fdsp\")"
   ]
  }
 ],
 "metadata": {
  "language_info": {
   "codemirror_mode": {
    "name": "ipython",
    "version": 3
   },
   "file_extension": ".py",
   "mimetype": "text/x-python",
   "name": "python",
   "nbconvert_exporter": "python",
   "pygments_lexer": "ipython3"
  }
 },
 "nbformat": 4,
 "nbformat_minor": 2
}
