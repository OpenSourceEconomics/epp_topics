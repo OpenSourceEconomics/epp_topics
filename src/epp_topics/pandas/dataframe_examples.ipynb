{
 "cells": [
  {
   "cell_type": "markdown",
   "metadata": {},
   "source": [
    "# DataFrame examples for screencasts\n",
    "\n",
    "\n",
    "This notebook contains the non-trivial examples used in the slides. In the long run \n",
    "we want to convert all DataFrame examples to tasks. \n",
    "\n",
    "The examples that are not in this notebook can be created trivially by using the \n",
    "`get_gapminder_sample` function with the correct argument and executing code from the \n",
    "slides. "
   ]
  },
  {
   "cell_type": "code",
   "execution_count": null,
   "metadata": {},
   "outputs": [],
   "source": [
    "import pandas as pd\n",
    "\n",
    "pd.options.mode.copy_on_write = True\n",
    "pd.options.future.infer_string = True\n",
    "pd.options.plotting.backend = \"plotly\"\n",
    "\n",
    "import plotly.express as px\n",
    "\n",
    "from epp_topics.slidev_utilities import get_html\n",
    "\n",
    "\n",
    "def get_gapminder_sample(version=\"tiny\"):\n",
    "    df = px.data.gapminder()\n",
    "    df = df.rename(\n",
    "        columns={\n",
    "            \"lifeExp\": \"life_exp\",\n",
    "            \"gdpPercap\": \"gdp_per_cap\",\n",
    "        },\n",
    "    )\n",
    "    if version == \"tiny\":\n",
    "        df = df[[\"country\", \"continent\", \"year\", \"life_exp\"]]\n",
    "        df = df.query(\"country in ['Cuba', 'Spain']\")\n",
    "        df = df.query(\"year in [2002, 2007]\")\n",
    "    elif version == \"full\":\n",
    "        pass\n",
    "    elif version == \"all_observations\":\n",
    "        df = df[[\"country\", \"continent\", \"year\", \"life_exp\"]]\n",
    "    elif version == \"income\":\n",
    "        df = df[[\"country\", \"year\", \"gdp_per_cap\", \"pop\"]]\n",
    "        df = df.query(\"country in ['Cuba', 'Spain']\")\n",
    "        df = df.query(\"year in [2002, 2007]\")\n",
    "    else:\n",
    "        msg = f\"Unknown version: {version}\"\n",
    "        raise ValueError(msg)\n",
    "\n",
    "    return df.reset_index(drop=True)"
   ]
  },
  {
   "cell_type": "markdown",
   "metadata": {},
   "source": [
    "## Example for inspecting and summarizing data\n",
    "\n",
    "This recreates the look of the full DataFrame in a pandas notebook at default display\n",
    "settings. "
   ]
  },
  {
   "cell_type": "code",
   "execution_count": null,
   "metadata": {},
   "outputs": [],
   "source": [
    "df = get_gapminder_sample(\"full\")\n",
    "df = pd.concat([df.loc[:6], df.loc[1699:]])\n",
    "df.loc[6] = \"...\"\n",
    "new_index = df.index.tolist()\n",
    "new_index[6] = \"...\"\n",
    "df.index = new_index\n",
    "get_html(df)"
   ]
  },
  {
   "cell_type": "markdown",
   "metadata": {},
   "source": [
    "## Gapminder data in wide format for the normal forms / rules for data management screencast"
   ]
  },
  {
   "cell_type": "code",
   "execution_count": null,
   "metadata": {},
   "outputs": [],
   "source": [
    "# gapminder in wide format\n",
    "\n",
    "df = get_gapminder_sample(\"income\")\n",
    "\n",
    "df_wide = df.pivot(index=\"country\", columns=\"year\", values=[\"gdp_per_cap\", \"pop\"])\n",
    "\n",
    "df_wide.columns = df_wide.columns.map(lambda x: f\"{x[0]}_{x[1]}\")\n",
    "\n",
    "get_html(df_wide)"
   ]
  },
  {
   "cell_type": "markdown",
   "metadata": {},
   "source": [
    "## Combining dataframes"
   ]
  },
  {
   "cell_type": "markdown",
   "metadata": {},
   "source": []
  },
  {
   "cell_type": "code",
   "execution_count": null,
   "metadata": {},
   "outputs": [],
   "source": [
    "# concat without axis argument\n",
    "\n",
    "df = get_gapminder_sample(\"tiny\").set_index([\"country\", \"year\"])\n",
    "top = df.query(\"country == 'Cuba'\")\n",
    "bottom = df.query(\"country == 'Spain'\")\n",
    "\n",
    "df = pd.concat([top, bottom])\n",
    "get_html(df)"
   ]
  },
  {
   "cell_type": "code",
   "execution_count": null,
   "metadata": {},
   "outputs": [],
   "source": [
    "# concat with axis = 1\n",
    "\n",
    "\n",
    "left = get_gapminder_sample(\"tiny\").set_index([\"country\", \"year\"])\n",
    "right = get_gapminder_sample(\"income\").set_index([\"country\", \"year\"])\n",
    "\n",
    "df = pd.concat([left, right], axis=\"columns\")\n",
    "get_html(df)\n",
    "df"
   ]
  },
  {
   "cell_type": "code",
   "execution_count": null,
   "metadata": {},
   "outputs": [],
   "source": [
    "# 1:1 merge\n",
    "\n",
    "left = get_gapminder_sample(\"tiny\").iloc[:3].reset_index(drop=True)\n",
    "right = get_gapminder_sample(\"income\").iloc[1:].reset_index(drop=True)\n",
    "\n",
    "df = pd.merge(\n",
    "    left=left,\n",
    "    right=right,\n",
    "    on=[\"country\", \"year\"],\n",
    "    how=\"outer\",\n",
    ")\n",
    "\n",
    "get_html(df)"
   ]
  },
  {
   "cell_type": "code",
   "execution_count": null,
   "metadata": {},
   "outputs": [],
   "source": [
    "# m:1 merge\n",
    "\n",
    "left = get_gapminder_sample(\"tiny\")[[\"country\", \"year\", \"life_exp\"]]\n",
    "\n",
    "right = pd.DataFrame()\n",
    "right[\"country\"] = [\"Cuba\", \"Spain\"]\n",
    "right[\"capital\"] = [\"Havana\", \"Madrid\"]\n",
    "\n",
    "df = pd.merge(\n",
    "    left=left,\n",
    "    right=right,\n",
    "    on=\"country\",\n",
    ")\n",
    "\n",
    "\n",
    "get_html(df)"
   ]
  },
  {
   "cell_type": "markdown",
   "metadata": {},
   "source": [
    "## Functional data management"
   ]
  },
  {
   "cell_type": "code",
   "execution_count": null,
   "metadata": {},
   "outputs": [],
   "source": []
  },
  {
   "cell_type": "code",
   "execution_count": null,
   "metadata": {},
   "outputs": [],
   "source": []
  }
 ],
 "metadata": {
  "language_info": {
   "codemirror_mode": {
    "name": "ipython",
    "version": 3
   },
   "file_extension": ".py",
   "mimetype": "text/x-python",
   "name": "python",
   "nbconvert_exporter": "python",
   "pygments_lexer": "ipython3"
  }
 },
 "nbformat": 4,
 "nbformat_minor": 2
}
