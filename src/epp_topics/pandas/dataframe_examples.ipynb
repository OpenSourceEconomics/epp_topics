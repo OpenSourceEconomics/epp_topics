{
 "cells": [
  {
   "cell_type": "markdown",
   "metadata": {},
   "source": [
    "# DataFrame examples for screencasts\n",
    "\n",
    "\n",
    "This notebook contains the non-trivial examples used in the slides. In the long run \n",
    "we want to convert all DataFrame examples to tasks. \n",
    "\n",
    "The examples that are not in this notebook can be created trivially by using the \n",
    "`get_gapminder_sample` function with the correct argument and executing code from the \n",
    "slides. "
   ]
  },
  {
   "cell_type": "code",
   "execution_count": null,
   "metadata": {},
   "outputs": [],
   "source": [
    "import pandas as pd\n",
    "\n",
    "pd.options.mode.copy_on_write = True\n",
    "pd.options.future.infer_string = True\n",
    "pd.options.plotting.backend = \"plotly\"\n",
    "\n",
    "import plotly.express as px\n",
    "\n",
    "from epp_topics.slidev_utilities import get_html\n",
    "\n",
    "\n",
    "def get_gapminder_sample(version=\"tiny\"):\n",
    "    df = px.data.gapminder()\n",
    "    df = df.rename(\n",
    "        columns={\n",
    "            \"lifeExp\": \"life_exp\",\n",
    "            \"gdpPercap\": \"gdp_per_cap\",\n",
    "        },\n",
    "    )\n",
    "    if version == \"tiny\":\n",
    "        df = df[[\"country\", \"continent\", \"year\", \"life_exp\"]]\n",
    "        df = df.query(\"country in ['Cuba', 'Spain']\")\n",
    "        df = df.query(\"year in [2002, 2007]\")\n",
    "    elif version == \"full\":\n",
    "        pass\n",
    "    elif version == \"all_observations\":\n",
    "        df = df[[\"country\", \"continent\", \"year\", \"life_exp\"]]\n",
    "    elif version == \"income\":\n",
    "        df = df[[\"country\", \"year\", \"gdp_per_cap\", \"pop\"]]\n",
    "        df = df.query(\"country in ['Cuba', 'Spain']\")\n",
    "        df = df.query(\"year in [2002, 2007]\")\n",
    "    else:\n",
    "        msg = f\"Unknown version: {version}\"\n",
    "        raise ValueError(msg)\n",
    "\n",
    "    return df.reset_index(drop=True)"
   ]
  },
  {
   "cell_type": "markdown",
   "metadata": {},
   "source": [
    "## Example for inspecting and summarizing data\n",
    "\n",
    "This recreates the look of the full DataFrame in a pandas notebook at default display\n",
    "settings. "
   ]
  },
  {
   "cell_type": "code",
   "execution_count": null,
   "metadata": {},
   "outputs": [],
   "source": [
    "# gapminder full (pandas/inspecting_and_summarizing/screencast)\n",
    "\n",
    "df = get_gapminder_sample(\"full\")\n",
    "df = pd.concat([df.loc[:6], df.loc[1699:]])\n",
    "df.loc[6] = \"...\"\n",
    "new_index = df.index.tolist()\n",
    "new_index[6] = \"...\"\n",
    "df.index = new_index\n",
    "print(get_html(df))\n",
    "df"
   ]
  },
  {
   "cell_type": "markdown",
   "metadata": {},
   "source": [
    "## Gapminder data in wide format for the normal forms / rules for data management screencast"
   ]
  },
  {
   "cell_type": "code",
   "execution_count": null,
   "metadata": {},
   "outputs": [],
   "source": [
    "# gapminder in wide format (pandas/rules/screencast)\n",
    "\n",
    "df = get_gapminder_sample(\"income\")\n",
    "\n",
    "df_wide = df.pivot(index=\"country\", columns=\"year\", values=[\"gdp_per_cap\", \"pop\"])\n",
    "\n",
    "df_wide.columns = df_wide.columns.map(lambda x: f\"{x[0]}_{x[1]}\")\n",
    "\n",
    "print(get_html(df_wide))\n",
    "df_wide"
   ]
  },
  {
   "cell_type": "code",
   "execution_count": null,
   "metadata": {},
   "outputs": [],
   "source": [
    "# gapminder in long format (pandas/rules/screencast)\n",
    "\n",
    "df = get_gapminder_sample(\"income\")\n",
    "print(get_html(df))\n",
    "df"
   ]
  },
  {
   "cell_type": "markdown",
   "metadata": {},
   "source": [
    "## Combining dataframes"
   ]
  },
  {
   "cell_type": "markdown",
   "metadata": {},
   "source": []
  },
  {
   "cell_type": "code",
   "execution_count": null,
   "metadata": {},
   "outputs": [],
   "source": [
    "# concat without axis argument\n",
    "# (pandas/columns_and_indices/screencast  -- The dataframe from before)\n",
    "\n",
    "df = get_gapminder_sample(\"tiny\")\n",
    "top = df.query(\"country == 'Cuba'\")\n",
    "bottom = df.query(\"country == 'Spain'\")\n",
    "\n",
    "df = pd.concat([top, bottom])\n",
    "print(get_html(df))\n",
    "df"
   ]
  },
  {
   "cell_type": "code",
   "execution_count": null,
   "metadata": {},
   "outputs": [],
   "source": [
    "# concat without axis argument (Concatenating DataFrames vertically)\n",
    "# (pandas/columns_and_indices/screencast  -- Same dataset, different Index)\n",
    "\n",
    "df = get_gapminder_sample(\"tiny\").set_index([\"country\", \"year\"])\n",
    "top = df.query(\"country == 'Cuba'\")\n",
    "bottom = df.query(\"country == 'Spain'\")\n",
    "\n",
    "df = pd.concat([top, bottom])\n",
    "print(get_html(df))\n",
    "df"
   ]
  },
  {
   "cell_type": "code",
   "execution_count": null,
   "metadata": {},
   "outputs": [],
   "source": [
    "# concat with axis = 1\n",
    "\n",
    "# From: pandas merging\n",
    "\n",
    "\n",
    "left = get_gapminder_sample(\"tiny\").set_index([\"country\", \"year\"])\n",
    "right = get_gapminder_sample(\"income\").set_index([\"country\", \"year\"])\n",
    "\n",
    "df = pd.concat([left, right], axis=\"columns\")\n",
    "print(get_html(df))\n",
    "df"
   ]
  },
  {
   "cell_type": "code",
   "execution_count": null,
   "metadata": {},
   "outputs": [],
   "source": [
    "# 1:1 merge (pandas/merging/screencast)\n",
    "\n",
    "left = get_gapminder_sample(\"tiny\").iloc[:3].reset_index(drop=True)\n",
    "right = get_gapminder_sample(\"income\").iloc[1:].reset_index(drop=True)\n",
    "\n",
    "df = pd.merge(\n",
    "    left=left,\n",
    "    right=right,\n",
    "    on=[\"country\", \"year\"],\n",
    "    how=\"outer\",\n",
    ")\n",
    "\n",
    "print(get_html(df))\n",
    "df"
   ]
  },
  {
   "cell_type": "code",
   "execution_count": null,
   "metadata": {},
   "outputs": [],
   "source": [
    "# m:1 merge\n",
    "\n",
    "left = get_gapminder_sample(\"tiny\")[[\"country\", \"year\", \"life_exp\"]]\n",
    "\n",
    "right = pd.DataFrame()\n",
    "right[\"country\"] = [\"Cuba\", \"Spain\"]\n",
    "right[\"capital\"] = [\"Havana\", \"Madrid\"]\n",
    "\n",
    "df = pd.merge(\n",
    "    left=left,\n",
    "    right=right,\n",
    "    on=\"country\",\n",
    ")\n",
    "\n",
    "print(get_html(df))\n",
    "df"
   ]
  },
  {
   "cell_type": "markdown",
   "metadata": {},
   "source": [
    "## Pandas: What is (modern) pandas?"
   ]
  },
  {
   "cell_type": "code",
   "execution_count": null,
   "metadata": {},
   "outputs": [],
   "source": [
    "# What is a DataFrame?\n",
    "\n",
    "df = get_gapminder_sample(\"tiny\")\n",
    "\n",
    "print(get_html(df))\n",
    "df"
   ]
  },
  {
   "cell_type": "markdown",
   "metadata": {},
   "source": [
    "## Pandas: Loading and Saving"
   ]
  },
  {
   "cell_type": "code",
   "execution_count": null,
   "metadata": {},
   "outputs": [],
   "source": [
    "# Example: Loading a csv file\n",
    "\n",
    "af = get_gapminder_sample(\"tiny\")\n",
    "\n",
    "print(get_html(df))\n",
    "df"
   ]
  },
  {
   "cell_type": "markdown",
   "metadata": {},
   "source": [
    "## Pandas: Inspecting and summarizing data"
   ]
  },
  {
   "cell_type": "code",
   "execution_count": null,
   "metadata": {},
   "outputs": [],
   "source": [
    "# Example\n",
    "\n",
    "df = get_gapminder_sample(\"full\")\n",
    "df = pd.concat([df.loc[:6], df.loc[1699:]])\n",
    "df.loc[6] = \"...\"\n",
    "new_index = df.index.tolist()\n",
    "new_index[6] = \"...\"\n",
    "df.index = new_index\n",
    "\n",
    "print(get_html(df))\n",
    "df"
   ]
  },
  {
   "cell_type": "code",
   "execution_count": null,
   "metadata": {},
   "outputs": [],
   "source": [
    "# Summarize an entire DataFrame\n",
    "\n",
    "df = get_gapminder_sample(\"full\")\n",
    "\n",
    "relevant = [\"life_exp\", \"pop\", \"gdp_per_cap\"]\n",
    "to_print = df[relevant].describe()\n",
    "\n",
    "print(get_html(to_print))\n",
    "to_print"
   ]
  },
  {
   "cell_type": "markdown",
   "metadata": {},
   "source": [
    "## Pandas: Functional Data Management"
   ]
  },
  {
   "cell_type": "code",
   "execution_count": null,
   "metadata": {},
   "outputs": [],
   "source": [
    "# Example\n",
    "from epp_topics.config import SRC\n",
    "\n",
    "df = pd.read_csv(SRC / \"pandas\" / \"functional\" / \"survey.csv\")\n",
    "print(get_html(df))\n",
    "df"
   ]
  },
  {
   "cell_type": "markdown",
   "metadata": {},
   "source": [
    "## Pandas: Data Types"
   ]
  },
  {
   "cell_type": "code",
   "execution_count": null,
   "metadata": {},
   "outputs": [],
   "source": [
    "# The need for different data types\n",
    "\n",
    "df = get_gapminder_sample(\"tiny\")\n",
    "print(get_html(df))\n",
    "df"
   ]
  },
  {
   "cell_type": "markdown",
   "metadata": {},
   "source": [
    "## Pandas: DataFrames and Series"
   ]
  },
  {
   "cell_type": "code",
   "execution_count": null,
   "metadata": {},
   "outputs": [],
   "source": [
    "# What is a DataFrame\n",
    "\n",
    "df = get_gapminder_sample(\"tiny\")\n",
    "print(get_html(df))\n",
    "df"
   ]
  },
  {
   "cell_type": "code",
   "execution_count": null,
   "metadata": {},
   "outputs": [],
   "source": [
    "# Creating DataFrames and Series\n",
    "\n",
    "df = pd.DataFrame(\n",
    "    data=[[1, \"bla\"], [3, \"blubb\"]],\n",
    "    columns=[\"a\", \"b\"],\n",
    "    index=[\"c\", \"d\"],\n",
    ")\n",
    "print(get_html(df))\n",
    "df"
   ]
  },
  {
   "cell_type": "code",
   "execution_count": null,
   "metadata": {},
   "outputs": [],
   "source": [
    "# Assigment is index aligned!\n",
    "\n",
    "df = pd.DataFrame(\n",
    "    data=[[1, \"bla\"], [3, \"blubb\"]],\n",
    "    columns=[\"a\", \"b\"],\n",
    "    index=[\"c\", \"d\"],\n",
    ")\n",
    "\n",
    "sr = pd.Series(\n",
    "    [2.71, 3.14],\n",
    "    index=[\"d\", \"c\"],\n",
    ")\n",
    "df[\"new_col\"] = sr\n",
    "\n",
    "print(get_html(df))\n",
    "df"
   ]
  },
  {
   "cell_type": "markdown",
   "metadata": {},
   "source": [
    "## Pandas: Creating Variables"
   ]
  },
  {
   "cell_type": "code",
   "execution_count": null,
   "metadata": {},
   "outputs": [],
   "source": [
    "# Using numpy math functions\n",
    "\n",
    "import numpy as np\n",
    "\n",
    "df = get_gapminder_sample(\"tiny\")\n",
    "df[\"log_life_exp\"] = np.log(df[\"life_exp\"])\n",
    "\n",
    "print(get_html(df))\n",
    "df"
   ]
  },
  {
   "cell_type": "code",
   "execution_count": null,
   "metadata": {},
   "outputs": [],
   "source": [
    "# Arithmetic with Series\n",
    "\n",
    "df = get_gapminder_sample(\"full\")\n",
    "df = df.query(\"country in ('Cuba', 'Spain')\")\n",
    "df = df.query(\"year in (2002, 2007)\")\n",
    "df = df[[\"country\", \"year\", \"gdp_per_cap\", \"pop\"]]\n",
    "df = df.reset_index(drop=True)\n",
    "df\n",
    "df[\"gdp_billion\"] = df[\"gdp_per_cap\"] * df[\"pop\"] / 1e9\n",
    "\n",
    "print(get_html(df))\n",
    "df"
   ]
  },
  {
   "cell_type": "code",
   "execution_count": null,
   "metadata": {},
   "outputs": [],
   "source": [
    "# Recoding values\n",
    "\n",
    "df = get_gapminder_sample(\"tiny\")\n",
    "df[\"country_code\"] = df[\"country\"].replace(\n",
    "    {\"Cuba\": \"CUB\", \"Spain\": \"ESP\"},\n",
    ")\n",
    "\n",
    "print(get_html(df))\n",
    "df"
   ]
  },
  {
   "cell_type": "code",
   "execution_count": null,
   "metadata": {},
   "outputs": [],
   "source": [
    "# Vectorized if conditions\n",
    "\n",
    "df = get_gapminder_sample(\"full\")\n",
    "df = df.query(\"country in ('Cuba', 'Spain')\")\n",
    "df = df.query(\"year in (2002, 2007)\")\n",
    "df = df[[\"country\", \"year\", \"gdp_per_cap\", \"pop\"]]\n",
    "df = df.reset_index(drop=True)\n",
    "\n",
    "helper = pd.Series(\n",
    "    \"rich\",\n",
    "    index=df.index,\n",
    ")\n",
    "\n",
    "df[\"income_status\"] = helper.where(\n",
    "    cond=df[\"gdp_per_cap\"] > 10000,\n",
    "    other=\"not rich\",\n",
    ")\n",
    "\n",
    "print(get_html(df))\n",
    "df"
   ]
  },
  {
   "cell_type": "markdown",
   "metadata": {},
   "source": [
    "## Pandas: Selecting rows and columns"
   ]
  },
  {
   "cell_type": "code",
   "execution_count": null,
   "metadata": {},
   "outputs": [],
   "source": [
    "# Selecting columns\n",
    "\n",
    "df = get_gapminder_sample(\"tiny\")\n",
    "df = df[[\"country\", \"continent\"]]\n",
    "\n",
    "print(get_html(df))\n",
    "df"
   ]
  },
  {
   "cell_type": "code",
   "execution_count": null,
   "metadata": {},
   "outputs": [],
   "source": [
    "# Selecting individual rows\n",
    "\n",
    "df = get_gapminder_sample(\"tiny\")\n",
    "df = df.set_index([\"country\", \"year\"])\n",
    "to_print = df.loc[[1, 3], [\"country\", \"year\"]]\n",
    "\n",
    "print(get_html(to_print))\n",
    "to_print"
   ]
  },
  {
   "cell_type": "code",
   "execution_count": null,
   "metadata": {},
   "outputs": [],
   "source": [
    "# Selecting rows and columns\n",
    "\n",
    "df = get_gapminder_sample(\"tiny\")\n",
    "to_print = df.loc[[1, 3], [\"country\", \"year\"]]\n",
    "\n",
    "print(get_html(to_print))\n",
    "to_print"
   ]
  },
  {
   "cell_type": "code",
   "execution_count": null,
   "metadata": {},
   "outputs": [],
   "source": [
    "# Selecting rows using Boolean Series\n",
    "\n",
    "df = get_gapminder_sample(\"tiny\")\n",
    "to_print = df[df[\"year\"] >= 2005]\n",
    "\n",
    "print(get_html(to_print))\n",
    "to_print"
   ]
  },
  {
   "cell_type": "code",
   "execution_count": null,
   "metadata": {},
   "outputs": [],
   "source": [
    "# Selecting rows with queries (1)\n",
    "\n",
    "df = get_gapminder_sample(\"tiny\")\n",
    "to_print = df.query(\"year >= 2005\")\n",
    "\n",
    "print(get_html(to_print))\n",
    "to_print"
   ]
  },
  {
   "cell_type": "code",
   "execution_count": null,
   "metadata": {},
   "outputs": [],
   "source": [
    "# Selecting rows with queries (2)\n",
    "\n",
    "df = get_gapminder_sample(\"tiny\")\n",
    "to_print = df.query(\"year >= 2005 & continent == 'Europe'\")\n",
    "\n",
    "print(get_html(to_print))\n",
    "to_print"
   ]
  },
  {
   "cell_type": "markdown",
   "metadata": {},
   "source": [
    "## Software engineering: Testing code that should raise errors"
   ]
  },
  {
   "cell_type": "code",
   "execution_count": null,
   "metadata": {},
   "outputs": [],
   "source": [
    "# Reminder of the example\n",
    "\n",
    "from epp_topics.config import SRC\n",
    "\n",
    "df = pd.read_csv(SRC / \"pandas\" / \"functional\" / \"survey.csv\")\n",
    "print(get_html(df))\n",
    "df"
   ]
  },
  {
   "cell_type": "markdown",
   "metadata": {},
   "source": [
    "## Software engineering: What does pytest do?"
   ]
  },
  {
   "cell_type": "code",
   "execution_count": null,
   "metadata": {},
   "outputs": [],
   "source": [
    "# Example\n",
    "\n",
    "from epp_topics.config import SRC\n",
    "\n",
    "df = pd.read_csv(SRC / \"pandas\" / \"functional\" / \"survey.csv\")\n",
    "print(get_html(df))\n",
    "df"
   ]
  }
 ],
 "metadata": {
  "language_info": {
   "codemirror_mode": {
    "name": "ipython",
    "version": 3
   },
   "file_extension": ".py",
   "mimetype": "text/x-python",
   "name": "python",
   "nbconvert_exporter": "python",
   "pygments_lexer": "ipython3"
  }
 },
 "nbformat": 4,
 "nbformat_minor": 2
}
