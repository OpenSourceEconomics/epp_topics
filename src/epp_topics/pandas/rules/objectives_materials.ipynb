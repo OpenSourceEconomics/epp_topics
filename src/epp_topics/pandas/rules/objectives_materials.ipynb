{
 "cells": [
  {
   "cell_type": "markdown",
   "metadata": {},
   "source": [
    "# Rules for data management\n",
    "\n",
    "## Learning Objectives\n",
    "\n",
    "After working through this topic, you should be able to:\n",
    "\n",
    "- Explain the importance of never modifying source data\n",
    "- Discuss the importance of separating data management and analysis\n",
    "- store tabular data according to the normal forms\n",
    "- Explain the benefits of using \"long\" instead of \"wide\" format \n",
    "\n",
    "\n",
    "\n",
    "\n",
    "## Materials\n",
    "\n",
    "Here is the\n",
    "[Screencast](https://player.uni-bonn.educast.nrw/986e7bb6-4bf2-411f-81c7-453bb338559f)\n",
    "and these are the [slides](pandas-rules.pdf).\n",
    "\n",
    "## Additional Materials\n",
    "\n",
    "\n",
    "\n",
    "## Quiz"
   ]
  },
  {
   "cell_type": "code",
   "execution_count": null,
   "metadata": {
    "tags": [
     "remove-input"
    ]
   },
   "outputs": [],
   "source": [
    "content = [\n",
    "    {\n",
    "        \"question\": \"Pandas ...\",\n",
    "        \"code\": \"import pandas as pd\",\n",
    "        \"type\": \"many_choice\",\n",
    "        \"answers\": [\n",
    "            {\n",
    "                \"answer\": (\n",
    "                    \"aaaaaaaaaaaaaaaaaaaaaaaaaaaaaaaaaaaaaaaaaaaaaaaaaaaaaaaaaaaaaaaaa \"\n",
    "                    \"bbbbbbbbbbbbbbbbbbbbbbbbbbbbbbbbbbbbbbbbbbbbbbbbbbb\"\n",
    "                ),\n",
    "                \"correct\": True,\n",
    "                \"feedback\": \"\",\n",
    "            },\n",
    "            {\n",
    "                \"answer\": (\n",
    "                    \"aaaaaaaaaaaaaaaaaaaaaaaaaaaaaaaaaaaaaaaaaaaaaaaaaaaaaaaaaaaaaaaaa \"\n",
    "                    \"ccccc\"\n",
    "                ),\n",
    "                \"correct\": False,\n",
    "                \"feedback\": \"\",\n",
    "            },\n",
    "            {\n",
    "                \"answer\": (\n",
    "                    \"aaaaaaaaaaaaaaaaaaaaaaaaaaaaaaaaaaaaaaaaaaaaaaaaaaaaaaaaaaaaaaaaa \"\n",
    "                    \"ddddd\"\n",
    "                ),\n",
    "                \"correct\": True,\n",
    "                \"feedback\": \"\",\n",
    "            },\n",
    "            {\n",
    "                \"answer\": (\n",
    "                    \"aaaaaaaaaaaaaaaaaaaaaaaaaaaaaaaaaaaaaaaaaaaaaaaaaaaaaaaaaaaaaaaaa \"\n",
    "                    \"eeeeee\"\n",
    "                ),\n",
    "                \"correct\": False,\n",
    "                \"feedback\": \"\",\n",
    "            },\n",
    "        ],\n",
    "    },\n",
    "]\n",
    "\n",
    "from jupyterquiz import display_quiz\n",
    "\n",
    "display_quiz(content, colors=\"fdsp\")"
   ]
  }
 ],
 "metadata": {
  "language_info": {
   "codemirror_mode": {
    "name": "ipython",
    "version": 3
   },
   "file_extension": ".py",
   "mimetype": "text/x-python",
   "name": "python",
   "nbconvert_exporter": "python",
   "pygments_lexer": "ipython3"
  }
 },
 "nbformat": 4,
 "nbformat_minor": 2
}
