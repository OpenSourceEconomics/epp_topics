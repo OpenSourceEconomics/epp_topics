{
 "cells": [
  {
   "cell_type": "markdown",
   "metadata": {},
   "source": [
    "# Rules for data management\n",
    "\n",
    "## Learning Objectives\n",
    "\n",
    "After working through this topic, you should be able to:\n",
    "\n",
    "- Explain the importance of never modifying source data\n",
    "- Discuss the importance of separating data management and analysis\n",
    "- store tabular data according to the normal forms\n",
    "- Explain the benefits of using \"long\" instead of \"wide\" format \n",
    "\n",
    "\n",
    "\n",
    "\n",
    "## Materials\n",
    "\n",
    "Here is the\n",
    "[Screencast](https://player.uni-bonn.educast.nrw/xxx)\n",
    "and these are the [slides](pandas-normal_forms.pdf).\n",
    "\n",
    "## Additional Materials\n",
    "\n",
    "\n",
    "\n",
    "## Quiz"
   ]
  },
  {
   "cell_type": "code",
   "execution_count": null,
   "metadata": {
    "tags": [
     "remove-input"
    ]
   },
   "outputs": [],
   "source": [
    "content = {\n",
    "    \"What are examples of wide DataFrames\": {\n",
    "        \"A dataset with more variables than observations\": False,\n",
    "        \"A panel dataset where there is one column per variable and year\": True,\n",
    "        \"A dataset with a MultiIndex\": False,\n",
    "        \"A dataset with a column that contains the full name of individuals\": False,\n",
    "    },\n",
    "    \"What happens when you merge household level data with individual level data\": {\n",
    "        \"The resulting DataFrame contains redundant information\": True,\n",
    "        \"There is structure in variable names\": False,\n",
    "        \"There is structure in values\": False,\n",
    "        \"Data management and analysis is mixed\": False,\n",
    "    },\n",
    "}\n",
    "\n",
    "from epp_topics.quiz_utilities import display_quiz\n",
    "\n",
    "display_quiz(content)"
   ]
  }
 ],
 "metadata": {
  "language_info": {
   "codemirror_mode": {
    "name": "ipython",
    "version": 3
   },
   "file_extension": ".py",
   "mimetype": "text/x-python",
   "name": "python",
   "nbconvert_exporter": "python",
   "pygments_lexer": "ipython3"
  }
 },
 "nbformat": 4,
 "nbformat_minor": 2
}
