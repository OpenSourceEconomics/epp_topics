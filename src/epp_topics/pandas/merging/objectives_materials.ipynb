{
 "cells": [
  {
   "cell_type": "markdown",
   "metadata": {},
   "source": [
    "# Merging datasets\n",
    "\n",
    "## Learning Objectives\n",
    "\n",
    "After working through this topic, you should be able to:\n",
    "\n",
    "- Use `pd.concat` to combine DataFrames vertically or horizontally\n",
    "- Use `pd.merge` to combine DataFrames\n",
    "- Use the how argument to determine which rows are kept\n",
    "- List different types of joining data\n",
    "\n",
    "\n",
    "## Materials\n",
    "\n",
    "Here is the\n",
    "[Screencast](https://electure.uni-bonn.de/paella7/ui/watch.html?id=f6b59c88-7ee8-4130-94a1-97582d5d689f)\n",
    "(audio is very low in the beginning, but gets better) and these are the\n",
    "[slides](pandas-merging.pdf).\n",
    "\n",
    "## Additional Materials\n",
    "\n",
    "- Pandas [tutorial](https://pandas.pydata.org/docs/user_guide/merging.html) on merge, \n",
    "join and concatenate\n",
    "\n",
    "\n",
    "## Quiz"
   ]
  },
  {
   "cell_type": "code",
   "execution_count": null,
   "metadata": {
    "tags": [
     "remove-input"
    ]
   },
   "outputs": [],
   "source": [
    "from epp_topics.quiz_utilities import display_quiz\n",
    "\n",
    "content = {\n",
    "    \"Why does raw data often not come in a single file?\": {\n",
    "        \"Because it is too large to fit in a single file.\": False,\n",
    "        \"Because data providers respect the normal forms\": True,\n",
    "        \"Because data providers are lazy\": False,\n",
    "    },\n",
    "    \"In which situations can you use `pd.concat`\": {\n",
    "        \"You want to join DataFrames on the index\": True,\n",
    "        \"You want to join DataFrames on the columns\": True,\n",
    "        \"You want to do a m:m join\": False,\n",
    "        \"You want to do a left join\": False,\n",
    "    },\n",
    "    \"What does the how argument in `pd.merge` do?\": {\n",
    "        \"It determines which columns are kept\": False,\n",
    "        \"It determines which rows are kept\": True,\n",
    "        \"It determines how NaNs are handled\": False,\n",
    "        \"It determines whether you do a 1:1, 1:m or m:m join\": False,\n",
    "    },\n",
    "    'What is a quick way to check if a merge went \"well\"?': {\n",
    "        \"Check if the number of observations in the new dataframe is what you expected \\\n",
    "        it to be\": True,\n",
    "        \"Check if the number of columns in the new dataframe is what you expected \\\n",
    "        it to be\": False,\n",
    "        \"Check if the index is the same as the left dataframe\": False,\n",
    "        \"Check if the index is the same as the right dataframe\": False,\n",
    "    },\n",
    "    'The \"inner\" option for the argument how in pd.merge determines that': {\n",
    "        \"the new dataframe only contains observations with the intersection of the \\\n",
    "        keys used for the merge\": True,\n",
    "        \"the new dataframe contains all observations from the left dataframe\": False,\n",
    "        \"the new dataframe contains all observations from the right dataframe\": False,\n",
    "        \"the new dataframe contains all observations from both dataframes\": False,\n",
    "    },\n",
    "    \"You want to use data from the Current Population Survey (CPS), which provides \\\n",
    "    multiple data files, each containing observations for a given month. You want \\\n",
    "    to put all the data from 2019 in a single dataframe. Which of the following \\\n",
    "        functions is better for this task?\": {\n",
    "        \"pd.concat\": True,\n",
    "        \"pd.merge\": False,\n",
    "        \"pd.join\": False,\n",
    "    },\n",
    "}\n",
    "display_quiz(content)"
   ]
  }
 ],
 "metadata": {
  "language_info": {
   "codemirror_mode": {
    "name": "ipython",
    "version": 3
   },
   "file_extension": ".py",
   "mimetype": "text/x-python",
   "name": "python",
   "nbconvert_exporter": "python",
   "pygments_lexer": "ipython3"
  }
 },
 "nbformat": 4,
 "nbformat_minor": 2
}
