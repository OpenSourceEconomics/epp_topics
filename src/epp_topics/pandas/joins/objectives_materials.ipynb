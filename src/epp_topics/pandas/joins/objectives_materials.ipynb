{
 "cells": [
  {
   "cell_type": "markdown",
   "metadata": {},
   "source": [
    "# Joining datasets\n",
    "\n",
    "## Learning Objectives\n",
    "\n",
    "After working through this topic, you should be able to:\n",
    "\n",
    "- List different categories of joining data\n",
    "- Use `pd.concat` to combine DataFrames vertically or horizontally\n",
    "- Use `pd.merge` to combine DataFrames\n",
    "\n",
    "\n",
    "## Materials\n",
    "\n",
    "Here is the\n",
    "[Screencast](https://player.uni-bonn.educast.nrw/xxx)\n",
    "and these are the [slides](pandas-joins.pdf).\n",
    "\n",
    "## Further Reading\n",
    "\n",
    "\n",
    "\n",
    "## Quiz"
   ]
  },
  {
   "cell_type": "markdown",
   "metadata": {},
   "source": []
  }
 ],
 "metadata": {
  "language_info": {
   "codemirror_mode": {
    "name": "ipython",
    "version": 3
   },
   "file_extension": ".py",
   "mimetype": "text/x-python",
   "name": "python",
   "nbconvert_exporter": "python",
   "pygments_lexer": "ipython3"
  }
 },
 "nbformat": 4,
 "nbformat_minor": 2
}
