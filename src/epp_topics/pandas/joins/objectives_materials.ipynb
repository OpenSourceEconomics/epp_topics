{
 "cells": [
  {
   "cell_type": "markdown",
   "metadata": {},
   "source": [
    "# Joining datasets\n",
    "\n",
    "## Learning Objectives\n",
    "\n",
    "After working through this topic, you should be able to:\n",
    "\n",
    "- Use `pd.concat` to combine DataFrames vertically or horizontally\n",
    "- Use `pd.merge` to combine DataFrames\n",
    "- Use the how argument to determine which rows are kept\n",
    "- List different types of joining data\n",
    "\n",
    "\n",
    "## Materials\n",
    "\n",
    "Here is the\n",
    "[Screencast](https://player.uni-bonn.educast.nrw/xxx)\n",
    "and these are the [slides](pandas-joins.pdf).\n",
    "\n",
    "## Additional Materials\n",
    "\n",
    "- Pandas [tutorial](https://pandas.pydata.org/docs/user_guide/merging.html) on merge, \n",
    "join and concatenate\n",
    "\n",
    "\n",
    "## Quiz"
   ]
  },
  {
   "cell_type": "code",
   "execution_count": null,
   "metadata": {
    "tags": [
     "remove-input"
    ]
   },
   "outputs": [],
   "source": [
    "from epp_topics.quiz_utilities import display_quiz\n",
    "\n",
    "content = {\n",
    "    \"Why does raw data often not come in a single file?\": {\n",
    "        \"Because it is too large to fit in a single file.\": False,\n",
    "        \"Because data providers respect the normal forms\": True,\n",
    "        \"Because data providers are lazy\": False,\n",
    "    },\n",
    "    \"In which situations can you use `pd.concat`\": {\n",
    "        \"You want to join DataFrames on the index\": True,\n",
    "        \"You want to join DataFrames on the columns\": True,\n",
    "        \"You want to do a m:m join\": False,\n",
    "        \"You want to do a left join\": False,\n",
    "    },\n",
    "    \"What does the how argument in `pd.merge` do?\": {\n",
    "        \"It determines which columns are kept\": False,\n",
    "        \"It determines which rows are kept\": True,\n",
    "        \"It determines how NaNs are handled\": False,\n",
    "        \"It determines whether you do a 1:1, 1:m or m:m join\": False,\n",
    "    },\n",
    "}\n",
    "display_quiz(content)"
   ]
  }
 ],
 "metadata": {
  "language_info": {
   "codemirror_mode": {
    "name": "ipython",
    "version": 3
   },
   "file_extension": ".py",
   "mimetype": "text/x-python",
   "name": "python",
   "nbconvert_exporter": "python",
   "pygments_lexer": "ipython3"
  }
 },
 "nbformat": 4,
 "nbformat_minor": 2
}
