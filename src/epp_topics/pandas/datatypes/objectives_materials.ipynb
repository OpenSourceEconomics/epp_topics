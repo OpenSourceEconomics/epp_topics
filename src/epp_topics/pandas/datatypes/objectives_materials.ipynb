{
 "cells": [
  {
   "cell_type": "markdown",
   "metadata": {},
   "source": [
    "# Data types\n",
    "\n",
    "## Learning Objectives\n",
    "\n",
    "After working through this topic, you should be able to:\n",
    "\n",
    "- List the most important datatypes in pandas\n",
    "- Discuss the benefits of modern strings\n",
    "- Choose memory saving datatypes for your data\n",
    "- Explain the benefits of modern nullable datatypes\n",
    "\n",
    "## Materials\n",
    "\n",
    "Here is the\n",
    "[Screencast](https://player.uni-bonn.educast.nrw/8ad5f658-648c-4d98-a006-eb8447bfb349)\n",
    "and these are the [slides](pandas-datatypes.pdf).\n",
    "\n",
    "## Further Reading\n",
    "\n",
    "- [Pandas user guide on string/text data](https://pandas.pydata.org/docs/user_guide/text.html)\n",
    "- [Pandas user guide on categorical data](https://pandas.pydata.org/docs/user_guide/categorical.html)\n",
    "## Quiz"
   ]
  },
  {
   "cell_type": "markdown",
   "metadata": {},
   "source": []
  }
 ],
 "metadata": {
  "language_info": {
   "codemirror_mode": {
    "name": "ipython",
    "version": 3
   },
   "file_extension": ".py",
   "mimetype": "text/x-python",
   "name": "python",
   "nbconvert_exporter": "python",
   "pygments_lexer": "ipython3"
  }
 },
 "nbformat": 4,
 "nbformat_minor": 2
}
