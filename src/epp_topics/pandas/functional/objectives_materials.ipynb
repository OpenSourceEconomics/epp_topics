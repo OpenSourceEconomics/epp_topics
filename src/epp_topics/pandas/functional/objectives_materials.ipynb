{
 "cells": [
  {
   "cell_type": "markdown",
   "metadata": {},
   "source": [
    "# Functional data management\n",
    "\n",
    "## Learning Objectives\n",
    "\n",
    "After working through this topic, you should be able to:\n",
    "\n",
    "\n",
    "- Explain how functions can help to make data management code readable and testable\n",
    "- Discuss strategies to minimize side effects in data management code\n",
    "- Discuss strategies to make data management in notebooks more robust\n",
    "\n",
    "## Materials\n",
    "\n",
    "Video: \n",
    "<iframe\n",
    "  src=\"https://electure.uni-bonn.de/paella7/ui/watch.html?id=1b8b6a1b-c948-4aec-b234-7b178fdee985\"\n",
    "  width=\"640\"\n",
    "  height=\"360\"\n",
    "  frameborder=\"0\"\n",
    "  allowfullscreen\n",
    "></iframe>\n",
    "\n",
    "Download\n",
    "- the [slides](pandas-functional.pdf), \n",
    "- the [notebook](functional_pandas.ipynb) (also see the next page), \n",
    "- and the [dataset](survey.csv) used in the screencast.\n",
    "\n",
    "## Quiz"
   ]
  },
  {
   "cell_type": "code",
   "execution_count": null,
   "metadata": {
    "tags": [
     "remove-input"
    ]
   },
   "outputs": [],
   "source": [
    "content = {\n",
    "    \"The main purpose of functions is to\": {\n",
    "        \"Save typing\": False,\n",
    "        \"Make your code more readable by showing its high-level structure\": True,\n",
    "        \"Make your code more efficient\": False,\n",
    "        \"Show off your programming skills\": False,\n",
    "        \"Easily re-use code in several places of your project\": True,\n",
    "    },\n",
    "    \"What are the disadvantages of the functional approach to data management?\": {\n",
    "        \"It is less readable for non-programmers\": False,\n",
    "        \"It is less efficient\": False,\n",
    "        \"It uses more memory\": False,\n",
    "        \"It does not work for all projects\": False,\n",
    "        \"It is painful to implement in Stata\": True,\n",
    "    },\n",
    "    \"Why are good function names better than comments\": {\n",
    "        \"They are easier to write\": False,\n",
    "        \"They are less likely to become outdated over time\": True,\n",
    "        \"They will be more visible in Tracebacks\": True,\n",
    "    },\n",
    "}\n",
    "\n",
    "from epp_topics.quiz_utilities import display_quiz\n",
    "\n",
    "display_quiz(content)"
   ]
  }
 ],
 "metadata": {
  "language_info": {
   "codemirror_mode": {
    "name": "ipython",
    "version": 3
   },
   "file_extension": ".py",
   "mimetype": "text/x-python",
   "name": "python",
   "nbconvert_exporter": "python",
   "pygments_lexer": "ipython3"
  }
 },
 "nbformat": 4,
 "nbformat_minor": 2
}
