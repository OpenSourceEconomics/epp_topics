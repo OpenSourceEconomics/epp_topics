{
 "cells": [
  {
   "cell_type": "code",
   "execution_count": null,
   "metadata": {},
   "outputs": [],
   "source": [
    "import pandas as pd\n",
    "\n",
    "pd.options.mode.copy_on_write = True\n",
    "pd.options.future.infer_string = True\n",
    "pd.options.plotting.backend = \"plotly\""
   ]
  },
  {
   "cell_type": "markdown",
   "metadata": {},
   "source": [
    "# Functional data management: Example\n",
    "\n",
    "## The imperative way\n",
    "\n",
    "Note that this will achieve the same thing as our functional code and already use \n",
    "a lot of best practices, e.g. good variable names, using the right pandas functions\n",
    "to achieve a given goal, setting efficient dtypes, using modern pandas features, ...\n",
    "\n",
    "Yet, we still think that this is not good code"
   ]
  },
  {
   "cell_type": "code",
   "execution_count": null,
   "metadata": {},
   "outputs": [],
   "source": [
    "df = pd.read_csv(\"survey.csv\")\n",
    "\n",
    "new_names = {\n",
    "    \"Q001\": \"coding_genius\",\n",
    "    \"Q002\": \"learned_a_lot\",\n",
    "    \"Q003\": \"favorite_language\",\n",
    "}\n",
    "df = df.rename(columns=new_names)\n",
    "\n",
    "# clean the two variables with agreement scale\n",
    "for var in [\"coding_genius\", \"learned_a_lot\"]:\n",
    "    df[var] = df[var].replace({\"-77\": pd.NA, \"-99\": pd.NA})\n",
    "    categories = [\"strongly disagree\", \"disagree\", \"neutral\", \"agree\", \"strongly agree\"]\n",
    "    dtype = pd.CategoricalDtype(categories=categories, ordered=True)\n",
    "    df[var] = df[var].astype(dtype)\n",
    "\n",
    "# clean the favourite language variable\n",
    "df[\"favorite_language\"] = df[\"favorite_language\"].replace({\"-77\": pd.NA, \"-99\": pd.NA})\n",
    "df[\"favorite_language\"] = df[\"favorite_language\"].str.lower().str.strip()\n",
    "df[\"favorite_language\"] = df[\"favorite_language\"].replace(\"ypthon\", \"python\")\n",
    "df[\"favorite_language\"] = df[\"favorite_language\"].astype(pd.CategoricalDtype())\n",
    "df"
   ]
  },
  {
   "cell_type": "markdown",
   "metadata": {},
   "source": [
    "## Problems with the imperative way\n",
    "\n",
    "- The variables inside `df` change many times but keep their name\n",
    "- There are many invalid intermediate states of df where variables already have their\n",
    "  final names. This is especially dangerous if code is spread across multiple cells.\n",
    "- The global namespace is cluttered with helper variables like `var`, `categories`, \n",
    "  and `dtype`\n",
    "- Since the code has no natural structure, we need comments to get some orientation\n",
    "- Since we have no other way of re-using code, the two agreement questions have to be\n",
    "  cleaned at the same time, whether they are related or not\n",
    "- We either had to repeat the name `favorite_language` multiple times or use hard to \n",
    "  read and debug method chaining\n"
   ]
  },
  {
   "cell_type": "markdown",
   "metadata": {},
   "source": [
    "## The functional way"
   ]
  },
  {
   "cell_type": "code",
   "execution_count": null,
   "metadata": {},
   "outputs": [],
   "source": [
    "def clean_data(raw):\n",
    "    df = pd.DataFrame(index=raw.index)\n",
    "    df[\"coding_genius\"] = clean_agreement_scale(raw[\"Q001\"])\n",
    "    df[\"learned_a_lot\"] = clean_agreement_scale(raw[\"Q002\"])\n",
    "    df[\"favorite_language\"] = clean_favorite_language(raw[\"Q003\"])\n",
    "    return df\n",
    "\n",
    "\n",
    "def clean_agreement_scale(sr):\n",
    "    sr = sr.replace({\"-77\": pd.NA, \"-99\": pd.NA})\n",
    "    categories = [\"strongly disagree\", \"disagree\", \"neutral\", \"agree\", \"strongly agree\"]\n",
    "    dtype = pd.CategoricalDtype(categories=categories, ordered=True)\n",
    "    return sr.astype(dtype)\n",
    "\n",
    "\n",
    "def clean_favorite_language(sr):\n",
    "    sr = sr.replace({\"-77\": pd.NA, \"-99\": pd.NA})\n",
    "    sr = sr.str.lower().str.strip()\n",
    "    sr = sr.replace(\"ypthon\", \"python\")\n",
    "    return sr.astype(pd.CategoricalDtype())\n",
    "\n",
    "\n",
    "raw = pd.read_csv(\"survey.csv\")\n",
    "df = clean_data(raw)\n",
    "df"
   ]
  },
  {
   "cell_type": "markdown",
   "metadata": {},
   "source": [
    "## Advantages of the functional way\n",
    "\n",
    "- The function name clearly tell us what is happening in the code, no need for comments\n",
    "- Inside each function, `sr` is a perfectly fine name, so we save a lot of typing and\n",
    "  clutter\n",
    "- There is no intermediate version of `df`\n",
    "- There is no way of executing this code in the wrong order, even though we can spread\n",
    "  the function definitions across many cells\n",
    "- We can re-use the code for cleaning agreement variables very easily and wherever we\n",
    "  want\n",
    "- All of our functions are pure and testable with with tiny examples where we know the\n",
    "  correct result\n",
    "- The top level function serves as a table of content to what comes next. This is why it\n",
    "  is defined before the functions it calls. \n"
   ]
  },
  {
   "cell_type": "markdown",
   "metadata": {},
   "source": []
  }
 ],
 "metadata": {
  "language_info": {
   "codemirror_mode": {
    "name": "ipython",
    "version": 3
   },
   "file_extension": ".py",
   "mimetype": "text/x-python",
   "name": "python",
   "nbconvert_exporter": "python",
   "pygments_lexer": "ipython3"
  }
 },
 "nbformat": 4,
 "nbformat_minor": 2
}
