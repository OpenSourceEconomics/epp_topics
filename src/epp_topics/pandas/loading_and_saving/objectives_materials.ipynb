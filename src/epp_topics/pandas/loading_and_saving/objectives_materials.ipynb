{
 "cells": [
  {
   "cell_type": "markdown",
   "metadata": {},
   "source": [
    "# Loading and saving data\n",
    "\n",
    "## Learning Objectives\n",
    "\n",
    "After working through this topic, you should be able to:\n",
    "\n",
    "- List different data formats you can load into pandas\n",
    "- Choose suitable formats for your own datasets\n",
    "- Configure the reading functions to use modern datatypes\n",
    "- Read the pandas documentation to learn about advanced options for reading data\n",
    "\n",
    "## Materials\n",
    "\n",
    "Here is the\n",
    "[Screencast](https://player.uni-bonn.educast.nrw/f191b5fe-0626-43b4-8b42-e0b97e036b9f)\n",
    "and these are the [slides](pandas-loading_and_saving.pdf).\n",
    "\n",
    "## Further Reading\n",
    "\n",
    "\n",
    "\n",
    "## Quiz"
   ]
  },
  {
   "cell_type": "code",
   "execution_count": null,
   "metadata": {
    "tags": [
     "remove-input"
    ]
   },
   "outputs": [],
   "source": [
    "content = [\n",
    "    {\n",
    "        \"question\": \"Pandas ...\",\n",
    "        \"code\": \"import pandas as pd\",\n",
    "        \"type\": \"many_choice\",\n",
    "        \"answers\": [\n",
    "            {\n",
    "                \"answer\": (\n",
    "                    \"aaaaaaaaaaaaaaaaaaaaaaaaaaaaaaaaaaaaaaaaaaaaaaaaaaaaaaaaaaaaaaaaa \"\n",
    "                    \"bbbbbbbbbbbbbbbbbbbbbbbbbbbbbbbbbbbbbbbbbbbbbbbbbbb\"\n",
    "                ),\n",
    "                \"correct\": True,\n",
    "                \"feedback\": \"\",\n",
    "            },\n",
    "            {\n",
    "                \"answer\": (\n",
    "                    \"aaaaaaaaaaaaaaaaaaaaaaaaaaaaaaaaaaaaaaaaaaaaaaaaaaaaaaaaaaaaaaaaa \"\n",
    "                    \"ccccc\"\n",
    "                ),\n",
    "                \"correct\": False,\n",
    "                \"feedback\": \"\",\n",
    "            },\n",
    "            {\n",
    "                \"answer\": (\n",
    "                    \"aaaaaaaaaaaaaaaaaaaaaaaaaaaaaaaaaaaaaaaaaaaaaaaaaaaaaaaaaaaaaaaaa \"\n",
    "                    \"ddddd\"\n",
    "                ),\n",
    "                \"correct\": True,\n",
    "                \"feedback\": \"\",\n",
    "            },\n",
    "            {\n",
    "                \"answer\": (\n",
    "                    \"aaaaaaaaaaaaaaaaaaaaaaaaaaaaaaaaaaaaaaaaaaaaaaaaaaaaaaaaaaaaaaaaa \"\n",
    "                    \"eeeeee\"\n",
    "                ),\n",
    "                \"correct\": False,\n",
    "                \"feedback\": \"\",\n",
    "            },\n",
    "        ],\n",
    "    },\n",
    "]\n",
    "\n",
    "from jupyterquiz import display_quiz\n",
    "\n",
    "display_quiz(content, colors=\"fdsp\")"
   ]
  }
 ],
 "metadata": {
  "language_info": {
   "codemirror_mode": {
    "name": "ipython",
    "version": 3
   },
   "file_extension": ".py",
   "mimetype": "text/x-python",
   "name": "python",
   "nbconvert_exporter": "python",
   "pygments_lexer": "ipython3"
  }
 },
 "nbformat": 4,
 "nbformat_minor": 2
}
