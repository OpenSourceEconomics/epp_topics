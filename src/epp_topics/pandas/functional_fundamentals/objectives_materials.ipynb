{
 "cells": [
  {
   "cell_type": "markdown",
   "metadata": {},
   "source": [
    "# Functional data management: Fundamental rules\n",
    "\n",
    "We have two rules for managing data in a functional way:\n",
    "\n",
    "1. Start with an empty DataFrame for the clean data\n",
    "1. Touch every variable just once\n",
    "\n",
    "\n",
    "## Learning Objectives\n",
    "\n",
    "After working through this topic, you should be able to:\n",
    "\n",
    "- remember the two rules whenever you are writing data management code\n",
    "- explain that you need them to track data provenance\n",
    "\n",
    "\n",
    "## Materials\n",
    "\n",
    "Video:\n",
    "\n",
    "<iframe\n",
    "  src=\"https://electure.uni-bonn.de/paella7/ui/watch.html?id=d245e326-dd33-4e62-9c34-0dc7e297615b\"\n",
    "  width=\"560\"\n",
    "  height=\"311\"\n",
    "  frameborder=\"0\"\n",
    "  allowfullscreen\n",
    "></iframe>\n",
    "\n",
    "Download the [slides](pandas-functional_fundamentals.pdf)."
   ]
  }
 ],
 "metadata": {
  "language_info": {
   "codemirror_mode": {
    "name": "ipython",
    "version": 3
   },
   "file_extension": ".py",
   "mimetype": "text/x-python",
   "name": "python",
   "nbconvert_exporter": "python",
   "pygments_lexer": "ipython3"
  }
 },
 "nbformat": 4,
 "nbformat_minor": 2
}
