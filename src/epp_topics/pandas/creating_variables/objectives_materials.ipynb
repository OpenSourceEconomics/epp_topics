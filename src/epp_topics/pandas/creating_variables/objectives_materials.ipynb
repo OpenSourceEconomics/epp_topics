{
 "cells": [
  {
   "cell_type": "markdown",
   "metadata": {},
   "source": [
    "# Creating variables\n",
    "\n",
    "## Learning Objectives\n",
    "\n",
    "After working through this topic, you should be able to:\n",
    "\n",
    "- Assign new columns to a DataFrame\n",
    "- Explain why loops over columns are harmless and loops over rows have to be avoided\n",
    "- Use vectorized calculations between numeric columns\n",
    "- Use vectorized string methods\n",
    "- Combine information from two columns based on conditions\n",
    "- Replace values in variables\n",
    "\n",
    "## Materials\n",
    "\n",
    "Here is the\n",
    "[Screencast](https://player.uni-bonn.educast.nrw/xxx)\n",
    "and these are the [slides](pandas-creating_variables.pdf).\n",
    "\n",
    "## Further Reading\n",
    "\n",
    "\n",
    "\n",
    "## Quiz"
   ]
  }
 ],
 "metadata": {
  "language_info": {
   "codemirror_mode": {
    "name": "ipython",
    "version": 3
   },
   "file_extension": ".py",
   "mimetype": "text/x-python",
   "name": "python",
   "nbconvert_exporter": "python",
   "pygments_lexer": "ipython3"
  }
 },
 "nbformat": 4,
 "nbformat_minor": 2
}
