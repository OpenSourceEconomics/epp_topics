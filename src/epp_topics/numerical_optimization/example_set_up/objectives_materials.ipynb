{
 "cells": [
  {
   "cell_type": "markdown",
   "metadata": {},
   "source": [
    "# Set up of the example\n",
    "\n",
    "## Learning Objectives\n",
    "\n",
    "After working through this topic, you should be able to:\n",
    "\n",
    "- describe the basic properties of the function used in the example for the videos\n",
    "  providing intuition behind different types of optimisation algorithms.\n",
    "\n",
    "## Materials\n",
    "\n",
    "<iframe\n",
    "  src=\"https://electure.uni-bonn.de/paella7/ui/watch.html?id=e35b8ec2-c146-4846-9940-f9c82e9770f3\n",
    "  \"\n",
    "  width=\"640\"\n",
    "  height=\"360\"\n",
    "  frameborder=\"0\"\n",
    "  allowfullscreen\n",
    "></iframe>\n",
    "\n",
    "Here are the [slides](numerical_optimization-example_set_up.pdf).\n",
    "\n",
    "## Quiz\n"
   ]
  },
  {
   "cell_type": "code",
   "execution_count": null,
   "metadata": {
    "tags": [
     "remove-input"
    ]
   },
   "outputs": [],
   "source": [
    "content = {\n",
    "    \"How many parameters does the example function have?\": {\n",
    "        \"1\": True,\n",
    "        \"J=10\": False,\n",
    "        \"Depends on the solution method\": False,\n",
    "    },\n",
    "    \"Does the example function have multiple local optima?\": {\n",
    "        \"Yes\": True,\n",
    "        \"No\": False,\n",
    "    },\n",
    "    \"Is the example function differentiable?\": {\n",
    "        \"Yes\": True,\n",
    "        \"No\": False,\n",
    "    },\n",
    "}\n",
    "\n",
    "from epp_topics.quiz_utilities import display_quiz\n",
    "\n",
    "display_quiz(content)"
   ]
  }
 ],
 "metadata": {
  "language_info": {
   "codemirror_mode": {
    "name": "ipython",
    "version": 3
   },
   "file_extension": ".py",
   "mimetype": "text/x-python",
   "name": "python",
   "nbconvert_exporter": "python",
   "pygments_lexer": "ipython3"
  }
 },
 "nbformat": 4,
 "nbformat_minor": 2
}
