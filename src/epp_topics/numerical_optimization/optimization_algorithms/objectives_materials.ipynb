{
 "cells": [
  {
   "cell_type": "markdown",
   "metadata": {},
   "source": [
    "# Choosing optimization algorithms\n",
    "\n",
    "## Learning Objectives\n",
    "\n",
    "After working through this topic, you should be able to:\n",
    "\n",
    "- List properties of optimization problems that guide the choice of optimizers\n",
    "- Pick suitable local or global optimizers for your problem \n",
    "\n",
    "## Materials\n",
    "\n",
    "<iframe width=\"560\" height=\"315\" src=\"https://www.youtube.com/embed/tJ7Xba3wcxY?si=1uim9zA1Sh6dHm8T\" title=\"YouTube video player\" frameborder=\"0\" allow=\"accelerometer; autoplay; clipboard-write; encrypted-media; gyroscope; picture-in-picture; web-share\" allowfullscreen></iframe>\n",
    "\n",
    "\n",
    "Download the [slides](numerical_optimization-optimization_algorithms.pdf).\n",
    "\n",
    "## Quiz"
   ]
  },
  {
   "cell_type": "code",
   "execution_count": null,
   "metadata": {
    "tags": [
     "remove-input"
    ]
   },
   "outputs": [],
   "source": [
    "from epp_topics.quiz_utilities import display_quiz\n",
    "\n",
    "content = {\n",
    "    \"Which of the following statements about choosing optimizers is correct?\": {\n",
    "        (\n",
    "            \"If you know the properties of your problem well, \"\n",
    "            \"you don't need to try out different algorithms\"\n",
    "        ): False,\n",
    "        (\n",
    "            \"If you know the properties of your problem well, you can select a few \"\n",
    "            \"algorithm candidates to compare\"\n",
    "        ): True,\n",
    "        \"Theory is irrelevant, because you always need to try out what works\": False,\n",
    "        \"Choosing the right algorithm is hard\": True,\n",
    "    },\n",
    "    \"Which of the following statements about global optimization is correct?\": {\n",
    "        \"Global optimizers are slower but always give you better results\": False,\n",
    "        \"Global optimizers are less precise than local ones\": True,\n",
    "        \"Multistart is often a good approach to global optimization\": True,\n",
    "        \"Global optimizers guarantee to find the global optimum\": False,\n",
    "    },\n",
    "    \"What is the best way to solve a difficult optimization problem\": {\n",
    "        \"Make it simpler\": True,\n",
    "        \"Try out all optimizers on the problem\": False,\n",
    "    },\n",
    "}\n",
    "\n",
    "display_quiz(content)"
   ]
  }
 ],
 "metadata": {
  "language_info": {
   "codemirror_mode": {
    "name": "ipython",
    "version": 3
   },
   "file_extension": ".py",
   "mimetype": "text/x-python",
   "name": "python",
   "nbconvert_exporter": "python",
   "pygments_lexer": "ipython3"
  }
 },
 "nbformat": 4,
 "nbformat_minor": 2
}
