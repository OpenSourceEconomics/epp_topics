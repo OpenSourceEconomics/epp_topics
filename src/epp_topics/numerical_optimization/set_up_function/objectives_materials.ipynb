{
 "cells": [
  {
   "cell_type": "markdown",
   "metadata": {},
   "source": [
    "# Grid Search\n",
    "\n",
    "## Learning Objectives\n",
    "\n",
    "After working through this topic, you should be able to:\n",
    "\n",
    "\n",
    "- Explain the idea underlying the grid search optimization algorithm\n",
    "- Discuss the advantages and disadvantages of using this algorithm\n",
    "\n",
    "\n",
    "## Materials\n",
    "\n",
    "Here are the [slides](numerical_optimization-set_up_function.pdf).\n",
    "\n",
    "<!-- \n",
    "## Additional Materials\n",
    " -->\n",
    "\n",
    "\n",
    "## Quiz"
   ]
  },
  {
   "cell_type": "code",
   "execution_count": null,
   "metadata": {
    "tags": [
     "remove-input"
    ]
   },
   "outputs": [],
   "source": [
    "content = {\n",
    "    \"How many parameters does the example function have?\": {\n",
    "        \"1\": True,\n",
    "        \"J=10\": False,\n",
    "        \"Depends on the solution method\": False,\n",
    "    },\n",
    "}\n",
    "\n",
    "from epp_topics.quiz_utilities import display_quiz\n",
    "\n",
    "display_quiz(content)"
   ]
  }
 ],
 "metadata": {
  "language_info": {
   "codemirror_mode": {
    "name": "ipython",
    "version": 3
   },
   "file_extension": ".py",
   "mimetype": "text/x-python",
   "name": "python",
   "nbconvert_exporter": "python",
   "pygments_lexer": "ipython3"
  }
 },
 "nbformat": 4,
 "nbformat_minor": 2
}
