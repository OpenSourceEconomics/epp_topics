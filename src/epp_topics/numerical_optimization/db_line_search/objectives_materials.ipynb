{
 "cells": [
  {
   "cell_type": "markdown",
   "metadata": {},
   "source": [
    "# Derivative-based Line Search\n",
    "\n",
    "## Learning Objectives\n",
    "\n",
    "After working through this topic, you should be able to:\n",
    "\n",
    "\n",
    "- Explain the idea underlying the derivative-based line search optimization algorithm\n",
    "- Discuss the advantages and disadvantages of using this algorithm\n",
    "\n",
    "\n",
    "## Materials\n",
    "\n",
    "Here are the [slide(s)](scientific_computing-db_line_search.pdf).\n",
    "\n",
    "<!-- \n",
    "## Additional Materials\n",
    " -->\n",
    "\n",
    "\n",
    "## Quiz"
   ]
  },
  {
   "cell_type": "code",
   "execution_count": null,
   "metadata": {
    "tags": [
     "remove-input"
    ]
   },
   "outputs": [],
   "source": [
    "from epp_topics.quiz_utilities import display_quiz\n",
    "\n",
    "content = {\n",
    "    \"What is the main idea behind derivative-based line search?\": {\n",
    "        \"Systematically exploring a predefined set of parameter values\": False,\n",
    "        \"Randomly selecting parameter values within specified bounds\": False,\n",
    "        \"Iteratively updating parameter values based on gradient descent\": True,\n",
    "        \"Using heuristics to find the optimal parameter combination\": False,\n",
    "        \"Employing trust regions to confine the search space for \\\n",
    "            parameter optimization\": False,\n",
    "    },\n",
    "    \"What are the first and second derivatives of the objective function used for?\": {\n",
    "        \"Both derivatives are utilized to systematically explore a \\\n",
    "            predefined set of parameter values\": False,\n",
    "        \"The first derivative guides the line search algorithm, while \\\n",
    "            the second derivative helps in determining trust regions for \\\n",
    "                parameter optimization\": False,\n",
    "        \"The first derivative is used to identify the search direction, \\\n",
    "            while the second derivative is employed to estimate the step length\": True,\n",
    "        \"The first derivative assists in random parameter selection, \\\n",
    "            while the second derivative helps in \\\n",
    "            adjusting the precision of the search.\": False,\n",
    "    },\n",
    "    'The derivative based line search algorithm could get \"stuck\" \\\n",
    "        in a region with a local minimum': {\n",
    "        \"True\": True,\n",
    "        \"False\": False,\n",
    "    },\n",
    "}\n",
    "\n",
    "\n",
    "display_quiz(content)"
   ]
  }
 ],
 "metadata": {
  "language_info": {
   "codemirror_mode": {
    "name": "ipython",
    "version": 3
   },
   "file_extension": ".py",
   "mimetype": "text/x-python",
   "name": "python",
   "nbconvert_exporter": "python",
   "pygments_lexer": "ipython3"
  }
 },
 "nbformat": 4,
 "nbformat_minor": 2
}
